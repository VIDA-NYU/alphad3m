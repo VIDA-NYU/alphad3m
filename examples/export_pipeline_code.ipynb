{
 "cells": [
  {
   "cell_type": "markdown",
   "metadata": {},
   "source": [
    "## Export pipelines to Python code"
   ]
  },
  {
   "cell_type": "markdown",
   "metadata": {},
   "source": [
    "First, import the class `AutoML`. If you plan to use AlphaD3m via Docker/Singularity, use:\n",
    "`DockerAutoML` or `SingularityAutoML` classes."
   ]
  },
  {
   "cell_type": "code",
   "execution_count": 1,
   "metadata": {},
   "outputs": [],
   "source": [
    "from alphad3m import AutoML\n",
    "# from alphad3m_containers import DockerAutoML/SingularityAutoML as AutoML"
   ]
  },
  {
   "cell_type": "markdown",
   "metadata": {},
   "source": [
    "### Generating pipelines for CSV datasets"
   ]
  },
  {
   "cell_type": "markdown",
   "metadata": {},
   "source": [
    "In this example, we are generating pipelines for a CSV dataset. The [185_baseball_MIN_METADATA dataset](https://gitlab.com/ViDA-NYU/d3m/alphad3m/-/tree/devel/examples/datasets) is used for this example. The baseball dataset contains information about baseball players and play statistics, including Games_played, At_bats, Runs, Hits, Doubles, Triples, Home_runs, RBIs, Walks, Strikeouts, Batting_average, On_base_pct, Slugging_pct and Fielding_ave.\n",
    "<div class=\"alert alert-info\"><b>Important</b>\n",
    "    \n",
    "Note that the path to the dataset directories must be an absolute path and not a relative path. \n",
    "</div>"
   ]
  },
  {
   "cell_type": "code",
   "execution_count": 1,
   "metadata": {},
   "outputs": [],
   "source": [
    "output_path = '/Users/rlopez/D3M/examples/tmp/'\n",
    "train_dataset = '/Users/rlopez/D3M/examples/datasets/185_baseball_MIN_METADATA/train_data.csv'\n",
    "test_dataset = '/Users/rlopez/D3M/examples/datasets/185_baseball_MIN_METADATA/test_data.csv'"
   ]
  },
  {
   "cell_type": "code",
   "execution_count": 2,
   "metadata": {
    "scrolled": true
   },
   "outputs": [
    {
     "name": "stdout",
     "output_type": "stream",
     "text": [
      "INFO: Initializing AlphaD3M AutoML...\n",
      "INFO: AlphaD3M AutoML initialized!\n",
      "INFO: Found pipeline id=87e725e9-09ac-4fa1-bf37-b96f3e101dbb, time=0:00:20.347129, scoring...\n",
      "INFO: Scored pipeline id=87e725e9-09ac-4fa1-bf37-b96f3e101dbb, f1_macro=0.64214\n",
      "INFO: Found pipeline id=c6384850-c1f3-42cf-8b3c-cad174a0595c, time=0:00:35.742241, scoring...\n",
      "INFO: Scored pipeline id=c6384850-c1f3-42cf-8b3c-cad174a0595c, f1_macro=0.61677\n",
      "INFO: Found pipeline id=279e8c54-4d3b-4a46-9a32-8321a66e899a, time=0:00:51.113531, scoring...\n",
      "INFO: Search completed, still scoring some pending pipelines...\n",
      "INFO: Scored pipeline id=279e8c54-4d3b-4a46-9a32-8321a66e899a, f1_macro=0.71535\n",
      "INFO: Scoring completed for all pipelines!\n"
     ]
    }
   ],
   "source": [
    "automl = AutoML(output_path)\n",
    "automl.search_pipelines(train_dataset, time_bound=1, target='Hall_of_Fame', metric='f1Macro', task_keywords=['classification', 'multiClass', 'tabular'])"
   ]
  },
  {
   "cell_type": "markdown",
   "metadata": {},
   "source": [
    "After the pipeline search is complete, we can display the leaderboard:"
   ]
  },
  {
   "cell_type": "code",
   "execution_count": 3,
   "metadata": {},
   "outputs": [
    {
     "data": {
      "text/html": [
       "<div>\n",
       "<style scoped>\n",
       "    .dataframe tbody tr th:only-of-type {\n",
       "        vertical-align: middle;\n",
       "    }\n",
       "\n",
       "    .dataframe tbody tr th {\n",
       "        vertical-align: top;\n",
       "    }\n",
       "\n",
       "    .dataframe thead th {\n",
       "        text-align: right;\n",
       "    }\n",
       "</style>\n",
       "<table border=\"1\" class=\"dataframe\">\n",
       "  <thead>\n",
       "    <tr style=\"text-align: right;\">\n",
       "      <th></th>\n",
       "      <th>ranking</th>\n",
       "      <th>id</th>\n",
       "      <th>summary</th>\n",
       "      <th>f1_macro</th>\n",
       "    </tr>\n",
       "  </thead>\n",
       "  <tbody>\n",
       "    <tr>\n",
       "      <th>0</th>\n",
       "      <td>1</td>\n",
       "      <td>279e8c54-4d3b-4a46-9a32-8321a66e899a</td>\n",
       "      <td>imputer.sklearn, encoder.dsbox, gradient_boosting.sklearn</td>\n",
       "      <td>0.71535</td>\n",
       "    </tr>\n",
       "    <tr>\n",
       "      <th>1</th>\n",
       "      <td>2</td>\n",
       "      <td>87e725e9-09ac-4fa1-bf37-b96f3e101dbb</td>\n",
       "      <td>imputer.sklearn, encoder.dsbox, random_forest.sklearn</td>\n",
       "      <td>0.64214</td>\n",
       "    </tr>\n",
       "    <tr>\n",
       "      <th>2</th>\n",
       "      <td>3</td>\n",
       "      <td>c6384850-c1f3-42cf-8b3c-cad174a0595c</td>\n",
       "      <td>imputer.sklearn, encoder.dsbox, extra_trees.sklearn</td>\n",
       "      <td>0.61677</td>\n",
       "    </tr>\n",
       "  </tbody>\n",
       "</table>\n",
       "</div>"
      ],
      "text/plain": [
       "   ranking                                    id  \\\n",
       "0        1  279e8c54-4d3b-4a46-9a32-8321a66e899a   \n",
       "1        2  87e725e9-09ac-4fa1-bf37-b96f3e101dbb   \n",
       "2        3  c6384850-c1f3-42cf-8b3c-cad174a0595c   \n",
       "\n",
       "                                                     summary  f1_macro  \n",
       "0  imputer.sklearn, encoder.dsbox, gradient_boosting.sklearn   0.71535  \n",
       "1      imputer.sklearn, encoder.dsbox, random_forest.sklearn   0.64214  \n",
       "2        imputer.sklearn, encoder.dsbox, extra_trees.sklearn   0.61677  "
      ]
     },
     "execution_count": 3,
     "metadata": {},
     "output_type": "execute_result"
    }
   ],
   "source": [
    "automl.plot_leaderboard()"
   ]
  },
  {
   "cell_type": "markdown",
   "metadata": {},
   "source": [
    "Individual pipelines need to be trained with the full data. The training is done with the call:"
   ]
  },
  {
   "cell_type": "code",
   "execution_count": 4,
   "metadata": {},
   "outputs": [
    {
     "data": {
      "text/plain": [
       "('f1_macro', 0.64322)"
      ]
     },
     "execution_count": 4,
     "metadata": {},
     "output_type": "execute_result"
    }
   ],
   "source": [
    "best_pipeline_id = automl.get_best_pipeline_id()\n",
    "automl.score(best_pipeline_id, test_dataset)"
   ]
  },
  {
   "cell_type": "markdown",
   "metadata": {},
   "source": [
    "### Exporting Python code for a pipeline"
   ]
  },
  {
   "cell_type": "code",
   "execution_count": 5,
   "metadata": {},
   "outputs": [],
   "source": [
    "automl.export_pipeline_code(best_pipeline_id)"
   ]
  },
  {
   "cell_type": "code",
   "execution_count": 6,
   "metadata": {},
   "outputs": [],
   "source": [
    "from d3m_interface.pipeline import Pipeline\n",
    "\n",
    "pipeline = Pipeline()\n",
    "\n",
    "input_data = pipeline.make_pipeline_input()\n",
    "\n",
    "step_0 = pipeline.make_pipeline_step('d3m.primitives.data_transformation.denormalize.Common')\n",
    "pipeline.connect(input_data, step_0, from_output='dataset')\n",
    "\n",
    "step_1 = pipeline.make_pipeline_step('d3m.primitives.data_transformation.dataset_to_dataframe.Common')\n",
    "pipeline.connect(step_0, step_1)\n",
    "\n",
    "step_2 = pipeline.make_pipeline_step('d3m.primitives.data_transformation.column_parser.Common')\n",
    "pipeline.connect(step_1, step_2)\n",
    "\n",
    "step_3 = pipeline.make_pipeline_step('d3m.primitives.data_transformation.extract_columns_by_semantic_types.Common')\n",
    "pipeline.set_hyperparams(step_3, exclude_columns=[], semantic_types=['https://metadata.datadrivendiscovery.org/types/Attribute'])\n",
    "pipeline.connect(step_2, step_3)\n",
    "\n",
    "step_4 = pipeline.make_pipeline_step('d3m.primitives.data_cleaning.imputer.SKlearn')\n",
    "pipeline.set_hyperparams(step_4, strategy='most_frequent')\n",
    "pipeline.connect(step_3, step_4)\n",
    "\n",
    "step_5 = pipeline.make_pipeline_step('d3m.primitives.data_preprocessing.encoder.DSBOX')\n",
    "pipeline.set_hyperparams(step_5, n_limit=50)\n",
    "pipeline.connect(step_4, step_5)\n",
    "\n",
    "step_6 = pipeline.make_pipeline_step('d3m.primitives.data_transformation.extract_columns_by_semantic_types.Common')\n",
    "pipeline.set_hyperparams(step_6, semantic_types=['https://metadata.datadrivendiscovery.org/types/TrueTarget'])\n",
    "pipeline.connect(step_1, step_6)\n",
    "\n",
    "step_7 = pipeline.make_pipeline_step('d3m.primitives.classification.gradient_boosting.SKlearn')\n",
    "pipeline.connect(step_5, step_7)\n",
    "pipeline.connect(step_6, step_7, to_input='outputs')\n",
    "\n",
    "step_8 = pipeline.make_pipeline_step('d3m.primitives.data_transformation.construct_predictions.Common')\n",
    "pipeline.connect(step_1, step_8, to_input='reference')\n",
    "pipeline.connect(step_7, step_8)\n"
   ]
  },
  {
   "cell_type": "markdown",
   "metadata": {},
   "source": [
    "The pipeline can be evaluated against a held out dataset with the function call:"
   ]
  },
  {
   "cell_type": "code",
   "execution_count": 7,
   "metadata": {},
   "outputs": [
    {
     "data": {
      "text/plain": [
       "('f1_macro', 0.64322)"
      ]
     },
     "execution_count": 7,
     "metadata": {},
     "output_type": "execute_result"
    }
   ],
   "source": [
    "automl.score(pipeline, test_dataset)"
   ]
  },
  {
   "cell_type": "markdown",
   "metadata": {},
   "source": [
    "After the analysis is complete, end the session to stop the process and clean up temporary files:"
   ]
  },
  {
   "cell_type": "code",
   "execution_count": 8,
   "metadata": {},
   "outputs": [
    {
     "name": "stdout",
     "output_type": "stream",
     "text": [
      "INFO: Ending session...\n",
      "INFO: Session ended!\n"
     ]
    }
   ],
   "source": [
    "automl.end_session()"
   ]
  }
 ],
 "metadata": {
  "kernelspec": {
   "display_name": "Python 3 (ipykernel)",
   "language": "python",
   "name": "python3"
  },
  "language_info": {
   "codemirror_mode": {
    "name": "ipython",
    "version": 3
   },
   "file_extension": ".py",
   "mimetype": "text/x-python",
   "name": "python",
   "nbconvert_exporter": "python",
   "pygments_lexer": "ipython3",
   "version": "3.8.12"
  }
 },
 "nbformat": 4,
 "nbformat_minor": 2
}
