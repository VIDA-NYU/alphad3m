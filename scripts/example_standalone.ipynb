{
 "cells": [
  {
   "cell_type": "code",
   "execution_count": 1,
   "metadata": {},
   "outputs": [],
   "source": [
    "#%config Application.log_level='WORKAROUND'\n",
    "# => fails, necessary on Fedora 27, ipython3 6.2.1\n",
    "#%config Application.log_level='INFO'\n",
    "#import logging\n",
    "#logging.getLogger().setLevel(logging.INFO)\n",
    "from interface_d3m import AlphaAutoml\n"
   ]
  },
  {
   "cell_type": "code",
   "execution_count": 2,
   "metadata": {},
   "outputs": [],
   "source": [
    "output_path = '/Users/rlopez/D3M/examples/output/'\n",
    "train_dataset = '/Users/rlopez/D3M/examples/input/covid19/train.csv'\n",
    "test_dataset = '/Users/rlopez/D3M/examples/input/covid19/test.csv'\n",
    "\n",
    "automl = AlphaAutoml(output_path)\n",
    "pipelines = automl.search_pipelines(train_dataset, 'Fatalities', metric='meanAbsoluteError', task=['forecasting'])"
   ]
  },
  {
   "cell_type": "code",
   "execution_count": 3,
   "metadata": {
    "scrolled": true
   },
   "outputs": [
    {
     "data": {
      "text/html": [
       "<style  type=\"text/css\" >\n",
       "</style>  \n",
       "<table id=\"T_e6985896_88bd_11ea_b593_88e9fe782b62\" > \n",
       "<thead>    <tr> \n",
       "        <th class=\"col_heading level0 col0\" >ranking</th> \n",
       "        <th class=\"col_heading level0 col1\" >mean_absolute_error</th> \n",
       "        <th class=\"col_heading level0 col2\" >description</th> \n",
       "        <th class=\"col_heading level0 col3\" >time (sec)</th> \n",
       "    </tr></thead> \n",
       "<tbody>    <tr> \n",
       "        <td id=\"T_e6985896_88bd_11ea_b593_88e9fe782b62row0_col0\" class=\"data row0 col0\" >1</td> \n",
       "        <td id=\"T_e6985896_88bd_11ea_b593_88e9fe782b62row0_col1\" class=\"data row0 col1\" >235.236</td> \n",
       "        <td id=\"T_e6985896_88bd_11ea_b593_88e9fe782b62row0_col2\" class=\"data row0 col2\" >Template (data_cleaning.imputer.SKlearn, regression.gradient_boosting.SKlearn)</td> \n",
       "        <td id=\"T_e6985896_88bd_11ea_b593_88e9fe782b62row0_col3\" class=\"data row0 col3\" >23.2</td> \n",
       "    </tr>    <tr> \n",
       "        <td id=\"T_e6985896_88bd_11ea_b593_88e9fe782b62row1_col0\" class=\"data row1 col0\" >2</td> \n",
       "        <td id=\"T_e6985896_88bd_11ea_b593_88e9fe782b62row1_col1\" class=\"data row1 col1\" >245.921</td> \n",
       "        <td id=\"T_e6985896_88bd_11ea_b593_88e9fe782b62row1_col2\" class=\"data row1 col2\" >Template (data_cleaning.imputer.SKlearn, regression.random_forest.SKlearn)</td> \n",
       "        <td id=\"T_e6985896_88bd_11ea_b593_88e9fe782b62row1_col3\" class=\"data row1 col3\" >4.2</td> \n",
       "    </tr></tbody> \n",
       "</table> "
      ],
      "text/plain": [
       "<pandas.io.formats.style.Styler at 0x109296d68>"
      ]
     },
     "metadata": {},
     "output_type": "display_data"
    }
   ],
   "source": [
    "display(automl.leaderboard)"
   ]
  },
  {
   "cell_type": "code",
   "execution_count": null,
   "metadata": {},
   "outputs": [],
   "source": [
    "model = automl.train(0)"
   ]
  },
  {
   "cell_type": "code",
   "execution_count": null,
   "metadata": {},
   "outputs": [],
   "source": [
    "automl.test(model, test_dataset)"
   ]
  }
 ],
 "metadata": {
  "kernelspec": {
   "display_name": "Python 3",
   "language": "python",
   "name": "python3"
  },
  "language_info": {
   "codemirror_mode": {
    "name": "ipython",
    "version": 3
   },
   "file_extension": ".py",
   "mimetype": "text/x-python",
   "name": "python",
   "nbconvert_exporter": "python",
   "pygments_lexer": "ipython3",
   "version": "3.7.2"
  }
 },
 "nbformat": 4,
 "nbformat_minor": 2
}
