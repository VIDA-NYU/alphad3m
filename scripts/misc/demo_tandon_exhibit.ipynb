{
 "cells": [
  {
   "cell_type": "markdown",
   "metadata": {},
   "source": [
    " <div class=\"row\">\n",
    "  <div class=\"column\">\n",
    "    <img src=\"https://gitlab.com/ViDA-NYU/d3m/alphad3m/-/raw/devel/AlphaD3M_logo.png\" align=\"left\" style=\"height: 40px;\"/>\n",
    "  </div>\n",
    "  <div class=\"column\">\n",
    "    <img src=\"https://i.ibb.co/pjyDY2n/vida-logo.png\" align=\"right\" style=\"width: 300px; height: 40px;\"/>\n",
    "  </div>\n",
    "</div> "
   ]
  },
  {
   "cell_type": "markdown",
   "metadata": {},
   "source": [
    "<h1><center>Using Different Approaches to Solve a ML Problem</center></h1>"
   ]
  },
  {
   "cell_type": "code",
   "execution_count": 1,
   "metadata": {},
   "outputs": [],
   "source": [
    "from alphad3m import AutoML"
   ]
  },
  {
   "cell_type": "code",
   "execution_count": 5,
   "metadata": {},
   "outputs": [],
   "source": [
    "dataset_path = '/Users/rlopez/D3M/examples/piracy_all.csv'\n",
    "output_path = '/Users/rlopez/D3M/examples/tmp/'"
   ]
  },
  {
   "cell_type": "markdown",
   "metadata": {},
   "source": [
    "## The Task"
   ]
  },
  {
   "cell_type": "markdown",
   "metadata": {},
   "source": [
    "<b>Data:</b> locations and descriptions of specific hostile acts against ships and mariners\n",
    "\n",
    "<b>Goal:</b> identify articles describing attacks using guns (riffles, pistols, etc.)\n",
    "\n",
    "<b>Scenario:</b>  there are 8K descriptions available, 1.4K of these entries were annotated"
   ]
  },
  {
   "cell_type": "markdown",
   "metadata": {},
   "source": [
    "## Analyzing the Dataset"
   ]
  },
  {
   "cell_type": "code",
   "execution_count": null,
   "metadata": {
    "scrolled": true
   },
   "outputs": [],
   "source": [
    "automl = AutoML(output_path)\n",
    "automl.plot_summary_dataset(dataset_path)"
   ]
  },
  {
   "cell_type": "markdown",
   "metadata": {},
   "source": [
    "## Using a Classification Approach"
   ]
  },
  {
   "cell_type": "code",
   "execution_count": 6,
   "metadata": {},
   "outputs": [],
   "source": [
    "train_dataset_path = '/Users/rlopez/D3M/examples/piracy_train_text.csv'\n",
    "test_dataset_path = '/Users/rlopez/D3M/examples/piracy_test_text.csv'"
   ]
  },
  {
   "cell_type": "code",
   "execution_count": 7,
   "metadata": {},
   "outputs": [
    {
     "name": "stdout",
     "output_type": "stream",
     "text": [
      "INFO: Initializing AlphaD3M AutoML...\n",
      "INFO: AlphaD3M AutoML initialized!\n",
      "INFO: Found pipeline id=494055ec-591e-4456-a55d-74ec3b221a9b, time=0:00:23.247842, scoring...\n",
      "INFO: Scored pipeline id=494055ec-591e-4456-a55d-74ec3b221a9b, f1=0.31429\n",
      "INFO: Found pipeline id=f01e517e-699e-4eb7-8b7b-8f054b2d6655, time=0:00:39.594386, scoring...\n",
      "INFO: Scored pipeline id=f01e517e-699e-4eb7-8b7b-8f054b2d6655, f1=0.31169\n",
      "INFO: Found pipeline id=6c27a920-4ab0-4ff5-a835-fa9ee706d030, time=0:01:29.298277, scoring...\n",
      "INFO: Found pipeline id=d354c013-ce86-4163-8ebf-7c940775d39e, time=0:01:45.352768, scoring...\n",
      "INFO: Scored pipeline id=6c27a920-4ab0-4ff5-a835-fa9ee706d030, f1=0.72727\n",
      "INFO: Scored pipeline id=d354c013-ce86-4163-8ebf-7c940775d39e, f1=0.0\n",
      "INFO: Found pipeline id=5dd9ba57-0762-42bb-82cb-ba7fa5993acd, time=0:02:16.654655, scoring...\n",
      "INFO: Scored pipeline id=5dd9ba57-0762-42bb-82cb-ba7fa5993acd, f1=0.72727\n",
      "INFO: Found pipeline id=545be888-5c72-44f6-b76f-75797681c85f, time=0:02:38.773414, scoring...\n",
      "INFO: Scored pipeline id=545be888-5c72-44f6-b76f-75797681c85f, f1=0.0\n",
      "INFO: Found pipeline id=cbcf1259-139b-4b02-99bb-74c30ee2af06, time=0:03:10.094675, scoring...\n",
      "INFO: Scored pipeline id=cbcf1259-139b-4b02-99bb-74c30ee2af06, f1=0.68182\n",
      "INFO: Found pipeline id=69a1f398-1d9d-4087-9257-bcbc0355bbcd, time=0:03:38.178248, scoring...\n",
      "INFO: Scored pipeline id=69a1f398-1d9d-4087-9257-bcbc0355bbcd, f1=0.58427\n",
      "INFO: Found pipeline id=6bb4677c-c8eb-4842-8338-d9adac73a3e0, time=0:04:12.189230, scoring...\n",
      "INFO: Scored pipeline id=6bb4677c-c8eb-4842-8338-d9adac73a3e0, f1=0.65455\n",
      "INFO: Found pipeline id=337bc132-233e-4a28-8f11-b7e7545f7131, time=0:04:49.194354, scoring...\n",
      "INFO: Found pipeline id=425f86d0-5b2b-4c7c-a56a-45604b571ff1, time=0:05:05.321912, scoring...\n",
      "INFO: Scored pipeline id=337bc132-233e-4a28-8f11-b7e7545f7131, f1=0.66154\n",
      "INFO: Scored pipeline id=425f86d0-5b2b-4c7c-a56a-45604b571ff1, f1=0.46\n",
      "INFO: Found pipeline id=98f80194-982f-4deb-8381-14adda921498, time=0:05:36.406957, scoring...\n",
      "INFO: Scored pipeline id=98f80194-982f-4deb-8381-14adda921498, f1=0.40449\n",
      "INFO: Found pipeline id=3930502b-a904-4387-9038-6b95073a813c, time=0:06:10.747156, scoring...\n",
      "INFO: Scored pipeline id=3930502b-a904-4387-9038-6b95073a813c, f1=0.40449\n",
      "INFO: Found pipeline id=e154c01e-c90f-437e-b3c9-a43fc433132c, time=0:06:35.955101, scoring...\n",
      "INFO: Scored pipeline id=e154c01e-c90f-437e-b3c9-a43fc433132c, f1=0.47423\n",
      "INFO: Found pipeline id=13485b86-f966-4cb9-b75b-30ef952cdd7a, time=0:07:21.930452, scoring...\n",
      "INFO: Scored pipeline id=13485b86-f966-4cb9-b75b-30ef952cdd7a, f1=0.70103\n",
      "INFO: Found pipeline id=eb880bc3-66ea-4986-a9c7-362a3bf1f3e5, time=0:07:58.920399, scoring...\n",
      "INFO: Scored pipeline id=eb880bc3-66ea-4986-a9c7-362a3bf1f3e5, f1=0.79208\n",
      "INFO: Found pipeline id=2a9a195d-41fa-45e5-bf7c-f2b15e441259, time=0:08:36.075033, scoring...\n",
      "INFO: Scored pipeline id=2a9a195d-41fa-45e5-bf7c-f2b15e441259, f1=0.75926\n",
      "INFO: Found pipeline id=211271b6-823a-4056-9924-4d4d06035c3d, time=0:09:07.290898, scoring...\n",
      "INFO: Found pipeline id=66bb7d0b-685c-4036-a04b-6d92a2e5a09c, time=0:09:23.492649, scoring...\n",
      "INFO: Scored pipeline id=211271b6-823a-4056-9924-4d4d06035c3d, f1=0.76\n",
      "INFO: Scored pipeline id=66bb7d0b-685c-4036-a04b-6d92a2e5a09c, f1=0.44231\n",
      "INFO: Found pipeline id=a1a1c9a3-6fa1-4607-b371-f9aef6156960, time=0:09:45.738259, scoring...\n",
      "INFO: Scored pipeline id=a1a1c9a3-6fa1-4607-b371-f9aef6156960, f1=0.40566\n",
      "INFO: Found pipeline id=1b0b21d2-b19b-42b6-9b9d-0fe3363f61c2, time=0:10:16.704959, scoring...\n",
      "INFO: Scored pipeline id=1b0b21d2-b19b-42b6-9b9d-0fe3363f61c2, f1=0.92308\n",
      "INFO: Found pipeline id=8cc3fbe6-4203-4ce5-98d6-4b484ae9d3a7, time=0:10:47.663350, scoring...\n",
      "INFO: Found pipeline id=e4d26f50-e32e-4d9a-aa37-ccd0fb6d7218, time=0:11:03.706976, scoring...\n",
      "INFO: Scored pipeline id=8cc3fbe6-4203-4ce5-98d6-4b484ae9d3a7, f1=0.81905\n",
      "INFO: Scored pipeline id=e4d26f50-e32e-4d9a-aa37-ccd0fb6d7218, f1=0.41237\n",
      "INFO: Found pipeline id=4105af6f-b651-4431-9d92-96429a0a64f9, time=0:11:34.811979, scoring...\n",
      "INFO: Scored pipeline id=4105af6f-b651-4431-9d92-96429a0a64f9, f1=0.58427\n",
      "INFO: Found pipeline id=32dd50fe-5cfc-4c17-870c-c0c1faa0faf7, time=0:11:56.858029, scoring...\n",
      "INFO: Scored pipeline id=32dd50fe-5cfc-4c17-870c-c0c1faa0faf7, f1=0.0\n",
      "INFO: Found pipeline id=69ef43c7-90c6-4c92-a4fd-b3d1635499f4, time=0:12:33.874798, scoring...\n",
      "INFO: Found pipeline id=357f09c3-7ad7-473a-8f92-6fd2baf5281d, time=0:12:50.328003, scoring...\n",
      "INFO: Scored pipeline id=69ef43c7-90c6-4c92-a4fd-b3d1635499f4, f1=0.72917\n",
      "INFO: Scored pipeline id=357f09c3-7ad7-473a-8f92-6fd2baf5281d, f1=0.14286\n",
      "INFO: Found pipeline id=491321c1-5235-4d3b-a6e8-c417392ceec5, time=0:13:21.317692, scoring...\n",
      "INFO: Scored pipeline id=491321c1-5235-4d3b-a6e8-c417392ceec5, f1=0.72727\n",
      "INFO: Found pipeline id=a93d4112-6ca0-4375-8ec2-d43a0b013c1d, time=0:13:52.297399, scoring...\n",
      "INFO: Scored pipeline id=a93d4112-6ca0-4375-8ec2-d43a0b013c1d, f1=0.72727\n",
      "INFO: Found pipeline id=414483f3-5410-4629-a50a-846704c9ded6, time=0:14:26.355099, scoring...\n",
      "INFO: Found pipeline id=086662d1-622f-49c8-a319-0aaada28e87d, time=0:14:42.552118, scoring...\n",
      "INFO: Scored pipeline id=086662d1-622f-49c8-a319-0aaada28e87d, f1=0.0\n",
      "INFO: Scored pipeline id=414483f3-5410-4629-a50a-846704c9ded6, f1=0.61667\n",
      "INFO: Found pipeline id=577ccd8c-37b3-43c1-a6b2-622a779b2b61, time=0:15:05.867758, scoring...\n",
      "INFO: Scored pipeline id=577ccd8c-37b3-43c1-a6b2-622a779b2b61, f1=0.34783\n",
      "INFO: Found pipeline id=e6934954-cf4c-4b31-89de-ec61414a49e5, time=0:15:21.880856, scoring...\n",
      "INFO: Scored pipeline id=e6934954-cf4c-4b31-89de-ec61414a49e5, f1=0.15873\n",
      "INFO: Found pipeline id=ed79aa4f-84bd-4765-9e72-24f851271f0d, time=0:15:53.098328, scoring...\n",
      "INFO: Scored pipeline id=ed79aa4f-84bd-4765-9e72-24f851271f0d, f1=0.72\n",
      "INFO: Found pipeline id=6c80e0c4-51c1-4f66-95ff-5c4c29f09f0a, time=0:16:24.039399, scoring...\n",
      "INFO: Found pipeline id=84bdd13c-a735-4d6e-866c-6a0287b913f4, time=0:16:40.091711, scoring...\n",
      "INFO: Scored pipeline id=6c80e0c4-51c1-4f66-95ff-5c4c29f09f0a, f1=0.72\n",
      "INFO: Scored pipeline id=84bdd13c-a735-4d6e-866c-6a0287b913f4, f1=0.0\n",
      "INFO: Found pipeline id=a82a25e1-d5fc-4057-bf01-10fd28115976, time=0:16:56.402672, scoring...\n",
      "INFO: Scored pipeline id=a82a25e1-d5fc-4057-bf01-10fd28115976, f1=0.37751\n",
      "INFO: Found pipeline id=27ababbe-e307-4e1b-bc79-dd8057a2d152, time=0:17:18.574371, scoring...\n",
      "INFO: Scored pipeline id=27ababbe-e307-4e1b-bc79-dd8057a2d152, f1=0.0\n",
      "INFO: Found pipeline id=c7b1cd69-83d8-4063-b8ae-f62ed9450c18, time=0:17:49.688912, scoring...\n",
      "INFO: Found pipeline id=1771eecb-bed8-44bd-b1a1-176bea3d1b8b, time=0:18:05.886074, scoring...\n",
      "INFO: Scored pipeline id=c7b1cd69-83d8-4063-b8ae-f62ed9450c18, f1=0.57471\n",
      "INFO: Scored pipeline id=1771eecb-bed8-44bd-b1a1-176bea3d1b8b, f1=0.03571\n",
      "INFO: Found pipeline id=0d26fb73-aac6-4411-b146-8f2105eac0ad, time=0:18:37.262993, scoring...\n",
      "INFO: Scored pipeline id=0d26fb73-aac6-4411-b146-8f2105eac0ad, f1=0.66154\n",
      "INFO: Found pipeline id=65c74bb5-4fd2-4f48-9c33-a0139beb9f61, time=0:19:08.261471, scoring...\n",
      "INFO: Found pipeline id=ba6595a6-628a-4b61-a965-87d515021dc0, time=0:19:24.339889, scoring...\n",
      "INFO: Scored pipeline id=65c74bb5-4fd2-4f48-9c33-a0139beb9f61, f1=0.86\n",
      "INFO: Scored pipeline id=ba6595a6-628a-4b61-a965-87d515021dc0, f1=0.38532\n",
      "INFO: Found pipeline id=89c738dd-51fb-49ad-bd36-b481fcd8c0c1, time=0:19:40.468180, scoring...\n",
      "INFO: Scored pipeline id=89c738dd-51fb-49ad-bd36-b481fcd8c0c1, f1=0.41593\n",
      "INFO: Found pipeline id=3d2ad33f-656a-4e36-84b1-f9411d7ffbbf, time=0:19:56.606690, scoring...\n",
      "INFO: Scored pipeline id=3d2ad33f-656a-4e36-84b1-f9411d7ffbbf, f1=0.43011\n",
      "INFO: Found pipeline id=d8bda013-beed-4533-9333-efabe578bca1, time=0:20:12.844041, scoring...\n",
      "INFO: Scored pipeline id=d8bda013-beed-4533-9333-efabe578bca1, f1=0.37037\n",
      "INFO: Found pipeline id=b00a3655-0913-495b-8bc2-6ff761eb5129, time=0:20:44.057564, scoring...\n",
      "INFO: Scored pipeline id=b00a3655-0913-495b-8bc2-6ff761eb5129, f1=0.68182\n",
      "INFO: Found pipeline id=f76fbc76-eb0c-4058-9aaa-44c3e73a93f4, time=0:21:15.772106, scoring...\n",
      "INFO: Scored pipeline id=f76fbc76-eb0c-4058-9aaa-44c3e73a93f4, f1=0.8932\n",
      "INFO: Found pipeline id=f2d74ebf-6520-40ec-a654-f671c05c6309, time=0:21:46.892067, scoring...\n",
      "INFO: Scored pipeline id=f2d74ebf-6520-40ec-a654-f671c05c6309, f1=0.92308\n"
     ]
    },
    {
     "name": "stdout",
     "output_type": "stream",
     "text": [
      "INFO: Found pipeline id=fa80603c-9431-4767-9af2-0aa8c7901d29, time=0:22:09.204733, scoring...\n",
      "INFO: Scored pipeline id=fa80603c-9431-4767-9af2-0aa8c7901d29, f1=0.0\n",
      "INFO: Found pipeline id=2b489b49-b447-422d-9aa6-e5440b98ed90, time=0:22:40.399824, scoring...\n",
      "INFO: Scored pipeline id=2b489b49-b447-422d-9aa6-e5440b98ed90, f1=0.77358\n",
      "INFO: Found pipeline id=6ea523ca-6c57-421b-b89a-3bf834f564db, time=0:23:02.711036, scoring...\n",
      "INFO: Scored pipeline id=6ea523ca-6c57-421b-b89a-3bf834f564db, f1=0.25\n",
      "INFO: Found pipeline id=854d5d69-d86f-490c-a092-5d5456d0b11c, time=0:23:18.920216, scoring...\n",
      "INFO: Scored pipeline id=854d5d69-d86f-490c-a092-5d5456d0b11c, f1=0.42105\n",
      "INFO: Found pipeline id=e48b3353-95d7-45b3-9f3e-9ef7b01d556d, time=0:23:50.014176, scoring...\n",
      "INFO: Scored pipeline id=e48b3353-95d7-45b3-9f3e-9ef7b01d556d, f1=0.91589\n",
      "INFO: Found pipeline id=b6b8dd15-68dc-445e-bb04-295470485d24, time=0:24:20.993661, scoring...\n",
      "INFO: Scored pipeline id=b6b8dd15-68dc-445e-bb04-295470485d24, f1=0.91589\n",
      "INFO: Found pipeline id=4c732712-ffea-4c4d-bb89-b2167e436a87, time=0:24:43.040774, scoring...\n",
      "INFO: Scored pipeline id=4c732712-ffea-4c4d-bb89-b2167e436a87, f1=0.0\n",
      "INFO: Found pipeline id=263f6d4b-5daf-49b4-8099-0b5dcfa28008, time=0:25:14.656111, scoring...\n",
      "INFO: Scored pipeline id=263f6d4b-5daf-49b4-8099-0b5dcfa28008, f1=0.72727\n",
      "INFO: Found pipeline id=f55ab7fc-0b43-4c67-bbe3-e038876275a3, time=0:26:04.105367, scoring...\n",
      "INFO: Scored pipeline id=f55ab7fc-0b43-4c67-bbe3-e038876275a3, f1=0.83673\n",
      "INFO: Found pipeline id=02f7f320-a366-4b74-baa1-2bf5996bb605, time=0:26:35.409950, scoring...\n",
      "INFO: Scored pipeline id=02f7f320-a366-4b74-baa1-2bf5996bb605, f1=0.58503\n",
      "INFO: Found pipeline id=51b1a6c3-5648-4b06-b0be-aef37444ca20, time=0:27:42.534550, scoring...\n",
      "INFO: Scored pipeline id=51b1a6c3-5648-4b06-b0be-aef37444ca20, f1=0.81633\n",
      "INFO: Found pipeline id=2a095cb1-0f66-44e5-9f19-e9bc5a1819a3, time=0:29:29.225655, scoring...\n",
      "INFO: Scored pipeline id=2a095cb1-0f66-44e5-9f19-e9bc5a1819a3, f1=0.86869\n",
      "INFO: Found pipeline id=1a96deb2-d096-498f-8053-5caebdb55609, time=0:33:09.858448, scoring...\n",
      "INFO: Scored pipeline id=1a96deb2-d096-498f-8053-5caebdb55609, f1=0.72727\n",
      "INFO: Found pipeline id=a253387a-149f-4f08-9a24-c9125ac6a11b, time=0:34:32.089083, scoring...\n",
      "INFO: Scored pipeline id=a253387a-149f-4f08-9a24-c9125ac6a11b, f1=0.0\n",
      "INFO: Found pipeline id=8613e98c-ef72-43a2-b4cf-a9f5dad7f1b4, time=0:35:06.222476, scoring...\n",
      "INFO: Found pipeline id=b4c97eb2-3293-4686-8485-1d372edc4a9c, time=0:35:22.288704, scoring...\n",
      "INFO: Scored pipeline id=8613e98c-ef72-43a2-b4cf-a9f5dad7f1b4, f1=0.525\n",
      "INFO: Scored pipeline id=b4c97eb2-3293-4686-8485-1d372edc4a9c, f1=0.54737\n",
      "INFO: Found pipeline id=91967fad-85d1-45e1-a398-2b3407445c8b, time=0:35:57.051230, scoring...\n",
      "INFO: Scored pipeline id=91967fad-85d1-45e1-a398-2b3407445c8b, f1=0.57471\n",
      "INFO: Found pipeline id=1dbc753f-57c4-46bc-b914-c3eff1b64f57, time=0:36:58.332196, scoring...\n",
      "INFO: Found pipeline id=17bab9eb-f6a0-4a1e-b9d8-d5d0a8ad8b97, time=0:37:14.286333, scoring...\n",
      "INFO: Scored pipeline id=1dbc753f-57c4-46bc-b914-c3eff1b64f57, f1=0.75556\n",
      "INFO: Scored pipeline id=17bab9eb-f6a0-4a1e-b9d8-d5d0a8ad8b97, f1=0.30556\n",
      "INFO: Found pipeline id=64f99f25-43d6-418d-b35b-9b991f377ce3, time=0:37:51.477514, scoring...\n",
      "INFO: Found pipeline id=28b10a86-99ed-48d4-9355-3cbe4c20a703, time=0:38:07.592936, scoring...\n",
      "INFO: Scored pipeline id=28b10a86-99ed-48d4-9355-3cbe4c20a703, f1=0.125\n",
      "INFO: Scored pipeline id=64f99f25-43d6-418d-b35b-9b991f377ce3, f1=0.75556\n",
      "INFO: Found pipeline id=69f31f15-7682-4544-9335-d333f16ad2cc, time=0:38:41.844530, scoring...\n",
      "INFO: Scored pipeline id=69f31f15-7682-4544-9335-d333f16ad2cc, f1=0.81633\n",
      "INFO: Found pipeline id=e76dc910-8ab4-4c20-b3ac-8970be3ceadb, time=0:39:13.084449, scoring...\n",
      "INFO: Scored pipeline id=e76dc910-8ab4-4c20-b3ac-8970be3ceadb, f1=0.87379\n",
      "INFO: Found pipeline id=3e41c1e1-0ecb-4c78-99d1-1aaf68e42be2, time=0:39:44.416227, scoring...\n",
      "INFO: Found pipeline id=3702d17f-9b67-4618-bb4b-53fb666be0fd, time=0:40:00.699518, scoring...\n",
      "INFO: Scored pipeline id=3e41c1e1-0ecb-4c78-99d1-1aaf68e42be2, f1=0.8932\n",
      "INFO: Scored pipeline id=3702d17f-9b67-4618-bb4b-53fb666be0fd, f1=0.0\n",
      "INFO: Found pipeline id=7cf928fb-5427-40a8-bad9-7f67707d1567, time=0:40:28.996851, scoring...\n",
      "INFO: Scored pipeline id=7cf928fb-5427-40a8-bad9-7f67707d1567, f1=0.37037\n",
      "INFO: Found pipeline id=4044f801-3f7a-4fb2-b266-3a9be11c6a69, time=0:40:51.118052, scoring...\n",
      "INFO: Scored pipeline id=4044f801-3f7a-4fb2-b266-3a9be11c6a69, f1=0.0\n",
      "INFO: Found pipeline id=01677dd6-2031-420f-ad17-5fd359f7485a, time=0:41:22.373296, scoring...\n",
      "INFO: Scored pipeline id=01677dd6-2031-420f-ad17-5fd359f7485a, f1=0.72727\n",
      "INFO: Found pipeline id=e99ce577-dc1b-4f2e-8199-60dafea01f57, time=0:41:53.593133, scoring...\n",
      "INFO: Scored pipeline id=e99ce577-dc1b-4f2e-8199-60dafea01f57, f1=0.72727\n",
      "INFO: Found pipeline id=123fe57b-7514-4a74-9049-e3141018600b, time=0:42:18.799477, scoring...\n",
      "INFO: Scored pipeline id=123fe57b-7514-4a74-9049-e3141018600b, f1=0.0\n",
      "INFO: Found pipeline id=7ecba75f-b1c4-485c-95d6-3aff7de5463f, time=0:42:41.140374, scoring...\n",
      "INFO: Scored pipeline id=7ecba75f-b1c4-485c-95d6-3aff7de5463f, f1=0.08451\n",
      "INFO: Found pipeline id=7b3bfff9-a952-4e18-8cef-9bcf00b715d0, time=0:43:15.307127, scoring...\n",
      "INFO: Scored pipeline id=7b3bfff9-a952-4e18-8cef-9bcf00b715d0, f1=0.77064\n",
      "INFO: Found pipeline id=f58a185a-9f27-4b83-969f-f77b47203560, time=0:43:52.466113, scoring...\n",
      "INFO: Scored pipeline id=f58a185a-9f27-4b83-969f-f77b47203560, f1=0.43011\n",
      "INFO: Found pipeline id=af5abea7-c8a1-40a5-aae4-6b71b70dabca, time=0:44:08.701744, scoring...\n",
      "INFO: Scored pipeline id=af5abea7-c8a1-40a5-aae4-6b71b70dabca, f1=0.34483\n",
      "INFO: Found pipeline id=7de77697-2f1b-4527-b28d-5a1af652eac5, time=0:44:33.752021, scoring...\n",
      "INFO: Scored pipeline id=7de77697-2f1b-4527-b28d-5a1af652eac5, f1=0.0\n",
      "INFO: Found pipeline id=2bec89c9-8058-41cb-a202-657efb55c3c1, time=0:45:04.925767, scoring...\n",
      "INFO: Found pipeline id=91578e6f-bf30-476c-b811-a49737d0a101, time=0:45:20.937808, scoring...\n",
      "INFO: Scored pipeline id=2bec89c9-8058-41cb-a202-657efb55c3c1, f1=0.72727\n",
      "INFO: Scored pipeline id=91578e6f-bf30-476c-b811-a49737d0a101, f1=0.0\n",
      "INFO: Found pipeline id=9f9a0596-cfa0-4664-ae38-7817c9dacd78, time=0:45:37.155590, scoring...\n",
      "INFO: Scored pipeline id=9f9a0596-cfa0-4664-ae38-7817c9dacd78, f1=0.16901\n",
      "INFO: Found pipeline id=67a4a207-1c33-4794-bc3c-9d5bb488aaed, time=0:45:59.244350, scoring...\n",
      "INFO: Scored pipeline id=67a4a207-1c33-4794-bc3c-9d5bb488aaed, f1=0.1194\n",
      "INFO: Found pipeline id=4bd2a4b9-bd57-47ec-996e-a38dd486a820, time=0:46:21.418416, scoring...\n",
      "INFO: Scored pipeline id=4bd2a4b9-bd57-47ec-996e-a38dd486a820, f1=0.40889\n",
      "INFO: Found pipeline id=14fd913c-22db-48ca-b366-b67af3a41291, time=0:46:43.677584, scoring...\n",
      "INFO: Scored pipeline id=14fd913c-22db-48ca-b366-b67af3a41291, f1=0.0\n",
      "INFO: Found pipeline id=f192bdec-55da-446c-affa-e7c4e56d2774, time=0:47:15.086584, scoring...\n",
      "INFO: Scored pipeline id=f192bdec-55da-446c-affa-e7c4e56d2774, f1=0.72727\n",
      "INFO: Found pipeline id=96dd23d1-e632-4ae8-ad46-84ecf6d1cae1, time=0:47:46.352152, scoring...\n",
      "INFO: Scored pipeline id=96dd23d1-e632-4ae8-ad46-84ecf6d1cae1, f1=0.72727\n",
      "INFO: Found pipeline id=34723af2-d165-4e8f-9823-a252d6d66bfe, time=0:48:17.480293, scoring...\n",
      "INFO: Scored pipeline id=34723af2-d165-4e8f-9823-a252d6d66bfe, f1=0.72727\n",
      "INFO: Found pipeline id=92d4521b-87e2-4ef5-93f7-a3fad0993d69, time=0:49:00.688242, scoring...\n",
      "INFO: Scored pipeline id=92d4521b-87e2-4ef5-93f7-a3fad0993d69, f1=0.0\n",
      "INFO: Found pipeline id=e4762116-ca50-4154-8c66-6ffadad8ff20, time=0:49:28.837123, scoring...\n",
      "INFO: Found pipeline id=c00ee92a-09c3-402b-a8af-e27a110cc43b, time=0:49:44.903650, scoring...\n",
      "INFO: Scored pipeline id=e4762116-ca50-4154-8c66-6ffadad8ff20, f1=0.72727\n",
      "INFO: Scored pipeline id=c00ee92a-09c3-402b-a8af-e27a110cc43b, f1=0.0\n",
      "INFO: Found pipeline id=7c0cdb26-835f-4177-8733-380b6b7af765, time=0:50:12.998240, scoring...\n",
      "INFO: Scored pipeline id=7c0cdb26-835f-4177-8733-380b6b7af765, f1=0.72727\n",
      "INFO: Found pipeline id=3a6d9eb4-6813-465f-8a7d-146a9df83635, time=0:50:40.908726, scoring...\n",
      "INFO: Scored pipeline id=3a6d9eb4-6813-465f-8a7d-146a9df83635, f1=0.72727\n",
      "INFO: Found pipeline id=6dad1fa4-c90c-4176-a717-f92060cdb791, time=0:51:09.021885, scoring...\n"
     ]
    },
    {
     "name": "stdout",
     "output_type": "stream",
     "text": [
      "INFO: Found pipeline id=eed4f1b4-a422-4d64-a93f-d86a4fd792ea, time=0:51:25.227454, scoring...\n",
      "INFO: Scored pipeline id=6dad1fa4-c90c-4176-a717-f92060cdb791, f1=0.72727\n",
      "INFO: Scored pipeline id=eed4f1b4-a422-4d64-a93f-d86a4fd792ea, f1=0.0\n",
      "INFO: Found pipeline id=13dfcc8b-32c3-40ae-9113-3e47dc83d65b, time=0:51:53.669313, scoring...\n",
      "INFO: Found pipeline id=fe3e8ca2-8af5-4f99-b5e3-1006d0cc7b99, time=0:52:09.788151, scoring...\n",
      "INFO: Scored pipeline id=13dfcc8b-32c3-40ae-9113-3e47dc83d65b, f1=0.72727\n",
      "INFO: Scored pipeline id=fe3e8ca2-8af5-4f99-b5e3-1006d0cc7b99, f1=0.26923\n",
      "INFO: Found pipeline id=21dc152d-159e-4768-9d2e-3387b78f907a, time=0:52:26.155132, scoring...\n",
      "INFO: Scored pipeline id=21dc152d-159e-4768-9d2e-3387b78f907a, f1=0.28866\n",
      "INFO: Found pipeline id=9a01edc3-d683-4167-90b4-d3f2cc0c6468, time=0:52:48.424787, scoring...\n",
      "INFO: Scored pipeline id=9a01edc3-d683-4167-90b4-d3f2cc0c6468, f1=0.31405\n",
      "INFO: Found pipeline id=6540cce0-621d-4d35-ab6f-166dae5b1720, time=0:53:10.588330, scoring...\n",
      "INFO: Scored pipeline id=6540cce0-621d-4d35-ab6f-166dae5b1720, f1=0.0\n",
      "INFO: Found pipeline id=b1dcd662-1cd4-4ef8-82d7-a022734bee1d, time=0:53:41.615708, scoring...\n",
      "INFO: Scored pipeline id=b1dcd662-1cd4-4ef8-82d7-a022734bee1d, f1=0.5641\n",
      "INFO: Found pipeline id=2578410d-4f53-462e-8af0-a7b20519ce80, time=0:54:27.876561, scoring...\n",
      "INFO: Scored pipeline id=2578410d-4f53-462e-8af0-a7b20519ce80, f1=0.91429\n",
      "INFO: Found pipeline id=0ad8c450-9fea-4643-a37c-70df2c0d6917, time=0:55:04.914700, scoring...\n",
      "INFO: Scored pipeline id=0ad8c450-9fea-4643-a37c-70df2c0d6917, f1=0.7551\n",
      "INFO: Found pipeline id=03bf4f75-0ede-4c01-bd43-611d22fafed3, time=0:55:45.085896, scoring...\n",
      "INFO: Found pipeline id=a9043700-8ee1-4391-81d0-cfcc91cde267, time=0:56:01.106411, scoring...\n",
      "INFO: Scored pipeline id=a9043700-8ee1-4391-81d0-cfcc91cde267, f1=0.0\n",
      "INFO: Scored pipeline id=03bf4f75-0ede-4c01-bd43-611d22fafed3, f1=0.83168\n",
      "INFO: Found pipeline id=949f51c7-a9b3-460a-b849-8efac185bf36, time=0:56:23.726984, scoring...\n",
      "INFO: Scored pipeline id=949f51c7-a9b3-460a-b849-8efac185bf36, f1=0.0\n",
      "INFO: Found pipeline id=bcb021a5-c5ed-4785-b9a1-5eed2c8077d6, time=0:56:51.728801, scoring...\n",
      "INFO: Scored pipeline id=bcb021a5-c5ed-4785-b9a1-5eed2c8077d6, f1=0.72727\n",
      "INFO: Found pipeline id=57dc44cc-f3de-4bdd-b125-c36f414df817, time=0:57:19.880937, scoring...\n",
      "INFO: Scored pipeline id=57dc44cc-f3de-4bdd-b125-c36f414df817, f1=0.72727\n",
      "INFO: Found pipeline id=72126e81-3636-43f2-88f9-4612c82f3393, time=0:57:42.054009, scoring...\n",
      "INFO: Scored pipeline id=72126e81-3636-43f2-88f9-4612c82f3393, f1=0.25\n",
      "INFO: Found pipeline id=3740468d-940a-48ff-8b61-c0391201d7bc, time=0:58:04.108974, scoring...\n",
      "INFO: Scored pipeline id=3740468d-940a-48ff-8b61-c0391201d7bc, f1=0.03509\n",
      "INFO: Found pipeline id=9a2ececc-6905-423a-bcae-e79e8d95b42c, time=0:58:23.253647, scoring...\n",
      "INFO: Scored pipeline id=9a2ececc-6905-423a-bcae-e79e8d95b42c, f1=0.0\n",
      "INFO: Found pipeline id=b0de6761-94b9-44ed-ba8e-7b016faa2569, time=0:58:39.230554, scoring...\n",
      "INFO: Scored pipeline id=b0de6761-94b9-44ed-ba8e-7b016faa2569, f1=0.43011\n",
      "INFO: Found pipeline id=0a332d88-38b2-4935-a89c-03a3a7609a06, time=0:58:55.470576, scoring...\n",
      "INFO: Scored pipeline id=0a332d88-38b2-4935-a89c-03a3a7609a06, f1=0.42105\n",
      "INFO: Found pipeline id=05567a95-0e33-4611-a0d8-d41198555f4b, time=0:59:26.608981, scoring...\n",
      "INFO: Scored pipeline id=05567a95-0e33-4611-a0d8-d41198555f4b, f1=0.92453\n",
      "INFO: Found pipeline id=67fb90f0-1852-406a-8c97-8a4f2bd6e189, time=1:00:09.811914, scoring...\n",
      "INFO: Search completed, still scoring some pending pipelines...\n",
      "INFO: Scored pipeline id=67fb90f0-1852-406a-8c97-8a4f2bd6e189, f1=0.62112\n",
      "INFO: Scoring completed for all pipelines!\n"
     ]
    }
   ],
   "source": [
    "automl.search_pipelines(train_dataset_path, time_bound=60, target='OPR_Mentions_Guns', task_keywords=['classification', 'text', 'binary'], metric='f1', pos_label='Yes')"
   ]
  },
  {
   "cell_type": "markdown",
   "metadata": {},
   "source": [
    "## Visual Analysis of the Results"
   ]
  },
  {
   "cell_type": "code",
   "execution_count": null,
   "metadata": {
    "scrolled": false
   },
   "outputs": [],
   "source": [
    "automl.plot_comparison_pipelines(precomputed_pipelines=piracy_pipelines)"
   ]
  },
  {
   "cell_type": "markdown",
   "metadata": {},
   "source": [
    "## Using Unlabeled Data to Improve the Results"
   ]
  },
  {
   "cell_type": "code",
   "execution_count": 10,
   "metadata": {},
   "outputs": [],
   "source": [
    "train_dataset_path_semi = '/Users/rlopez/D3M/examples/piracy_train_text_semi.csv'\n",
    "automl_semi = AutoML(output_path)"
   ]
  },
  {
   "cell_type": "code",
   "execution_count": 11,
   "metadata": {
    "scrolled": true
   },
   "outputs": [
    {
     "name": "stdout",
     "output_type": "stream",
     "text": [
      "INFO: Initializing AlphaD3M AutoML...\n",
      "INFO: AlphaD3M AutoML initialized!\n",
      "INFO: Found pipeline id=ff0f84f6-30bf-4b0c-9637-8141768208cd, time=0:00:23.101056, scoring...\n",
      "INFO: Scored pipeline id=ff0f84f6-30bf-4b0c-9637-8141768208cd, f1=0.29449\n",
      "INFO: Found pipeline id=5f24a96a-2061-49a8-b1c0-7754a6d69417, time=0:00:39.409147, scoring...\n",
      "INFO: Scored pipeline id=5f24a96a-2061-49a8-b1c0-7754a6d69417, f1=0.31703\n",
      "INFO: Found pipeline id=39d43ce3-bd06-4fd2-90ef-5af4976799c6, time=0:01:01.687524, scoring...\n",
      "INFO: Scored pipeline id=39d43ce3-bd06-4fd2-90ef-5af4976799c6, f1=0.17256\n",
      "INFO: Found pipeline id=8dcd873b-2181-494f-8b37-b2da83795258, time=0:01:17.926249, scoring...\n",
      "INFO: Scored pipeline id=8dcd873b-2181-494f-8b37-b2da83795258, f1=0.18882\n",
      "INFO: Found pipeline id=d04b46cb-da98-4aaf-8e4a-7809af106536, time=0:02:19.149553, scoring...\n",
      "INFO: Found pipeline id=1c124b78-c4a1-4e2e-a3f3-49ee4b25929f, time=0:03:35.210459, scoring...\n",
      "INFO: Found pipeline id=541fa73b-d965-4bab-8ad2-a7511ff6d822, time=0:05:01.088482, scoring...\n",
      "INFO: Scored pipeline id=541fa73b-d965-4bab-8ad2-a7511ff6d822, f1=0.16033\n",
      "INFO: Found pipeline id=8c2ba288-19a6-473d-81b5-63848564aa58, time=0:05:42.113662, scoring...\n",
      "INFO: Scored pipeline id=8c2ba288-19a6-473d-81b5-63848564aa58, f1=0.11622\n",
      "INFO: Found pipeline id=0dc510f1-22c8-44a6-b302-853ca5aab873, time=0:06:20.919325, scoring...\n",
      "INFO: Scored pipeline id=0dc510f1-22c8-44a6-b302-853ca5aab873, f1=0.15267\n",
      "INFO: Scored pipeline id=e8aa8974-127d-492e-9d76-75f66f1e47be, f1=0.23295\n",
      "INFO: Found pipeline id=95101cbd-5af0-49ae-b622-57a3ee377733, time=0:10:09.082343, scoring...\n",
      "INFO: Scored pipeline id=95101cbd-5af0-49ae-b622-57a3ee377733, f1=0.16454\n",
      "INFO: Found pipeline id=74c2e202-9ec1-47ba-88ea-78528f7f8bde, time=0:10:25.318098, scoring...\n",
      "INFO: Scored pipeline id=74c2e202-9ec1-47ba-88ea-78528f7f8bde, f1=0.1573\n",
      "INFO: Found pipeline id=7ac1227f-d1a5-458e-88f4-bbfef195d125, time=0:11:08.577255, scoring...\n",
      "INFO: Found pipeline id=136e94cf-01f4-4a29-843d-b6803728bb03, time=0:11:51.736968, scoring...\n",
      "INFO: Scored pipeline id=7ac1227f-d1a5-458e-88f4-bbfef195d125, f1=0.2313\n",
      "INFO: Found pipeline id=a57da52b-e9d5-4d4a-bca6-1ccfce62517b, time=0:12:11.342305, scoring...\n",
      "INFO: Scored pipeline id=a57da52b-e9d5-4d4a-bca6-1ccfce62517b, f1=0.13838\n",
      "INFO: Scored pipeline id=136e94cf-01f4-4a29-843d-b6803728bb03, f1=0.22739\n",
      "INFO: Found pipeline id=337f0242-ba25-4beb-aff3-9ea0f4508a39, time=0:12:57.726259, scoring...\n",
      "INFO: Found pipeline id=5bcb3a3f-7980-438d-921e-f5ef7deb65d8, time=0:13:20.222016, scoring...\n",
      "INFO: Scored pipeline id=5bcb3a3f-7980-438d-921e-f5ef7deb65d8, f1=0.132\n",
      "INFO: Scored pipeline id=337f0242-ba25-4beb-aff3-9ea0f4508a39, f1=0.22739\n",
      "INFO: Found pipeline id=67883789-eb42-4bce-8164-a2c329c2c5b1, time=0:14:03.716902, scoring...\n",
      "INFO: Found pipeline id=87e2f6a5-f40d-4539-ac5e-f37f4d96ffe1, time=0:14:20.331528, scoring...\n",
      "INFO: Scored pipeline id=87e2f6a5-f40d-4539-ac5e-f37f4d96ffe1, f1=0.12351\n",
      "INFO: Scored pipeline id=67883789-eb42-4bce-8164-a2c329c2c5b1, f1=0.11622\n",
      "INFO: Found pipeline id=45239720-0d7a-4106-86ba-50bf2d9f5e5c, time=0:15:03.506291, scoring...\n",
      "INFO: Found pipeline id=afccd8df-999f-4eab-bce0-3645f1ba3c26, time=0:15:23.270597, scoring...\n",
      "INFO: Scored pipeline id=afccd8df-999f-4eab-bce0-3645f1ba3c26, f1=0.11622\n",
      "INFO: Scored pipeline id=45239720-0d7a-4106-86ba-50bf2d9f5e5c, f1=0.11622\n",
      "INFO: Found pipeline id=ce47c6ed-98a9-463e-a7b0-5fec054076ba, time=0:16:06.524243, scoring...\n",
      "INFO: Found pipeline id=486f915a-014c-4b10-80a3-526395308273, time=0:16:50.183343, scoring...\n",
      "INFO: Scored pipeline id=ce47c6ed-98a9-463e-a7b0-5fec054076ba, f1=0.11622\n",
      "INFO: Found pipeline id=8056cf83-ea4e-4de3-98d0-559b4eda4d02, time=0:17:12.804575, scoring...\n",
      "INFO: Scored pipeline id=8056cf83-ea4e-4de3-98d0-559b4eda4d02, f1=0.13256\n",
      "INFO: Scored pipeline id=486f915a-014c-4b10-80a3-526395308273, f1=0.11622\n",
      "INFO: Found pipeline id=35fe0551-315f-4819-8722-f7ae50134efb, time=0:17:56.293330, scoring...\n",
      "INFO: Found pipeline id=ea13da31-f2a0-47f8-91f4-1b0bb4d2faa0, time=0:18:18.607013, scoring...\n",
      "INFO: Scored pipeline id=ea13da31-f2a0-47f8-91f4-1b0bb4d2faa0, f1=0.15225\n",
      "INFO: Found pipeline id=de251ef9-d650-4ad2-b7ff-e8631785bcff, time=0:18:38.404980, scoring...\n",
      "INFO: Scored pipeline id=de251ef9-d650-4ad2-b7ff-e8631785bcff, f1=0.16647\n",
      "INFO: Scored pipeline id=35fe0551-315f-4819-8722-f7ae50134efb, f1=0.2313\n",
      "INFO: Found pipeline id=15740794-f318-45b0-97e7-1bf9da29dd64, time=0:19:27.773688, scoring...\n",
      "INFO: Scored pipeline id=15740794-f318-45b0-97e7-1bf9da29dd64, f1=0.1949\n",
      "INFO: Found pipeline id=4d7d0dbe-adbf-4378-b5b4-dccc368cab13, time=0:20:29.271361, scoring...\n",
      "INFO: Scored pipeline id=4d7d0dbe-adbf-4378-b5b4-dccc368cab13, f1=0.11622\n",
      "INFO: Found pipeline id=3abc0ce6-0519-4c26-b96a-3535e05dd8c0, time=0:21:33.478148, scoring...\n",
      "INFO: Scored pipeline id=3abc0ce6-0519-4c26-b96a-3535e05dd8c0, f1=0.18153\n",
      "INFO: Found pipeline id=e1eb28a1-c399-4e72-a815-5ccdbd8a4817, time=0:22:58.848326, scoring...\n",
      "INFO: Found pipeline id=3d60e916-e293-4c20-a7d5-00f9fb9e2ac4, time=0:23:15.140799, scoring...\n",
      "INFO: Scored pipeline id=3d60e916-e293-4c20-a7d5-00f9fb9e2ac4, f1=0.14195\n",
      "INFO: Found pipeline id=1afb61e1-1514-4dd8-a87e-cba608d7fd9c, time=0:25:37.801465, scoring...\n",
      "INFO: Scored pipeline id=e1eb28a1-c399-4e72-a815-5ccdbd8a4817, f1=0.22774\n",
      "INFO: Found pipeline id=c435b0bf-463a-49a7-978b-a028ec155503, time=0:25:57.303220, scoring...\n",
      "INFO: Scored pipeline id=c435b0bf-463a-49a7-978b-a028ec155503, f1=0.1889\n",
      "INFO: Found pipeline id=9dc6b0fa-f029-4da0-810d-a8caab576e95, time=0:28:44.431475, scoring...\n",
      "INFO: Found pipeline id=9351d0ed-c01c-4cf3-b721-6a091eaf1816, time=0:29:14.288113, scoring...\n",
      "INFO: Scored pipeline id=9351d0ed-c01c-4cf3-b721-6a091eaf1816, f1=0.17256\n",
      "INFO: Scored pipeline id=68c89e63-f0f2-4319-9cf2-15deb9975f54, f1=0.20684\n",
      "INFO: Found pipeline id=ef6f122e-b70a-45eb-a8f1-2b5d714ec7f2, time=0:35:58.517845, scoring...\n",
      "INFO: Found pipeline id=ea569c27-6de7-4bea-9b04-871143f2557b, time=0:36:20.731874, scoring...\n",
      "INFO: Scored pipeline id=ea569c27-6de7-4bea-9b04-871143f2557b, f1=0.11622\n",
      "INFO: Found pipeline id=a99fd6ba-6b8c-4984-a07c-a97f1154d01f, time=0:36:40.129732, scoring...\n",
      "INFO: Scored pipeline id=a99fd6ba-6b8c-4984-a07c-a97f1154d01f, f1=0.17494\n",
      "INFO: Found pipeline id=fe3547f2-22be-462b-a155-279f8d2b6f48, time=0:37:23.524072, scoring...\n",
      "INFO: Scored pipeline id=ef6f122e-b70a-45eb-a8f1-2b5d714ec7f2, f1=0.17074\n",
      "INFO: Found pipeline id=217a9e88-8f77-480b-83e5-5bd25d0f3d5a, time=0:38:06.879357, scoring...\n",
      "INFO: Scored pipeline id=fe3547f2-22be-462b-a155-279f8d2b6f48, f1=0.19924\n",
      "INFO: Found pipeline id=2d82ff1e-05af-461b-ba1c-4a87bf4f269e, time=0:38:26.199281, scoring...\n",
      "INFO: Scored pipeline id=2d82ff1e-05af-461b-ba1c-4a87bf4f269e, f1=0.11622\n",
      "INFO: Scored pipeline id=217a9e88-8f77-480b-83e5-5bd25d0f3d5a, f1=0.21568\n",
      "INFO: Found pipeline id=4900abd2-652c-4f56-a00c-fb12bf3542dd, time=0:39:09.508787, scoring...\n",
      "INFO: Found pipeline id=eaf8c451-c6f4-41a2-bc0f-3534ba965f42, time=0:39:49.919546, scoring...\n",
      "INFO: Scored pipeline id=4900abd2-652c-4f56-a00c-fb12bf3542dd, f1=0.11622\n",
      "INFO: Found pipeline id=38502a05-ceb3-47e2-a0af-722d06543a4d, time=0:40:12.232456, scoring...\n",
      "INFO: Scored pipeline id=38502a05-ceb3-47e2-a0af-722d06543a4d, f1=0.11622\n",
      "INFO: Scored pipeline id=eaf8c451-c6f4-41a2-bc0f-3534ba965f42, f1=0.11622\n",
      "INFO: Found pipeline id=6c93d84e-6fae-4174-ad3f-dd1bc74178ad, time=0:40:52.732835, scoring...\n",
      "INFO: Scored pipeline id=6c93d84e-6fae-4174-ad3f-dd1bc74178ad, f1=0.18093\n",
      "INFO: Found pipeline id=661b73c5-4d59-459f-87bc-49e7ee54089d, time=0:41:09.069015, scoring...\n",
      "INFO: Scored pipeline id=661b73c5-4d59-459f-87bc-49e7ee54089d, f1=0.144\n",
      "INFO: Found pipeline id=bf4d190f-fcd7-408d-a7e8-90dc5677a0ee, time=0:41:52.386822, scoring...\n",
      "INFO: Found pipeline id=0d55d12d-9224-482d-a250-c74457ffafe3, time=0:42:14.640426, scoring...\n",
      "INFO: Scored pipeline id=0d55d12d-9224-482d-a250-c74457ffafe3, f1=0.15142\n",
      "INFO: Found pipeline id=280d452d-d087-4cc5-a54b-99c78e850a62, time=0:42:34.140644, scoring...\n",
      "INFO: Scored pipeline id=280d452d-d087-4cc5-a54b-99c78e850a62, f1=0.14829\n",
      "INFO: Scored pipeline id=bf4d190f-fcd7-408d-a7e8-90dc5677a0ee, f1=0.23295\n",
      "INFO: Found pipeline id=6d609a3a-46a1-41a4-9095-c80bb7212b19, time=0:43:18.249516, scoring...\n",
      "INFO: Found pipeline id=7efa7f82-c2ca-4c6e-a3fc-71804e7a106a, time=0:44:01.480795, scoring...\n",
      "INFO: Scored pipeline id=6d609a3a-46a1-41a4-9095-c80bb7212b19, f1=0.20071\n",
      "INFO: Found pipeline id=82c81688-c0d1-4a74-9856-f99c19e10e5d, time=0:44:23.813378, scoring...\n",
      "INFO: Scored pipeline id=82c81688-c0d1-4a74-9856-f99c19e10e5d, f1=0.14605\n",
      "INFO: Found pipeline id=53fc1c27-4b9b-4ff4-a807-10e68ff1fe04, time=0:44:43.225527, scoring...\n",
      "INFO: Scored pipeline id=53fc1c27-4b9b-4ff4-a807-10e68ff1fe04, f1=0.17611\n",
      "INFO: Scored pipeline id=7efa7f82-c2ca-4c6e-a3fc-71804e7a106a, f1=0.20071\n",
      "INFO: Found pipeline id=773986ef-af4a-49f3-9ba0-66f8a7c69d5f, time=0:45:26.536928, scoring...\n",
      "INFO: Found pipeline id=c32b1e51-ad68-40e5-8bbe-1199f6e0eff7, time=0:46:10.475150, scoring...\n",
      "INFO: Scored pipeline id=773986ef-af4a-49f3-9ba0-66f8a7c69d5f, f1=0.23589\n",
      "INFO: Found pipeline id=04c29b44-b740-44e7-82b5-170f88108ff3, time=0:46:33.211273, scoring...\n",
      "INFO: Scored pipeline id=04c29b44-b740-44e7-82b5-170f88108ff3, f1=0.17373\n",
      "INFO: Found pipeline id=94b13ef0-dbb4-4be5-adb6-19716c66b669, time=0:47:01.745524, scoring...\n"
     ]
    },
    {
     "name": "stdout",
     "output_type": "stream",
     "text": [
      "INFO: Scored pipeline id=c32b1e51-ad68-40e5-8bbe-1199f6e0eff7, f1=0.23589\n",
      "INFO: Scored pipeline id=94b13ef0-dbb4-4be5-adb6-19716c66b669, f1=0.12844\n",
      "INFO: Found pipeline id=6384ca90-7a66-4d47-815e-70af996b43d3, time=0:47:18.118695, scoring...\n",
      "INFO: Scored pipeline id=6384ca90-7a66-4d47-815e-70af996b43d3, f1=0.16672\n",
      "INFO: Found pipeline id=517a6292-b88c-42f5-af8b-5ba0f3730b1d, time=0:47:34.321272, scoring...\n",
      "INFO: Scored pipeline id=517a6292-b88c-42f5-af8b-5ba0f3730b1d, f1=0.16687\n",
      "INFO: Found pipeline id=4b9f9a92-d997-4671-958b-bb0c83383a4d, time=0:49:08.700274, scoring...\n",
      "INFO: Found pipeline id=57b6eca7-d234-456b-96b5-136a7951dbb3, time=0:49:24.932171, scoring...\n",
      "INFO: Scored pipeline id=57b6eca7-d234-456b-96b5-136a7951dbb3, f1=0.15711\n",
      "INFO: Found pipeline id=3ad032d0-9f0b-4605-b80b-c3229eaf2175, time=0:50:11.078640, scoring...\n",
      "INFO: Found pipeline id=bc616243-24f8-41db-ad23-43183e4bda38, time=0:50:54.806970, scoring...\n",
      "INFO: Found pipeline id=7cba7709-6592-4069-a645-a6025fcf840e, time=0:51:14.118261, scoring...\n",
      "INFO: Scored pipeline id=7cba7709-6592-4069-a645-a6025fcf840e, f1=0.11622\n",
      "INFO: Scored pipeline id=bc616243-24f8-41db-ad23-43183e4bda38, f1=0.11622\n",
      "INFO: Found pipeline id=04c6711a-e796-41d4-953e-0891ab29ea7c, time=0:52:00.601287, scoring...\n",
      "INFO: Scored pipeline id=4b9f9a92-d997-4671-958b-bb0c83383a4d, f1=0.11667\n",
      "INFO: Found pipeline id=718aa13c-dd9a-402d-9e13-5436a97b58d3, time=0:52:44.159005, scoring...\n",
      "INFO: Scored pipeline id=04c6711a-e796-41d4-953e-0891ab29ea7c, f1=0.11622\n",
      "INFO: Scored pipeline id=3ad032d0-9f0b-4605-b80b-c3229eaf2175, f1=0.20365\n",
      "INFO: Found pipeline id=94148a72-0e27-4fa4-83c0-95ecf5396224, time=0:53:03.847157, scoring...\n",
      "INFO: Scored pipeline id=94148a72-0e27-4fa4-83c0-95ecf5396224, f1=0.18246\n",
      "INFO: Scored pipeline id=718aa13c-dd9a-402d-9e13-5436a97b58d3, f1=0.18084\n",
      "INFO: Found pipeline id=19145a81-199f-44a7-980e-3f5cdf5e18bd, time=0:53:54.225823, scoring...\n",
      "INFO: Found pipeline id=0bffd5f9-0dff-473f-b65a-412a4122cb65, time=0:54:16.682976, scoring...\n",
      "INFO: Scored pipeline id=0bffd5f9-0dff-473f-b65a-412a4122cb65, f1=0.11622\n",
      "INFO: Scored pipeline id=19145a81-199f-44a7-980e-3f5cdf5e18bd, f1=0.19942\n",
      "INFO: Found pipeline id=48a4da51-b236-4a66-9864-558a817da05a, time=0:55:06.161734, scoring...\n",
      "INFO: Found pipeline id=6c35e972-eae4-496d-9224-95daf956fa45, time=0:55:25.567633, scoring...\n",
      "INFO: Scored pipeline id=6c35e972-eae4-496d-9224-95daf956fa45, f1=0.16346\n",
      "INFO: Scored pipeline id=48a4da51-b236-4a66-9864-558a817da05a, f1=0.18217\n",
      "INFO: Found pipeline id=05103181-b4da-489e-b526-39f591ccbe01, time=0:56:45.097595, scoring...\n",
      "INFO: Found pipeline id=494f821f-7d42-4e69-b5b0-53840605bcb0, time=0:57:28.702856, scoring...\n",
      "INFO: Scored pipeline id=05103181-b4da-489e-b526-39f591ccbe01, f1=0.21021\n",
      "INFO: Found pipeline id=541aa084-289b-40a7-9914-bbe585679323, time=0:58:15.598969, scoring...\n",
      "INFO: Scored pipeline id=494f821f-7d42-4e69-b5b0-53840605bcb0, f1=0.20137\n",
      "INFO: Found pipeline id=0fe2648f-4376-4730-84c0-6baeb65af50b, time=0:58:50.555512, scoring...\n",
      "INFO: Scored pipeline id=0fe2648f-4376-4730-84c0-6baeb65af50b, f1=0.15726\n",
      "INFO: Scored pipeline id=541aa084-289b-40a7-9914-bbe585679323, f1=0.19734\n",
      "INFO: Found pipeline id=d6890114-2fe8-4101-a5fc-2f9e5f1a981d, time=0:59:39.904859, scoring...\n",
      "INFO: Scored pipeline id=d6890114-2fe8-4101-a5fc-2f9e5f1a981d, f1=0.22902\n",
      "INFO: Found pipeline id=72212afb-9254-421c-b61d-111cd4c32932, time=1:01:02.218040, scoring...\n",
      "INFO: Search completed, still scoring some pending pipelines...\n",
      "INFO: Scored pipeline id=72212afb-9254-421c-b61d-111cd4c32932, f1=0.20971\n",
      "INFO: Scoring completed for all pipelines!\n"
     ]
    }
   ],
   "source": [
    "automl_semi.search_pipelines(train_dataset_path_semi, time_bound=60, target='OPR_Mentions_Guns', task_keywords=['semiSupervised', 'classification', 'binary'], metric='f1', pos_label='Yes')"
   ]
  },
  {
   "cell_type": "markdown",
   "metadata": {},
   "source": [
    "## Visual Analysis of the Results"
   ]
  },
  {
   "cell_type": "code",
   "execution_count": null,
   "metadata": {
    "scrolled": false
   },
   "outputs": [],
   "source": [
    "automl_semi.plot_comparison_pipelines(precomputed_pipelines=piracy_pipelines_semi)"
   ]
  },
  {
   "cell_type": "markdown",
   "metadata": {},
   "source": [
    "## Comparing Classification vs Semi-supervised Classification"
   ]
  },
  {
   "cell_type": "code",
   "execution_count": null,
   "metadata": {
    "scrolled": false
   },
   "outputs": [],
   "source": [
    "automl_semi.plot_comparison_pipelines(precomputed_pipelines=piracy_pipelines+piracy_pipelines_semi)"
   ]
  },
  {
   "cell_type": "code",
   "execution_count": 96,
   "metadata": {},
   "outputs": [
    {
     "name": "stdout",
     "output_type": "stream",
     "text": [
      "INFO: Ending session...\n",
      "INFO: Session ended!\n"
     ]
    }
   ],
   "source": [
    "automl.end_session()\n",
    "automl_semi.end_session()"
   ]
  },
  {
   "cell_type": "code",
   "execution_count": 19,
   "metadata": {},
   "outputs": [],
   "source": [
    "# Load previous runs\n",
    "import json\n",
    "\n",
    "def filter_pipelines(pipelines):\n",
    "    return [i for i in pipelines if i['scores'][0]['value'] > 0.3]\n",
    "\n",
    "with open('/Users/rlopez/D3M/examples/piracy_pipelines.json') as fin:\n",
    "    piracy_pipelines = json.load(fin)\n",
    "    piracy_pipelines = filter_pipelines(piracy_pipelines)\n",
    "with open('/Users/rlopez/D3M/examples/piracy_pipelines_semi.json') as fin:\n",
    "    piracy_pipelines_semi = json.load(fin)\n",
    "    piracy_pipelines_semi = filter_pipelines(piracy_pipelines_semi)\n",
    "\n",
    "automl = AutoML(output_path)\n",
    "automl_semi = AutoML(output_path)"
   ]
  },
  {
   "cell_type": "code",
   "execution_count": 23,
   "metadata": {},
   "outputs": [
    {
     "name": "stderr",
     "output_type": "stream",
     "text": [
      "/var/folders/3d/9gjmns916b30lplrfg_k62zr0000gn/T/ipykernel_6557/1727595736.py:1: DeprecationWarning: Importing display from IPython.core.display is deprecated since IPython 7.14, please import from IPython display\n",
      "  from IPython.core.display import display, HTML\n"
     ]
    },
    {
     "data": {
      "text/html": [
       "<style>.container { width:1500px !important; } </style>"
      ],
      "text/plain": [
       "<IPython.core.display.HTML object>"
      ]
     },
     "metadata": {},
     "output_type": "display_data"
    }
   ],
   "source": [
    "from IPython.core.display import display, HTML\n",
    "display(HTML(\"<style>.container { width:1500px !important; } </style>\"))"
   ]
  },
  {
   "cell_type": "code",
   "execution_count": null,
   "metadata": {},
   "outputs": [],
   "source": []
  }
 ],
 "metadata": {
  "kernelspec": {
   "display_name": "Python 3 (ipykernel)",
   "language": "python",
   "name": "python3"
  },
  "language_info": {
   "codemirror_mode": {
    "name": "ipython",
    "version": 3
   },
   "file_extension": ".py",
   "mimetype": "text/x-python",
   "name": "python",
   "nbconvert_exporter": "python",
   "pygments_lexer": "ipython3",
   "version": "3.8.15"
  }
 },
 "nbformat": 4,
 "nbformat_minor": 4
}
