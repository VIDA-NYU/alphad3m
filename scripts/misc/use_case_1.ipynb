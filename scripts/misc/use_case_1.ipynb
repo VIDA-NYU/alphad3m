{
 "cells": [
  {
   "cell_type": "markdown",
   "metadata": {},
   "source": [
    " <div class=\"row\">\n",
    "  <div class=\"column\">\n",
    "    <img src=\"https://i.ibb.co/594JFYs/nyu-logo.png\" align=\"left\" style=\"height: 40px;\"/>\n",
    "  </div>\n",
    "  <div class=\"column\">\n",
    "    <img src=\"https://i.ibb.co/pjyDY2n/vida-logo.png\" align=\"right\" style=\"width: 300px; height: 40px;\"/>\n",
    "  </div>\n",
    "</div> "
   ]
  },
  {
   "cell_type": "code",
   "execution_count": 5,
   "metadata": {},
   "outputs": [],
   "source": [
    "from alphad3m import AutoML"
   ]
  },
  {
   "cell_type": "markdown",
   "metadata": {},
   "source": [
    "## Analyzing the dataset"
   ]
  },
  {
   "cell_type": "code",
   "execution_count": 2,
   "metadata": {},
   "outputs": [],
   "source": [
    "train_dataset_path = '/Users/rlopez/D3M/examples/JIDO_SOHR_Articles_1061/TRAIN'\n",
    "test_dataset_path = '/Users/rlopez/D3M/examples/JIDO_SOHR_Articles_1061/TEST'\n",
    "score_dataset_path = '/Users/rlopez/D3M/examples/JIDO_SOHR_Articles_1061/SCORE'\n",
    "output_path = '/Users/rlopez/D3M/examples/tmp/'"
   ]
  },
  {
   "cell_type": "code",
   "execution_count": null,
   "metadata": {
    "scrolled": true
   },
   "outputs": [],
   "source": [
    "automl = AutoML(output_path, 'AlphaD3M')\n",
    "automl.plot_summary_dataset(train_dataset_path, 'article')"
   ]
  },
  {
   "cell_type": "markdown",
   "metadata": {},
   "source": [
    "## Generating pipelines using AlphaD3M"
   ]
  },
  {
   "cell_type": "code",
   "execution_count": 4,
   "metadata": {
    "scrolled": true
   },
   "outputs": [
    {
     "name": "stdout",
     "output_type": "stream",
     "text": [
      "INFO: Initializing AlphaD3M AutoML...\n",
      "INFO: AlphaD3M AutoML initialized!\n",
      "INFO: Found pipeline id=9177ebc1-c797-44c5-85c4-435d119b72fb, time=0:01:01.668826, scoring...\n",
      "INFO: Scored pipeline id=9177ebc1-c797-44c5-85c4-435d119b72fb, f1=0.30986\n",
      "INFO: Found pipeline id=6f204ef3-a7ab-419b-8818-f3383826b1c8, time=0:01:55.957130, scoring...\n",
      "INFO: Found pipeline id=c916bae4-63c4-44a2-ad70-7c7261ccac16, time=0:02:26.532382, scoring...\n",
      "INFO: Scored pipeline id=6f204ef3-a7ab-419b-8818-f3383826b1c8, f1=0.7234\n",
      "INFO: Scored pipeline id=c916bae4-63c4-44a2-ad70-7c7261ccac16, f1=0.1194\n",
      "INFO: Found pipeline id=2589f20b-cf4c-49dd-856a-36045331c940, time=0:03:14.856457, scoring...\n",
      "INFO: Scored pipeline id=2589f20b-cf4c-49dd-856a-36045331c940, f1=0.03448\n",
      "INFO: Found pipeline id=f82b4cd1-1908-48d6-91a0-b514f77118b1, time=0:08:03.438780, scoring...\n",
      "INFO: Scored pipeline id=f82b4cd1-1908-48d6-91a0-b514f77118b1, f1=0.09836\n",
      "INFO: Found pipeline id=1f316c13-a49d-4b95-8037-5147b9e09219, time=0:09:06.825663, scoring...\n",
      "INFO: Scored pipeline id=1f316c13-a49d-4b95-8037-5147b9e09219, f1=0.1875\n",
      "INFO: Found pipeline id=32fc5d03-5aea-4aae-bb02-5ed1a0238ae0, time=0:10:16.082419, scoring...\n",
      "INFO: Scored pipeline id=32fc5d03-5aea-4aae-bb02-5ed1a0238ae0, f1=0.24242\n",
      "INFO: Found pipeline id=c6a20857-eef4-424e-8258-19f2cee628a1, time=0:12:01.458165, scoring...\n",
      "INFO: Scored pipeline id=c6a20857-eef4-424e-8258-19f2cee628a1, f1=0.28169\n",
      "INFO: Found pipeline id=18fa044d-71a5-4e3f-a40c-d2ac9fa1d488, time=0:15:13.948249, scoring...\n",
      "INFO: Scored pipeline id=18fa044d-71a5-4e3f-a40c-d2ac9fa1d488, f1=0.46847\n",
      "INFO: Found pipeline id=7c68217f-babc-4a52-b7fa-57c5175219e5, time=0:16:41.316088, scoring...\n",
      "INFO: Scored pipeline id=7c68217f-babc-4a52-b7fa-57c5175219e5, f1=0.0\n",
      "INFO: Found pipeline id=9feea953-8912-4200-b0b7-4f73ff147f33, time=0:18:32.769677, scoring...\n",
      "INFO: Scored pipeline id=9feea953-8912-4200-b0b7-4f73ff147f33, f1=0.0\n",
      "INFO: Found pipeline id=cf04418e-46c1-4587-85df-0a3bbbffad9f, time=0:19:30.084374, scoring...\n",
      "INFO: Scored pipeline id=cf04418e-46c1-4587-85df-0a3bbbffad9f, f1=0.54369\n",
      "INFO: Found pipeline id=8a41d946-d648-48ec-a40b-30b6d3f021a3, time=0:20:48.483870, scoring...\n",
      "INFO: Scored pipeline id=8a41d946-d648-48ec-a40b-30b6d3f021a3, f1=0.0\n",
      "INFO: Found pipeline id=a5faac99-72a8-4d87-b138-7f00f13699f5, time=0:21:54.802187, scoring...\n",
      "INFO: Scored pipeline id=a5faac99-72a8-4d87-b138-7f00f13699f5, f1=0.47059\n",
      "INFO: Found pipeline id=90f6909d-6f21-4110-ad6f-2fbd0289fa2f, time=0:23:10.132336, scoring...\n",
      "INFO: Found pipeline id=1d078261-dfdf-43a5-b824-833b102cc7c0, time=0:23:40.490181, scoring...\n",
      "INFO: Scored pipeline id=1d078261-dfdf-43a5-b824-833b102cc7c0, f1=0.45283\n",
      "INFO: Scored pipeline id=90f6909d-6f21-4110-ad6f-2fbd0289fa2f, f1=0.0\n",
      "INFO: Found pipeline id=41eebab7-8340-48fb-be48-875b1f564ee7, time=0:24:31.924795, scoring...\n",
      "INFO: Scored pipeline id=41eebab7-8340-48fb-be48-875b1f564ee7, f1=0.25882\n",
      "INFO: Found pipeline id=d3e49309-57ef-4f89-ba78-e610f93bdac5, time=0:25:20.229770, scoring...\n",
      "INFO: Scored pipeline id=d3e49309-57ef-4f89-ba78-e610f93bdac5, f1=0.0\n",
      "INFO: Found pipeline id=4ad4e45e-19d3-4053-bd9e-1f027ec8da17, time=0:26:17.568969, scoring...\n",
      "INFO: Scored pipeline id=4ad4e45e-19d3-4053-bd9e-1f027ec8da17, f1=0.27692\n",
      "INFO: Found pipeline id=0e426841-4049-4d4e-92a7-0002312800c8, time=0:26:56.917111, scoring...\n",
      "INFO: Scored pipeline id=0e426841-4049-4d4e-92a7-0002312800c8, f1=0.27273\n",
      "INFO: Found pipeline id=38628611-20d2-404c-8605-4285ae4f5bf1, time=0:28:12.354520, scoring...\n",
      "INFO: Scored pipeline id=38628611-20d2-404c-8605-4285ae4f5bf1, f1=0.0\n",
      "INFO: Found pipeline id=7a5fa1d4-7f9a-41ff-a9fb-9addd61f363e, time=0:29:45.723250, scoring...\n",
      "INFO: Scored pipeline id=7a5fa1d4-7f9a-41ff-a9fb-9addd61f363e, f1=0.0\n",
      "INFO: Found pipeline id=c51a9bed-a313-453b-af44-3f80e6471378, time=0:31:01.110720, scoring...\n",
      "INFO: Found pipeline id=a83166a0-ac9a-451e-972b-89a9d9faefe5, time=0:31:28.433233, scoring...\n",
      "INFO: Scored pipeline id=a83166a0-ac9a-451e-972b-89a9d9faefe5, f1=0.43243\n",
      "INFO: Scored pipeline id=c51a9bed-a313-453b-af44-3f80e6471378, f1=0.0\n",
      "INFO: Found pipeline id=de2f4cd1-9995-45d5-9c86-51eb1c385e6e, time=0:32:37.785669, scoring...\n",
      "INFO: Scored pipeline id=de2f4cd1-9995-45d5-9c86-51eb1c385e6e, f1=0.20588\n",
      "INFO: Found pipeline id=b5a1643d-13ec-4bb2-af10-da7557177149, time=0:33:56.121372, scoring...\n",
      "INFO: Scored pipeline id=b5a1643d-13ec-4bb2-af10-da7557177149, f1=0.06897\n",
      "INFO: Found pipeline id=efaba86a-41ff-48f7-8ce8-8ec9fb64c498, time=0:35:23.576582, scoring...\n",
      "INFO: Found pipeline id=c00842c9-1439-4701-b9ad-65ead1c4073e, time=0:35:41.907777, scoring...\n",
      "INFO: Scored pipeline id=c00842c9-1439-4701-b9ad-65ead1c4073e, f1=0.03448\n",
      "INFO: Scored pipeline id=efaba86a-41ff-48f7-8ce8-8ec9fb64c498, f1=0.15873\n",
      "INFO: Found pipeline id=a935cbc9-fca8-4154-ae48-ab217c54ffeb, time=0:38:18.378081, scoring...\n",
      "INFO: Scored pipeline id=a935cbc9-fca8-4154-ae48-ab217c54ffeb, f1=0.0\n",
      "INFO: Found pipeline id=f3ed38a4-2f41-488d-9e5f-04326f5ded85, time=0:40:12.819699, scoring...\n",
      "INFO: Scored pipeline id=f3ed38a4-2f41-488d-9e5f-04326f5ded85, f1=0.53892\n",
      "INFO: Found pipeline id=8e66eb4f-d4f8-4e12-8475-fe5291788f84, time=0:41:01.178358, scoring...\n",
      "INFO: Scored pipeline id=8e66eb4f-d4f8-4e12-8475-fe5291788f84, f1=0.32967\n",
      "INFO: Found pipeline id=ebd8c3d0-af80-4574-a5c4-1fbe87998586, time=0:42:07.550005, scoring...\n",
      "INFO: Found pipeline id=21c5f348-d3fc-4d7e-8b7a-002626ffc7eb, time=0:42:37.915413, scoring...\n",
      "INFO: Scored pipeline id=21c5f348-d3fc-4d7e-8b7a-002626ffc7eb, f1=0.43373\n",
      "INFO: Scored pipeline id=ebd8c3d0-af80-4574-a5c4-1fbe87998586, f1=0.32258\n",
      "INFO: Found pipeline id=5454a9f7-2f52-47e4-89b2-8ecaebaa9d2d, time=0:44:26.427630, scoring...\n",
      "INFO: Scored pipeline id=5454a9f7-2f52-47e4-89b2-8ecaebaa9d2d, f1=0.21875\n",
      "INFO: Found pipeline id=bc072601-f651-4722-b6f6-7745d49b9ef4, time=0:44:53.758160, scoring...\n",
      "INFO: Scored pipeline id=bc072601-f651-4722-b6f6-7745d49b9ef4, f1=0.0\n",
      "INFO: Found pipeline id=ca218edc-b52a-439b-9315-2a4d76147445, time=0:46:00.136605, scoring...\n",
      "INFO: Scored pipeline id=ca218edc-b52a-439b-9315-2a4d76147445, f1=0.38202\n",
      "INFO: Found pipeline id=6bc9cc25-b669-4497-930d-14fca4646fc1, time=0:47:06.448560, scoring...\n",
      "INFO: Scored pipeline id=6bc9cc25-b669-4497-930d-14fca4646fc1, f1=0.37895\n",
      "INFO: Found pipeline id=46c741cd-7fb2-47bb-aa55-784dd541a52a, time=0:47:57.756734, scoring...\n",
      "INFO: Scored pipeline id=46c741cd-7fb2-47bb-aa55-784dd541a52a, f1=0.0\n",
      "INFO: Found pipeline id=a2290fc6-5f73-4483-8774-4eda17476a2c, time=0:48:46.085077, scoring...\n",
      "INFO: Scored pipeline id=a2290fc6-5f73-4483-8774-4eda17476a2c, f1=0.97297\n",
      "INFO: Found pipeline id=c7324824-acb9-48df-8b82-29b3add93f95, time=0:50:28.482168, scoring...\n",
      "INFO: Scored pipeline id=c7324824-acb9-48df-8b82-29b3add93f95, f1=0.0\n",
      "INFO: Found pipeline id=cb519f80-b4a4-412b-907d-187b159d5660, time=0:51:34.871599, scoring...\n",
      "INFO: Scored pipeline id=cb519f80-b4a4-412b-907d-187b159d5660, f1=0.27692\n",
      "INFO: Found pipeline id=03b79730-ed80-4fd1-b684-6b6d9bdc1856, time=0:59:41.317017, scoring...\n",
      "INFO: Scored pipeline id=03b79730-ed80-4fd1-b684-6b6d9bdc1856, f1=0.47788\n",
      "INFO: Found pipeline id=a526c957-9a15-437d-afa3-c2e23f882b40, time=1:00:19.241847, scoring...\n",
      "INFO: Found pipeline id=6968105b-e887-4801-8147-d59e150d1c07, time=1:00:25.992465, scoring...\n",
      "INFO: Found pipeline id=da2a0640-82a9-4dd6-a19a-e6a98b8c4349, time=1:00:32.569232, scoring...\n",
      "INFO: Search completed, still scoring some pending pipelines...\n",
      "INFO: Scored pipeline id=a526c957-9a15-437d-afa3-c2e23f882b40, f1=0.97297\n",
      "INFO: Scored pipeline id=da2a0640-82a9-4dd6-a19a-e6a98b8c4349, f1=0.54369\n",
      "INFO: Scored pipeline id=6968105b-e887-4801-8147-d59e150d1c07, f1=0.7234\n",
      "INFO: Scoring completed for all pipelines!\n"
     ]
    }
   ],
   "source": [
    "automl.search_pipelines(train_dataset_path, time_bound=60)"
   ]
  },
  {
   "cell_type": "markdown",
   "metadata": {},
   "source": [
    "##  Visualizing the produced pipelines"
   ]
  },
  {
   "cell_type": "code",
   "execution_count": null,
   "metadata": {},
   "outputs": [],
   "source": [
    "#pipelines_full_dataset = automl.create_pipelineprofiler_inputs(score_dataset_path)\n",
    "automl = AutoML(output_path)\n",
    "automl.plot_comparison_pipelines(precomputed_pipelines=pipelines_full_dataset)"
   ]
  },
  {
   "cell_type": "markdown",
   "metadata": {},
   "source": [
    "## Sampling the training dataset"
   ]
  },
  {
   "cell_type": "code",
   "execution_count": 6,
   "metadata": {},
   "outputs": [],
   "source": [
    "import pandas as pd\n",
    "from d3m_interface.data_converter import d3mtext_to_dataframe\n",
    "from text_sampling import progressive_sample\n",
    "from utils import select_indices, dataframe_to_d3mtext, copy_dataset\n",
    "# You need to copy text_sampling.py, active_learning.py and utils.py to run this example\n",
    "\n",
    "initial_size = 100\n",
    "train_dataset = d3mtext_to_dataframe(train_dataset_path, 'article')\n",
    "test_dataset = d3mtext_to_dataframe(score_dataset_path, 'article')\n",
    "labeled_indices, pool_indices = select_indices(train_dataset['articleofinterest'].to_list(), initial_size)\n",
    "initial_dataset = train_dataset.iloc[labeled_indices]\n",
    "pool_dataset = train_dataset.iloc[pool_indices]"
   ]
  },
  {
   "cell_type": "code",
   "execution_count": 7,
   "metadata": {},
   "outputs": [
    {
     "name": "stdout",
     "output_type": "stream",
     "text": [
      "F1 score (dataset size=100): 0.6438\n",
      "F1 score (dataset size=200): 0.7171\n",
      "F1 score (dataset size=400): 0.7214\n",
      "F1 score (dataset size=800): 0.8303\n",
      "F1 score (dataset size=1600): 0.7903\n",
      "F1 score (dataset size=3200): 0.9039\n",
      "Threshold reached!\n"
     ]
    },
    {
     "data": {
      "image/png": "[encoded data removed]",
      "text/plain": [
       "<Figure size 576x288 with 1 Axes>"
      ]
     },
     "metadata": {},
     "output_type": "display_data"
    }
   ],
   "source": [
    "reduced_dataset = progressive_sample(initial_dataset, pool_dataset, test_dataset)"
   ]
  },
  {
   "cell_type": "code",
   "execution_count": 8,
   "metadata": {},
   "outputs": [],
   "source": [
    "tmp_path = '/Users/rlopez/D3M/examples/tmp/'\n",
    "reduced_dataset_path = dataframe_to_d3mtext(reduced_dataset, train_dataset_path, tmp_path, 'article')\n",
    "test_dataset_path = copy_dataset(test_dataset_path, tmp_path)\n",
    "score_dataset_path = copy_dataset(score_dataset_path, tmp_path)"
   ]
  },
  {
   "cell_type": "markdown",
   "metadata": {},
   "source": [
    "## Reruning AlphaD3M"
   ]
  },
  {
   "cell_type": "code",
   "execution_count": 9,
   "metadata": {
    "scrolled": true
   },
   "outputs": [
    {
     "name": "stdout",
     "output_type": "stream",
     "text": [
      "INFO: Initializing AlphaD3M AutoML...\n",
      "INFO: AlphaD3M AutoML initialized!\n",
      "INFO: Found pipeline id=0f86c7f9-7597-4dcb-8876-1a0e720d5d1e, time=0:00:19.540164, scoring...\n",
      "INFO: Scored pipeline id=0f86c7f9-7597-4dcb-8876-1a0e720d5d1e, f1=0.0\n",
      "INFO: Found pipeline id=6bd3d8c8-28a0-4fc4-bf1c-81db71613e02, time=0:00:31.963719, scoring...\n",
      "INFO: Scored pipeline id=6bd3d8c8-28a0-4fc4-bf1c-81db71613e02, f1=0.0\n",
      "INFO: Found pipeline id=e4330b7e-e67d-4bbf-91c0-e74a68fcf11d, time=0:00:44.462464, scoring...\n",
      "INFO: Scored pipeline id=e4330b7e-e67d-4bbf-91c0-e74a68fcf11d, f1=0.0\n",
      "INFO: Found pipeline id=29c11056-beee-4932-9039-cb86b128e4bd, time=0:00:56.751769, scoring...\n",
      "INFO: Scored pipeline id=29c11056-beee-4932-9039-cb86b128e4bd, f1=0.0\n",
      "INFO: Found pipeline id=953d0167-562a-4a13-aa9c-806063397fcd, time=0:01:12.096589, scoring...\n",
      "INFO: Scored pipeline id=953d0167-562a-4a13-aa9c-806063397fcd, f1=0.0\n",
      "INFO: Found pipeline id=b5aac228-1e15-46e1-aca4-b0141c02b538, time=0:02:06.466271, scoring...\n",
      "INFO: Scored pipeline id=b5aac228-1e15-46e1-aca4-b0141c02b538, f1=0.29153\n",
      "INFO: Found pipeline id=472fce3d-c805-44ce-aba9-c60f6401d5cf, time=0:02:36.776425, scoring...\n",
      "INFO: Scored pipeline id=472fce3d-c805-44ce-aba9-c60f6401d5cf, f1=0.29553\n",
      "INFO: Found pipeline id=466ffbd8-3362-4341-be3e-a7abccc59d1b, time=0:04:22.194229, scoring...\n",
      "INFO: Found pipeline id=3351b243-68b1-4941-bdda-95e223415e07, time=0:04:49.655334, scoring...\n",
      "INFO: Scored pipeline id=3351b243-68b1-4941-bdda-95e223415e07, f1=0.29553\n",
      "INFO: Scored pipeline id=466ffbd8-3362-4341-be3e-a7abccc59d1b, f1=0.43357\n",
      "INFO: Found pipeline id=fbb66691-de04-4e82-bbc1-1d0dbf4783ad, time=0:05:43.992805, scoring...\n",
      "INFO: Scored pipeline id=fbb66691-de04-4e82-bbc1-1d0dbf4783ad, f1=0.29153\n",
      "INFO: Found pipeline id=30d89608-b24d-41c2-aa64-6eac73a52438, time=0:07:26.350261, scoring...\n",
      "INFO: Scored pipeline id=30d89608-b24d-41c2-aa64-6eac73a52438, f1=0.43357\n",
      "INFO: Found pipeline id=017cc09b-1382-4b28-ac0f-314929addd32, time=0:09:11.656623, scoring...\n",
      "INFO: Scored pipeline id=017cc09b-1382-4b28-ac0f-314929addd32, f1=0.43357\n",
      "INFO: Found pipeline id=d880bb2c-c99b-430f-8283-6afa69e8dcfb, time=0:10:56.989172, scoring...\n",
      "INFO: Scored pipeline id=d880bb2c-c99b-430f-8283-6afa69e8dcfb, f1=0.43357\n",
      "INFO: Found pipeline id=fd366a1d-ddd5-4500-b774-0865065f9611, time=0:13:24.353890, scoring...\n",
      "INFO: Scored pipeline id=fd366a1d-ddd5-4500-b774-0865065f9611, f1=0.40748\n",
      "INFO: Found pipeline id=0b8e80e6-812a-4d31-8ef3-83771c2d0cfd, time=0:14:36.734659, scoring...\n",
      "INFO: Scored pipeline id=0b8e80e6-812a-4d31-8ef3-83771c2d0cfd, f1=0.40748\n",
      "INFO: Found pipeline id=e6beb122-c1f9-408f-afd2-adb85125e62e, time=0:15:10.128409, scoring...\n",
      "INFO: Scored pipeline id=e6beb122-c1f9-408f-afd2-adb85125e62e, f1=0.40691\n",
      "INFO: Found pipeline id=fa738245-3cf2-4262-9e37-ec33ae8f50da, time=0:21:34.745793, scoring...\n",
      "INFO: Scored pipeline id=fa738245-3cf2-4262-9e37-ec33ae8f50da, f1=0.0\n",
      "INFO: Found pipeline id=b26b7719-cab7-4ed9-a466-544454d9f771, time=0:22:35.100740, scoring...\n",
      "INFO: Scored pipeline id=b26b7719-cab7-4ed9-a466-544454d9f771, f1=0.22222\n",
      "INFO: Found pipeline id=ec64c38a-28e8-42df-a02c-bb935376c93c, time=0:24:53.647695, scoring...\n",
      "INFO: Scored pipeline id=ec64c38a-28e8-42df-a02c-bb935376c93c, f1=0.0\n",
      "INFO: Found pipeline id=84d84461-6717-42a5-a5de-74cd01d3b522, time=0:25:59.972777, scoring...\n",
      "INFO: Scored pipeline id=84d84461-6717-42a5-a5de-74cd01d3b522, f1=0.22222\n",
      "INFO: Found pipeline id=9168f13a-fa57-46b9-b950-d4dec342972a, time=0:28:51.775741, scoring...\n",
      "INFO: Scored pipeline id=9168f13a-fa57-46b9-b950-d4dec342972a, f1=0.78261\n",
      "INFO: Found pipeline id=04e461d2-64a6-4ce9-8b62-c87fb38aaace, time=0:30:40.181371, scoring...\n",
      "INFO: Found pipeline id=40a72421-6689-4e52-ad22-77dec1f2bef9, time=0:31:07.540656, scoring...\n",
      "INFO: Scored pipeline id=40a72421-6689-4e52-ad22-77dec1f2bef9, f1=0.39117\n",
      "INFO: Scored pipeline id=04e461d2-64a6-4ce9-8b62-c87fb38aaace, f1=0.83372\n",
      "INFO: Found pipeline id=e6daf073-1795-4e39-90a5-d4d0893467d5, time=0:32:01.879650, scoring...\n",
      "INFO: Scored pipeline id=e6daf073-1795-4e39-90a5-d4d0893467d5, f1=0.5836\n",
      "INFO: Found pipeline id=eed69ba2-de38-4143-9308-4a61a4a8c253, time=0:33:47.210007, scoring...\n",
      "INFO: Found pipeline id=db691ee0-e97f-42db-b78c-cad5e26c0361, time=0:34:44.547718, scoring...\n",
      "INFO: Scored pipeline id=eed69ba2-de38-4143-9308-4a61a4a8c253, f1=0.78261\n",
      "INFO: Scored pipeline id=db691ee0-e97f-42db-b78c-cad5e26c0361, f1=0.22222\n",
      "INFO: Found pipeline id=12c8910c-fc08-48b5-b5c4-31ad12c6f21f, time=0:35:11.948169, scoring...\n",
      "INFO: Scored pipeline id=12c8910c-fc08-48b5-b5c4-31ad12c6f21f, f1=0.49357\n",
      "INFO: Found pipeline id=eba3da4c-f6c0-465f-ac11-3828592f7e8d, time=0:37:15.371980, scoring...\n",
      "INFO: Scored pipeline id=eba3da4c-f6c0-465f-ac11-3828592f7e8d, f1=0.83372\n",
      "INFO: Found pipeline id=ad1b253c-831b-4794-987b-163287ca4da2, time=0:39:21.753211, scoring...\n",
      "INFO: Scored pipeline id=ad1b253c-831b-4794-987b-163287ca4da2, f1=0.9633\n",
      "INFO: Found pipeline id=248ee783-8b15-4b4a-a12b-c62f6eead94a, time=0:41:31.183567, scoring...\n",
      "INFO: Found pipeline id=8431bd5b-4983-4567-ae0c-636a41328e7d, time=0:42:04.519971, scoring...\n",
      "INFO: Scored pipeline id=8431bd5b-4983-4567-ae0c-636a41328e7d, f1=0.22222\n",
      "INFO: Scored pipeline id=248ee783-8b15-4b4a-a12b-c62f6eead94a, f1=0.9633\n",
      "INFO: Found pipeline id=7cb13d91-7b9c-43bb-965b-5b7494d27af6, time=0:43:01.875983, scoring...\n",
      "INFO: Scored pipeline id=7cb13d91-7b9c-43bb-965b-5b7494d27af6, f1=0.32982\n",
      "INFO: Found pipeline id=5eaeb2fe-32f5-4821-ae6a-98cd66d3f376, time=0:44:35.348054, scoring...\n",
      "INFO: Scored pipeline id=5eaeb2fe-32f5-4821-ae6a-98cd66d3f376, f1=0.77459\n",
      "INFO: Found pipeline id=b923a6f6-f733-4992-bbaa-b5d9039d1fb2, time=0:45:35.674295, scoring...\n",
      "INFO: Scored pipeline id=b923a6f6-f733-4992-bbaa-b5d9039d1fb2, f1=0.48276\n",
      "INFO: Found pipeline id=d4ef7fbb-d12f-4596-9e3e-b911d75a85ce, time=0:46:08.998763, scoring...\n",
      "INFO: Scored pipeline id=d4ef7fbb-d12f-4596-9e3e-b911d75a85ce, f1=0.4433\n",
      "INFO: Found pipeline id=828c0906-a842-4e5f-9045-e37e7a0138c1, time=0:48:42.399193, scoring...\n",
      "INFO: Scored pipeline id=828c0906-a842-4e5f-9045-e37e7a0138c1, f1=0.96231\n",
      "INFO: Found pipeline id=58fd8a22-6cb5-40c3-81c9-a3c4c87678b1, time=0:51:21.735018, scoring...\n",
      "INFO: Scored pipeline id=58fd8a22-6cb5-40c3-81c9-a3c4c87678b1, f1=0.9618\n",
      "INFO: Found pipeline id=b549f7f7-1459-475e-b263-627b6d0f3c3d, time=1:03:01.657321, scoring...\n",
      "INFO: Found pipeline id=c4bb81bf-978a-465d-894a-5edba1ba5da3, time=1:03:05.477687, scoring...\n",
      "INFO: Found pipeline id=689c26c7-4f1f-45c4-8d39-b2baa688e13f, time=1:03:09.293757, scoring...\n",
      "INFO: Found pipeline id=f1206d79-fd7b-4c8f-b9cd-4496c3912e64, time=1:03:13.082642, scoring...\n",
      "INFO: Found pipeline id=9d2a7c38-3c54-415f-bfeb-d41f8b007087, time=1:03:37.804917, scoring...\n",
      "INFO: Search completed, still scoring some pending pipelines...\n",
      "INFO: Scored pipeline id=c4bb81bf-978a-465d-894a-5edba1ba5da3, f1=0.82819\n",
      "INFO: Scored pipeline id=b549f7f7-1459-475e-b263-627b6d0f3c3d, f1=0.9633\n",
      "INFO: Scored pipeline id=689c26c7-4f1f-45c4-8d39-b2baa688e13f, f1=0.4\n",
      "INFO: Scored pipeline id=f1206d79-fd7b-4c8f-b9cd-4496c3912e64, f1=0.4\n",
      "INFO: Scored pipeline id=9d2a7c38-3c54-415f-bfeb-d41f8b007087, f1=0.9633\n",
      "INFO: Scoring completed for all pipelines!\n"
     ]
    }
   ],
   "source": [
    "automl_red = AutoML(output_path, 'AlphaD3M')\n",
    "automl_red.search_pipelines(reduced_dataset_path, time_bound=60)"
   ]
  },
  {
   "cell_type": "code",
   "execution_count": null,
   "metadata": {},
   "outputs": [],
   "source": [
    "pipelines_reduced_dataset = automl_red.create_pipelineprofiler_inputs(score_dataset_path, source_name='AlphaD3M_R')\n",
    "automl_red.plot_comparison_pipelines(precomputed_pipelines=pipelines_reduced_dataset)"
   ]
  },
  {
   "cell_type": "markdown",
   "metadata": {},
   "source": [
    "## Comparing full and reduced datasets"
   ]
  },
  {
   "cell_type": "code",
   "execution_count": null,
   "metadata": {
    "scrolled": true
   },
   "outputs": [],
   "source": [
    "automl_red.plot_comparison_pipelines(precomputed_pipelines=pipelines_full_dataset+pipelines_reduced_dataset)"
   ]
  },
  {
   "cell_type": "markdown",
   "metadata": {},
   "source": [
    "## Explaining the predictions"
   ]
  },
  {
   "cell_type": "code",
   "execution_count": 12,
   "metadata": {},
   "outputs": [
    {
     "name": "stdout",
     "output_type": "stream",
     "text": [
      "INFO: Training model...\n",
      "INFO: Training finished!\n",
      "INFO: Testing model...\n",
      "INFO: Testing finished!\n"
     ]
    }
   ],
   "source": [
    "model_id = automl_red.train('ea68148e-9dce-48d2-b3c8-625d0149aef8')\n",
    "predictions = automl_red.test(model_id, test_dataset_path)"
   ]
  },
  {
   "cell_type": "code",
   "execution_count": 13,
   "metadata": {},
   "outputs": [],
   "source": [
    "predictions_df = predictions.rename(columns={'articleofinterest':'prediction'})\n",
    "merged_df = pd.concat([test_dataset, predictions_df], axis=1)\n",
    "true_positive = merged_df[(merged_df['articleofinterest'] == 1) & (merged_df['prediction'] == 1)]\n",
    "false_positive = merged_df[(merged_df['articleofinterest'] == 0) & (merged_df['prediction'] == 1)]\n",
    "false_negative = merged_df[(merged_df['articleofinterest'] == 1) & (merged_df['prediction'] == 0)]"
   ]
  },
  {
   "cell_type": "markdown",
   "metadata": {},
   "source": [
    "### True Positive Documents"
   ]
  },
  {
   "cell_type": "code",
   "execution_count": null,
   "metadata": {},
   "outputs": [],
   "source": [
    "true_positive_ids = [0, 1]\n",
    "for i in true_positive_ids:\n",
    "    instance_text = true_positive.iloc[i]['article']\n",
    "    automl_red.plot_text_explanation(model_id, instance_text, 'article', 'articleofinterest')"
   ]
  },
  {
   "cell_type": "markdown",
   "metadata": {},
   "source": [
    "### False Positive Documents"
   ]
  },
  {
   "cell_type": "code",
   "execution_count": null,
   "metadata": {},
   "outputs": [],
   "source": [
    "false_positive_ids = [3, 177]\n",
    "for i in false_positive_ids:\n",
    "    instance_text = false_positive.iloc[i]['article']\n",
    "    automl_red.plot_text_explanation(model_id, instance_text, 'article', 'articleofinterest')"
   ]
  },
  {
   "cell_type": "markdown",
   "metadata": {},
   "source": [
    "#### Actionable insight\n",
    "\n",
    "Featurization might be able identify the context in which words such as \"barrel\" and \"bomb\", improving the classification results.\n",
    "\n",
    "Data Scientist could add embeddings such as word2vec and GloVe to the models produced by AlphaD3M."
   ]
  },
  {
   "cell_type": "markdown",
   "metadata": {},
   "source": [
    "### Mislabeled Documents"
   ]
  },
  {
   "cell_type": "code",
   "execution_count": null,
   "metadata": {},
   "outputs": [],
   "source": [
    "mislabeled_ids = [19, 2]\n",
    "for i in mislabeled_ids:\n",
    "    print('Document Label: 0')\n",
    "    print('Predicted Label: 1')\n",
    "    instance_text = false_positive.iloc[i]['article']\n",
    "    automl_red.plot_text_explanation(model_id, instance_text, 'article', 'articleofinterest')"
   ]
  },
  {
   "cell_type": "code",
   "execution_count": 17,
   "metadata": {},
   "outputs": [
    {
     "name": "stdout",
     "output_type": "stream",
     "text": [
      "Total Number of False Positive documents: 178\n"
     ]
    }
   ],
   "source": [
    "print('Total Number of False Positive documents: {}'.format(len(false_positive)))"
   ]
  },
  {
   "cell_type": "markdown",
   "metadata": {},
   "source": [
    "## Document exploration with VisualTextAnalyzer"
   ]
  },
  {
   "cell_type": "code",
   "execution_count": null,
   "metadata": {},
   "outputs": [],
   "source": [
    "processed_data = automl_red.create_textanalizer_inputs(train_dataset_path, 'article', 'articleofinterest')\n",
    "automl_red.plot_text_analysis(precomputed_data=processed_data)"
   ]
  },
  {
   "cell_type": "code",
   "execution_count": 1,
   "metadata": {},
   "outputs": [],
   "source": [
    "# Load previous runs\n",
    "import json\n",
    "\n",
    "def filter_pipelines(pipelines):\n",
    "    return [i for i in pipelines if i['scores'][0]['value'] > 0]\n",
    "\n",
    "with open('/Users/rlopez/D3M/examples/pipelines_explosion_full_dataset.json') as fin:\n",
    "    pipelines_full_dataset = json.load(fin)\n",
    "    pipelines_full_dataset = filter_pipelines(pipelines_full_dataset)\n",
    "\n",
    "with open('/Users/rlopez/D3M/examples/pipelines_explosion_reduced_dataset.json') as fin:\n",
    "    pipelines_reduced_dataset = json.load(fin)\n",
    "    pipelines_reduced_dataset = filter_pipelines(pipelines_reduced_dataset)\n",
    "\n",
    "with open('/Users/rlopez/D3M/examples/explosion_vta.json', 'r') as f:\n",
    "    processed_data = json.load(f)"
   ]
  },
  {
   "cell_type": "code",
   "execution_count": 5,
   "metadata": {},
   "outputs": [
    {
     "data": {
      "text/html": [
       "<style>.container { width:1600px !important; }</style>"
      ],
      "text/plain": [
       "<IPython.core.display.HTML object>"
      ]
     },
     "metadata": {},
     "output_type": "display_data"
    }
   ],
   "source": [
    "from IPython.core.display import display, HTML\n",
    "display(HTML(\"<style>.container { width:1600px !important; }</style>\"))"
   ]
  }
 ],
 "metadata": {
  "kernelspec": {
   "display_name": "Python 3 (ipykernel)",
   "language": "python",
   "name": "python3"
  },
  "language_info": {
   "codemirror_mode": {
    "name": "ipython",
    "version": 3
   },
   "file_extension": ".py",
   "mimetype": "text/x-python",
   "name": "python",
   "nbconvert_exporter": "python",
   "pygments_lexer": "ipython3",
   "version": "3.8.15"
  }
 },
 "nbformat": 4,
 "nbformat_minor": 2
}
