{
 "cells": [
  {
   "cell_type": "code",
   "execution_count": 13,
   "metadata": {},
   "outputs": [],
   "source": [
    "from alphad3m.metalearning.grammar_builder import load_related_pipelines, extract_patterns\n",
    "from IPython.display import IFrame"
   ]
  },
  {
   "cell_type": "markdown",
   "metadata": {},
   "source": [
    "# From Manual to Automatic Grammar"
   ]
  },
  {
   "cell_type": "markdown",
   "metadata": {},
   "source": [
    "#### Manual grammar:"
   ]
  },
  {
   "cell_type": "markdown",
   "metadata": {},
   "source": [
    "S -> IMPUTATION ENCODERS FEATURE_SCALING FEATURE_SELECTION CLASSIFICATION\n",
    "ENCODERS -> TEXT_FEATURIZER CATEGORICAL_ENCODER\n",
    "IMPUTATION -> 'd3m.primitives.data_cleaning.imputer.SKlearn'\n",
    "FEATURE_SELECTION -> 'd3m.primitives.feature_selection.generic_univariate_select.SKlearn'\n",
    "FEATURE_SELECTION -> 'd3m.primitives.feature_selection.select_fwe.SKlearn'\n",
    "FEATURE_SELECTION -> 'd3m.primitives.feature_selection.select_percentile.SKlearn'\n",
    "FEATURE_SELECTION -> 'd3m.primitives.feature_selection.variance_threshold.SKlearn'\n",
    "FEATURE_SELECTION -> 'E'\n",
    "FEATURE_SCALING -> 'd3m.primitives.data_cleaning.max_abs_scaler.SKlearn'\n",
    "FEATURE_SCALING -> 'd3m.primitives.data_cleaning.min_max_scaler.SKlearn'\n",
    "FEATURE_SCALING -> 'd3m.primitives.data_cleaning.robust_scaler.SKlearn'\n",
    "FEATURE_SCALING -> 'd3m.primitives.data_cleaning.standard_scaler.SKlearn'\n",
    "FEATURE_SCALING -> 'E'\n",
    "CLASSIFICATION -> 'd3m.primitives.classification.ada_boost.SKlearn'\n",
    "CLASSIFICATION -> 'd3m.primitives.classification.bagging.SKlearn'\n",
    "CLASSIFICATION -> 'd3m.primitives.classification.bernoulli_naive_bayes.SKlearn'\n",
    "CLASSIFICATION -> 'd3m.primitives.classification.decision_tree.SKlearn'\n",
    "CLASSIFICATION -> 'd3m.primitives.classification.extra_trees.SKlearn'\n",
    "CLASSIFICATION -> 'd3m.primitives.classification.gaussian_naive_bayes.SKlearn'\n",
    "CLASSIFICATION -> 'd3m.primitives.classification.gradient_boosting.SKlearn'\n",
    "CLASSIFICATION -> 'd3m.primitives.classification.linear_discriminant_analysis.SKlearn'\n",
    "CLASSIFICATION -> 'd3m.primitives.classification.linear_svc.SKlearn'\n",
    "CLASSIFICATION -> 'd3m.primitives.classification.logistic_regression.SKlearn'\n",
    "CLASSIFICATION -> 'd3m.primitives.classification.multinomial_naive_bayes.SKlearn'\n",
    "CLASSIFICATION -> 'd3m.primitives.classification.passive_aggressive.SKlearn'\n",
    "CLASSIFICATION -> 'd3m.primitives.classification.quadratic_discriminant_analysis.SKlearn'\n",
    "CLASSIFICATION -> 'd3m.primitives.classification.random_forest.SKlearn'\n",
    "CLASSIFICATION -> 'd3m.primitives.classification.sgd.SKlearn'\n",
    "CLASSIFICATION -> 'd3m.primitives.classification.svc.SKlearn'\n",
    "CLASSIFICATION -> 'd3m.primitives.classification.light_gbm.Common'\n",
    "CLASSIFICATION -> 'd3m.primitives.classification.xgboost_dart.Common'\n",
    "CLASSIFICATION -> 'd3m.primitives.classification.xgboost_gbtree.Common'\n",
    "CATEGORICAL_ENCODER -> 'd3m.primitives.data_transformation.one_hot_encoder.SKlearn'\n",
    "TEXT_FEATURIZER -> 'd3m.primitives.feature_extraction.tfidf_vectorizer.SKlearn'\n",
    "TEXT_FEATURIZER -> 'd3m.primitives.data_transformation.encoder.DistilTextEncoder'\n",
    "TEXT_FEATURIZER -> 'd3m.primitives.feature_construction.corex_text.DSBOX'"
   ]
  },
  {
   "cell_type": "markdown",
   "metadata": {},
   "source": [
    "#### Steps to build the automatic grammar:"
   ]
  },
  {
   "cell_type": "markdown",
   "metadata": {},
   "source": [
    "1. Select pipelines that solve similar problems (task-oriented)\n",
    "    - Info from problem: task keywords\n",
    "    - Info from dataset: semantic types, missing values\n",
    "2. Create a portfolio of pipelines\n",
    "    - Auto-Sklearn uses a metric named \"distance to minimum\" (transform the performances to the distance to the \n",
    "      best observed performance)\n",
    "3. Transform the pipelines to their types\n",
    "    - 'imputer.SKlearn 'random_forest.SKlearn' -> IMPUTATION CLASSIFICATION\n",
    "4. Use \"primitive importance\" to prioritize primitives\n",
    "    - Try first Random Forest, then xgboost, etc."
   ]
  },
  {
   "cell_type": "code",
   "execution_count": 39,
   "metadata": {
    "scrolled": true
   },
   "outputs": [
    {
     "name": "stderr",
     "output_type": "stream",
     "text": [
      "2021-09-28 23:15:05,785 INFO Loading primitives info from file\n",
      "2021-09-28 23:15:05,788 INFO Loading primitives info from file\n",
      "2021-09-28 23:15:05,789 INFO Loading pipelines from metalearning database...\n",
      "2021-09-28 23:15:28,564 INFO Found 917890 pipelines in metalearning database\n",
      "2021-09-28 23:15:28,566 INFO File size: 119402 bytes\n",
      "2021-09-28 23:15:28,568 INFO Loading dataframe...\n",
      "2021-09-28 23:15:28,591 INFO Dataframe loaded, 1073 rows, 19 columns\n",
      "2021-09-28 23:15:28,593 INFO Setting column names from header\n",
      "2021-09-28 23:15:28,594 INFO Identifying types, 19 columns...\n",
      "2021-09-28 23:15:28,596 INFO Processing column 0 'd3mIndex'...\n",
      "2021-09-28 23:15:28,677 INFO Column type http://schema.org/Integer [http://schema.org/identifier]\n",
      "2021-09-28 23:15:28,678 INFO Processing column 1 'Player'...\n",
      "2021-09-28 23:15:28,719 INFO Column type http://schema.org/Text []\n",
      "2021-09-28 23:15:28,719 INFO Processing column 2 'Number_seasons'...\n",
      "2021-09-28 23:15:28,787 INFO Column type http://schema.org/Integer []\n",
      "2021-09-28 23:15:28,787 INFO Processing column 3 'Games_played'...\n",
      "2021-09-28 23:15:28,871 INFO Column type http://schema.org/Integer []\n",
      "2021-09-28 23:15:28,874 INFO Processing column 4 'At_bats'...\n",
      "2021-09-28 23:15:28,953 INFO Column type http://schema.org/Integer []\n",
      "2021-09-28 23:15:28,954 INFO Processing column 5 'Runs'...\n",
      "2021-09-28 23:15:29,033 INFO Column type http://schema.org/Integer []\n",
      "2021-09-28 23:15:29,034 INFO Processing column 6 'Hits'...\n",
      "2021-09-28 23:15:29,117 INFO Column type http://schema.org/Integer []\n",
      "2021-09-28 23:15:29,118 INFO Processing column 7 'Doubles'...\n",
      "2021-09-28 23:15:29,198 INFO Column type http://schema.org/Integer []\n",
      "2021-09-28 23:15:29,199 INFO Processing column 8 'Triples'...\n",
      "2021-09-28 23:15:29,272 INFO Column type http://schema.org/Integer []\n",
      "2021-09-28 23:15:29,272 INFO Processing column 9 'Home_runs'...\n",
      "2021-09-28 23:15:29,347 INFO Column type http://schema.org/Integer []\n",
      "2021-09-28 23:15:29,348 INFO Processing column 10 'RBIs'...\n",
      "2021-09-28 23:15:29,427 INFO Column type http://schema.org/Integer []\n",
      "2021-09-28 23:15:29,427 INFO Processing column 11 'Walks'...\n",
      "2021-09-28 23:15:29,507 INFO Column type http://schema.org/Integer []\n",
      "2021-09-28 23:15:29,508 INFO Processing column 12 'Strikeouts'...\n",
      "2021-09-28 23:15:29,589 INFO Column type http://schema.org/Integer []\n",
      "2021-09-28 23:15:29,590 INFO Processing column 13 'Batting_average'...\n",
      "2021-09-28 23:15:29,636 INFO Column type http://schema.org/Float []\n",
      "2021-09-28 23:15:29,637 INFO Processing column 14 'On_base_pct'...\n",
      "2021-09-28 23:15:29,685 INFO Column type http://schema.org/Float []\n",
      "2021-09-28 23:15:29,686 INFO Processing column 15 'Slugging_pct'...\n",
      "2021-09-28 23:15:29,735 INFO Column type http://schema.org/Float []\n",
      "2021-09-28 23:15:29,735 INFO Processing column 16 'Fielding_ave'...\n",
      "2021-09-28 23:15:29,783 INFO Column type http://schema.org/Float []\n",
      "2021-09-28 23:15:29,783 INFO Processing column 17 'Position'...\n",
      "2021-09-28 23:15:29,819 INFO Column type http://schema.org/Text [http://schema.org/Enumeration]\n",
      "2021-09-28 23:15:29,820 INFO Processing column 18 'Hall_of_Fame'...\n",
      "2021-09-28 23:15:29,862 INFO Column type http://schema.org/Integer []\n",
      "2021-09-28 23:15:29,904 INFO Found 11 similar datasets\n",
      "2021-09-28 23:15:29,905 INFO Similar datasets:\n",
      "[('185_baseball', 1.0), ('185_baseball_MIN_METADATA', 1.0), ('LL1_h1b_visa_apps_7480', 0.94868), ('57_hypothyroid_MIN_METADATA', 0.88889), ('27_wordLevels', 0.88192), ('27_wordLevels_MIN_METADATA', 0.88192), ('LL0_186_braziltourism_MIN_METADATA', 0.82496), ('1491_one_hundred_plants_margin', 0.8165), ('1491_one_hundred_plants_margin_MIN_METADATA', 0.8165), ('LL0_1100_popularkids', 0.8165), ('LL0_1100_popularkids_MIN_METADATA', 0.8165)]\n",
      "2021-09-28 23:15:32,702 INFO Found 20238 related pipelines\n"
     ]
    }
   ],
   "source": [
    "dataset_path = '/Users/rlopez/D3M/datasets/seed_datasets_current/185_baseball_MIN_METADATA/TRAIN/dataset_TRAIN/tables/learningData.csv'\n",
    "target_column = 'Hall_of_Fame'\n",
    "task_keywords = ['classification', 'multiClass', 'tabular']\n",
    "pipelines = load_related_pipelines(dataset_path, target_column, task_keywords)"
   ]
  },
  {
   "cell_type": "markdown",
   "metadata": {},
   "source": [
    "#### Automatic grammar:"
   ]
  },
  {
   "cell_type": "markdown",
   "metadata": {},
   "source": [
    "S -> NUMERICAL_METHOD DATA_CONVERSION CATEGORICAL_ENCODER DATA_CONVERSION IMPUTATION FEATURE_SCALING DATA_CONVERSION FEATURE_SELECTION CLASSIFICATION\n",
    "S -> TEXT_FEATURIZER CATEGORICAL_ENCODER FEATURE_SCALING IMPUTATION FEATURE_SELECTION CLASSIFICATION\n",
    "S -> IMPUTATION TEXT_FEATURIZER CATEGORICAL_ENCODER FEATURE_SCALING CLASSIFICATION\n",
    "S -> IMPUTATION CATEGORICAL_ENCODER DATA_CONVERSION FEATURE_SCALING CLASSIFICATION\n",
    "S -> IMPUTATION CATEGORICAL_ENCODER DIMENSIONALITY_REDUCTION CLASSIFICATION\n",
    "S -> IMPUTATION CATEGORICAL_ENCODER FEATURE_SELECTION CLASSIFICATION\n",
    "S -> FEATURE_SELECTION IMPUTATION CLASSIFICATION\n",
    "CATEGORICAL_ENCODER -> 'd3m.primitives.data_transformation.encoder.DSBOX'\n",
    "CATEGORICAL_ENCODER -> 'd3m.primitives.data_transformation.one_hot_encoder.DistilOneHotEncoder'\n",
    "CATEGORICAL_ENCODER -> 'd3m.primitives.data_transformation.one_hot_encoder.SKlearn'\n",
    "CATEGORICAL_ENCODER -> 'd3m.primitives.data_transformation.unary_encoder.DSBOX'\n",
    "CATEGORICAL_ENCODER -> 'E'\n",
    "CLASSIFICATION -> 'd3m.primitives.classification.ada_boost.SKlearn'\n",
    "CLASSIFICATION -> 'd3m.primitives.classification.bagging.SKlearn'\n",
    "CLASSIFICATION -> 'd3m.primitives.classification.decision_tree.SKlearn'\n",
    "CLASSIFICATION -> 'd3m.primitives.classification.extra_trees.SKlearn'\n",
    "CLASSIFICATION -> 'd3m.primitives.classification.gradient_boosting.SKlearn'\n",
    "CLASSIFICATION -> 'd3m.primitives.classification.k_neighbors.SKlearn'\n",
    "CLASSIFICATION -> 'd3m.primitives.classification.light_gbm.Common'\n",
    "CLASSIFICATION -> 'd3m.primitives.classification.linear_discriminant_analysis.SKlearn'\n",
    "CLASSIFICATION -> 'd3m.primitives.classification.linear_svc.SKlearn'\n",
    "CLASSIFICATION -> 'd3m.primitives.classification.logistic_regression.SKlearn'\n",
    "CLASSIFICATION -> 'd3m.primitives.classification.mlp.SKlearn'\n",
    "CLASSIFICATION -> 'd3m.primitives.classification.nearest_centroid.SKlearn'\n",
    "CLASSIFICATION -> 'd3m.primitives.classification.random_forest.Common'\n",
    "CLASSIFICATION -> 'd3m.primitives.classification.random_forest.SKlearn'\n",
    "CLASSIFICATION -> 'd3m.primitives.classification.search_hybrid.Find_projections'\n",
    "CLASSIFICATION -> 'd3m.primitives.classification.sgd.SKlearn'\n",
    "CLASSIFICATION -> 'd3m.primitives.classification.svc.SKlearn'\n",
    "CLASSIFICATION -> 'd3m.primitives.classification.xgboost_dart.Common'\n",
    "CLASSIFICATION -> 'd3m.primitives.classification.xgboost_gbtree.Common'\n",
    "DATA_CONVERSION -> 'd3m.primitives.data_cleaning.cleaning_featurizer.DSBOX'\n",
    "DATA_CONVERSION -> 'd3m.primitives.data_transformation.to_numeric.DSBOX'\n",
    "DATA_CONVERSION -> 'E'\n",
    "DIMENSIONALITY_REDUCTION -> 'd3m.primitives.feature_extraction.pca.SKlearn'\n",
    "DIMENSIONALITY_REDUCTION -> 'd3m.primitives.feature_selection.pca_features.Pcafeatures'\n",
    "DIMENSIONALITY_REDUCTION -> 'E'\n",
    "FEATURE_SCALING -> 'd3m.primitives.data_cleaning.min_max_scaler.SKlearn'\n",
    "FEATURE_SCALING -> 'd3m.primitives.data_cleaning.quantile_transformer.SKlearn'\n",
    "FEATURE_SCALING -> 'd3m.primitives.data_cleaning.robust_scaler.SKlearn'\n",
    "FEATURE_SCALING -> 'd3m.primitives.data_cleaning.standard_scaler.SKlearn'\n",
    "FEATURE_SCALING -> 'd3m.primitives.normalization.iqr_scaler.DSBOX'\n",
    "FEATURE_SCALING -> 'E'\n",
    "FEATURE_SELECTION -> 'd3m.primitives.feature_selection.joint_mutual_information.AutoRPI'\n",
    "FEATURE_SELECTION -> 'd3m.primitives.feature_selection.rffeatures.Rffeatures'\n",
    "FEATURE_SELECTION -> 'd3m.primitives.feature_selection.select_fwe.SKlearn'\n",
    "FEATURE_SELECTION -> 'd3m.primitives.feature_selection.select_percentile.SKlearn'\n",
    "FEATURE_SELECTION -> 'd3m.primitives.feature_selection.simultaneous_markov_blanket.AutoRPI'\n",
    "FEATURE_SELECTION -> 'd3m.primitives.feature_selection.variance_threshold.SKlearn'\n",
    "FEATURE_SELECTION -> 'E'\n",
    "IMPUTATION -> 'd3m.primitives.data_cleaning.imputer.SKlearn'\n",
    "IMPUTATION -> 'd3m.primitives.data_cleaning.iterative_regression_imputation.DSBOX'\n",
    "IMPUTATION -> 'd3m.primitives.data_cleaning.mean_imputation.DSBOX'\n",
    "IMPUTATION -> 'd3m.primitives.data_preprocessing.random_sampling_imputer.BYU'\n",
    "IMPUTATION -> 'E'\n",
    "NUMERICAL_METHOD -> 'd3m.primitives.data_transformation.do_nothing_for_dataset.DSBOX'\n",
    "TEXT_FEATURIZER -> 'd3m.primitives.data_transformation.encoder.DistilTextEncoder'\n",
    "TEXT_FEATURIZER -> 'E'"
   ]
  },
  {
   "cell_type": "markdown",
   "metadata": {},
   "source": [
    "# Coverage of Patterns"
   ]
  },
  {
   "cell_type": "markdown",
   "metadata": {},
   "source": [
    "#### Simple dataset:"
   ]
  },
  {
   "cell_type": "code",
   "execution_count": 24,
   "metadata": {},
   "outputs": [],
   "source": [
    "task_name = 'CLASSIFICATION_TASK'\n",
    "encoders = [] \n",
    "use_imputer = True\n",
    "dataset_path = '/Users/rlopez/D3M/datasets/seed_datasets_current/LL0_186_braziltourism_MIN_METADATA/TRAIN/dataset_TRAIN/tables/learningData.csv'\n",
    "target_column = 'Trips'\n",
    "task_keywords = ['classification', 'multiClass', 'tabular']"
   ]
  },
  {
   "cell_type": "code",
   "execution_count": 26,
   "metadata": {},
   "outputs": [],
   "source": [
    "manual_patterns = load_manual_patterns(task_name, encoders, use_imputer)"
   ]
  },
  {
   "cell_type": "code",
   "execution_count": 25,
   "metadata": {
    "scrolled": true
   },
   "outputs": [
    {
     "name": "stderr",
     "output_type": "stream",
     "text": [
      "2021-09-28 16:10:57,737 INFO Loading primitives info from file\n",
      "2021-09-28 16:10:57,740 INFO Loading primitives info from file\n",
      "2021-09-28 16:10:57,741 INFO Loading pipelines from metalearning database...\n",
      "2021-09-28 16:11:36,990 INFO Found 917890 pipelines in metalearning database\n",
      "2021-09-28 16:11:37,004 INFO File size: 16646 bytes\n",
      "2021-09-28 16:11:37,007 INFO Loading dataframe...\n",
      "2021-09-28 16:11:37,025 INFO Dataframe loaded, 330 rows, 10 columns\n",
      "2021-09-28 16:11:37,026 INFO Setting column names from header\n",
      "2021-09-28 16:11:37,027 INFO Identifying types, 10 columns...\n",
      "2021-09-28 16:11:37,028 INFO Processing column 0 'd3mIndex'...\n",
      "2021-09-28 16:11:37,059 INFO Column type http://schema.org/Integer [http://schema.org/identifier]\n",
      "2021-09-28 16:11:37,059 INFO Processing column 1 'Age'...\n",
      "2021-09-28 16:11:37,088 INFO Column type http://schema.org/Integer []\n",
      "2021-09-28 16:11:37,089 INFO Processing column 2 'Sex'...\n",
      "2021-09-28 16:11:37,111 INFO Column type http://schema.org/Integer []\n",
      "2021-09-28 16:11:37,111 INFO Processing column 3 'Income'...\n",
      "2021-09-28 16:11:37,137 INFO Column type http://schema.org/Float []\n",
      "2021-09-28 16:11:37,138 INFO Processing column 4 'Travel_cost'...\n",
      "2021-09-28 16:11:37,170 INFO Column type http://schema.org/Float []\n",
      "2021-09-28 16:11:37,171 INFO Processing column 5 'Access_road'...\n",
      "2021-09-28 16:11:37,188 INFO Column type http://schema.org/Integer [http://schema.org/Boolean]\n",
      "2021-09-28 16:11:37,189 INFO Processing column 6 'Active'...\n",
      "2021-09-28 16:11:37,212 INFO Column type http://schema.org/Integer []\n",
      "2021-09-28 16:11:37,212 INFO Processing column 7 'Passive'...\n",
      "2021-09-28 16:11:37,234 INFO Column type http://schema.org/Integer []\n",
      "2021-09-28 16:11:37,235 INFO Processing column 8 'Logged_income'...\n",
      "2021-09-28 16:11:37,263 INFO Column type http://schema.org/Float []\n",
      "2021-09-28 16:11:37,265 INFO Processing column 9 'Trips'...\n",
      "2021-09-28 16:11:37,282 INFO Column type http://schema.org/Integer []\n",
      "2021-09-28 16:11:37,326 INFO Found 9 similar datasets\n",
      "2021-09-28 16:11:37,327 INFO Similar datasets:\n",
      "[('LL0_186_braziltourism_MIN_METADATA', 1.0), ('LL1_h1b_visa_apps_7480', 0.89443), ('SEMI_1044_eye_movements', 0.875), ('SEMI_1044_eye_movements_MIN_METADATA', 0.875), ('1491_one_hundred_plants_margin', 0.86603), ('1491_one_hundred_plants_margin_MIN_METADATA', 0.86603), ('185_baseball', 0.82496), ('185_baseball_MIN_METADATA', 0.82496), ('57_hypothyroid_MIN_METADATA', 0.82496)]\n",
      "2021-09-28 16:11:57,763 INFO Found 12028 related pipelines\n",
      "2021-09-28 16:12:01,825 INFO Loading primitives info from file\n",
      "2021-09-28 16:12:01,888 INFO Found 986 different patterns, after creating the portfolio\n",
      "2021-09-28 16:12:01,890 INFO Found 108 different patterns, after removing uncommon patterns\n",
      "2021-09-28 16:12:01,891 INFO Found 30 different patterns, after blacklisting primitives\n",
      "2021-09-28 16:12:01,893 INFO Found 29 different patterns, after removing low-performance patterns\n",
      "2021-09-28 16:12:01,894 INFO Found 25 different patterns, after removing low-variability patterns\n",
      "2021-09-28 16:12:01,910 INFO Patterns:\n",
      "structure: [CLASSIFICATION], frequency: 8, mean_score: 0.824, mean_adtm: 0.165\n",
      "structure: [IMPUTATION, DIMENSIONALITY_REDUCTION, CLASSIFICATION], frequency: 6, mean_score: 0.788, mean_adtm: 0.168\n",
      "structure: [FEATURE_SCALING, IMPUTATION, CLASSIFICATION], frequency: 20, mean_score: 0.750, mean_adtm: 0.217\n",
      "structure: [FEATURE_SELECTION, CLASSIFICATION], frequency: 6, mean_score: 0.748, mean_adtm: 0.169\n",
      "structure: [IMPUTATION, TEXT_FEATURIZER, CATEGORICAL_ENCODER, CLASSIFICATION], frequency: 5, mean_score: 0.732, mean_adtm: 0.134\n",
      "structure: [IMPUTATION, CATEGORICAL_ENCODER, DATA_CONVERSION, FEATURE_SCALING, CLASSIFICATION], frequency: 19, mean_score: 0.730, mean_adtm: 0.195\n",
      "structure: [IMPUTATION, FEATURE_SELECTION, CLASSIFICATION], frequency: 8, mean_score: 0.711, mean_adtm: 0.204\n",
      "structure: [IMPUTATION, CATEGORICAL_ENCODER, FEATURE_SCALING, CLASSIFICATION], frequency: 63, mean_score: 0.690, mean_adtm: 0.206\n",
      "structure: [TEXT_FEATURIZER, CATEGORICAL_ENCODER, FEATURE_SCALING, IMPUTATION, FEATURE_SELECTION, CLASSIFICATION], frequency: 17, mean_score: 0.690, mean_adtm: 0.144\n",
      "structure: [IMPUTATION, CATEGORICAL_ENCODER, CLASSIFICATION], frequency: 12, mean_score: 0.679, mean_adtm: 0.223\n",
      "structure: [NUMERICAL_METHOD, DATA_CONVERSION, CATEGORICAL_ENCODER, DATA_CONVERSION, IMPUTATION, FEATURE_SCALING, DATA_CONVERSION, FEATURE_SELECTION, CLASSIFICATION], frequency: 51, mean_score: 0.664, mean_adtm: 0.247\n",
      "structure: [IMPUTATION, CATEGORICAL_ENCODER, FEATURE_EXTRACTION, CLASSIFICATION], frequency: 10, mean_score: 0.652, mean_adtm: 0.258\n",
      "structure: [IMPUTATION, CATEGORICAL_ENCODER, FEATURE_SELECTION, CLASSIFICATION], frequency: 21, mean_score: 0.648, mean_adtm: 0.249\n",
      "structure: [IMPUTATION, FEATURE_SCALING, CLASSIFICATION], frequency: 7, mean_score: 0.633, mean_adtm: 0.217\n",
      "structure: [FEATURE_SCALING, IMPUTATION, FEATURE_SELECTION, CLASSIFICATION], frequency: 7, mean_score: 0.633, mean_adtm: 0.210\n",
      "structure: [IMPUTATION, CATEGORICAL_ENCODER, DIMENSIONALITY_REDUCTION, CLASSIFICATION], frequency: 17, mean_score: 0.632, mean_adtm: 0.273\n",
      "structure: [IMPUTATION, TEXT_FEATURIZER, CATEGORICAL_ENCODER, FEATURE_SCALING, CLASSIFICATION], frequency: 10, mean_score: 0.630, mean_adtm: 0.163\n",
      "structure: [IMPUTATION, CLASSIFICATION], frequency: 30, mean_score: 0.623, mean_adtm: 0.215\n",
      "structure: [IMPUTATION, TEXT_FEATURIZER, CLASSIFICATION], frequency: 37, mean_score: 0.615, mean_adtm: 0.272\n",
      "structure: [TEXT_FEATURIZER, CATEGORICAL_ENCODER, FEATURE_SCALING, IMPUTATION, CLASSIFICATION], frequency: 25, mean_score: 0.602, mean_adtm: 0.149\n",
      "structure: [FEATURE_SELECTION, IMPUTATION, CLASSIFICATION], frequency: 47, mean_score: 0.594, mean_adtm: 0.262\n",
      "structure: [FEATURE_CONSTRUCTION, CLASSIFICATION], frequency: 8, mean_score: 0.586, mean_adtm: 0.298\n",
      "structure: [METALEARNING, IMPUTATION, CLASSIFICATION], frequency: 15, mean_score: 0.578, mean_adtm: 0.289\n",
      "structure: [IMPUTATION, DATA_CONVERSION, FEATURE_SCALING, CLASSIFICATION], frequency: 6, mean_score: 0.565, mean_adtm: 0.176\n",
      "structure: [IMPUTATION, SEMISUPERVISED_CLASSIFICATION], frequency: 13, mean_score: 0.540, mean_adtm: 0.161\n",
      "2021-09-28 16:12:01,912 INFO Hierarchy:\n",
      "CATEGORICAL_ENCODER:\n",
      "d3m.primitives.data_transformation.encoder.DSBOX, d3m.primitives.data_transformation.one_hot_encoder.DistilOneHotEncoder, d3m.primitives.data_transformation.one_hot_encoder.SKlearn, d3m.primitives.data_transformation.unary_encoder.DSBOX\n",
      "CLASSIFICATION:\n",
      "d3m.primitives.classification.ada_boost.SKlearn, d3m.primitives.classification.bagging.SKlearn, d3m.primitives.classification.decision_tree.SKlearn, d3m.primitives.classification.extra_trees.SKlearn, d3m.primitives.classification.gaussian_naive_bayes.SKlearn, d3m.primitives.classification.gradient_boosting.SKlearn, d3m.primitives.classification.k_neighbors.SKlearn, d3m.primitives.classification.light_gbm.Common, d3m.primitives.classification.linear_discriminant_analysis.SKlearn, d3m.primitives.classification.linear_svc.SKlearn, d3m.primitives.classification.logistic_regression.SKlearn, d3m.primitives.classification.mlp.BBNMLPClassifier, d3m.primitives.classification.mlp.SKlearn, d3m.primitives.classification.nearest_centroid.SKlearn, d3m.primitives.classification.random_forest.Common, d3m.primitives.classification.random_forest.SKlearn, d3m.primitives.classification.search_hybrid.Find_projections, d3m.primitives.classification.sgd.SKlearn, d3m.primitives.classification.svc.SKlearn, d3m.primitives.classification.xgboost_dart.Common, d3m.primitives.classification.xgboost_gbtree.Common\n",
      "DATA_CONVERSION:\n",
      "d3m.primitives.data_cleaning.cleaning_featurizer.DSBOX, d3m.primitives.data_transformation.to_numeric.DSBOX\n",
      "DIMENSIONALITY_REDUCTION:\n",
      "d3m.primitives.feature_extraction.pca.SKlearn, d3m.primitives.feature_selection.pca_features.Pcafeatures\n",
      "FEATURE_CONSTRUCTION:\n",
      "d3m.primitives.feature_construction.deep_feature_synthesis.SingleTableFeaturization\n",
      "FEATURE_EXTRACTION:\n",
      "d3m.primitives.feature_extraction.kernel_pca.SKlearn\n",
      "FEATURE_SCALING:\n",
      "d3m.primitives.data_cleaning.min_max_scaler.SKlearn, d3m.primitives.data_cleaning.quantile_transformer.SKlearn, d3m.primitives.data_cleaning.robust_scaler.SKlearn, d3m.primitives.data_cleaning.standard_scaler.SKlearn, d3m.primitives.normalization.iqr_scaler.DSBOX\n",
      "FEATURE_SELECTION:\n",
      "d3m.primitives.feature_selection.joint_mutual_information.AutoRPI, d3m.primitives.feature_selection.rffeatures.Rffeatures, d3m.primitives.feature_selection.select_fwe.SKlearn, d3m.primitives.feature_selection.select_percentile.SKlearn, d3m.primitives.feature_selection.simultaneous_markov_blanket.AutoRPI, d3m.primitives.feature_selection.skfeature.Common, d3m.primitives.feature_selection.variance_threshold.SKlearn\n",
      "IMPUTATION:\n",
      "d3m.primitives.data_cleaning.imputer.SKlearn, d3m.primitives.data_cleaning.iterative_regression_imputation.DSBOX, d3m.primitives.data_cleaning.mean_imputation.DSBOX, d3m.primitives.data_preprocessing.random_sampling_imputer.BYU\n",
      "METALEARNING:\n",
      "d3m.primitives.metalearning.metafeature_extractor.BYU\n",
      "NUMERICAL_METHOD:\n",
      "d3m.primitives.data_transformation.do_nothing_for_dataset.DSBOX\n",
      "SEMISUPERVISED_CLASSIFICATION:\n",
      "d3m.primitives.semisupervised_classification.iterative_labeling.AutonBox\n",
      "TEXT_FEATURIZER:\n",
      "d3m.primitives.data_transformation.encoder.DistilTextEncoder\n"
     ]
    }
   ],
   "source": [
    "automatic_patterns = load_automatic_patterns(dataset_path, target_column, task_keywords)"
   ]
  },
  {
   "cell_type": "code",
   "execution_count": 27,
   "metadata": {},
   "outputs": [
    {
     "name": "stdout",
     "output_type": "stream",
     "text": [
      "Coverage: 100%\n"
     ]
    }
   ],
   "source": [
    "calculate_coverage(manual_patterns, automatic_patterns)"
   ]
  },
  {
   "cell_type": "markdown",
   "metadata": {},
   "source": [
    "#### Regular dataset:"
   ]
  },
  {
   "cell_type": "code",
   "execution_count": 47,
   "metadata": {},
   "outputs": [],
   "source": [
    "task_name = 'CLASSIFICATION_TASK'\n",
    "encoders = ['TEXT_FEATURIZER', 'CATEGORICAL_ENCODER'] \n",
    "use_imputer = True\n",
    "dataset_path = '/Users/rlopez/D3M/datasets/seed_datasets_current/185_baseball_MIN_METADATA/TRAIN/dataset_TRAIN/tables/learningData.csv'\n",
    "target_column = 'Hall_of_Fame'\n",
    "task_keywords = ['classification', 'multiClass', 'tabular']"
   ]
  },
  {
   "cell_type": "code",
   "execution_count": 48,
   "metadata": {},
   "outputs": [],
   "source": [
    "manual_patterns = load_manual_patterns(task_name, encoders, use_imputer)"
   ]
  },
  {
   "cell_type": "code",
   "execution_count": 49,
   "metadata": {
    "scrolled": true
   },
   "outputs": [
    {
     "name": "stderr",
     "output_type": "stream",
     "text": [
      "2021-09-29 10:35:06,860 INFO Loading primitives info from file\n",
      "2021-09-29 10:35:06,875 INFO Loading primitives info from file\n",
      "2021-09-29 10:35:06,895 INFO Loading pipelines from metalearning database...\n",
      "2021-09-29 10:35:35,179 INFO Found 917890 pipelines in metalearning database\n",
      "2021-09-29 10:35:35,181 INFO File size: 119402 bytes\n",
      "2021-09-29 10:35:35,185 INFO Loading dataframe...\n",
      "2021-09-29 10:35:35,251 INFO Dataframe loaded, 1073 rows, 19 columns\n",
      "2021-09-29 10:35:35,252 INFO Setting column names from header\n",
      "2021-09-29 10:35:35,253 INFO Identifying types, 19 columns...\n",
      "2021-09-29 10:35:35,255 INFO Processing column 0 'd3mIndex'...\n",
      "2021-09-29 10:35:35,362 INFO Column type http://schema.org/Integer [http://schema.org/identifier]\n",
      "2021-09-29 10:35:35,363 INFO Processing column 1 'Player'...\n",
      "2021-09-29 10:35:35,414 INFO Column type http://schema.org/Text []\n",
      "2021-09-29 10:35:35,415 INFO Processing column 2 'Number_seasons'...\n",
      "2021-09-29 10:35:35,503 INFO Column type http://schema.org/Integer []\n",
      "2021-09-29 10:35:35,504 INFO Processing column 3 'Games_played'...\n",
      "2021-09-29 10:35:35,601 INFO Column type http://schema.org/Integer []\n",
      "2021-09-29 10:35:35,601 INFO Processing column 4 'At_bats'...\n",
      "2021-09-29 10:35:35,685 INFO Column type http://schema.org/Integer []\n",
      "2021-09-29 10:35:35,686 INFO Processing column 5 'Runs'...\n",
      "2021-09-29 10:35:35,769 INFO Column type http://schema.org/Integer []\n",
      "2021-09-29 10:35:35,770 INFO Processing column 6 'Hits'...\n",
      "2021-09-29 10:35:35,855 INFO Column type http://schema.org/Integer []\n",
      "2021-09-29 10:35:35,856 INFO Processing column 7 'Doubles'...\n",
      "2021-09-29 10:35:35,940 INFO Column type http://schema.org/Integer []\n",
      "2021-09-29 10:35:35,941 INFO Processing column 8 'Triples'...\n",
      "2021-09-29 10:35:36,020 INFO Column type http://schema.org/Integer []\n",
      "2021-09-29 10:35:36,020 INFO Processing column 9 'Home_runs'...\n",
      "2021-09-29 10:35:36,101 INFO Column type http://schema.org/Integer []\n",
      "2021-09-29 10:35:36,102 INFO Processing column 10 'RBIs'...\n",
      "2021-09-29 10:35:36,194 INFO Column type http://schema.org/Integer []\n",
      "2021-09-29 10:35:36,194 INFO Processing column 11 'Walks'...\n",
      "2021-09-29 10:35:36,284 INFO Column type http://schema.org/Integer []\n",
      "2021-09-29 10:35:36,285 INFO Processing column 12 'Strikeouts'...\n",
      "2021-09-29 10:35:36,376 INFO Column type http://schema.org/Integer []\n",
      "2021-09-29 10:35:36,377 INFO Processing column 13 'Batting_average'...\n",
      "2021-09-29 10:35:36,428 INFO Column type http://schema.org/Float []\n",
      "2021-09-29 10:35:36,429 INFO Processing column 14 'On_base_pct'...\n",
      "2021-09-29 10:35:36,485 INFO Column type http://schema.org/Float []\n",
      "2021-09-29 10:35:36,486 INFO Processing column 15 'Slugging_pct'...\n",
      "2021-09-29 10:35:36,540 INFO Column type http://schema.org/Float []\n",
      "2021-09-29 10:35:36,541 INFO Processing column 16 'Fielding_ave'...\n",
      "2021-09-29 10:35:36,597 INFO Column type http://schema.org/Float []\n",
      "2021-09-29 10:35:36,598 INFO Processing column 17 'Position'...\n",
      "2021-09-29 10:35:36,638 INFO Column type http://schema.org/Text [http://schema.org/Enumeration]\n",
      "2021-09-29 10:35:36,639 INFO Processing column 18 'Hall_of_Fame'...\n",
      "2021-09-29 10:35:36,685 INFO Column type http://schema.org/Integer []\n",
      "2021-09-29 10:35:36,734 INFO Found 11 similar datasets\n",
      "2021-09-29 10:35:36,735 INFO Similar datasets:\n",
      "[('185_baseball', 1.0), ('185_baseball_MIN_METADATA', 1.0), ('LL1_h1b_visa_apps_7480', 0.94868), ('57_hypothyroid_MIN_METADATA', 0.88889), ('27_wordLevels', 0.88192), ('27_wordLevels_MIN_METADATA', 0.88192), ('LL0_186_braziltourism_MIN_METADATA', 0.82496), ('1491_one_hundred_plants_margin', 0.8165), ('1491_one_hundred_plants_margin_MIN_METADATA', 0.8165), ('LL0_1100_popularkids', 0.8165), ('LL0_1100_popularkids_MIN_METADATA', 0.8165)]\n",
      "2021-09-29 10:35:39,551 INFO Found 20238 related pipelines\n",
      "2021-09-29 10:35:42,188 INFO Loading primitives info from file\n",
      "2021-09-29 10:35:42,319 INFO Found 1324 different patterns, after creating the portfolio\n",
      "2021-09-29 10:35:42,321 INFO Found 152 different patterns, after removing uncommon patterns\n",
      "2021-09-29 10:35:42,323 INFO Found 30 different patterns, after blacklisting primitives\n",
      "2021-09-29 10:35:42,328 INFO Found 22 different patterns, after removing low-performance patterns\n",
      "2021-09-29 10:35:42,329 INFO Found 16 different patterns, after removing low-variability patterns\n",
      "2021-09-29 10:35:42,349 INFO Patterns:\n",
      "structure: [CLASSIFICATION], frequency: 8, mean_score: 0.824, mean_adtm: 0.165\n",
      "structure: [IMPUTATION, DIMENSIONALITY_REDUCTION, CLASSIFICATION], frequency: 6, mean_score: 0.788, mean_adtm: 0.168\n",
      "structure: [FEATURE_SELECTION, CLASSIFICATION], frequency: 6, mean_score: 0.748, mean_adtm: 0.169\n",
      "structure: [IMPUTATION, FEATURE_SELECTION, CLASSIFICATION], frequency: 8, mean_score: 0.711, mean_adtm: 0.204\n",
      "structure: [TEXT_FEATURIZER, CATEGORICAL_ENCODER, FEATURE_SCALING, IMPUTATION, FEATURE_SELECTION, CLASSIFICATION], frequency: 17, mean_score: 0.690, mean_adtm: 0.144\n",
      "structure: [NUMERICAL_METHOD, DATA_CONVERSION, CATEGORICAL_ENCODER, DATA_CONVERSION, IMPUTATION, FEATURE_SCALING, DATA_CONVERSION, FEATURE_SELECTION, CLASSIFICATION], frequency: 54, mean_score: 0.640, mean_adtm: 0.242\n",
      "structure: [IMPUTATION, TEXT_FEATURIZER, CATEGORICAL_ENCODER, FEATURE_SCALING, CLASSIFICATION], frequency: 10, mean_score: 0.630, mean_adtm: 0.163\n",
      "structure: [TEXT_FEATURIZER, CATEGORICAL_ENCODER, FEATURE_SCALING, IMPUTATION, CLASSIFICATION], frequency: 25, mean_score: 0.602, mean_adtm: 0.149\n",
      "structure: [IMPUTATION, CATEGORICAL_ENCODER, DATA_CONVERSION, FEATURE_SCALING, CLASSIFICATION], frequency: 113, mean_score: 0.579, mean_adtm: 0.207\n",
      "structure: [FEATURE_SELECTION, IMPUTATION, CLASSIFICATION], frequency: 66, mean_score: 0.529, mean_adtm: 0.264\n",
      "structure: [IMPUTATION, CATEGORICAL_ENCODER, DIMENSIONALITY_REDUCTION, CLASSIFICATION], frequency: 7, mean_score: 0.528, mean_adtm: 0.209\n",
      "structure: [IMPUTATION, CLASSIFICATION], frequency: 43, mean_score: 0.527, mean_adtm: 0.225\n",
      "structure: [IMPUTATION, CATEGORICAL_ENCODER, FEATURE_SELECTION, CLASSIFICATION], frequency: 54, mean_score: 0.524, mean_adtm: 0.237\n",
      "structure: [IMPUTATION, CATEGORICAL_ENCODER, FEATURE_SCALING, CLASSIFICATION], frequency: 187, mean_score: 0.523, mean_adtm: 0.235\n",
      "structure: [IMPUTATION, TEXT_FEATURIZER, CLASSIFICATION], frequency: 47, mean_score: 0.517, mean_adtm: 0.271\n",
      "structure: [IMPUTATION, TEXT_FEATURIZER, CATEGORICAL_ENCODER, CLASSIFICATION], frequency: 7, mean_score: 0.506, mean_adtm: 0.195\n",
      "2021-09-29 10:35:42,350 INFO Hierarchy:\n",
      "CATEGORICAL_ENCODER:\n",
      "d3m.primitives.data_transformation.encoder.DSBOX, d3m.primitives.data_transformation.one_hot_encoder.DistilOneHotEncoder, d3m.primitives.data_transformation.one_hot_encoder.SKlearn, d3m.primitives.data_transformation.unary_encoder.DSBOX\n",
      "CLASSIFICATION:\n",
      "d3m.primitives.classification.ada_boost.SKlearn, d3m.primitives.classification.bagging.SKlearn, d3m.primitives.classification.decision_tree.SKlearn, d3m.primitives.classification.extra_trees.SKlearn, d3m.primitives.classification.gradient_boosting.SKlearn, d3m.primitives.classification.k_neighbors.SKlearn, d3m.primitives.classification.light_gbm.Common, d3m.primitives.classification.linear_discriminant_analysis.SKlearn, d3m.primitives.classification.linear_svc.SKlearn, d3m.primitives.classification.logistic_regression.SKlearn, d3m.primitives.classification.mlp.SKlearn, d3m.primitives.classification.nearest_centroid.SKlearn, d3m.primitives.classification.random_forest.Common, d3m.primitives.classification.random_forest.SKlearn, d3m.primitives.classification.search_hybrid.Find_projections, d3m.primitives.classification.sgd.SKlearn, d3m.primitives.classification.svc.SKlearn, d3m.primitives.classification.xgboost_dart.Common, d3m.primitives.classification.xgboost_gbtree.Common\n",
      "DATA_CONVERSION:\n",
      "d3m.primitives.data_cleaning.cleaning_featurizer.DSBOX, d3m.primitives.data_transformation.to_numeric.DSBOX\n",
      "DIMENSIONALITY_REDUCTION:\n",
      "d3m.primitives.feature_extraction.pca.SKlearn, d3m.primitives.feature_selection.pca_features.Pcafeatures\n",
      "FEATURE_SCALING:\n",
      "d3m.primitives.data_cleaning.min_max_scaler.SKlearn, d3m.primitives.data_cleaning.quantile_transformer.SKlearn, d3m.primitives.data_cleaning.robust_scaler.SKlearn, d3m.primitives.data_cleaning.standard_scaler.SKlearn, d3m.primitives.normalization.iqr_scaler.DSBOX\n",
      "FEATURE_SELECTION:\n",
      "d3m.primitives.feature_selection.joint_mutual_information.AutoRPI, d3m.primitives.feature_selection.rffeatures.Rffeatures, d3m.primitives.feature_selection.select_fwe.SKlearn, d3m.primitives.feature_selection.select_percentile.SKlearn, d3m.primitives.feature_selection.simultaneous_markov_blanket.AutoRPI, d3m.primitives.feature_selection.variance_threshold.SKlearn\n",
      "IMPUTATION:\n",
      "d3m.primitives.data_cleaning.imputer.SKlearn, d3m.primitives.data_cleaning.iterative_regression_imputation.DSBOX, d3m.primitives.data_cleaning.mean_imputation.DSBOX, d3m.primitives.data_preprocessing.random_sampling_imputer.BYU\n",
      "NUMERICAL_METHOD:\n",
      "d3m.primitives.data_transformation.do_nothing_for_dataset.DSBOX\n",
      "TEXT_FEATURIZER:\n",
      "d3m.primitives.data_transformation.encoder.DistilTextEncoder\n"
     ]
    }
   ],
   "source": [
    "automatic_patterns = load_automatic_patterns(dataset_path, target_column, task_keywords)"
   ]
  },
  {
   "cell_type": "code",
   "execution_count": 23,
   "metadata": {},
   "outputs": [
    {
     "name": "stdout",
     "output_type": "stream",
     "text": [
      "Not found: ['IMPUTATION', 'TEXT_FEATURIZER', 'CATEGORICAL_ENCODER', 'FEATURE_SELECTION', 'CLASSIFICATION']\n",
      "Coverage: 75%\n"
     ]
    }
   ],
   "source": [
    "calculate_coverage(manual_patterns, automatic_patterns)"
   ]
  },
  {
   "cell_type": "code",
   "execution_count": 50,
   "metadata": {},
   "outputs": [
    {
     "name": "stdout",
     "output_type": "stream",
     "text": [
      "Not found: ['CLASSIFICATION']\n",
      "Not found: ['IMPUTATION', 'DIMENSIONALITY_REDUCTION', 'CLASSIFICATION']\n",
      "Not found: ['FEATURE_SELECTION', 'CLASSIFICATION']\n",
      "Not found: ['IMPUTATION', 'FEATURE_SELECTION', 'CLASSIFICATION']\n",
      "Not found: ['NUMERICAL_METHOD', 'DATA_CONVERSION', 'CATEGORICAL_ENCODER', 'DATA_CONVERSION', 'IMPUTATION', 'FEATURE_SCALING', 'DATA_CONVERSION', 'FEATURE_SELECTION', 'CLASSIFICATION']\n",
      "Not found: ['IMPUTATION', 'CATEGORICAL_ENCODER', 'DATA_CONVERSION', 'FEATURE_SCALING', 'CLASSIFICATION']\n",
      "Not found: ['FEATURE_SELECTION', 'IMPUTATION', 'CLASSIFICATION']\n",
      "Not found: ['IMPUTATION', 'CATEGORICAL_ENCODER', 'DIMENSIONALITY_REDUCTION', 'CLASSIFICATION']\n",
      "Not found: ['IMPUTATION', 'CLASSIFICATION']\n",
      "Not found: ['IMPUTATION', 'CATEGORICAL_ENCODER', 'FEATURE_SELECTION', 'CLASSIFICATION']\n",
      "Not found: ['IMPUTATION', 'CATEGORICAL_ENCODER', 'FEATURE_SCALING', 'CLASSIFICATION']\n",
      "Not found: ['IMPUTATION', 'TEXT_FEATURIZER', 'CLASSIFICATION']\n",
      "Coverage: 25%\n"
     ]
    }
   ],
   "source": [
    "calculate_coverage(automatic_patterns, manual_patterns)"
   ]
  },
  {
   "cell_type": "markdown",
   "metadata": {},
   "source": [
    "# Correlation Between Primitives Usage and Performance"
   ]
  },
  {
   "cell_type": "markdown",
   "metadata": {},
   "source": [
    "#### Global Correlations:"
   ]
  },
  {
   "cell_type": "code",
   "execution_count": null,
   "metadata": {},
   "outputs": [],
   "source": [
    "{\n",
    "   \"DATA_CONVERSION\":[\n",
    "      \"(\"\"d3m.primitives.data_transformation.to_numeric.DSBOX\",\n",
    "      0.5471),\n",
    "      \"(\"\"d3m.primitives.data_cleaning.cleaning_featurizer.DSBOX\",\n",
    "      0.4494)\n",
    "   ],\n",
    "   \"FEATURE_SELECTION\":[\n",
    "      \"(\"\"d3m.primitives.feature_selection.rffeatures.Rffeatures\",\n",
    "      0.5631),\n",
    "      \"(\"\"d3m.primitives.feature_selection.variance_threshold.SKlearn\",\n",
    "      0.5476),\n",
    "      \"(\"\"d3m.primitives.feature_selection.select_percentile.SKlearn\",\n",
    "      0.5244),\n",
    "      \"(\"\"d3m.primitives.feature_selection.select_fwe.SKlearn\",\n",
    "      0.455),\n",
    "      \"(\"\"d3m.primitives.feature_selection.joint_mutual_information.AutoRPI\",\n",
    "      0.4189),\n",
    "      \"(\"\"d3m.primitives.feature_selection.simultaneous_markov_blanket.AutoRPI\",\n",
    "      0.3965)\n",
    "   ],\n",
    "   \"CLASSIFICATION\":[\n",
    "      \"(\"\"d3m.primitives.classification.xgboost_gbtree.Common\",\n",
    "      0.6204),\n",
    "      \"(\"\"d3m.primitives.classification.decision_tree.SKlearn\",\n",
    "      0.5925),\n",
    "      \"(\"\"d3m.primitives.classification.bagging.SKlearn\",\n",
    "      0.5611),\n",
    "      \"(\"\"d3m.primitives.classification.random_forest.Common\",\n",
    "      0.556),\n",
    "      \"(\"\"d3m.primitives.classification.random_forest.SKlearn\",\n",
    "      0.5482),\n",
    "      \"(\"\"d3m.primitives.classification.sgd.SKlearn\",\n",
    "      0.5159),\n",
    "      \"(\"\"d3m.primitives.classification.mlp.SKlearn\",\n",
    "      0.5134),\n",
    "      \"(\"\"d3m.primitives.classification.xgboost_dart.Common\",\n",
    "      0.5101),\n",
    "      \"(\"\"d3m.primitives.classification.search_hybrid.Find_projections\",\n",
    "      0.5088),\n",
    "      \"(\"\"d3m.primitives.classification.light_gbm.Common\",\n",
    "      0.5008),\n",
    "      \"(\"\"d3m.primitives.classification.gradient_boosting.SKlearn\",\n",
    "      0.4941),\n",
    "      \"(\"\"d3m.primitives.classification.linear_discriminant_analysis.SKlearn\",\n",
    "      0.4897),\n",
    "      \"(\"\"d3m.primitives.classification.ada_boost.SKlearn\",\n",
    "      0.4739),\n",
    "      \"(\"\"d3m.primitives.classification.svc.SKlearn\",\n",
    "      0.4723),\n",
    "      \"(\"\"d3m.primitives.classification.nearest_centroid.SKlearn\",\n",
    "      0.4642),\n",
    "      \"(\"\"d3m.primitives.classification.extra_trees.SKlearn\",\n",
    "      0.4471),\n",
    "      \"(\"\"d3m.primitives.classification.k_neighbors.SKlearn\",\n",
    "      0.4405),\n",
    "      \"(\"\"d3m.primitives.classification.logistic_regression.SKlearn\",\n",
    "      0.4085),\n",
    "      \"(\"\"d3m.primitives.classification.linear_svc.SKlearn\",\n",
    "      0.3967)\n",
    "   ],\n",
    "   \"FEATURE_SCALING\":[\n",
    "      \"(\"\"d3m.primitives.data_cleaning.robust_scaler.SKlearn\",\n",
    "      0.7428),\n",
    "      \"(\"\"d3m.primitives.data_cleaning.min_max_scaler.SKlearn\",\n",
    "      0.4961),\n",
    "      \"(\"\"d3m.primitives.data_cleaning.standard_scaler.SKlearn\",\n",
    "      0.483),\n",
    "      \"(\"\"d3m.primitives.normalization.iqr_scaler.DSBOX\",\n",
    "      0.4482),\n",
    "      \"(\"\"d3m.primitives.data_cleaning.quantile_transformer.SKlearn\",\n",
    "      0.3811)\n",
    "   ],\n",
    "   \"CATEGORICAL_ENCODER\":[\n",
    "      \"(\"\"d3m.primitives.data_transformation.one_hot_encoder.DistilOneHotEncoder\",\n",
    "      0.5897),\n",
    "      \"(\"\"d3m.primitives.data_transformation.one_hot_encoder.SKlearn\",\n",
    "      0.5784),\n",
    "      \"(\"\"d3m.primitives.data_transformation.unary_encoder.DSBOX\",\n",
    "      0.545),\n",
    "      \"(\"\"d3m.primitives.data_transformation.encoder.DSBOX\",\n",
    "      0.4897)\n",
    "   ],\n",
    "   \"TEXT_FEATURIZER\":[\n",
    "      \"(\"\"d3m.primitives.data_transformation.encoder.DistilTextEncoder\",\n",
    "      0.5876)\n",
    "   ],\n",
    "   \"IMPUTATION\":[\n",
    "      \"(\"\"d3m.primitives.data_cleaning.imputer.SKlearn\",\n",
    "      0.5957),\n",
    "      \"(\"\"d3m.primitives.data_cleaning.iterative_regression_imputation.DSBOX\",\n",
    "      0.545),\n",
    "      \"(\"\"d3m.primitives.data_preprocessing.random_sampling_imputer.BYU\",\n",
    "      0.4017),\n",
    "      \"(\"\"d3m.primitives.data_cleaning.mean_imputation.DSBOX\",\n",
    "      0.3878)\n",
    "   ],\n",
    "   \"NUMERICAL_METHOD\":[\n",
    "      \"(\"\"d3m.primitives.data_transformation.do_nothing_for_dataset.DSBOX\",\n",
    "      0.4494)\n",
    "   ],\n",
    "   \"DIMENSIONALITY_REDUCTION\":[\n",
    "      \"(\"\"d3m.primitives.feature_selection.pca_features.Pcafeatures\",\n",
    "      0.5582),\n",
    "      \"(\"\"d3m.primitives.feature_extraction.pca.SKlearn\",\n",
    "      0.5185)\n",
    "   ]\n",
    "}"
   ]
  },
  {
   "cell_type": "markdown",
   "metadata": {},
   "source": [
    "#### Local Correlations:"
   ]
  },
  {
   "cell_type": "code",
   "execution_count": null,
   "metadata": {},
   "outputs": [],
   "source": [
    "{\n",
    "\"FEATURE_SELECTION IMPUTATION CLASSIFICATION\":{\n",
    "      \"CLASSIFICATION\":[\n",
    "         \"(\"\"d3m.primitives.classification.random_forest.SKlearn\",\n",
    "         0.6661),\n",
    "         \"(\"\"d3m.primitives.classification.extra_trees.SKlearn\",\n",
    "         0.4399),\n",
    "         \"(\"\"d3m.primitives.classification.gradient_boosting.SKlearn\",\n",
    "         0.3366)\n",
    "      ],\n",
    "      \"IMPUTATION\":[\n",
    "         \"(\"\"d3m.primitives.data_cleaning.imputer.SKlearn\",\n",
    "         1.0)\n",
    "      ],\n",
    "      \"FEATURE_SELECTION\":[\n",
    "         \"(\"\"d3m.primitives.feature_selection.joint_mutual_information.AutoRPI\",\n",
    "         0.6891),\n",
    "         \"(\"\"d3m.primitives.feature_selection.simultaneous_markov_blanket.AutoRPI\",\n",
    "         0.3109)\n",
    "      ]\n",
    "   },\n",
    "\"CLASSIFICATION\":{\n",
    "      \"CLASSIFICATION\":[\n",
    "         \"(\"\"d3m.primitives.classification.xgboost_gbtree.Common\",\n",
    "         0.9418),\n",
    "         \"(\"\"d3m.primitives.classification.random_forest.Common\",\n",
    "         0.4221),\n",
    "         \"(\"\"d3m.primitives.classification.light_gbm.Common\",\n",
    "         0.0931)\n",
    "      ]\n",
    "   }\n",
    "}"
   ]
  },
  {
   "cell_type": "markdown",
   "metadata": {},
   "source": [
    "#### Use the Correlations on the MCTS:"
   ]
  },
  {
   "cell_type": "code",
   "execution_count": 92,
   "metadata": {},
   "outputs": [
    {
     "data": {
      "text/html": [
       "\n",
       "        <iframe\n",
       "            width=\"1000\"\n",
       "            height=\"400\"\n",
       "            src=\"https://arxiv.org/pdf/1905.10345.pdf\"\n",
       "            frameborder=\"0\"\n",
       "            allowfullscreen\n",
       "        ></iframe>\n",
       "        "
      ],
      "text/plain": [
       "<IPython.lib.display.IFrame at 0x26411d3c8>"
      ]
     },
     "execution_count": 92,
     "metadata": {},
     "output_type": "execute_result"
    }
   ],
   "source": [
    "IFrame('https://arxiv.org/pdf/1905.10345.pdf', width=1000, height=400)"
   ]
  },
  {
   "cell_type": "markdown",
   "metadata": {},
   "source": [
    "# Comparing Strategies"
   ]
  },
  {
   "cell_type": "code",
   "execution_count": 126,
   "metadata": {},
   "outputs": [],
   "source": [
    "import altair as alt\n",
    "import pandas as pd\n",
    "from performance_visualizer import load_search_performances, plot_search_performances"
   ]
  },
  {
   "cell_type": "code",
   "execution_count": 51,
   "metadata": {},
   "outputs": [],
   "source": [
    "dataset = '185_baseball_MIN_METADATA'"
   ]
  },
  {
   "cell_type": "code",
   "execution_count": 95,
   "metadata": {},
   "outputs": [
    {
     "data": {
      "text/html": [
       "\n",
       "<div id=\"altair-viz-66c549dfcf814c1ba51ed4021b128e21\"></div>\n",
       "<script type=\"text/javascript\">\n",
       "  (function(spec, embedOpt){\n",
       "    let outputDiv = document.currentScript.previousElementSibling;\n",
       "    if (outputDiv.id !== \"altair-viz-66c549dfcf814c1ba51ed4021b128e21\") {\n",
       "      outputDiv = document.getElementById(\"altair-viz-66c549dfcf814c1ba51ed4021b128e21\");\n",
       "    }\n",
       "    const paths = {\n",
       "      \"vega\": \"https://cdn.jsdelivr.net/npm//vega@5?noext\",\n",
       "      \"vega-lib\": \"https://cdn.jsdelivr.net/npm//vega-lib?noext\",\n",
       "      \"vega-lite\": \"https://cdn.jsdelivr.net/npm//vega-lite@4.8.1?noext\",\n",
       "      \"vega-embed\": \"https://cdn.jsdelivr.net/npm//vega-embed@6?noext\",\n",
       "    };\n",
       "\n",
       "    function loadScript(lib) {\n",
       "      return new Promise(function(resolve, reject) {\n",
       "        var s = document.createElement('script');\n",
       "        s.src = paths[lib];\n",
       "        s.async = true;\n",
       "        s.onload = () => resolve(paths[lib]);\n",
       "        s.onerror = () => reject(`Error loading script: ${paths[lib]}`);\n",
       "        document.getElementsByTagName(\"head\")[0].appendChild(s);\n",
       "      });\n",
       "    }\n",
       "\n",
       "    function showError(err) {\n",
       "      outputDiv.innerHTML = `<div class=\"error\" style=\"color:red;\">${err}</div>`;\n",
       "      throw err;\n",
       "    }\n",
       "\n",
       "    function displayChart(vegaEmbed) {\n",
       "      vegaEmbed(outputDiv, spec, embedOpt)\n",
       "        .catch(err => showError(`Javascript Error: ${err.message}<br>This usually means there's a typo in your chart specification. See the javascript console for the full traceback.`));\n",
       "    }\n",
       "\n",
       "    if(typeof define === \"function\" && define.amd) {\n",
       "      requirejs.config({paths});\n",
       "      require([\"vega-embed\"], displayChart, err => showError(`Error loading script: ${err.message}`));\n",
       "    } else if (typeof vegaEmbed === \"function\") {\n",
       "      displayChart(vegaEmbed);\n",
       "    } else {\n",
       "      loadScript(\"vega\")\n",
       "        .then(() => loadScript(\"vega-lite\"))\n",
       "        .then(() => loadScript(\"vega-embed\"))\n",
       "        .catch(showError)\n",
       "        .then(() => displayChart(vegaEmbed));\n",
       "    }\n",
       "  })({\"config\": {\"view\": {\"continuousWidth\": 400, \"continuousHeight\": 300}}, \"data\": {\"name\": \"data-6d8705d633ef0bbb5a977c581035b49c\"}, \"mark\": {\"type\": \"line\", \"point\": true}, \"encoding\": {\"color\": {\"type\": \"nominal\", \"field\": \"method\"}, \"x\": {\"type\": \"temporal\", \"field\": \"time\", \"timeUnit\": \"hoursminutes\", \"title\": \"Time\"}, \"y\": {\"type\": \"quantitative\", \"field\": \"score\", \"title\": \"Score\"}}, \"width\": 800, \"$schema\": \"https://vega.github.io/schema/vega-lite/v4.8.1.json\", \"datasets\": {\"data-6d8705d633ef0bbb5a977c581035b49c\": [{\"method\": \"Manual\", \"score\": 0.6575574414425489, \"time\": \"2021-10-02T00:29:50.494115\"}, {\"method\": \"Manual\", \"score\": 0.6372023161058514, \"time\": \"2021-10-02T00:03:49.245516\"}, {\"method\": \"Manual\", \"score\": 0.6360858052628097, \"time\": \"2021-10-02T00:01:02.402217\"}, {\"method\": \"Manual\", \"score\": 0.6360858052628097, \"time\": \"2021-10-02T00:02:02.101720\"}, {\"method\": \"Manual\", \"score\": 0.6198318763803567, \"time\": \"2021-10-02T00:02:22.669587\"}, {\"method\": \"Manual\", \"score\": 0.6124572706503573, \"time\": \"2021-10-02T00:22:23.576005\"}, {\"method\": \"Manual\", \"score\": 0.6124572706503573, \"time\": \"2021-10-02T00:22:40.713338\"}, {\"method\": \"Manual\", \"score\": 0.6053881880179274, \"time\": \"2021-10-02T00:05:49.191407\"}, {\"method\": \"Manual\", \"score\": 0.5728973320173743, \"time\": \"2021-10-02T00:29:30.006493\"}, {\"method\": \"Manual\", \"score\": 0.547605264333986, \"time\": \"2021-10-02T00:10:23.086578\"}, {\"method\": \"Manual\", \"score\": 0.5456652784058164, \"time\": \"2021-10-02T00:11:22.884905\"}, {\"method\": \"Manual\", \"score\": 0.5456652784058164, \"time\": \"2021-10-02T00:12:36.492585\"}, {\"method\": \"Manual\", \"score\": 0.534874592234171, \"time\": \"2021-10-02T00:14:36.350906\"}, {\"method\": \"Manual\", \"score\": 0.534874592234171, \"time\": \"2021-10-02T00:19:46.677608\"}, {\"method\": \"Manual\", \"score\": 0.5324338081437909, \"time\": \"2021-10-02T00:17:53.498020\"}, {\"method\": \"Manual\", \"score\": 0.5296390669990277, \"time\": \"2021-10-02T00:11:40.245927\"}, {\"method\": \"Manual\", \"score\": 0.5180894914405356, \"time\": \"2021-10-02T00:30:10.858987\"}, {\"method\": \"Manual\", \"score\": 0.5099553485152465, \"time\": \"2021-10-02T00:20:07.080257\"}, {\"method\": \"Manual\", \"score\": 0.5099553485152465, \"time\": \"2021-10-02T00:21:03.271448\"}, {\"method\": \"Manual\", \"score\": 0.5099553485152465, \"time\": \"2021-10-02T00:22:58.280854\"}, {\"method\": \"Manual\", \"score\": 0.5099553485152465, \"time\": \"2021-10-02T00:23:54.955781\"}, {\"method\": \"Manual\", \"score\": 0.5099553485152465, \"time\": \"2021-10-02T00:27:24.084067\"}, {\"method\": \"Manual\", \"score\": 0.5066946925225481, \"time\": \"2021-10-02T00:21:23.831716\"}, {\"method\": \"Manual\", \"score\": 0.5066946925225481, \"time\": \"2021-10-02T00:24:54.393106\"}, {\"method\": \"Manual\", \"score\": 0.4908353733937537, \"time\": \"2021-10-02T00:16:39.015701\"}, {\"method\": \"Manual\", \"score\": 0.4908353733937537, \"time\": \"2021-10-02T00:16:56.803320\"}, {\"method\": \"Manual\", \"score\": 0.4840626514285561, \"time\": \"2021-10-02T00:18:53.546760\"}, {\"method\": \"Manual\", \"score\": 0.3170413659898891, \"time\": \"2021-10-02T00:06:09.759082\"}, {\"method\": \"Manual\", \"score\": 0.3170413659898891, \"time\": \"2021-10-02T00:07:03.003813\"}, {\"method\": \"Manual\", \"score\": 0.3170413659898891, \"time\": \"2021-10-02T00:09:05.758503\"}, {\"method\": \"Manual\", \"score\": 0.3170413659898891, \"time\": \"2021-10-02T00:09:23.212506\"}]}}, {\"mode\": \"vega-lite\"});\n",
       "</script>"
      ],
      "text/plain": [
       "alt.Chart(...)"
      ]
     },
     "execution_count": 95,
     "metadata": {},
     "output_type": "execute_result"
    }
   ],
   "source": [
    "file_path = 'resource/grammar_manual.json'\n",
    "search_performances = load_search_performances(dataset, file_path, 'Manual')\n",
    "search_results_manual = pd.DataFrame.from_dict(search_performances)\n",
    "search_results_manual['time'] = pd.to_datetime(search_results_manual['time'])\n",
    "plot_search_performances(search_results_manual)"
   ]
  },
  {
   "cell_type": "code",
   "execution_count": 132,
   "metadata": {},
   "outputs": [
    {
     "data": {
      "text/html": [
       "\n",
       "<div id=\"altair-viz-00215d54369244c2a74db8b187c175bf\"></div>\n",
       "<script type=\"text/javascript\">\n",
       "  (function(spec, embedOpt){\n",
       "    let outputDiv = document.currentScript.previousElementSibling;\n",
       "    if (outputDiv.id !== \"altair-viz-00215d54369244c2a74db8b187c175bf\") {\n",
       "      outputDiv = document.getElementById(\"altair-viz-00215d54369244c2a74db8b187c175bf\");\n",
       "    }\n",
       "    const paths = {\n",
       "      \"vega\": \"https://cdn.jsdelivr.net/npm//vega@5?noext\",\n",
       "      \"vega-lib\": \"https://cdn.jsdelivr.net/npm//vega-lib?noext\",\n",
       "      \"vega-lite\": \"https://cdn.jsdelivr.net/npm//vega-lite@4.8.1?noext\",\n",
       "      \"vega-embed\": \"https://cdn.jsdelivr.net/npm//vega-embed@6?noext\",\n",
       "    };\n",
       "\n",
       "    function loadScript(lib) {\n",
       "      return new Promise(function(resolve, reject) {\n",
       "        var s = document.createElement('script');\n",
       "        s.src = paths[lib];\n",
       "        s.async = true;\n",
       "        s.onload = () => resolve(paths[lib]);\n",
       "        s.onerror = () => reject(`Error loading script: ${paths[lib]}`);\n",
       "        document.getElementsByTagName(\"head\")[0].appendChild(s);\n",
       "      });\n",
       "    }\n",
       "\n",
       "    function showError(err) {\n",
       "      outputDiv.innerHTML = `<div class=\"error\" style=\"color:red;\">${err}</div>`;\n",
       "      throw err;\n",
       "    }\n",
       "\n",
       "    function displayChart(vegaEmbed) {\n",
       "      vegaEmbed(outputDiv, spec, embedOpt)\n",
       "        .catch(err => showError(`Javascript Error: ${err.message}<br>This usually means there's a typo in your chart specification. See the javascript console for the full traceback.`));\n",
       "    }\n",
       "\n",
       "    if(typeof define === \"function\" && define.amd) {\n",
       "      requirejs.config({paths});\n",
       "      require([\"vega-embed\"], displayChart, err => showError(`Error loading script: ${err.message}`));\n",
       "    } else if (typeof vegaEmbed === \"function\") {\n",
       "      displayChart(vegaEmbed);\n",
       "    } else {\n",
       "      loadScript(\"vega\")\n",
       "        .then(() => loadScript(\"vega-lite\"))\n",
       "        .then(() => loadScript(\"vega-embed\"))\n",
       "        .catch(showError)\n",
       "        .then(() => displayChart(vegaEmbed));\n",
       "    }\n",
       "  })({\"config\": {\"view\": {\"continuousWidth\": 400, \"continuousHeight\": 300}}, \"data\": {\"name\": \"data-b3c4460dfc7d6c2b1bf2e7c95f2d2dd3\"}, \"mark\": {\"type\": \"line\", \"point\": true}, \"encoding\": {\"color\": {\"type\": \"nominal\", \"field\": \"method\"}, \"x\": {\"type\": \"temporal\", \"field\": \"time\", \"timeUnit\": \"hoursminutes\", \"title\": \"Time\"}, \"y\": {\"type\": \"quantitative\", \"field\": \"score\", \"title\": \"Score\"}}, \"width\": 800, \"$schema\": \"https://vega.github.io/schema/vega-lite/v4.8.1.json\", \"datasets\": {\"data-b3c4460dfc7d6c2b1bf2e7c95f2d2dd3\": [{\"method\": \"Automatic\", \"score\": 0.6913373402301322, \"time\": \"2021-10-02T00:17:27.804355\"}, {\"method\": \"Automatic\", \"score\": 0.6902604880217248, \"time\": \"2021-10-02T00:09:34.566804\"}, {\"method\": \"Automatic\", \"score\": 0.6899901409230831, \"time\": \"2021-10-02T00:05:24.654793\"}, {\"method\": \"Automatic\", \"score\": 0.6821956180755244, \"time\": \"2021-10-02T00:05:04.084855\"}, {\"method\": \"Automatic\", \"score\": 0.6734637578549925, \"time\": \"2021-10-02T00:24:13.772977\"}, {\"method\": \"Automatic\", \"score\": 0.6728181073700035, \"time\": \"2021-10-02T00:26:09.212236\"}, {\"method\": \"Automatic\", \"score\": 0.6722921794257415, \"time\": \"2021-10-02T00:02:15.166302\"}, {\"method\": \"Automatic\", \"score\": 0.6689418124383902, \"time\": \"2021-10-02T00:26:50.363186\"}, {\"method\": \"Automatic\", \"score\": 0.6668117369335871, \"time\": \"2021-10-02T00:21:43.782411\"}, {\"method\": \"Automatic\", \"score\": 0.6646439567393655, \"time\": \"2021-10-02T00:08:02.931380\"}, {\"method\": \"Automatic\", \"score\": 0.6627315012610487, \"time\": \"2021-10-02T00:11:41.922940\"}, {\"method\": \"Automatic\", \"score\": 0.6627315012610487, \"time\": \"2021-10-02T00:15:11.263882\"}, {\"method\": \"Automatic\", \"score\": 0.6627315012610487, \"time\": \"2021-10-02T00:23:41.208861\"}, {\"method\": \"Automatic\", \"score\": 0.6621108503853259, \"time\": \"2021-10-02T00:18:29.714748\"}, {\"method\": \"Automatic\", \"score\": 0.6620807570035314, \"time\": \"2021-10-02T00:28:43.778350\"}, {\"method\": \"Automatic\", \"score\": 0.6603309033634743, \"time\": \"2021-10-02T00:16:46.185213\"}, {\"method\": \"Automatic\", \"score\": 0.6530929436084989, \"time\": \"2021-10-02T00:18:05.940304\"}, {\"method\": \"Automatic\", \"score\": 0.6500725664718215, \"time\": \"2021-10-02T00:08:26.606552\"}, {\"method\": \"Automatic\", \"score\": 0.6497242836528552, \"time\": \"2021-10-02T00:12:58.233784\"}, {\"method\": \"Automatic\", \"score\": 0.6488241558731318, \"time\": \"2021-10-02T00:17:48.241295\"}, {\"method\": \"Automatic\", \"score\": 0.645634751918781, \"time\": \"2021-10-02T00:08:50.183718\"}, {\"method\": \"Automatic\", \"score\": 0.6411885483426212, \"time\": \"2021-10-02T00:12:20.212577\"}, {\"method\": \"Automatic\", \"score\": 0.6369229793097861, \"time\": \"2021-10-02T00:22:07.344460\"}, {\"method\": \"Automatic\", \"score\": 0.6336082757070529, \"time\": \"2021-10-02T00:16:22.613871\"}, {\"method\": \"Automatic\", \"score\": 0.6316130525591359, \"time\": \"2021-10-02T00:14:14.942168\"}, {\"method\": \"Automatic\", \"score\": 0.6308639742950153, \"time\": \"2021-10-02T00:07:36.378984\"}, {\"method\": \"Automatic\", \"score\": 0.6295182066968259, \"time\": \"2021-10-02T00:18:53.287010\"}, {\"method\": \"Automatic\", \"score\": 0.6278274996641584, \"time\": \"2021-10-02T00:02:56.950574\"}, {\"method\": \"Automatic\", \"score\": 0.6260101532928278, \"time\": \"2021-10-02T00:25:10.252333\"}, {\"method\": \"Automatic\", \"score\": 0.6257109558278933, \"time\": \"2021-10-02T00:23:24.022015\"}, {\"method\": \"Automatic\", \"score\": 0.6245682752977235, \"time\": \"2021-10-02T00:13:15.710789\"}, {\"method\": \"Automatic\", \"score\": 0.6198938806692615, \"time\": \"2021-10-02T00:13:57.368137\"}, {\"method\": \"Automatic\", \"score\": 0.6168108176119971, \"time\": \"2021-10-02T00:03:37.720816\"}, {\"method\": \"Automatic\", \"score\": 0.6148641523989433, \"time\": \"2021-10-02T00:13:36.534351\"}, {\"method\": \"Automatic\", \"score\": 0.6112286178118611, \"time\": \"2021-10-02T00:09:10.743921\"}, {\"method\": \"Automatic\", \"score\": 0.608938934110809, \"time\": \"2021-10-02T00:20:01.968263\"}, {\"method\": \"Automatic\", \"score\": 0.6058948347055574, \"time\": \"2021-10-02T00:19:29.128841\"}, {\"method\": \"Automatic\", \"score\": 0.6049281081675033, \"time\": \"2021-10-02T00:03:17.556534\"}, {\"method\": \"Automatic\", \"score\": 0.603830651379671, \"time\": \"2021-10-02T00:17:03.963847\"}, {\"method\": \"Automatic\", \"score\": 0.596902404730296, \"time\": \"2021-10-02T00:11:24.711385\"}, {\"method\": \"Automatic\", \"score\": 0.596902404730296, \"time\": \"2021-10-02T00:29:58.098177\"}, {\"method\": \"Automatic\", \"score\": 0.5920054083606585, \"time\": \"2021-10-02T00:07:18.583522\"}, {\"method\": \"Automatic\", \"score\": 0.5886340125216654, \"time\": \"2021-10-02T00:26:29.667903\"}, {\"method\": \"Automatic\", \"score\": 0.5885941942008279, \"time\": \"2021-10-02T00:15:44.080811\"}, {\"method\": \"Automatic\", \"score\": 0.571781824822645, \"time\": \"2021-10-02T00:16:01.926297\"}, {\"method\": \"Automatic\", \"score\": 0.5482551395888329, \"time\": \"2021-10-02T00:29:01.416841\"}, {\"method\": \"Automatic\", \"score\": 0.5360691853977363, \"time\": \"2021-10-02T00:12:37.452868\"}, {\"method\": \"Automatic\", \"score\": 0.5296390669990277, \"time\": \"2021-10-02T00:03:55.158471\"}, {\"method\": \"Automatic\", \"score\": 0.5258249665709904, \"time\": \"2021-10-02T00:10:10.139944\"}, {\"method\": \"Automatic\", \"score\": 0.5258249665709904, \"time\": \"2021-10-02T00:14:50.595592\"}, {\"method\": \"Automatic\", \"score\": 0.5258249665709904, \"time\": \"2021-10-02T00:22:27.696185\"}, {\"method\": \"Automatic\", \"score\": 0.5258249665709904, \"time\": \"2021-10-02T00:24:31.702861\"}, {\"method\": \"Automatic\", \"score\": 0.5253307559788944, \"time\": \"2021-10-02T00:24:52.577137\"}, {\"method\": \"Automatic\", \"score\": 0.5123775680916769, \"time\": \"2021-10-02T00:25:30.818971\"}, {\"method\": \"Automatic\", \"score\": 0.4741540979720965, \"time\": \"2021-10-02T00:25:48.682478\"}]}}, {\"mode\": \"vega-lite\"});\n",
       "</script>"
      ],
      "text/plain": [
       "alt.Chart(...)"
      ]
     },
     "execution_count": 132,
     "metadata": {},
     "output_type": "execute_result"
    }
   ],
   "source": [
    "file_path = 'resource/grammar_automatic.json'\n",
    "search_performances = load_search_performances(dataset, file_path, 'Automatic')\n",
    "search_results_automatic_proba = pd.DataFrame.from_dict(search_performances)\n",
    "search_results_automatic_proba['time'] = pd.to_datetime(search_results_automatic_proba['time'])\n",
    "plot_search_performances(search_results_automatic_proba)"
   ]
  },
  {
   "cell_type": "code",
   "execution_count": 133,
   "metadata": {},
   "outputs": [
    {
     "data": {
      "text/html": [
       "\n",
       "<div id=\"altair-viz-d501625a696a410fab612e8449b10a18\"></div>\n",
       "<script type=\"text/javascript\">\n",
       "  (function(spec, embedOpt){\n",
       "    let outputDiv = document.currentScript.previousElementSibling;\n",
       "    if (outputDiv.id !== \"altair-viz-d501625a696a410fab612e8449b10a18\") {\n",
       "      outputDiv = document.getElementById(\"altair-viz-d501625a696a410fab612e8449b10a18\");\n",
       "    }\n",
       "    const paths = {\n",
       "      \"vega\": \"https://cdn.jsdelivr.net/npm//vega@5?noext\",\n",
       "      \"vega-lib\": \"https://cdn.jsdelivr.net/npm//vega-lib?noext\",\n",
       "      \"vega-lite\": \"https://cdn.jsdelivr.net/npm//vega-lite@4.8.1?noext\",\n",
       "      \"vega-embed\": \"https://cdn.jsdelivr.net/npm//vega-embed@6?noext\",\n",
       "    };\n",
       "\n",
       "    function loadScript(lib) {\n",
       "      return new Promise(function(resolve, reject) {\n",
       "        var s = document.createElement('script');\n",
       "        s.src = paths[lib];\n",
       "        s.async = true;\n",
       "        s.onload = () => resolve(paths[lib]);\n",
       "        s.onerror = () => reject(`Error loading script: ${paths[lib]}`);\n",
       "        document.getElementsByTagName(\"head\")[0].appendChild(s);\n",
       "      });\n",
       "    }\n",
       "\n",
       "    function showError(err) {\n",
       "      outputDiv.innerHTML = `<div class=\"error\" style=\"color:red;\">${err}</div>`;\n",
       "      throw err;\n",
       "    }\n",
       "\n",
       "    function displayChart(vegaEmbed) {\n",
       "      vegaEmbed(outputDiv, spec, embedOpt)\n",
       "        .catch(err => showError(`Javascript Error: ${err.message}<br>This usually means there's a typo in your chart specification. See the javascript console for the full traceback.`));\n",
       "    }\n",
       "\n",
       "    if(typeof define === \"function\" && define.amd) {\n",
       "      requirejs.config({paths});\n",
       "      require([\"vega-embed\"], displayChart, err => showError(`Error loading script: ${err.message}`));\n",
       "    } else if (typeof vegaEmbed === \"function\") {\n",
       "      displayChart(vegaEmbed);\n",
       "    } else {\n",
       "      loadScript(\"vega\")\n",
       "        .then(() => loadScript(\"vega-lite\"))\n",
       "        .then(() => loadScript(\"vega-embed\"))\n",
       "        .catch(showError)\n",
       "        .then(() => displayChart(vegaEmbed));\n",
       "    }\n",
       "  })({\"config\": {\"view\": {\"continuousWidth\": 400, \"continuousHeight\": 300}}, \"data\": {\"name\": \"data-cc6cc02195dd89a784d8a0bf4e42c72a\"}, \"mark\": {\"type\": \"line\", \"point\": true}, \"encoding\": {\"color\": {\"type\": \"nominal\", \"field\": \"method\"}, \"x\": {\"type\": \"temporal\", \"field\": \"time\", \"timeUnit\": \"hoursminutes\", \"title\": \"Time\"}, \"y\": {\"type\": \"quantitative\", \"field\": \"score\", \"title\": \"Score\"}}, \"width\": 800, \"$schema\": \"https://vega.github.io/schema/vega-lite/v4.8.1.json\", \"datasets\": {\"data-cc6cc02195dd89a784d8a0bf4e42c72a\": [{\"method\": \"Manual\", \"score\": 0.6575574414425489, \"time\": \"2021-10-02T00:29:50.494115\"}, {\"method\": \"Manual\", \"score\": 0.6372023161058514, \"time\": \"2021-10-02T00:03:49.245516\"}, {\"method\": \"Manual\", \"score\": 0.6360858052628097, \"time\": \"2021-10-02T00:01:02.402217\"}, {\"method\": \"Manual\", \"score\": 0.6360858052628097, \"time\": \"2021-10-02T00:02:02.101720\"}, {\"method\": \"Manual\", \"score\": 0.6198318763803567, \"time\": \"2021-10-02T00:02:22.669587\"}, {\"method\": \"Manual\", \"score\": 0.6124572706503573, \"time\": \"2021-10-02T00:22:23.576005\"}, {\"method\": \"Manual\", \"score\": 0.6124572706503573, \"time\": \"2021-10-02T00:22:40.713338\"}, {\"method\": \"Manual\", \"score\": 0.6053881880179274, \"time\": \"2021-10-02T00:05:49.191407\"}, {\"method\": \"Manual\", \"score\": 0.5728973320173743, \"time\": \"2021-10-02T00:29:30.006493\"}, {\"method\": \"Manual\", \"score\": 0.547605264333986, \"time\": \"2021-10-02T00:10:23.086578\"}, {\"method\": \"Manual\", \"score\": 0.5456652784058164, \"time\": \"2021-10-02T00:11:22.884905\"}, {\"method\": \"Manual\", \"score\": 0.5456652784058164, \"time\": \"2021-10-02T00:12:36.492585\"}, {\"method\": \"Manual\", \"score\": 0.534874592234171, \"time\": \"2021-10-02T00:14:36.350906\"}, {\"method\": \"Manual\", \"score\": 0.534874592234171, \"time\": \"2021-10-02T00:19:46.677608\"}, {\"method\": \"Manual\", \"score\": 0.5324338081437909, \"time\": \"2021-10-02T00:17:53.498020\"}, {\"method\": \"Manual\", \"score\": 0.5296390669990277, \"time\": \"2021-10-02T00:11:40.245927\"}, {\"method\": \"Manual\", \"score\": 0.5180894914405356, \"time\": \"2021-10-02T00:30:10.858987\"}, {\"method\": \"Manual\", \"score\": 0.5099553485152465, \"time\": \"2021-10-02T00:20:07.080257\"}, {\"method\": \"Manual\", \"score\": 0.5099553485152465, \"time\": \"2021-10-02T00:21:03.271448\"}, {\"method\": \"Manual\", \"score\": 0.5099553485152465, \"time\": \"2021-10-02T00:22:58.280854\"}, {\"method\": \"Manual\", \"score\": 0.5099553485152465, \"time\": \"2021-10-02T00:23:54.955781\"}, {\"method\": \"Manual\", \"score\": 0.5099553485152465, \"time\": \"2021-10-02T00:27:24.084067\"}, {\"method\": \"Manual\", \"score\": 0.5066946925225481, \"time\": \"2021-10-02T00:21:23.831716\"}, {\"method\": \"Manual\", \"score\": 0.5066946925225481, \"time\": \"2021-10-02T00:24:54.393106\"}, {\"method\": \"Manual\", \"score\": 0.4908353733937537, \"time\": \"2021-10-02T00:16:39.015701\"}, {\"method\": \"Manual\", \"score\": 0.4908353733937537, \"time\": \"2021-10-02T00:16:56.803320\"}, {\"method\": \"Manual\", \"score\": 0.4840626514285561, \"time\": \"2021-10-02T00:18:53.546760\"}, {\"method\": \"Manual\", \"score\": 0.3170413659898891, \"time\": \"2021-10-02T00:06:09.759082\"}, {\"method\": \"Manual\", \"score\": 0.3170413659898891, \"time\": \"2021-10-02T00:07:03.003813\"}, {\"method\": \"Manual\", \"score\": 0.3170413659898891, \"time\": \"2021-10-02T00:09:05.758503\"}, {\"method\": \"Manual\", \"score\": 0.3170413659898891, \"time\": \"2021-10-02T00:09:23.212506\"}, {\"method\": \"Automatic\", \"score\": 0.6913373402301322, \"time\": \"2021-10-02T00:17:27.804355\"}, {\"method\": \"Automatic\", \"score\": 0.6902604880217248, \"time\": \"2021-10-02T00:09:34.566804\"}, {\"method\": \"Automatic\", \"score\": 0.6899901409230831, \"time\": \"2021-10-02T00:05:24.654793\"}, {\"method\": \"Automatic\", \"score\": 0.6821956180755244, \"time\": \"2021-10-02T00:05:04.084855\"}, {\"method\": \"Automatic\", \"score\": 0.6734637578549925, \"time\": \"2021-10-02T00:24:13.772977\"}, {\"method\": \"Automatic\", \"score\": 0.6728181073700035, \"time\": \"2021-10-02T00:26:09.212236\"}, {\"method\": \"Automatic\", \"score\": 0.6722921794257415, \"time\": \"2021-10-02T00:02:15.166302\"}, {\"method\": \"Automatic\", \"score\": 0.6689418124383902, \"time\": \"2021-10-02T00:26:50.363186\"}, {\"method\": \"Automatic\", \"score\": 0.6668117369335871, \"time\": \"2021-10-02T00:21:43.782411\"}, {\"method\": \"Automatic\", \"score\": 0.6646439567393655, \"time\": \"2021-10-02T00:08:02.931380\"}, {\"method\": \"Automatic\", \"score\": 0.6627315012610487, \"time\": \"2021-10-02T00:11:41.922940\"}, {\"method\": \"Automatic\", \"score\": 0.6627315012610487, \"time\": \"2021-10-02T00:15:11.263882\"}, {\"method\": \"Automatic\", \"score\": 0.6627315012610487, \"time\": \"2021-10-02T00:23:41.208861\"}, {\"method\": \"Automatic\", \"score\": 0.6621108503853259, \"time\": \"2021-10-02T00:18:29.714748\"}, {\"method\": \"Automatic\", \"score\": 0.6620807570035314, \"time\": \"2021-10-02T00:28:43.778350\"}, {\"method\": \"Automatic\", \"score\": 0.6603309033634743, \"time\": \"2021-10-02T00:16:46.185213\"}, {\"method\": \"Automatic\", \"score\": 0.6530929436084989, \"time\": \"2021-10-02T00:18:05.940304\"}, {\"method\": \"Automatic\", \"score\": 0.6500725664718215, \"time\": \"2021-10-02T00:08:26.606552\"}, {\"method\": \"Automatic\", \"score\": 0.6497242836528552, \"time\": \"2021-10-02T00:12:58.233784\"}, {\"method\": \"Automatic\", \"score\": 0.6488241558731318, \"time\": \"2021-10-02T00:17:48.241295\"}, {\"method\": \"Automatic\", \"score\": 0.645634751918781, \"time\": \"2021-10-02T00:08:50.183718\"}, {\"method\": \"Automatic\", \"score\": 0.6411885483426212, \"time\": \"2021-10-02T00:12:20.212577\"}, {\"method\": \"Automatic\", \"score\": 0.6369229793097861, \"time\": \"2021-10-02T00:22:07.344460\"}, {\"method\": \"Automatic\", \"score\": 0.6336082757070529, \"time\": \"2021-10-02T00:16:22.613871\"}, {\"method\": \"Automatic\", \"score\": 0.6316130525591359, \"time\": \"2021-10-02T00:14:14.942168\"}, {\"method\": \"Automatic\", \"score\": 0.6308639742950153, \"time\": \"2021-10-02T00:07:36.378984\"}, {\"method\": \"Automatic\", \"score\": 0.6295182066968259, \"time\": \"2021-10-02T00:18:53.287010\"}, {\"method\": \"Automatic\", \"score\": 0.6278274996641584, \"time\": \"2021-10-02T00:02:56.950574\"}, {\"method\": \"Automatic\", \"score\": 0.6260101532928278, \"time\": \"2021-10-02T00:25:10.252333\"}, {\"method\": \"Automatic\", \"score\": 0.6257109558278933, \"time\": \"2021-10-02T00:23:24.022015\"}, {\"method\": \"Automatic\", \"score\": 0.6245682752977235, \"time\": \"2021-10-02T00:13:15.710789\"}, {\"method\": \"Automatic\", \"score\": 0.6198938806692615, \"time\": \"2021-10-02T00:13:57.368137\"}, {\"method\": \"Automatic\", \"score\": 0.6168108176119971, \"time\": \"2021-10-02T00:03:37.720816\"}, {\"method\": \"Automatic\", \"score\": 0.6148641523989433, \"time\": \"2021-10-02T00:13:36.534351\"}, {\"method\": \"Automatic\", \"score\": 0.6112286178118611, \"time\": \"2021-10-02T00:09:10.743921\"}, {\"method\": \"Automatic\", \"score\": 0.608938934110809, \"time\": \"2021-10-02T00:20:01.968263\"}, {\"method\": \"Automatic\", \"score\": 0.6058948347055574, \"time\": \"2021-10-02T00:19:29.128841\"}, {\"method\": \"Automatic\", \"score\": 0.6049281081675033, \"time\": \"2021-10-02T00:03:17.556534\"}, {\"method\": \"Automatic\", \"score\": 0.603830651379671, \"time\": \"2021-10-02T00:17:03.963847\"}, {\"method\": \"Automatic\", \"score\": 0.596902404730296, \"time\": \"2021-10-02T00:11:24.711385\"}, {\"method\": \"Automatic\", \"score\": 0.596902404730296, \"time\": \"2021-10-02T00:29:58.098177\"}, {\"method\": \"Automatic\", \"score\": 0.5920054083606585, \"time\": \"2021-10-02T00:07:18.583522\"}, {\"method\": \"Automatic\", \"score\": 0.5886340125216654, \"time\": \"2021-10-02T00:26:29.667903\"}, {\"method\": \"Automatic\", \"score\": 0.5885941942008279, \"time\": \"2021-10-02T00:15:44.080811\"}, {\"method\": \"Automatic\", \"score\": 0.571781824822645, \"time\": \"2021-10-02T00:16:01.926297\"}, {\"method\": \"Automatic\", \"score\": 0.5482551395888329, \"time\": \"2021-10-02T00:29:01.416841\"}, {\"method\": \"Automatic\", \"score\": 0.5360691853977363, \"time\": \"2021-10-02T00:12:37.452868\"}, {\"method\": \"Automatic\", \"score\": 0.5296390669990277, \"time\": \"2021-10-02T00:03:55.158471\"}, {\"method\": \"Automatic\", \"score\": 0.5258249665709904, \"time\": \"2021-10-02T00:10:10.139944\"}, {\"method\": \"Automatic\", \"score\": 0.5258249665709904, \"time\": \"2021-10-02T00:14:50.595592\"}, {\"method\": \"Automatic\", \"score\": 0.5258249665709904, \"time\": \"2021-10-02T00:22:27.696185\"}, {\"method\": \"Automatic\", \"score\": 0.5258249665709904, \"time\": \"2021-10-02T00:24:31.702861\"}, {\"method\": \"Automatic\", \"score\": 0.5253307559788944, \"time\": \"2021-10-02T00:24:52.577137\"}, {\"method\": \"Automatic\", \"score\": 0.5123775680916769, \"time\": \"2021-10-02T00:25:30.818971\"}, {\"method\": \"Automatic\", \"score\": 0.4741540979720965, \"time\": \"2021-10-02T00:25:48.682478\"}]}}, {\"mode\": \"vega-lite\"});\n",
       "</script>"
      ],
      "text/plain": [
       "alt.Chart(...)"
      ]
     },
     "execution_count": 133,
     "metadata": {},
     "output_type": "execute_result"
    }
   ],
   "source": [
    "search_results_all = pd.concat([search_results_manual, search_results_automatic_proba], ignore_index=True)\n",
    "plot_search_performances(search_results_all)"
   ]
  },
  {
   "cell_type": "code",
   "execution_count": 134,
   "metadata": {},
   "outputs": [
    {
     "data": {
      "text/html": [
       "\n",
       "<div id=\"altair-viz-9925de2c6f204690be91615209dfa1a8\"></div>\n",
       "<script type=\"text/javascript\">\n",
       "  (function(spec, embedOpt){\n",
       "    let outputDiv = document.currentScript.previousElementSibling;\n",
       "    if (outputDiv.id !== \"altair-viz-9925de2c6f204690be91615209dfa1a8\") {\n",
       "      outputDiv = document.getElementById(\"altair-viz-9925de2c6f204690be91615209dfa1a8\");\n",
       "    }\n",
       "    const paths = {\n",
       "      \"vega\": \"https://cdn.jsdelivr.net/npm//vega@5?noext\",\n",
       "      \"vega-lib\": \"https://cdn.jsdelivr.net/npm//vega-lib?noext\",\n",
       "      \"vega-lite\": \"https://cdn.jsdelivr.net/npm//vega-lite@4.8.1?noext\",\n",
       "      \"vega-embed\": \"https://cdn.jsdelivr.net/npm//vega-embed@6?noext\",\n",
       "    };\n",
       "\n",
       "    function loadScript(lib) {\n",
       "      return new Promise(function(resolve, reject) {\n",
       "        var s = document.createElement('script');\n",
       "        s.src = paths[lib];\n",
       "        s.async = true;\n",
       "        s.onload = () => resolve(paths[lib]);\n",
       "        s.onerror = () => reject(`Error loading script: ${paths[lib]}`);\n",
       "        document.getElementsByTagName(\"head\")[0].appendChild(s);\n",
       "      });\n",
       "    }\n",
       "\n",
       "    function showError(err) {\n",
       "      outputDiv.innerHTML = `<div class=\"error\" style=\"color:red;\">${err}</div>`;\n",
       "      throw err;\n",
       "    }\n",
       "\n",
       "    function displayChart(vegaEmbed) {\n",
       "      vegaEmbed(outputDiv, spec, embedOpt)\n",
       "        .catch(err => showError(`Javascript Error: ${err.message}<br>This usually means there's a typo in your chart specification. See the javascript console for the full traceback.`));\n",
       "    }\n",
       "\n",
       "    if(typeof define === \"function\" && define.amd) {\n",
       "      requirejs.config({paths});\n",
       "      require([\"vega-embed\"], displayChart, err => showError(`Error loading script: ${err.message}`));\n",
       "    } else if (typeof vegaEmbed === \"function\") {\n",
       "      displayChart(vegaEmbed);\n",
       "    } else {\n",
       "      loadScript(\"vega\")\n",
       "        .then(() => loadScript(\"vega-lite\"))\n",
       "        .then(() => loadScript(\"vega-embed\"))\n",
       "        .catch(showError)\n",
       "        .then(() => displayChart(vegaEmbed));\n",
       "    }\n",
       "  })({\"config\": {\"view\": {\"continuousWidth\": 400, \"continuousHeight\": 300}}, \"data\": {\"name\": \"data-cc6cc02195dd89a784d8a0bf4e42c72a\"}, \"mark\": \"boxplot\", \"encoding\": {\"x\": {\"type\": \"nominal\", \"field\": \"method\"}, \"y\": {\"type\": \"quantitative\", \"field\": \"score\", \"scale\": {\"zero\": false}}}, \"height\": 300, \"title\": \"Media +/- Standard Deviation\", \"width\": 300, \"$schema\": \"https://vega.github.io/schema/vega-lite/v4.8.1.json\", \"datasets\": {\"data-cc6cc02195dd89a784d8a0bf4e42c72a\": [{\"method\": \"Manual\", \"score\": 0.6575574414425489, \"time\": \"2021-10-02T00:29:50.494115\"}, {\"method\": \"Manual\", \"score\": 0.6372023161058514, \"time\": \"2021-10-02T00:03:49.245516\"}, {\"method\": \"Manual\", \"score\": 0.6360858052628097, \"time\": \"2021-10-02T00:01:02.402217\"}, {\"method\": \"Manual\", \"score\": 0.6360858052628097, \"time\": \"2021-10-02T00:02:02.101720\"}, {\"method\": \"Manual\", \"score\": 0.6198318763803567, \"time\": \"2021-10-02T00:02:22.669587\"}, {\"method\": \"Manual\", \"score\": 0.6124572706503573, \"time\": \"2021-10-02T00:22:23.576005\"}, {\"method\": \"Manual\", \"score\": 0.6124572706503573, \"time\": \"2021-10-02T00:22:40.713338\"}, {\"method\": \"Manual\", \"score\": 0.6053881880179274, \"time\": \"2021-10-02T00:05:49.191407\"}, {\"method\": \"Manual\", \"score\": 0.5728973320173743, \"time\": \"2021-10-02T00:29:30.006493\"}, {\"method\": \"Manual\", \"score\": 0.547605264333986, \"time\": \"2021-10-02T00:10:23.086578\"}, {\"method\": \"Manual\", \"score\": 0.5456652784058164, \"time\": \"2021-10-02T00:11:22.884905\"}, {\"method\": \"Manual\", \"score\": 0.5456652784058164, \"time\": \"2021-10-02T00:12:36.492585\"}, {\"method\": \"Manual\", \"score\": 0.534874592234171, \"time\": \"2021-10-02T00:14:36.350906\"}, {\"method\": \"Manual\", \"score\": 0.534874592234171, \"time\": \"2021-10-02T00:19:46.677608\"}, {\"method\": \"Manual\", \"score\": 0.5324338081437909, \"time\": \"2021-10-02T00:17:53.498020\"}, {\"method\": \"Manual\", \"score\": 0.5296390669990277, \"time\": \"2021-10-02T00:11:40.245927\"}, {\"method\": \"Manual\", \"score\": 0.5180894914405356, \"time\": \"2021-10-02T00:30:10.858987\"}, {\"method\": \"Manual\", \"score\": 0.5099553485152465, \"time\": \"2021-10-02T00:20:07.080257\"}, {\"method\": \"Manual\", \"score\": 0.5099553485152465, \"time\": \"2021-10-02T00:21:03.271448\"}, {\"method\": \"Manual\", \"score\": 0.5099553485152465, \"time\": \"2021-10-02T00:22:58.280854\"}, {\"method\": \"Manual\", \"score\": 0.5099553485152465, \"time\": \"2021-10-02T00:23:54.955781\"}, {\"method\": \"Manual\", \"score\": 0.5099553485152465, \"time\": \"2021-10-02T00:27:24.084067\"}, {\"method\": \"Manual\", \"score\": 0.5066946925225481, \"time\": \"2021-10-02T00:21:23.831716\"}, {\"method\": \"Manual\", \"score\": 0.5066946925225481, \"time\": \"2021-10-02T00:24:54.393106\"}, {\"method\": \"Manual\", \"score\": 0.4908353733937537, \"time\": \"2021-10-02T00:16:39.015701\"}, {\"method\": \"Manual\", \"score\": 0.4908353733937537, \"time\": \"2021-10-02T00:16:56.803320\"}, {\"method\": \"Manual\", \"score\": 0.4840626514285561, \"time\": \"2021-10-02T00:18:53.546760\"}, {\"method\": \"Manual\", \"score\": 0.3170413659898891, \"time\": \"2021-10-02T00:06:09.759082\"}, {\"method\": \"Manual\", \"score\": 0.3170413659898891, \"time\": \"2021-10-02T00:07:03.003813\"}, {\"method\": \"Manual\", \"score\": 0.3170413659898891, \"time\": \"2021-10-02T00:09:05.758503\"}, {\"method\": \"Manual\", \"score\": 0.3170413659898891, \"time\": \"2021-10-02T00:09:23.212506\"}, {\"method\": \"Automatic\", \"score\": 0.6913373402301322, \"time\": \"2021-10-02T00:17:27.804355\"}, {\"method\": \"Automatic\", \"score\": 0.6902604880217248, \"time\": \"2021-10-02T00:09:34.566804\"}, {\"method\": \"Automatic\", \"score\": 0.6899901409230831, \"time\": \"2021-10-02T00:05:24.654793\"}, {\"method\": \"Automatic\", \"score\": 0.6821956180755244, \"time\": \"2021-10-02T00:05:04.084855\"}, {\"method\": \"Automatic\", \"score\": 0.6734637578549925, \"time\": \"2021-10-02T00:24:13.772977\"}, {\"method\": \"Automatic\", \"score\": 0.6728181073700035, \"time\": \"2021-10-02T00:26:09.212236\"}, {\"method\": \"Automatic\", \"score\": 0.6722921794257415, \"time\": \"2021-10-02T00:02:15.166302\"}, {\"method\": \"Automatic\", \"score\": 0.6689418124383902, \"time\": \"2021-10-02T00:26:50.363186\"}, {\"method\": \"Automatic\", \"score\": 0.6668117369335871, \"time\": \"2021-10-02T00:21:43.782411\"}, {\"method\": \"Automatic\", \"score\": 0.6646439567393655, \"time\": \"2021-10-02T00:08:02.931380\"}, {\"method\": \"Automatic\", \"score\": 0.6627315012610487, \"time\": \"2021-10-02T00:11:41.922940\"}, {\"method\": \"Automatic\", \"score\": 0.6627315012610487, \"time\": \"2021-10-02T00:15:11.263882\"}, {\"method\": \"Automatic\", \"score\": 0.6627315012610487, \"time\": \"2021-10-02T00:23:41.208861\"}, {\"method\": \"Automatic\", \"score\": 0.6621108503853259, \"time\": \"2021-10-02T00:18:29.714748\"}, {\"method\": \"Automatic\", \"score\": 0.6620807570035314, \"time\": \"2021-10-02T00:28:43.778350\"}, {\"method\": \"Automatic\", \"score\": 0.6603309033634743, \"time\": \"2021-10-02T00:16:46.185213\"}, {\"method\": \"Automatic\", \"score\": 0.6530929436084989, \"time\": \"2021-10-02T00:18:05.940304\"}, {\"method\": \"Automatic\", \"score\": 0.6500725664718215, \"time\": \"2021-10-02T00:08:26.606552\"}, {\"method\": \"Automatic\", \"score\": 0.6497242836528552, \"time\": \"2021-10-02T00:12:58.233784\"}, {\"method\": \"Automatic\", \"score\": 0.6488241558731318, \"time\": \"2021-10-02T00:17:48.241295\"}, {\"method\": \"Automatic\", \"score\": 0.645634751918781, \"time\": \"2021-10-02T00:08:50.183718\"}, {\"method\": \"Automatic\", \"score\": 0.6411885483426212, \"time\": \"2021-10-02T00:12:20.212577\"}, {\"method\": \"Automatic\", \"score\": 0.6369229793097861, \"time\": \"2021-10-02T00:22:07.344460\"}, {\"method\": \"Automatic\", \"score\": 0.6336082757070529, \"time\": \"2021-10-02T00:16:22.613871\"}, {\"method\": \"Automatic\", \"score\": 0.6316130525591359, \"time\": \"2021-10-02T00:14:14.942168\"}, {\"method\": \"Automatic\", \"score\": 0.6308639742950153, \"time\": \"2021-10-02T00:07:36.378984\"}, {\"method\": \"Automatic\", \"score\": 0.6295182066968259, \"time\": \"2021-10-02T00:18:53.287010\"}, {\"method\": \"Automatic\", \"score\": 0.6278274996641584, \"time\": \"2021-10-02T00:02:56.950574\"}, {\"method\": \"Automatic\", \"score\": 0.6260101532928278, \"time\": \"2021-10-02T00:25:10.252333\"}, {\"method\": \"Automatic\", \"score\": 0.6257109558278933, \"time\": \"2021-10-02T00:23:24.022015\"}, {\"method\": \"Automatic\", \"score\": 0.6245682752977235, \"time\": \"2021-10-02T00:13:15.710789\"}, {\"method\": \"Automatic\", \"score\": 0.6198938806692615, \"time\": \"2021-10-02T00:13:57.368137\"}, {\"method\": \"Automatic\", \"score\": 0.6168108176119971, \"time\": \"2021-10-02T00:03:37.720816\"}, {\"method\": \"Automatic\", \"score\": 0.6148641523989433, \"time\": \"2021-10-02T00:13:36.534351\"}, {\"method\": \"Automatic\", \"score\": 0.6112286178118611, \"time\": \"2021-10-02T00:09:10.743921\"}, {\"method\": \"Automatic\", \"score\": 0.608938934110809, \"time\": \"2021-10-02T00:20:01.968263\"}, {\"method\": \"Automatic\", \"score\": 0.6058948347055574, \"time\": \"2021-10-02T00:19:29.128841\"}, {\"method\": \"Automatic\", \"score\": 0.6049281081675033, \"time\": \"2021-10-02T00:03:17.556534\"}, {\"method\": \"Automatic\", \"score\": 0.603830651379671, \"time\": \"2021-10-02T00:17:03.963847\"}, {\"method\": \"Automatic\", \"score\": 0.596902404730296, \"time\": \"2021-10-02T00:11:24.711385\"}, {\"method\": \"Automatic\", \"score\": 0.596902404730296, \"time\": \"2021-10-02T00:29:58.098177\"}, {\"method\": \"Automatic\", \"score\": 0.5920054083606585, \"time\": \"2021-10-02T00:07:18.583522\"}, {\"method\": \"Automatic\", \"score\": 0.5886340125216654, \"time\": \"2021-10-02T00:26:29.667903\"}, {\"method\": \"Automatic\", \"score\": 0.5885941942008279, \"time\": \"2021-10-02T00:15:44.080811\"}, {\"method\": \"Automatic\", \"score\": 0.571781824822645, \"time\": \"2021-10-02T00:16:01.926297\"}, {\"method\": \"Automatic\", \"score\": 0.5482551395888329, \"time\": \"2021-10-02T00:29:01.416841\"}, {\"method\": \"Automatic\", \"score\": 0.5360691853977363, \"time\": \"2021-10-02T00:12:37.452868\"}, {\"method\": \"Automatic\", \"score\": 0.5296390669990277, \"time\": \"2021-10-02T00:03:55.158471\"}, {\"method\": \"Automatic\", \"score\": 0.5258249665709904, \"time\": \"2021-10-02T00:10:10.139944\"}, {\"method\": \"Automatic\", \"score\": 0.5258249665709904, \"time\": \"2021-10-02T00:14:50.595592\"}, {\"method\": \"Automatic\", \"score\": 0.5258249665709904, \"time\": \"2021-10-02T00:22:27.696185\"}, {\"method\": \"Automatic\", \"score\": 0.5258249665709904, \"time\": \"2021-10-02T00:24:31.702861\"}, {\"method\": \"Automatic\", \"score\": 0.5253307559788944, \"time\": \"2021-10-02T00:24:52.577137\"}, {\"method\": \"Automatic\", \"score\": 0.5123775680916769, \"time\": \"2021-10-02T00:25:30.818971\"}, {\"method\": \"Automatic\", \"score\": 0.4741540979720965, \"time\": \"2021-10-02T00:25:48.682478\"}]}}, {\"mode\": \"vega-lite\"});\n",
       "</script>"
      ],
      "text/plain": [
       "alt.Chart(...)"
      ]
     },
     "execution_count": 134,
     "metadata": {},
     "output_type": "execute_result"
    }
   ],
   "source": [
    "alt.Chart(search_results_all).mark_boxplot().encode(\n",
    "    x=alt.X('method:N'),\n",
    "    y=alt.Y('score:Q', scale=alt.Scale(zero=False))\n",
    ").properties(width=300, height=300, title='Media +/- Standard Deviation')"
   ]
  },
  {
   "cell_type": "code",
   "execution_count": 135,
   "metadata": {},
   "outputs": [
    {
     "data": {
      "text/html": [
       "\n",
       "<div id=\"altair-viz-9a10c5f785174fafba4642b353e76cfa\"></div>\n",
       "<script type=\"text/javascript\">\n",
       "  (function(spec, embedOpt){\n",
       "    let outputDiv = document.currentScript.previousElementSibling;\n",
       "    if (outputDiv.id !== \"altair-viz-9a10c5f785174fafba4642b353e76cfa\") {\n",
       "      outputDiv = document.getElementById(\"altair-viz-9a10c5f785174fafba4642b353e76cfa\");\n",
       "    }\n",
       "    const paths = {\n",
       "      \"vega\": \"https://cdn.jsdelivr.net/npm//vega@5?noext\",\n",
       "      \"vega-lib\": \"https://cdn.jsdelivr.net/npm//vega-lib?noext\",\n",
       "      \"vega-lite\": \"https://cdn.jsdelivr.net/npm//vega-lite@4.8.1?noext\",\n",
       "      \"vega-embed\": \"https://cdn.jsdelivr.net/npm//vega-embed@6?noext\",\n",
       "    };\n",
       "\n",
       "    function loadScript(lib) {\n",
       "      return new Promise(function(resolve, reject) {\n",
       "        var s = document.createElement('script');\n",
       "        s.src = paths[lib];\n",
       "        s.async = true;\n",
       "        s.onload = () => resolve(paths[lib]);\n",
       "        s.onerror = () => reject(`Error loading script: ${paths[lib]}`);\n",
       "        document.getElementsByTagName(\"head\")[0].appendChild(s);\n",
       "      });\n",
       "    }\n",
       "\n",
       "    function showError(err) {\n",
       "      outputDiv.innerHTML = `<div class=\"error\" style=\"color:red;\">${err}</div>`;\n",
       "      throw err;\n",
       "    }\n",
       "\n",
       "    function displayChart(vegaEmbed) {\n",
       "      vegaEmbed(outputDiv, spec, embedOpt)\n",
       "        .catch(err => showError(`Javascript Error: ${err.message}<br>This usually means there's a typo in your chart specification. See the javascript console for the full traceback.`));\n",
       "    }\n",
       "\n",
       "    if(typeof define === \"function\" && define.amd) {\n",
       "      requirejs.config({paths});\n",
       "      require([\"vega-embed\"], displayChart, err => showError(`Error loading script: ${err.message}`));\n",
       "    } else if (typeof vegaEmbed === \"function\") {\n",
       "      displayChart(vegaEmbed);\n",
       "    } else {\n",
       "      loadScript(\"vega\")\n",
       "        .then(() => loadScript(\"vega-lite\"))\n",
       "        .then(() => loadScript(\"vega-embed\"))\n",
       "        .catch(showError)\n",
       "        .then(() => displayChart(vegaEmbed));\n",
       "    }\n",
       "  })({\"config\": {\"view\": {\"continuousWidth\": 400, \"continuousHeight\": 300}}, \"layer\": [{\"mark\": {\"type\": \"errorbar\", \"extent\": \"stdev\"}, \"encoding\": {\"x\": {\"type\": \"nominal\", \"field\": \"method\"}, \"y\": {\"type\": \"quantitative\", \"field\": \"score\", \"scale\": {\"zero\": false}}}}, {\"mark\": {\"type\": \"point\", \"filled\": true}, \"encoding\": {\"x\": {\"type\": \"nominal\", \"field\": \"method\"}, \"y\": {\"type\": \"quantitative\", \"aggregate\": \"mean\", \"field\": \"score\"}}}], \"data\": {\"name\": \"data-cc6cc02195dd89a784d8a0bf4e42c72a\"}, \"$schema\": \"https://vega.github.io/schema/vega-lite/v4.8.1.json\", \"datasets\": {\"data-cc6cc02195dd89a784d8a0bf4e42c72a\": [{\"method\": \"Manual\", \"score\": 0.6575574414425489, \"time\": \"2021-10-02T00:29:50.494115\"}, {\"method\": \"Manual\", \"score\": 0.6372023161058514, \"time\": \"2021-10-02T00:03:49.245516\"}, {\"method\": \"Manual\", \"score\": 0.6360858052628097, \"time\": \"2021-10-02T00:01:02.402217\"}, {\"method\": \"Manual\", \"score\": 0.6360858052628097, \"time\": \"2021-10-02T00:02:02.101720\"}, {\"method\": \"Manual\", \"score\": 0.6198318763803567, \"time\": \"2021-10-02T00:02:22.669587\"}, {\"method\": \"Manual\", \"score\": 0.6124572706503573, \"time\": \"2021-10-02T00:22:23.576005\"}, {\"method\": \"Manual\", \"score\": 0.6124572706503573, \"time\": \"2021-10-02T00:22:40.713338\"}, {\"method\": \"Manual\", \"score\": 0.6053881880179274, \"time\": \"2021-10-02T00:05:49.191407\"}, {\"method\": \"Manual\", \"score\": 0.5728973320173743, \"time\": \"2021-10-02T00:29:30.006493\"}, {\"method\": \"Manual\", \"score\": 0.547605264333986, \"time\": \"2021-10-02T00:10:23.086578\"}, {\"method\": \"Manual\", \"score\": 0.5456652784058164, \"time\": \"2021-10-02T00:11:22.884905\"}, {\"method\": \"Manual\", \"score\": 0.5456652784058164, \"time\": \"2021-10-02T00:12:36.492585\"}, {\"method\": \"Manual\", \"score\": 0.534874592234171, \"time\": \"2021-10-02T00:14:36.350906\"}, {\"method\": \"Manual\", \"score\": 0.534874592234171, \"time\": \"2021-10-02T00:19:46.677608\"}, {\"method\": \"Manual\", \"score\": 0.5324338081437909, \"time\": \"2021-10-02T00:17:53.498020\"}, {\"method\": \"Manual\", \"score\": 0.5296390669990277, \"time\": \"2021-10-02T00:11:40.245927\"}, {\"method\": \"Manual\", \"score\": 0.5180894914405356, \"time\": \"2021-10-02T00:30:10.858987\"}, {\"method\": \"Manual\", \"score\": 0.5099553485152465, \"time\": \"2021-10-02T00:20:07.080257\"}, {\"method\": \"Manual\", \"score\": 0.5099553485152465, \"time\": \"2021-10-02T00:21:03.271448\"}, {\"method\": \"Manual\", \"score\": 0.5099553485152465, \"time\": \"2021-10-02T00:22:58.280854\"}, {\"method\": \"Manual\", \"score\": 0.5099553485152465, \"time\": \"2021-10-02T00:23:54.955781\"}, {\"method\": \"Manual\", \"score\": 0.5099553485152465, \"time\": \"2021-10-02T00:27:24.084067\"}, {\"method\": \"Manual\", \"score\": 0.5066946925225481, \"time\": \"2021-10-02T00:21:23.831716\"}, {\"method\": \"Manual\", \"score\": 0.5066946925225481, \"time\": \"2021-10-02T00:24:54.393106\"}, {\"method\": \"Manual\", \"score\": 0.4908353733937537, \"time\": \"2021-10-02T00:16:39.015701\"}, {\"method\": \"Manual\", \"score\": 0.4908353733937537, \"time\": \"2021-10-02T00:16:56.803320\"}, {\"method\": \"Manual\", \"score\": 0.4840626514285561, \"time\": \"2021-10-02T00:18:53.546760\"}, {\"method\": \"Manual\", \"score\": 0.3170413659898891, \"time\": \"2021-10-02T00:06:09.759082\"}, {\"method\": \"Manual\", \"score\": 0.3170413659898891, \"time\": \"2021-10-02T00:07:03.003813\"}, {\"method\": \"Manual\", \"score\": 0.3170413659898891, \"time\": \"2021-10-02T00:09:05.758503\"}, {\"method\": \"Manual\", \"score\": 0.3170413659898891, \"time\": \"2021-10-02T00:09:23.212506\"}, {\"method\": \"Automatic\", \"score\": 0.6913373402301322, \"time\": \"2021-10-02T00:17:27.804355\"}, {\"method\": \"Automatic\", \"score\": 0.6902604880217248, \"time\": \"2021-10-02T00:09:34.566804\"}, {\"method\": \"Automatic\", \"score\": 0.6899901409230831, \"time\": \"2021-10-02T00:05:24.654793\"}, {\"method\": \"Automatic\", \"score\": 0.6821956180755244, \"time\": \"2021-10-02T00:05:04.084855\"}, {\"method\": \"Automatic\", \"score\": 0.6734637578549925, \"time\": \"2021-10-02T00:24:13.772977\"}, {\"method\": \"Automatic\", \"score\": 0.6728181073700035, \"time\": \"2021-10-02T00:26:09.212236\"}, {\"method\": \"Automatic\", \"score\": 0.6722921794257415, \"time\": \"2021-10-02T00:02:15.166302\"}, {\"method\": \"Automatic\", \"score\": 0.6689418124383902, \"time\": \"2021-10-02T00:26:50.363186\"}, {\"method\": \"Automatic\", \"score\": 0.6668117369335871, \"time\": \"2021-10-02T00:21:43.782411\"}, {\"method\": \"Automatic\", \"score\": 0.6646439567393655, \"time\": \"2021-10-02T00:08:02.931380\"}, {\"method\": \"Automatic\", \"score\": 0.6627315012610487, \"time\": \"2021-10-02T00:11:41.922940\"}, {\"method\": \"Automatic\", \"score\": 0.6627315012610487, \"time\": \"2021-10-02T00:15:11.263882\"}, {\"method\": \"Automatic\", \"score\": 0.6627315012610487, \"time\": \"2021-10-02T00:23:41.208861\"}, {\"method\": \"Automatic\", \"score\": 0.6621108503853259, \"time\": \"2021-10-02T00:18:29.714748\"}, {\"method\": \"Automatic\", \"score\": 0.6620807570035314, \"time\": \"2021-10-02T00:28:43.778350\"}, {\"method\": \"Automatic\", \"score\": 0.6603309033634743, \"time\": \"2021-10-02T00:16:46.185213\"}, {\"method\": \"Automatic\", \"score\": 0.6530929436084989, \"time\": \"2021-10-02T00:18:05.940304\"}, {\"method\": \"Automatic\", \"score\": 0.6500725664718215, \"time\": \"2021-10-02T00:08:26.606552\"}, {\"method\": \"Automatic\", \"score\": 0.6497242836528552, \"time\": \"2021-10-02T00:12:58.233784\"}, {\"method\": \"Automatic\", \"score\": 0.6488241558731318, \"time\": \"2021-10-02T00:17:48.241295\"}, {\"method\": \"Automatic\", \"score\": 0.645634751918781, \"time\": \"2021-10-02T00:08:50.183718\"}, {\"method\": \"Automatic\", \"score\": 0.6411885483426212, \"time\": \"2021-10-02T00:12:20.212577\"}, {\"method\": \"Automatic\", \"score\": 0.6369229793097861, \"time\": \"2021-10-02T00:22:07.344460\"}, {\"method\": \"Automatic\", \"score\": 0.6336082757070529, \"time\": \"2021-10-02T00:16:22.613871\"}, {\"method\": \"Automatic\", \"score\": 0.6316130525591359, \"time\": \"2021-10-02T00:14:14.942168\"}, {\"method\": \"Automatic\", \"score\": 0.6308639742950153, \"time\": \"2021-10-02T00:07:36.378984\"}, {\"method\": \"Automatic\", \"score\": 0.6295182066968259, \"time\": \"2021-10-02T00:18:53.287010\"}, {\"method\": \"Automatic\", \"score\": 0.6278274996641584, \"time\": \"2021-10-02T00:02:56.950574\"}, {\"method\": \"Automatic\", \"score\": 0.6260101532928278, \"time\": \"2021-10-02T00:25:10.252333\"}, {\"method\": \"Automatic\", \"score\": 0.6257109558278933, \"time\": \"2021-10-02T00:23:24.022015\"}, {\"method\": \"Automatic\", \"score\": 0.6245682752977235, \"time\": \"2021-10-02T00:13:15.710789\"}, {\"method\": \"Automatic\", \"score\": 0.6198938806692615, \"time\": \"2021-10-02T00:13:57.368137\"}, {\"method\": \"Automatic\", \"score\": 0.6168108176119971, \"time\": \"2021-10-02T00:03:37.720816\"}, {\"method\": \"Automatic\", \"score\": 0.6148641523989433, \"time\": \"2021-10-02T00:13:36.534351\"}, {\"method\": \"Automatic\", \"score\": 0.6112286178118611, \"time\": \"2021-10-02T00:09:10.743921\"}, {\"method\": \"Automatic\", \"score\": 0.608938934110809, \"time\": \"2021-10-02T00:20:01.968263\"}, {\"method\": \"Automatic\", \"score\": 0.6058948347055574, \"time\": \"2021-10-02T00:19:29.128841\"}, {\"method\": \"Automatic\", \"score\": 0.6049281081675033, \"time\": \"2021-10-02T00:03:17.556534\"}, {\"method\": \"Automatic\", \"score\": 0.603830651379671, \"time\": \"2021-10-02T00:17:03.963847\"}, {\"method\": \"Automatic\", \"score\": 0.596902404730296, \"time\": \"2021-10-02T00:11:24.711385\"}, {\"method\": \"Automatic\", \"score\": 0.596902404730296, \"time\": \"2021-10-02T00:29:58.098177\"}, {\"method\": \"Automatic\", \"score\": 0.5920054083606585, \"time\": \"2021-10-02T00:07:18.583522\"}, {\"method\": \"Automatic\", \"score\": 0.5886340125216654, \"time\": \"2021-10-02T00:26:29.667903\"}, {\"method\": \"Automatic\", \"score\": 0.5885941942008279, \"time\": \"2021-10-02T00:15:44.080811\"}, {\"method\": \"Automatic\", \"score\": 0.571781824822645, \"time\": \"2021-10-02T00:16:01.926297\"}, {\"method\": \"Automatic\", \"score\": 0.5482551395888329, \"time\": \"2021-10-02T00:29:01.416841\"}, {\"method\": \"Automatic\", \"score\": 0.5360691853977363, \"time\": \"2021-10-02T00:12:37.452868\"}, {\"method\": \"Automatic\", \"score\": 0.5296390669990277, \"time\": \"2021-10-02T00:03:55.158471\"}, {\"method\": \"Automatic\", \"score\": 0.5258249665709904, \"time\": \"2021-10-02T00:10:10.139944\"}, {\"method\": \"Automatic\", \"score\": 0.5258249665709904, \"time\": \"2021-10-02T00:14:50.595592\"}, {\"method\": \"Automatic\", \"score\": 0.5258249665709904, \"time\": \"2021-10-02T00:22:27.696185\"}, {\"method\": \"Automatic\", \"score\": 0.5258249665709904, \"time\": \"2021-10-02T00:24:31.702861\"}, {\"method\": \"Automatic\", \"score\": 0.5253307559788944, \"time\": \"2021-10-02T00:24:52.577137\"}, {\"method\": \"Automatic\", \"score\": 0.5123775680916769, \"time\": \"2021-10-02T00:25:30.818971\"}, {\"method\": \"Automatic\", \"score\": 0.4741540979720965, \"time\": \"2021-10-02T00:25:48.682478\"}]}}, {\"mode\": \"vega-lite\"});\n",
       "</script>"
      ],
      "text/plain": [
       "alt.LayerChart(...)"
      ]
     },
     "execution_count": 135,
     "metadata": {},
     "output_type": "execute_result"
    }
   ],
   "source": [
    "error_bars = alt.Chart(search_results_all).mark_errorbar(extent='stdev').encode(\n",
    "  x=alt.X('method:N'),\n",
    "  y=alt.Y('score:Q', scale=alt.Scale(zero=False))\n",
    ")\n",
    "\n",
    "points = alt.Chart(search_results_all).mark_point(filled=True).encode(\n",
    "  x=alt.X('method:N'),\n",
    "  y=alt.Y('score:Q', aggregate='mean'),\n",
    ")\n",
    "\n",
    "error_bars + points"
   ]
  },
  {
   "cell_type": "code",
   "execution_count": 136,
   "metadata": {},
   "outputs": [],
   "source": [
    "pipelines_counter = search_results_all.groupby(['method']).size().reset_index(name='pipelines')"
   ]
  },
  {
   "cell_type": "code",
   "execution_count": 137,
   "metadata": {},
   "outputs": [
    {
     "data": {
      "text/html": [
       "\n",
       "<div id=\"altair-viz-be18b685cc4c4980b9b1ccaf0ef0d239\"></div>\n",
       "<script type=\"text/javascript\">\n",
       "  (function(spec, embedOpt){\n",
       "    let outputDiv = document.currentScript.previousElementSibling;\n",
       "    if (outputDiv.id !== \"altair-viz-be18b685cc4c4980b9b1ccaf0ef0d239\") {\n",
       "      outputDiv = document.getElementById(\"altair-viz-be18b685cc4c4980b9b1ccaf0ef0d239\");\n",
       "    }\n",
       "    const paths = {\n",
       "      \"vega\": \"https://cdn.jsdelivr.net/npm//vega@5?noext\",\n",
       "      \"vega-lib\": \"https://cdn.jsdelivr.net/npm//vega-lib?noext\",\n",
       "      \"vega-lite\": \"https://cdn.jsdelivr.net/npm//vega-lite@4.8.1?noext\",\n",
       "      \"vega-embed\": \"https://cdn.jsdelivr.net/npm//vega-embed@6?noext\",\n",
       "    };\n",
       "\n",
       "    function loadScript(lib) {\n",
       "      return new Promise(function(resolve, reject) {\n",
       "        var s = document.createElement('script');\n",
       "        s.src = paths[lib];\n",
       "        s.async = true;\n",
       "        s.onload = () => resolve(paths[lib]);\n",
       "        s.onerror = () => reject(`Error loading script: ${paths[lib]}`);\n",
       "        document.getElementsByTagName(\"head\")[0].appendChild(s);\n",
       "      });\n",
       "    }\n",
       "\n",
       "    function showError(err) {\n",
       "      outputDiv.innerHTML = `<div class=\"error\" style=\"color:red;\">${err}</div>`;\n",
       "      throw err;\n",
       "    }\n",
       "\n",
       "    function displayChart(vegaEmbed) {\n",
       "      vegaEmbed(outputDiv, spec, embedOpt)\n",
       "        .catch(err => showError(`Javascript Error: ${err.message}<br>This usually means there's a typo in your chart specification. See the javascript console for the full traceback.`));\n",
       "    }\n",
       "\n",
       "    if(typeof define === \"function\" && define.amd) {\n",
       "      requirejs.config({paths});\n",
       "      require([\"vega-embed\"], displayChart, err => showError(`Error loading script: ${err.message}`));\n",
       "    } else if (typeof vegaEmbed === \"function\") {\n",
       "      displayChart(vegaEmbed);\n",
       "    } else {\n",
       "      loadScript(\"vega\")\n",
       "        .then(() => loadScript(\"vega-lite\"))\n",
       "        .then(() => loadScript(\"vega-embed\"))\n",
       "        .catch(showError)\n",
       "        .then(() => displayChart(vegaEmbed));\n",
       "    }\n",
       "  })({\"config\": {\"view\": {\"continuousWidth\": 400, \"continuousHeight\": 300}}, \"layer\": [{\"mark\": \"bar\", \"encoding\": {\"x\": {\"type\": \"nominal\", \"field\": \"method\"}, \"y\": {\"type\": \"quantitative\", \"field\": \"pipelines\"}}}, {\"mark\": {\"type\": \"text\", \"align\": \"center\", \"baseline\": \"middle\"}, \"encoding\": {\"text\": {\"type\": \"quantitative\", \"field\": \"pipelines\"}, \"x\": {\"type\": \"nominal\", \"field\": \"method\"}, \"y\": {\"type\": \"quantitative\", \"field\": \"pipelines\"}}}], \"data\": {\"name\": \"data-3f56127ec88af537577edcbb15a7c205\"}, \"height\": 200, \"title\": \"Number of Pipelines\", \"$schema\": \"https://vega.github.io/schema/vega-lite/v4.8.1.json\", \"datasets\": {\"data-3f56127ec88af537577edcbb15a7c205\": [{\"method\": \"Automatic\", \"pipelines\": 55}, {\"method\": \"Manual\", \"pipelines\": 31}]}}, {\"mode\": \"vega-lite\"});\n",
       "</script>"
      ],
      "text/plain": [
       "alt.LayerChart(...)"
      ]
     },
     "execution_count": 137,
     "metadata": {},
     "output_type": "execute_result"
    }
   ],
   "source": [
    "bars = alt.Chart(pipelines_counter).mark_bar().encode(x='method:N', y='pipelines:Q')\n",
    "text = bars.mark_text(align='center', baseline='middle').encode(text='pipelines:Q')\n",
    "(bars + text).properties(height=200, title='Number of Pipelines')"
   ]
  },
  {
   "cell_type": "code",
   "execution_count": 121,
   "metadata": {},
   "outputs": [],
   "source": [
    "def load_automatic_patterns(dataset_path, target_column, task_keywords):\n",
    "    pipelines = load_related_pipelines(dataset_path, target_column, task_keywords)\n",
    "    patterns, _ = extract_patterns(pipelines)\n",
    "    \n",
    "    return patterns\n",
    "\n",
    "def load_manual_patterns(task_name, encoders, use_imputer):\n",
    "    grammar_path = '/Users/rlopez/D3M/alphad3m/resource/base_grammar.bnf'\n",
    "    task_pattern = ''\n",
    "    with open(grammar_path) as fin:\n",
    "        for pattern in fin.readlines():\n",
    "            if pattern.startswith(task_name + ' -> '):\n",
    "                task_pattern = pattern.replace(task_name + ' -> ', '').rstrip()\n",
    "                if not use_imputer:\n",
    "                    task_pattern = task_pattern.replace('IMPUTATION ', '')\n",
    "                if len(encoders) == 0:\n",
    "                    task_pattern = task_pattern.replace('ENCODERS ', '')\n",
    "                else:\n",
    "                    task_pattern = task_pattern.replace('ENCODERS', ' '.join(encoders))\n",
    "                    \n",
    "    task_pattern = task_pattern.split(' ')\n",
    "    patterns = [task_pattern]\n",
    "    empty_elements = ['FEATURE_SCALING', 'FEATURE_SELECTION']\n",
    "    for empty_element in empty_elements:\n",
    "        if empty_element in task_pattern:\n",
    "            new_pattern = [i for i in task_pattern if i != empty_element]\n",
    "            patterns.append(new_pattern)\n",
    "    if all(i in task_pattern for i in empty_elements):\n",
    "        new_pattern = [i for i in task_pattern if i not in empty_elements]\n",
    "        patterns.append(new_pattern)\n",
    "        \n",
    "    return patterns\n",
    "\n",
    "def calculate_coverage(target_patterns, base_patterns, ordered=False):\n",
    "    if ordered:\n",
    "        target_patterns_c, base_patterns_c = target_patterns, base_patterns\n",
    "    else:\n",
    "        target_patterns_c, base_patterns_c = [sorted(i) for i in target_patterns], [sorted(i) for i in base_patterns]\n",
    "    count = 0\n",
    "    for index, target_pattern in enumerate(target_patterns_c):\n",
    "        if target_pattern in base_patterns_c:\n",
    "            count +=1\n",
    "        else:\n",
    "            print('Not found:', target_patterns[index])\n",
    "    total = float(len(target_patterns_c))\n",
    "    \n",
    "    print('Coverage: %2.f%%' % (count * 100 / total))"
   ]
  },
  {
   "cell_type": "code",
   "execution_count": null,
   "metadata": {},
   "outputs": [],
   "source": []
  }
 ],
 "metadata": {
  "kernelspec": {
   "display_name": "Python 3",
   "language": "python",
   "name": "python3"
  },
  "language_info": {
   "codemirror_mode": {
    "name": "ipython",
    "version": 3
   },
   "file_extension": ".py",
   "mimetype": "text/x-python",
   "name": "python",
   "nbconvert_exporter": "python",
   "pygments_lexer": "ipython3",
   "version": "3.6.5"
  }
 },
 "nbformat": 4,
 "nbformat_minor": 2
}
