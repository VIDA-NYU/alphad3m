{
 "cells": [
  {
   "cell_type": "code",
   "execution_count": 13,
   "metadata": {},
   "outputs": [],
   "source": [
    "from alphad3m.metalearning.grammar_builder import load_related_pipelines, extract_patterns\n",
    "from IPython.display import IFrame"
   ]
  },
  {
   "cell_type": "markdown",
   "metadata": {},
   "source": [
    "# From Manual to Automatic Grammar"
   ]
  },
  {
   "cell_type": "markdown",
   "metadata": {},
   "source": [
    "#### Manual grammar:"
   ]
  },
  {
   "cell_type": "markdown",
   "metadata": {},
   "source": [
    "S -> IMPUTATION ENCODERS FEATURE_SCALING FEATURE_SELECTION CLASSIFICATION\n",
    "ENCODERS -> TEXT_FEATURIZER CATEGORICAL_ENCODER\n",
    "IMPUTATION -> 'd3m.primitives.data_cleaning.imputer.SKlearn'\n",
    "FEATURE_SELECTION -> 'd3m.primitives.feature_selection.generic_univariate_select.SKlearn'\n",
    "FEATURE_SELECTION -> 'd3m.primitives.feature_selection.select_fwe.SKlearn'\n",
    "FEATURE_SELECTION -> 'd3m.primitives.feature_selection.select_percentile.SKlearn'\n",
    "FEATURE_SELECTION -> 'd3m.primitives.feature_selection.variance_threshold.SKlearn'\n",
    "FEATURE_SELECTION -> 'E'\n",
    "FEATURE_SCALING -> 'd3m.primitives.data_cleaning.max_abs_scaler.SKlearn'\n",
    "FEATURE_SCALING -> 'd3m.primitives.data_cleaning.min_max_scaler.SKlearn'\n",
    "FEATURE_SCALING -> 'd3m.primitives.data_cleaning.robust_scaler.SKlearn'\n",
    "FEATURE_SCALING -> 'd3m.primitives.data_cleaning.standard_scaler.SKlearn'\n",
    "FEATURE_SCALING -> 'E'\n",
    "CLASSIFICATION -> 'd3m.primitives.classification.ada_boost.SKlearn'\n",
    "CLASSIFICATION -> 'd3m.primitives.classification.bagging.SKlearn'\n",
    "CLASSIFICATION -> 'd3m.primitives.classification.bernoulli_naive_bayes.SKlearn'\n",
    "CLASSIFICATION -> 'd3m.primitives.classification.decision_tree.SKlearn'\n",
    "CLASSIFICATION -> 'd3m.primitives.classification.extra_trees.SKlearn'\n",
    "CLASSIFICATION -> 'd3m.primitives.classification.gaussian_naive_bayes.SKlearn'\n",
    "CLASSIFICATION -> 'd3m.primitives.classification.gradient_boosting.SKlearn'\n",
    "CLASSIFICATION -> 'd3m.primitives.classification.linear_discriminant_analysis.SKlearn'\n",
    "CLASSIFICATION -> 'd3m.primitives.classification.linear_svc.SKlearn'\n",
    "CLASSIFICATION -> 'd3m.primitives.classification.logistic_regression.SKlearn'\n",
    "CLASSIFICATION -> 'd3m.primitives.classification.multinomial_naive_bayes.SKlearn'\n",
    "CLASSIFICATION -> 'd3m.primitives.classification.passive_aggressive.SKlearn'\n",
    "CLASSIFICATION -> 'd3m.primitives.classification.quadratic_discriminant_analysis.SKlearn'\n",
    "CLASSIFICATION -> 'd3m.primitives.classification.random_forest.SKlearn'\n",
    "CLASSIFICATION -> 'd3m.primitives.classification.sgd.SKlearn'\n",
    "CLASSIFICATION -> 'd3m.primitives.classification.svc.SKlearn'\n",
    "CLASSIFICATION -> 'd3m.primitives.classification.light_gbm.Common'\n",
    "CLASSIFICATION -> 'd3m.primitives.classification.xgboost_dart.Common'\n",
    "CLASSIFICATION -> 'd3m.primitives.classification.xgboost_gbtree.Common'\n",
    "CATEGORICAL_ENCODER -> 'd3m.primitives.data_transformation.one_hot_encoder.SKlearn'\n",
    "TEXT_FEATURIZER -> 'd3m.primitives.feature_extraction.tfidf_vectorizer.SKlearn'\n",
    "TEXT_FEATURIZER -> 'd3m.primitives.data_transformation.encoder.DistilTextEncoder'\n",
    "TEXT_FEATURIZER -> 'd3m.primitives.feature_construction.corex_text.DSBOX'"
   ]
  },
  {
   "cell_type": "markdown",
   "metadata": {},
   "source": [
    "#### Steps to build the automatic grammar:"
   ]
  },
  {
   "cell_type": "markdown",
   "metadata": {},
   "source": [
    "1. Select pipelines that solve similar problems (task-oriented)\n",
    "    - Info from problem: task keywords\n",
    "    - Info from dataset: semantic types, missing values\n",
    "2. Create a portfolio of pipelines\n",
    "    - Auto-Sklearn uses a metric named \"distance to minimum\" (transform the performances to the distance to the \n",
    "      best observed performance)\n",
    "3. Transform the pipelines to their types\n",
    "    - 'imputer.SKlearn 'random_forest.SKlearn' -> IMPUTATION CLASSIFICATION\n",
    "4. Use \"primitive importance\" to prioritize primitives\n",
    "    - Try first Random Forest, then xgboost, etc."
   ]
  },
  {
   "cell_type": "code",
   "execution_count": 39,
   "metadata": {
    "scrolled": true
   },
   "outputs": [
    {
     "name": "stderr",
     "output_type": "stream",
     "text": [
      "2021-09-28 23:15:05,785 INFO Loading primitives info from file\n",
      "2021-09-28 23:15:05,788 INFO Loading primitives info from file\n",
      "2021-09-28 23:15:05,789 INFO Loading pipelines from metalearning database...\n",
      "2021-09-28 23:15:28,564 INFO Found 917890 pipelines in metalearning database\n",
      "2021-09-28 23:15:28,566 INFO File size: 119402 bytes\n",
      "2021-09-28 23:15:28,568 INFO Loading dataframe...\n",
      "2021-09-28 23:15:28,591 INFO Dataframe loaded, 1073 rows, 19 columns\n",
      "2021-09-28 23:15:28,593 INFO Setting column names from header\n",
      "2021-09-28 23:15:28,594 INFO Identifying types, 19 columns...\n",
      "2021-09-28 23:15:28,596 INFO Processing column 0 'd3mIndex'...\n",
      "2021-09-28 23:15:28,677 INFO Column type http://schema.org/Integer [http://schema.org/identifier]\n",
      "2021-09-28 23:15:28,678 INFO Processing column 1 'Player'...\n",
      "2021-09-28 23:15:28,719 INFO Column type http://schema.org/Text []\n",
      "2021-09-28 23:15:28,719 INFO Processing column 2 'Number_seasons'...\n",
      "2021-09-28 23:15:28,787 INFO Column type http://schema.org/Integer []\n",
      "2021-09-28 23:15:28,787 INFO Processing column 3 'Games_played'...\n",
      "2021-09-28 23:15:28,871 INFO Column type http://schema.org/Integer []\n",
      "2021-09-28 23:15:28,874 INFO Processing column 4 'At_bats'...\n",
      "2021-09-28 23:15:28,953 INFO Column type http://schema.org/Integer []\n",
      "2021-09-28 23:15:28,954 INFO Processing column 5 'Runs'...\n",
      "2021-09-28 23:15:29,033 INFO Column type http://schema.org/Integer []\n",
      "2021-09-28 23:15:29,034 INFO Processing column 6 'Hits'...\n",
      "2021-09-28 23:15:29,117 INFO Column type http://schema.org/Integer []\n",
      "2021-09-28 23:15:29,118 INFO Processing column 7 'Doubles'...\n",
      "2021-09-28 23:15:29,198 INFO Column type http://schema.org/Integer []\n",
      "2021-09-28 23:15:29,199 INFO Processing column 8 'Triples'...\n",
      "2021-09-28 23:15:29,272 INFO Column type http://schema.org/Integer []\n",
      "2021-09-28 23:15:29,272 INFO Processing column 9 'Home_runs'...\n",
      "2021-09-28 23:15:29,347 INFO Column type http://schema.org/Integer []\n",
      "2021-09-28 23:15:29,348 INFO Processing column 10 'RBIs'...\n",
      "2021-09-28 23:15:29,427 INFO Column type http://schema.org/Integer []\n",
      "2021-09-28 23:15:29,427 INFO Processing column 11 'Walks'...\n",
      "2021-09-28 23:15:29,507 INFO Column type http://schema.org/Integer []\n",
      "2021-09-28 23:15:29,508 INFO Processing column 12 'Strikeouts'...\n",
      "2021-09-28 23:15:29,589 INFO Column type http://schema.org/Integer []\n",
      "2021-09-28 23:15:29,590 INFO Processing column 13 'Batting_average'...\n",
      "2021-09-28 23:15:29,636 INFO Column type http://schema.org/Float []\n",
      "2021-09-28 23:15:29,637 INFO Processing column 14 'On_base_pct'...\n",
      "2021-09-28 23:15:29,685 INFO Column type http://schema.org/Float []\n",
      "2021-09-28 23:15:29,686 INFO Processing column 15 'Slugging_pct'...\n",
      "2021-09-28 23:15:29,735 INFO Column type http://schema.org/Float []\n",
      "2021-09-28 23:15:29,735 INFO Processing column 16 'Fielding_ave'...\n",
      "2021-09-28 23:15:29,783 INFO Column type http://schema.org/Float []\n",
      "2021-09-28 23:15:29,783 INFO Processing column 17 'Position'...\n",
      "2021-09-28 23:15:29,819 INFO Column type http://schema.org/Text [http://schema.org/Enumeration]\n",
      "2021-09-28 23:15:29,820 INFO Processing column 18 'Hall_of_Fame'...\n",
      "2021-09-28 23:15:29,862 INFO Column type http://schema.org/Integer []\n",
      "2021-09-28 23:15:29,904 INFO Found 11 similar datasets\n",
      "2021-09-28 23:15:29,905 INFO Similar datasets:\n",
      "[('185_baseball', 1.0), ('185_baseball_MIN_METADATA', 1.0), ('LL1_h1b_visa_apps_7480', 0.94868), ('57_hypothyroid_MIN_METADATA', 0.88889), ('27_wordLevels', 0.88192), ('27_wordLevels_MIN_METADATA', 0.88192), ('LL0_186_braziltourism_MIN_METADATA', 0.82496), ('1491_one_hundred_plants_margin', 0.8165), ('1491_one_hundred_plants_margin_MIN_METADATA', 0.8165), ('LL0_1100_popularkids', 0.8165), ('LL0_1100_popularkids_MIN_METADATA', 0.8165)]\n",
      "2021-09-28 23:15:32,702 INFO Found 20238 related pipelines\n"
     ]
    }
   ],
   "source": [
    "dataset_path = '/Users/rlopez/D3M/datasets/seed_datasets_current/185_baseball_MIN_METADATA/TRAIN/dataset_TRAIN/tables/learningData.csv'\n",
    "target_column = 'Hall_of_Fame'\n",
    "task_keywords = ['classification', 'multiClass', 'tabular']\n",
    "pipelines = load_related_pipelines(dataset_path, target_column, task_keywords)"
   ]
  },
  {
   "cell_type": "markdown",
   "metadata": {},
   "source": [
    "#### Automatic grammar:"
   ]
  },
  {
   "cell_type": "markdown",
   "metadata": {},
   "source": [
    "S -> NUMERICAL_METHOD DATA_CONVERSION CATEGORICAL_ENCODER DATA_CONVERSION IMPUTATION FEATURE_SCALING DATA_CONVERSION FEATURE_SELECTION CLASSIFICATION\n",
    "S -> TEXT_FEATURIZER CATEGORICAL_ENCODER FEATURE_SCALING IMPUTATION FEATURE_SELECTION CLASSIFICATION\n",
    "S -> IMPUTATION TEXT_FEATURIZER CATEGORICAL_ENCODER FEATURE_SCALING CLASSIFICATION\n",
    "S -> IMPUTATION CATEGORICAL_ENCODER DATA_CONVERSION FEATURE_SCALING CLASSIFICATION\n",
    "S -> IMPUTATION CATEGORICAL_ENCODER DIMENSIONALITY_REDUCTION CLASSIFICATION\n",
    "S -> IMPUTATION CATEGORICAL_ENCODER FEATURE_SELECTION CLASSIFICATION\n",
    "S -> FEATURE_SELECTION IMPUTATION CLASSIFICATION\n",
    "CATEGORICAL_ENCODER -> 'd3m.primitives.data_transformation.encoder.DSBOX'\n",
    "CATEGORICAL_ENCODER -> 'd3m.primitives.data_transformation.one_hot_encoder.DistilOneHotEncoder'\n",
    "CATEGORICAL_ENCODER -> 'd3m.primitives.data_transformation.one_hot_encoder.SKlearn'\n",
    "CATEGORICAL_ENCODER -> 'd3m.primitives.data_transformation.unary_encoder.DSBOX'\n",
    "CATEGORICAL_ENCODER -> 'E'\n",
    "CLASSIFICATION -> 'd3m.primitives.classification.ada_boost.SKlearn'\n",
    "CLASSIFICATION -> 'd3m.primitives.classification.bagging.SKlearn'\n",
    "CLASSIFICATION -> 'd3m.primitives.classification.decision_tree.SKlearn'\n",
    "CLASSIFICATION -> 'd3m.primitives.classification.extra_trees.SKlearn'\n",
    "CLASSIFICATION -> 'd3m.primitives.classification.gradient_boosting.SKlearn'\n",
    "CLASSIFICATION -> 'd3m.primitives.classification.k_neighbors.SKlearn'\n",
    "CLASSIFICATION -> 'd3m.primitives.classification.light_gbm.Common'\n",
    "CLASSIFICATION -> 'd3m.primitives.classification.linear_discriminant_analysis.SKlearn'\n",
    "CLASSIFICATION -> 'd3m.primitives.classification.linear_svc.SKlearn'\n",
    "CLASSIFICATION -> 'd3m.primitives.classification.logistic_regression.SKlearn'\n",
    "CLASSIFICATION -> 'd3m.primitives.classification.mlp.SKlearn'\n",
    "CLASSIFICATION -> 'd3m.primitives.classification.nearest_centroid.SKlearn'\n",
    "CLASSIFICATION -> 'd3m.primitives.classification.random_forest.Common'\n",
    "CLASSIFICATION -> 'd3m.primitives.classification.random_forest.SKlearn'\n",
    "CLASSIFICATION -> 'd3m.primitives.classification.search_hybrid.Find_projections'\n",
    "CLASSIFICATION -> 'd3m.primitives.classification.sgd.SKlearn'\n",
    "CLASSIFICATION -> 'd3m.primitives.classification.svc.SKlearn'\n",
    "CLASSIFICATION -> 'd3m.primitives.classification.xgboost_dart.Common'\n",
    "CLASSIFICATION -> 'd3m.primitives.classification.xgboost_gbtree.Common'\n",
    "DATA_CONVERSION -> 'd3m.primitives.data_cleaning.cleaning_featurizer.DSBOX'\n",
    "DATA_CONVERSION -> 'd3m.primitives.data_transformation.to_numeric.DSBOX'\n",
    "DATA_CONVERSION -> 'E'\n",
    "DIMENSIONALITY_REDUCTION -> 'd3m.primitives.feature_extraction.pca.SKlearn'\n",
    "DIMENSIONALITY_REDUCTION -> 'd3m.primitives.feature_selection.pca_features.Pcafeatures'\n",
    "DIMENSIONALITY_REDUCTION -> 'E'\n",
    "FEATURE_SCALING -> 'd3m.primitives.data_cleaning.min_max_scaler.SKlearn'\n",
    "FEATURE_SCALING -> 'd3m.primitives.data_cleaning.quantile_transformer.SKlearn'\n",
    "FEATURE_SCALING -> 'd3m.primitives.data_cleaning.robust_scaler.SKlearn'\n",
    "FEATURE_SCALING -> 'd3m.primitives.data_cleaning.standard_scaler.SKlearn'\n",
    "FEATURE_SCALING -> 'd3m.primitives.normalization.iqr_scaler.DSBOX'\n",
    "FEATURE_SCALING -> 'E'\n",
    "FEATURE_SELECTION -> 'd3m.primitives.feature_selection.joint_mutual_information.AutoRPI'\n",
    "FEATURE_SELECTION -> 'd3m.primitives.feature_selection.rffeatures.Rffeatures'\n",
    "FEATURE_SELECTION -> 'd3m.primitives.feature_selection.select_fwe.SKlearn'\n",
    "FEATURE_SELECTION -> 'd3m.primitives.feature_selection.select_percentile.SKlearn'\n",
    "FEATURE_SELECTION -> 'd3m.primitives.feature_selection.simultaneous_markov_blanket.AutoRPI'\n",
    "FEATURE_SELECTION -> 'd3m.primitives.feature_selection.variance_threshold.SKlearn'\n",
    "FEATURE_SELECTION -> 'E'\n",
    "IMPUTATION -> 'd3m.primitives.data_cleaning.imputer.SKlearn'\n",
    "IMPUTATION -> 'd3m.primitives.data_cleaning.iterative_regression_imputation.DSBOX'\n",
    "IMPUTATION -> 'd3m.primitives.data_cleaning.mean_imputation.DSBOX'\n",
    "IMPUTATION -> 'd3m.primitives.data_preprocessing.random_sampling_imputer.BYU'\n",
    "IMPUTATION -> 'E'\n",
    "NUMERICAL_METHOD -> 'd3m.primitives.data_transformation.do_nothing_for_dataset.DSBOX'\n",
    "TEXT_FEATURIZER -> 'd3m.primitives.data_transformation.encoder.DistilTextEncoder'\n",
    "TEXT_FEATURIZER -> 'E'"
   ]
  },
  {
   "cell_type": "markdown",
   "metadata": {},
   "source": [
    "# Coverage of Patterns"
   ]
  },
  {
   "cell_type": "markdown",
   "metadata": {},
   "source": [
    "#### Simple dataset:"
   ]
  },
  {
   "cell_type": "code",
   "execution_count": 24,
   "metadata": {},
   "outputs": [],
   "source": [
    "task_name = 'CLASSIFICATION_TASK'\n",
    "encoders = [] \n",
    "use_imputer = True\n",
    "dataset_path = '/Users/rlopez/D3M/datasets/seed_datasets_current/LL0_186_braziltourism_MIN_METADATA/TRAIN/dataset_TRAIN/tables/learningData.csv'\n",
    "target_column = 'Trips'\n",
    "task_keywords = ['classification', 'multiClass', 'tabular']"
   ]
  },
  {
   "cell_type": "code",
   "execution_count": 26,
   "metadata": {},
   "outputs": [],
   "source": [
    "manual_patterns = load_manual_patterns(task_name, encoders, use_imputer)"
   ]
  },
  {
   "cell_type": "code",
   "execution_count": 25,
   "metadata": {
    "scrolled": true
   },
   "outputs": [
    {
     "name": "stderr",
     "output_type": "stream",
     "text": [
      "2021-09-28 16:10:57,737 INFO Loading primitives info from file\n",
      "2021-09-28 16:10:57,740 INFO Loading primitives info from file\n",
      "2021-09-28 16:10:57,741 INFO Loading pipelines from metalearning database...\n",
      "2021-09-28 16:11:36,990 INFO Found 917890 pipelines in metalearning database\n",
      "2021-09-28 16:11:37,004 INFO File size: 16646 bytes\n",
      "2021-09-28 16:11:37,007 INFO Loading dataframe...\n",
      "2021-09-28 16:11:37,025 INFO Dataframe loaded, 330 rows, 10 columns\n",
      "2021-09-28 16:11:37,026 INFO Setting column names from header\n",
      "2021-09-28 16:11:37,027 INFO Identifying types, 10 columns...\n",
      "2021-09-28 16:11:37,028 INFO Processing column 0 'd3mIndex'...\n",
      "2021-09-28 16:11:37,059 INFO Column type http://schema.org/Integer [http://schema.org/identifier]\n",
      "2021-09-28 16:11:37,059 INFO Processing column 1 'Age'...\n",
      "2021-09-28 16:11:37,088 INFO Column type http://schema.org/Integer []\n",
      "2021-09-28 16:11:37,089 INFO Processing column 2 'Sex'...\n",
      "2021-09-28 16:11:37,111 INFO Column type http://schema.org/Integer []\n",
      "2021-09-28 16:11:37,111 INFO Processing column 3 'Income'...\n",
      "2021-09-28 16:11:37,137 INFO Column type http://schema.org/Float []\n",
      "2021-09-28 16:11:37,138 INFO Processing column 4 'Travel_cost'...\n",
      "2021-09-28 16:11:37,170 INFO Column type http://schema.org/Float []\n",
      "2021-09-28 16:11:37,171 INFO Processing column 5 'Access_road'...\n",
      "2021-09-28 16:11:37,188 INFO Column type http://schema.org/Integer [http://schema.org/Boolean]\n",
      "2021-09-28 16:11:37,189 INFO Processing column 6 'Active'...\n",
      "2021-09-28 16:11:37,212 INFO Column type http://schema.org/Integer []\n",
      "2021-09-28 16:11:37,212 INFO Processing column 7 'Passive'...\n",
      "2021-09-28 16:11:37,234 INFO Column type http://schema.org/Integer []\n",
      "2021-09-28 16:11:37,235 INFO Processing column 8 'Logged_income'...\n",
      "2021-09-28 16:11:37,263 INFO Column type http://schema.org/Float []\n",
      "2021-09-28 16:11:37,265 INFO Processing column 9 'Trips'...\n",
      "2021-09-28 16:11:37,282 INFO Column type http://schema.org/Integer []\n",
      "2021-09-28 16:11:37,326 INFO Found 9 similar datasets\n",
      "2021-09-28 16:11:37,327 INFO Similar datasets:\n",
      "[('LL0_186_braziltourism_MIN_METADATA', 1.0), ('LL1_h1b_visa_apps_7480', 0.89443), ('SEMI_1044_eye_movements', 0.875), ('SEMI_1044_eye_movements_MIN_METADATA', 0.875), ('1491_one_hundred_plants_margin', 0.86603), ('1491_one_hundred_plants_margin_MIN_METADATA', 0.86603), ('185_baseball', 0.82496), ('185_baseball_MIN_METADATA', 0.82496), ('57_hypothyroid_MIN_METADATA', 0.82496)]\n",
      "2021-09-28 16:11:57,763 INFO Found 12028 related pipelines\n",
      "2021-09-28 16:12:01,825 INFO Loading primitives info from file\n",
      "2021-09-28 16:12:01,888 INFO Found 986 different patterns, after creating the portfolio\n",
      "2021-09-28 16:12:01,890 INFO Found 108 different patterns, after removing uncommon patterns\n",
      "2021-09-28 16:12:01,891 INFO Found 30 different patterns, after blacklisting primitives\n",
      "2021-09-28 16:12:01,893 INFO Found 29 different patterns, after removing low-performance patterns\n",
      "2021-09-28 16:12:01,894 INFO Found 25 different patterns, after removing low-variability patterns\n",
      "2021-09-28 16:12:01,910 INFO Patterns:\n",
      "structure: [CLASSIFICATION], frequency: 8, mean_score: 0.824, mean_adtm: 0.165\n",
      "structure: [IMPUTATION, DIMENSIONALITY_REDUCTION, CLASSIFICATION], frequency: 6, mean_score: 0.788, mean_adtm: 0.168\n",
      "structure: [FEATURE_SCALING, IMPUTATION, CLASSIFICATION], frequency: 20, mean_score: 0.750, mean_adtm: 0.217\n",
      "structure: [FEATURE_SELECTION, CLASSIFICATION], frequency: 6, mean_score: 0.748, mean_adtm: 0.169\n",
      "structure: [IMPUTATION, TEXT_FEATURIZER, CATEGORICAL_ENCODER, CLASSIFICATION], frequency: 5, mean_score: 0.732, mean_adtm: 0.134\n",
      "structure: [IMPUTATION, CATEGORICAL_ENCODER, DATA_CONVERSION, FEATURE_SCALING, CLASSIFICATION], frequency: 19, mean_score: 0.730, mean_adtm: 0.195\n",
      "structure: [IMPUTATION, FEATURE_SELECTION, CLASSIFICATION], frequency: 8, mean_score: 0.711, mean_adtm: 0.204\n",
      "structure: [IMPUTATION, CATEGORICAL_ENCODER, FEATURE_SCALING, CLASSIFICATION], frequency: 63, mean_score: 0.690, mean_adtm: 0.206\n",
      "structure: [TEXT_FEATURIZER, CATEGORICAL_ENCODER, FEATURE_SCALING, IMPUTATION, FEATURE_SELECTION, CLASSIFICATION], frequency: 17, mean_score: 0.690, mean_adtm: 0.144\n",
      "structure: [IMPUTATION, CATEGORICAL_ENCODER, CLASSIFICATION], frequency: 12, mean_score: 0.679, mean_adtm: 0.223\n",
      "structure: [NUMERICAL_METHOD, DATA_CONVERSION, CATEGORICAL_ENCODER, DATA_CONVERSION, IMPUTATION, FEATURE_SCALING, DATA_CONVERSION, FEATURE_SELECTION, CLASSIFICATION], frequency: 51, mean_score: 0.664, mean_adtm: 0.247\n",
      "structure: [IMPUTATION, CATEGORICAL_ENCODER, FEATURE_EXTRACTION, CLASSIFICATION], frequency: 10, mean_score: 0.652, mean_adtm: 0.258\n",
      "structure: [IMPUTATION, CATEGORICAL_ENCODER, FEATURE_SELECTION, CLASSIFICATION], frequency: 21, mean_score: 0.648, mean_adtm: 0.249\n",
      "structure: [IMPUTATION, FEATURE_SCALING, CLASSIFICATION], frequency: 7, mean_score: 0.633, mean_adtm: 0.217\n",
      "structure: [FEATURE_SCALING, IMPUTATION, FEATURE_SELECTION, CLASSIFICATION], frequency: 7, mean_score: 0.633, mean_adtm: 0.210\n",
      "structure: [IMPUTATION, CATEGORICAL_ENCODER, DIMENSIONALITY_REDUCTION, CLASSIFICATION], frequency: 17, mean_score: 0.632, mean_adtm: 0.273\n",
      "structure: [IMPUTATION, TEXT_FEATURIZER, CATEGORICAL_ENCODER, FEATURE_SCALING, CLASSIFICATION], frequency: 10, mean_score: 0.630, mean_adtm: 0.163\n",
      "structure: [IMPUTATION, CLASSIFICATION], frequency: 30, mean_score: 0.623, mean_adtm: 0.215\n",
      "structure: [IMPUTATION, TEXT_FEATURIZER, CLASSIFICATION], frequency: 37, mean_score: 0.615, mean_adtm: 0.272\n",
      "structure: [TEXT_FEATURIZER, CATEGORICAL_ENCODER, FEATURE_SCALING, IMPUTATION, CLASSIFICATION], frequency: 25, mean_score: 0.602, mean_adtm: 0.149\n",
      "structure: [FEATURE_SELECTION, IMPUTATION, CLASSIFICATION], frequency: 47, mean_score: 0.594, mean_adtm: 0.262\n",
      "structure: [FEATURE_CONSTRUCTION, CLASSIFICATION], frequency: 8, mean_score: 0.586, mean_adtm: 0.298\n",
      "structure: [METALEARNING, IMPUTATION, CLASSIFICATION], frequency: 15, mean_score: 0.578, mean_adtm: 0.289\n",
      "structure: [IMPUTATION, DATA_CONVERSION, FEATURE_SCALING, CLASSIFICATION], frequency: 6, mean_score: 0.565, mean_adtm: 0.176\n",
      "structure: [IMPUTATION, SEMISUPERVISED_CLASSIFICATION], frequency: 13, mean_score: 0.540, mean_adtm: 0.161\n",
      "2021-09-28 16:12:01,912 INFO Hierarchy:\n",
      "CATEGORICAL_ENCODER:\n",
      "d3m.primitives.data_transformation.encoder.DSBOX, d3m.primitives.data_transformation.one_hot_encoder.DistilOneHotEncoder, d3m.primitives.data_transformation.one_hot_encoder.SKlearn, d3m.primitives.data_transformation.unary_encoder.DSBOX\n",
      "CLASSIFICATION:\n",
      "d3m.primitives.classification.ada_boost.SKlearn, d3m.primitives.classification.bagging.SKlearn, d3m.primitives.classification.decision_tree.SKlearn, d3m.primitives.classification.extra_trees.SKlearn, d3m.primitives.classification.gaussian_naive_bayes.SKlearn, d3m.primitives.classification.gradient_boosting.SKlearn, d3m.primitives.classification.k_neighbors.SKlearn, d3m.primitives.classification.light_gbm.Common, d3m.primitives.classification.linear_discriminant_analysis.SKlearn, d3m.primitives.classification.linear_svc.SKlearn, d3m.primitives.classification.logistic_regression.SKlearn, d3m.primitives.classification.mlp.BBNMLPClassifier, d3m.primitives.classification.mlp.SKlearn, d3m.primitives.classification.nearest_centroid.SKlearn, d3m.primitives.classification.random_forest.Common, d3m.primitives.classification.random_forest.SKlearn, d3m.primitives.classification.search_hybrid.Find_projections, d3m.primitives.classification.sgd.SKlearn, d3m.primitives.classification.svc.SKlearn, d3m.primitives.classification.xgboost_dart.Common, d3m.primitives.classification.xgboost_gbtree.Common\n",
      "DATA_CONVERSION:\n",
      "d3m.primitives.data_cleaning.cleaning_featurizer.DSBOX, d3m.primitives.data_transformation.to_numeric.DSBOX\n",
      "DIMENSIONALITY_REDUCTION:\n",
      "d3m.primitives.feature_extraction.pca.SKlearn, d3m.primitives.feature_selection.pca_features.Pcafeatures\n",
      "FEATURE_CONSTRUCTION:\n",
      "d3m.primitives.feature_construction.deep_feature_synthesis.SingleTableFeaturization\n",
      "FEATURE_EXTRACTION:\n",
      "d3m.primitives.feature_extraction.kernel_pca.SKlearn\n",
      "FEATURE_SCALING:\n",
      "d3m.primitives.data_cleaning.min_max_scaler.SKlearn, d3m.primitives.data_cleaning.quantile_transformer.SKlearn, d3m.primitives.data_cleaning.robust_scaler.SKlearn, d3m.primitives.data_cleaning.standard_scaler.SKlearn, d3m.primitives.normalization.iqr_scaler.DSBOX\n",
      "FEATURE_SELECTION:\n",
      "d3m.primitives.feature_selection.joint_mutual_information.AutoRPI, d3m.primitives.feature_selection.rffeatures.Rffeatures, d3m.primitives.feature_selection.select_fwe.SKlearn, d3m.primitives.feature_selection.select_percentile.SKlearn, d3m.primitives.feature_selection.simultaneous_markov_blanket.AutoRPI, d3m.primitives.feature_selection.skfeature.Common, d3m.primitives.feature_selection.variance_threshold.SKlearn\n",
      "IMPUTATION:\n",
      "d3m.primitives.data_cleaning.imputer.SKlearn, d3m.primitives.data_cleaning.iterative_regression_imputation.DSBOX, d3m.primitives.data_cleaning.mean_imputation.DSBOX, d3m.primitives.data_preprocessing.random_sampling_imputer.BYU\n",
      "METALEARNING:\n",
      "d3m.primitives.metalearning.metafeature_extractor.BYU\n",
      "NUMERICAL_METHOD:\n",
      "d3m.primitives.data_transformation.do_nothing_for_dataset.DSBOX\n",
      "SEMISUPERVISED_CLASSIFICATION:\n",
      "d3m.primitives.semisupervised_classification.iterative_labeling.AutonBox\n",
      "TEXT_FEATURIZER:\n",
      "d3m.primitives.data_transformation.encoder.DistilTextEncoder\n"
     ]
    }
   ],
   "source": [
    "automatic_patterns = load_automatic_patterns(dataset_path, target_column, task_keywords)"
   ]
  },
  {
   "cell_type": "code",
   "execution_count": 27,
   "metadata": {},
   "outputs": [
    {
     "name": "stdout",
     "output_type": "stream",
     "text": [
      "Coverage: 100%\n"
     ]
    }
   ],
   "source": [
    "calculate_coverage(manual_patterns, automatic_patterns)"
   ]
  },
  {
   "cell_type": "markdown",
   "metadata": {},
   "source": [
    "#### Regular dataset:"
   ]
  },
  {
   "cell_type": "code",
   "execution_count": 47,
   "metadata": {},
   "outputs": [],
   "source": [
    "task_name = 'CLASSIFICATION_TASK'\n",
    "encoders = ['TEXT_FEATURIZER', 'CATEGORICAL_ENCODER'] \n",
    "use_imputer = True\n",
    "dataset_path = '/Users/rlopez/D3M/datasets/seed_datasets_current/185_baseball_MIN_METADATA/TRAIN/dataset_TRAIN/tables/learningData.csv'\n",
    "target_column = 'Hall_of_Fame'\n",
    "task_keywords = ['classification', 'multiClass', 'tabular']"
   ]
  },
  {
   "cell_type": "code",
   "execution_count": 48,
   "metadata": {},
   "outputs": [],
   "source": [
    "manual_patterns = load_manual_patterns(task_name, encoders, use_imputer)"
   ]
  },
  {
   "cell_type": "code",
   "execution_count": 49,
   "metadata": {
    "scrolled": true
   },
   "outputs": [
    {
     "name": "stderr",
     "output_type": "stream",
     "text": [
      "2021-09-29 10:35:06,860 INFO Loading primitives info from file\n",
      "2021-09-29 10:35:06,875 INFO Loading primitives info from file\n",
      "2021-09-29 10:35:06,895 INFO Loading pipelines from metalearning database...\n",
      "2021-09-29 10:35:35,179 INFO Found 917890 pipelines in metalearning database\n",
      "2021-09-29 10:35:35,181 INFO File size: 119402 bytes\n",
      "2021-09-29 10:35:35,185 INFO Loading dataframe...\n",
      "2021-09-29 10:35:35,251 INFO Dataframe loaded, 1073 rows, 19 columns\n",
      "2021-09-29 10:35:35,252 INFO Setting column names from header\n",
      "2021-09-29 10:35:35,253 INFO Identifying types, 19 columns...\n",
      "2021-09-29 10:35:35,255 INFO Processing column 0 'd3mIndex'...\n",
      "2021-09-29 10:35:35,362 INFO Column type http://schema.org/Integer [http://schema.org/identifier]\n",
      "2021-09-29 10:35:35,363 INFO Processing column 1 'Player'...\n",
      "2021-09-29 10:35:35,414 INFO Column type http://schema.org/Text []\n",
      "2021-09-29 10:35:35,415 INFO Processing column 2 'Number_seasons'...\n",
      "2021-09-29 10:35:35,503 INFO Column type http://schema.org/Integer []\n",
      "2021-09-29 10:35:35,504 INFO Processing column 3 'Games_played'...\n",
      "2021-09-29 10:35:35,601 INFO Column type http://schema.org/Integer []\n",
      "2021-09-29 10:35:35,601 INFO Processing column 4 'At_bats'...\n",
      "2021-09-29 10:35:35,685 INFO Column type http://schema.org/Integer []\n",
      "2021-09-29 10:35:35,686 INFO Processing column 5 'Runs'...\n",
      "2021-09-29 10:35:35,769 INFO Column type http://schema.org/Integer []\n",
      "2021-09-29 10:35:35,770 INFO Processing column 6 'Hits'...\n",
      "2021-09-29 10:35:35,855 INFO Column type http://schema.org/Integer []\n",
      "2021-09-29 10:35:35,856 INFO Processing column 7 'Doubles'...\n",
      "2021-09-29 10:35:35,940 INFO Column type http://schema.org/Integer []\n",
      "2021-09-29 10:35:35,941 INFO Processing column 8 'Triples'...\n",
      "2021-09-29 10:35:36,020 INFO Column type http://schema.org/Integer []\n",
      "2021-09-29 10:35:36,020 INFO Processing column 9 'Home_runs'...\n",
      "2021-09-29 10:35:36,101 INFO Column type http://schema.org/Integer []\n",
      "2021-09-29 10:35:36,102 INFO Processing column 10 'RBIs'...\n",
      "2021-09-29 10:35:36,194 INFO Column type http://schema.org/Integer []\n",
      "2021-09-29 10:35:36,194 INFO Processing column 11 'Walks'...\n",
      "2021-09-29 10:35:36,284 INFO Column type http://schema.org/Integer []\n",
      "2021-09-29 10:35:36,285 INFO Processing column 12 'Strikeouts'...\n",
      "2021-09-29 10:35:36,376 INFO Column type http://schema.org/Integer []\n",
      "2021-09-29 10:35:36,377 INFO Processing column 13 'Batting_average'...\n",
      "2021-09-29 10:35:36,428 INFO Column type http://schema.org/Float []\n",
      "2021-09-29 10:35:36,429 INFO Processing column 14 'On_base_pct'...\n",
      "2021-09-29 10:35:36,485 INFO Column type http://schema.org/Float []\n",
      "2021-09-29 10:35:36,486 INFO Processing column 15 'Slugging_pct'...\n",
      "2021-09-29 10:35:36,540 INFO Column type http://schema.org/Float []\n",
      "2021-09-29 10:35:36,541 INFO Processing column 16 'Fielding_ave'...\n",
      "2021-09-29 10:35:36,597 INFO Column type http://schema.org/Float []\n",
      "2021-09-29 10:35:36,598 INFO Processing column 17 'Position'...\n",
      "2021-09-29 10:35:36,638 INFO Column type http://schema.org/Text [http://schema.org/Enumeration]\n",
      "2021-09-29 10:35:36,639 INFO Processing column 18 'Hall_of_Fame'...\n",
      "2021-09-29 10:35:36,685 INFO Column type http://schema.org/Integer []\n",
      "2021-09-29 10:35:36,734 INFO Found 11 similar datasets\n",
      "2021-09-29 10:35:36,735 INFO Similar datasets:\n",
      "[('185_baseball', 1.0), ('185_baseball_MIN_METADATA', 1.0), ('LL1_h1b_visa_apps_7480', 0.94868), ('57_hypothyroid_MIN_METADATA', 0.88889), ('27_wordLevels', 0.88192), ('27_wordLevels_MIN_METADATA', 0.88192), ('LL0_186_braziltourism_MIN_METADATA', 0.82496), ('1491_one_hundred_plants_margin', 0.8165), ('1491_one_hundred_plants_margin_MIN_METADATA', 0.8165), ('LL0_1100_popularkids', 0.8165), ('LL0_1100_popularkids_MIN_METADATA', 0.8165)]\n",
      "2021-09-29 10:35:39,551 INFO Found 20238 related pipelines\n",
      "2021-09-29 10:35:42,188 INFO Loading primitives info from file\n",
      "2021-09-29 10:35:42,319 INFO Found 1324 different patterns, after creating the portfolio\n",
      "2021-09-29 10:35:42,321 INFO Found 152 different patterns, after removing uncommon patterns\n",
      "2021-09-29 10:35:42,323 INFO Found 30 different patterns, after blacklisting primitives\n",
      "2021-09-29 10:35:42,328 INFO Found 22 different patterns, after removing low-performance patterns\n",
      "2021-09-29 10:35:42,329 INFO Found 16 different patterns, after removing low-variability patterns\n",
      "2021-09-29 10:35:42,349 INFO Patterns:\n",
      "structure: [CLASSIFICATION], frequency: 8, mean_score: 0.824, mean_adtm: 0.165\n",
      "structure: [IMPUTATION, DIMENSIONALITY_REDUCTION, CLASSIFICATION], frequency: 6, mean_score: 0.788, mean_adtm: 0.168\n",
      "structure: [FEATURE_SELECTION, CLASSIFICATION], frequency: 6, mean_score: 0.748, mean_adtm: 0.169\n",
      "structure: [IMPUTATION, FEATURE_SELECTION, CLASSIFICATION], frequency: 8, mean_score: 0.711, mean_adtm: 0.204\n",
      "structure: [TEXT_FEATURIZER, CATEGORICAL_ENCODER, FEATURE_SCALING, IMPUTATION, FEATURE_SELECTION, CLASSIFICATION], frequency: 17, mean_score: 0.690, mean_adtm: 0.144\n",
      "structure: [NUMERICAL_METHOD, DATA_CONVERSION, CATEGORICAL_ENCODER, DATA_CONVERSION, IMPUTATION, FEATURE_SCALING, DATA_CONVERSION, FEATURE_SELECTION, CLASSIFICATION], frequency: 54, mean_score: 0.640, mean_adtm: 0.242\n",
      "structure: [IMPUTATION, TEXT_FEATURIZER, CATEGORICAL_ENCODER, FEATURE_SCALING, CLASSIFICATION], frequency: 10, mean_score: 0.630, mean_adtm: 0.163\n",
      "structure: [TEXT_FEATURIZER, CATEGORICAL_ENCODER, FEATURE_SCALING, IMPUTATION, CLASSIFICATION], frequency: 25, mean_score: 0.602, mean_adtm: 0.149\n",
      "structure: [IMPUTATION, CATEGORICAL_ENCODER, DATA_CONVERSION, FEATURE_SCALING, CLASSIFICATION], frequency: 113, mean_score: 0.579, mean_adtm: 0.207\n",
      "structure: [FEATURE_SELECTION, IMPUTATION, CLASSIFICATION], frequency: 66, mean_score: 0.529, mean_adtm: 0.264\n",
      "structure: [IMPUTATION, CATEGORICAL_ENCODER, DIMENSIONALITY_REDUCTION, CLASSIFICATION], frequency: 7, mean_score: 0.528, mean_adtm: 0.209\n",
      "structure: [IMPUTATION, CLASSIFICATION], frequency: 43, mean_score: 0.527, mean_adtm: 0.225\n",
      "structure: [IMPUTATION, CATEGORICAL_ENCODER, FEATURE_SELECTION, CLASSIFICATION], frequency: 54, mean_score: 0.524, mean_adtm: 0.237\n",
      "structure: [IMPUTATION, CATEGORICAL_ENCODER, FEATURE_SCALING, CLASSIFICATION], frequency: 187, mean_score: 0.523, mean_adtm: 0.235\n",
      "structure: [IMPUTATION, TEXT_FEATURIZER, CLASSIFICATION], frequency: 47, mean_score: 0.517, mean_adtm: 0.271\n",
      "structure: [IMPUTATION, TEXT_FEATURIZER, CATEGORICAL_ENCODER, CLASSIFICATION], frequency: 7, mean_score: 0.506, mean_adtm: 0.195\n",
      "2021-09-29 10:35:42,350 INFO Hierarchy:\n",
      "CATEGORICAL_ENCODER:\n",
      "d3m.primitives.data_transformation.encoder.DSBOX, d3m.primitives.data_transformation.one_hot_encoder.DistilOneHotEncoder, d3m.primitives.data_transformation.one_hot_encoder.SKlearn, d3m.primitives.data_transformation.unary_encoder.DSBOX\n",
      "CLASSIFICATION:\n",
      "d3m.primitives.classification.ada_boost.SKlearn, d3m.primitives.classification.bagging.SKlearn, d3m.primitives.classification.decision_tree.SKlearn, d3m.primitives.classification.extra_trees.SKlearn, d3m.primitives.classification.gradient_boosting.SKlearn, d3m.primitives.classification.k_neighbors.SKlearn, d3m.primitives.classification.light_gbm.Common, d3m.primitives.classification.linear_discriminant_analysis.SKlearn, d3m.primitives.classification.linear_svc.SKlearn, d3m.primitives.classification.logistic_regression.SKlearn, d3m.primitives.classification.mlp.SKlearn, d3m.primitives.classification.nearest_centroid.SKlearn, d3m.primitives.classification.random_forest.Common, d3m.primitives.classification.random_forest.SKlearn, d3m.primitives.classification.search_hybrid.Find_projections, d3m.primitives.classification.sgd.SKlearn, d3m.primitives.classification.svc.SKlearn, d3m.primitives.classification.xgboost_dart.Common, d3m.primitives.classification.xgboost_gbtree.Common\n",
      "DATA_CONVERSION:\n",
      "d3m.primitives.data_cleaning.cleaning_featurizer.DSBOX, d3m.primitives.data_transformation.to_numeric.DSBOX\n",
      "DIMENSIONALITY_REDUCTION:\n",
      "d3m.primitives.feature_extraction.pca.SKlearn, d3m.primitives.feature_selection.pca_features.Pcafeatures\n",
      "FEATURE_SCALING:\n",
      "d3m.primitives.data_cleaning.min_max_scaler.SKlearn, d3m.primitives.data_cleaning.quantile_transformer.SKlearn, d3m.primitives.data_cleaning.robust_scaler.SKlearn, d3m.primitives.data_cleaning.standard_scaler.SKlearn, d3m.primitives.normalization.iqr_scaler.DSBOX\n",
      "FEATURE_SELECTION:\n",
      "d3m.primitives.feature_selection.joint_mutual_information.AutoRPI, d3m.primitives.feature_selection.rffeatures.Rffeatures, d3m.primitives.feature_selection.select_fwe.SKlearn, d3m.primitives.feature_selection.select_percentile.SKlearn, d3m.primitives.feature_selection.simultaneous_markov_blanket.AutoRPI, d3m.primitives.feature_selection.variance_threshold.SKlearn\n",
      "IMPUTATION:\n",
      "d3m.primitives.data_cleaning.imputer.SKlearn, d3m.primitives.data_cleaning.iterative_regression_imputation.DSBOX, d3m.primitives.data_cleaning.mean_imputation.DSBOX, d3m.primitives.data_preprocessing.random_sampling_imputer.BYU\n",
      "NUMERICAL_METHOD:\n",
      "d3m.primitives.data_transformation.do_nothing_for_dataset.DSBOX\n",
      "TEXT_FEATURIZER:\n",
      "d3m.primitives.data_transformation.encoder.DistilTextEncoder\n"
     ]
    }
   ],
   "source": [
    "automatic_patterns = load_automatic_patterns(dataset_path, target_column, task_keywords)"
   ]
  },
  {
   "cell_type": "code",
   "execution_count": 23,
   "metadata": {},
   "outputs": [
    {
     "name": "stdout",
     "output_type": "stream",
     "text": [
      "Not found: ['IMPUTATION', 'TEXT_FEATURIZER', 'CATEGORICAL_ENCODER', 'FEATURE_SELECTION', 'CLASSIFICATION']\n",
      "Coverage: 75%\n"
     ]
    }
   ],
   "source": [
    "calculate_coverage(manual_patterns, automatic_patterns)"
   ]
  },
  {
   "cell_type": "code",
   "execution_count": 50,
   "metadata": {},
   "outputs": [
    {
     "name": "stdout",
     "output_type": "stream",
     "text": [
      "Not found: ['CLASSIFICATION']\n",
      "Not found: ['IMPUTATION', 'DIMENSIONALITY_REDUCTION', 'CLASSIFICATION']\n",
      "Not found: ['FEATURE_SELECTION', 'CLASSIFICATION']\n",
      "Not found: ['IMPUTATION', 'FEATURE_SELECTION', 'CLASSIFICATION']\n",
      "Not found: ['NUMERICAL_METHOD', 'DATA_CONVERSION', 'CATEGORICAL_ENCODER', 'DATA_CONVERSION', 'IMPUTATION', 'FEATURE_SCALING', 'DATA_CONVERSION', 'FEATURE_SELECTION', 'CLASSIFICATION']\n",
      "Not found: ['IMPUTATION', 'CATEGORICAL_ENCODER', 'DATA_CONVERSION', 'FEATURE_SCALING', 'CLASSIFICATION']\n",
      "Not found: ['FEATURE_SELECTION', 'IMPUTATION', 'CLASSIFICATION']\n",
      "Not found: ['IMPUTATION', 'CATEGORICAL_ENCODER', 'DIMENSIONALITY_REDUCTION', 'CLASSIFICATION']\n",
      "Not found: ['IMPUTATION', 'CLASSIFICATION']\n",
      "Not found: ['IMPUTATION', 'CATEGORICAL_ENCODER', 'FEATURE_SELECTION', 'CLASSIFICATION']\n",
      "Not found: ['IMPUTATION', 'CATEGORICAL_ENCODER', 'FEATURE_SCALING', 'CLASSIFICATION']\n",
      "Not found: ['IMPUTATION', 'TEXT_FEATURIZER', 'CLASSIFICATION']\n",
      "Coverage: 25%\n"
     ]
    }
   ],
   "source": [
    "calculate_coverage(automatic_patterns, manual_patterns)"
   ]
  },
  {
   "cell_type": "markdown",
   "metadata": {},
   "source": [
    "# Correlation Between Primitives Usage and Performance"
   ]
  },
  {
   "cell_type": "markdown",
   "metadata": {},
   "source": [
    "#### Global Correlations:"
   ]
  },
  {
   "cell_type": "code",
   "execution_count": null,
   "metadata": {},
   "outputs": [],
   "source": [
    "{\n",
    "   \"DATA_CONVERSION\":[\n",
    "      \"(\"\"d3m.primitives.data_transformation.to_numeric.DSBOX\",\n",
    "      0.5471),\n",
    "      \"(\"\"d3m.primitives.data_cleaning.cleaning_featurizer.DSBOX\",\n",
    "      0.4494)\n",
    "   ],\n",
    "   \"FEATURE_SELECTION\":[\n",
    "      \"(\"\"d3m.primitives.feature_selection.rffeatures.Rffeatures\",\n",
    "      0.5631),\n",
    "      \"(\"\"d3m.primitives.feature_selection.variance_threshold.SKlearn\",\n",
    "      0.5476),\n",
    "      \"(\"\"d3m.primitives.feature_selection.select_percentile.SKlearn\",\n",
    "      0.5244),\n",
    "      \"(\"\"d3m.primitives.feature_selection.select_fwe.SKlearn\",\n",
    "      0.455),\n",
    "      \"(\"\"d3m.primitives.feature_selection.joint_mutual_information.AutoRPI\",\n",
    "      0.4189),\n",
    "      \"(\"\"d3m.primitives.feature_selection.simultaneous_markov_blanket.AutoRPI\",\n",
    "      0.3965)\n",
    "   ],\n",
    "   \"CLASSIFICATION\":[\n",
    "      \"(\"\"d3m.primitives.classification.xgboost_gbtree.Common\",\n",
    "      0.6204),\n",
    "      \"(\"\"d3m.primitives.classification.decision_tree.SKlearn\",\n",
    "      0.5925),\n",
    "      \"(\"\"d3m.primitives.classification.bagging.SKlearn\",\n",
    "      0.5611),\n",
    "      \"(\"\"d3m.primitives.classification.random_forest.Common\",\n",
    "      0.556),\n",
    "      \"(\"\"d3m.primitives.classification.random_forest.SKlearn\",\n",
    "      0.5482),\n",
    "      \"(\"\"d3m.primitives.classification.sgd.SKlearn\",\n",
    "      0.5159),\n",
    "      \"(\"\"d3m.primitives.classification.mlp.SKlearn\",\n",
    "      0.5134),\n",
    "      \"(\"\"d3m.primitives.classification.xgboost_dart.Common\",\n",
    "      0.5101),\n",
    "      \"(\"\"d3m.primitives.classification.search_hybrid.Find_projections\",\n",
    "      0.5088),\n",
    "      \"(\"\"d3m.primitives.classification.light_gbm.Common\",\n",
    "      0.5008),\n",
    "      \"(\"\"d3m.primitives.classification.gradient_boosting.SKlearn\",\n",
    "      0.4941),\n",
    "      \"(\"\"d3m.primitives.classification.linear_discriminant_analysis.SKlearn\",\n",
    "      0.4897),\n",
    "      \"(\"\"d3m.primitives.classification.ada_boost.SKlearn\",\n",
    "      0.4739),\n",
    "      \"(\"\"d3m.primitives.classification.svc.SKlearn\",\n",
    "      0.4723),\n",
    "      \"(\"\"d3m.primitives.classification.nearest_centroid.SKlearn\",\n",
    "      0.4642),\n",
    "      \"(\"\"d3m.primitives.classification.extra_trees.SKlearn\",\n",
    "      0.4471),\n",
    "      \"(\"\"d3m.primitives.classification.k_neighbors.SKlearn\",\n",
    "      0.4405),\n",
    "      \"(\"\"d3m.primitives.classification.logistic_regression.SKlearn\",\n",
    "      0.4085),\n",
    "      \"(\"\"d3m.primitives.classification.linear_svc.SKlearn\",\n",
    "      0.3967)\n",
    "   ],\n",
    "   \"FEATURE_SCALING\":[\n",
    "      \"(\"\"d3m.primitives.data_cleaning.robust_scaler.SKlearn\",\n",
    "      0.7428),\n",
    "      \"(\"\"d3m.primitives.data_cleaning.min_max_scaler.SKlearn\",\n",
    "      0.4961),\n",
    "      \"(\"\"d3m.primitives.data_cleaning.standard_scaler.SKlearn\",\n",
    "      0.483),\n",
    "      \"(\"\"d3m.primitives.normalization.iqr_scaler.DSBOX\",\n",
    "      0.4482),\n",
    "      \"(\"\"d3m.primitives.data_cleaning.quantile_transformer.SKlearn\",\n",
    "      0.3811)\n",
    "   ],\n",
    "   \"CATEGORICAL_ENCODER\":[\n",
    "      \"(\"\"d3m.primitives.data_transformation.one_hot_encoder.DistilOneHotEncoder\",\n",
    "      0.5897),\n",
    "      \"(\"\"d3m.primitives.data_transformation.one_hot_encoder.SKlearn\",\n",
    "      0.5784),\n",
    "      \"(\"\"d3m.primitives.data_transformation.unary_encoder.DSBOX\",\n",
    "      0.545),\n",
    "      \"(\"\"d3m.primitives.data_transformation.encoder.DSBOX\",\n",
    "      0.4897)\n",
    "   ],\n",
    "   \"TEXT_FEATURIZER\":[\n",
    "      \"(\"\"d3m.primitives.data_transformation.encoder.DistilTextEncoder\",\n",
    "      0.5876)\n",
    "   ],\n",
    "   \"IMPUTATION\":[\n",
    "      \"(\"\"d3m.primitives.data_cleaning.imputer.SKlearn\",\n",
    "      0.5957),\n",
    "      \"(\"\"d3m.primitives.data_cleaning.iterative_regression_imputation.DSBOX\",\n",
    "      0.545),\n",
    "      \"(\"\"d3m.primitives.data_preprocessing.random_sampling_imputer.BYU\",\n",
    "      0.4017),\n",
    "      \"(\"\"d3m.primitives.data_cleaning.mean_imputation.DSBOX\",\n",
    "      0.3878)\n",
    "   ],\n",
    "   \"NUMERICAL_METHOD\":[\n",
    "      \"(\"\"d3m.primitives.data_transformation.do_nothing_for_dataset.DSBOX\",\n",
    "      0.4494)\n",
    "   ],\n",
    "   \"DIMENSIONALITY_REDUCTION\":[\n",
    "      \"(\"\"d3m.primitives.feature_selection.pca_features.Pcafeatures\",\n",
    "      0.5582),\n",
    "      \"(\"\"d3m.primitives.feature_extraction.pca.SKlearn\",\n",
    "      0.5185)\n",
    "   ]\n",
    "}"
   ]
  },
  {
   "cell_type": "markdown",
   "metadata": {},
   "source": [
    "#### Local Correlations:"
   ]
  },
  {
   "cell_type": "code",
   "execution_count": null,
   "metadata": {},
   "outputs": [],
   "source": [
    "{\n",
    "\"FEATURE_SELECTION IMPUTATION CLASSIFICATION\":{\n",
    "      \"CLASSIFICATION\":[\n",
    "         \"(\"\"d3m.primitives.classification.random_forest.SKlearn\",\n",
    "         0.6661),\n",
    "         \"(\"\"d3m.primitives.classification.extra_trees.SKlearn\",\n",
    "         0.4399),\n",
    "         \"(\"\"d3m.primitives.classification.gradient_boosting.SKlearn\",\n",
    "         0.3366)\n",
    "      ],\n",
    "      \"IMPUTATION\":[\n",
    "         \"(\"\"d3m.primitives.data_cleaning.imputer.SKlearn\",\n",
    "         1.0)\n",
    "      ],\n",
    "      \"FEATURE_SELECTION\":[\n",
    "         \"(\"\"d3m.primitives.feature_selection.joint_mutual_information.AutoRPI\",\n",
    "         0.6891),\n",
    "         \"(\"\"d3m.primitives.feature_selection.simultaneous_markov_blanket.AutoRPI\",\n",
    "         0.3109)\n",
    "      ]\n",
    "   },\n",
    "\"CLASSIFICATION\":{\n",
    "      \"CLASSIFICATION\":[\n",
    "         \"(\"\"d3m.primitives.classification.xgboost_gbtree.Common\",\n",
    "         0.9418),\n",
    "         \"(\"\"d3m.primitives.classification.random_forest.Common\",\n",
    "         0.4221),\n",
    "         \"(\"\"d3m.primitives.classification.light_gbm.Common\",\n",
    "         0.0931)\n",
    "      ]\n",
    "   }\n",
    "}"
   ]
  },
  {
   "cell_type": "markdown",
   "metadata": {},
   "source": [
    "#### Use the Correlations on the MCTS:"
   ]
  },
  {
   "cell_type": "code",
   "execution_count": 92,
   "metadata": {},
   "outputs": [
    {
     "data": {
      "text/html": [
       "\n",
       "        <iframe\n",
       "            width=\"1000\"\n",
       "            height=\"400\"\n",
       "            src=\"https://arxiv.org/pdf/1905.10345.pdf\"\n",
       "            frameborder=\"0\"\n",
       "            allowfullscreen\n",
       "        ></iframe>\n",
       "        "
      ],
      "text/plain": [
       "<IPython.lib.display.IFrame at 0x26411d3c8>"
      ]
     },
     "execution_count": 92,
     "metadata": {},
     "output_type": "execute_result"
    }
   ],
   "source": [
    "IFrame('https://arxiv.org/pdf/1905.10345.pdf', width=1000, height=400)"
   ]
  },
  {
   "cell_type": "markdown",
   "metadata": {},
   "source": [
    "# Comparing Strategies"
   ]
  },
  {
   "cell_type": "code",
   "execution_count": 1,
   "metadata": {},
   "outputs": [],
   "source": [
    "import altair as alt\n",
    "import pandas as pd\n",
    "from performance_visualizer import load_search_performances, plot_search_performances"
   ]
  },
  {
   "cell_type": "code",
   "execution_count": 36,
   "metadata": {},
   "outputs": [],
   "source": [
    "dataset = 'LL1_GS_process_classification_tabular_MIN_METADATA'"
   ]
  },
  {
   "cell_type": "code",
   "execution_count": 37,
   "metadata": {},
   "outputs": [
    {
     "data": {
      "text/html": [
       "\n",
       "<div id=\"altair-viz-56ca9290df024e8e9ce131d4c2cc02b1\"></div>\n",
       "<script type=\"text/javascript\">\n",
       "  (function(spec, embedOpt){\n",
       "    let outputDiv = document.currentScript.previousElementSibling;\n",
       "    if (outputDiv.id !== \"altair-viz-56ca9290df024e8e9ce131d4c2cc02b1\") {\n",
       "      outputDiv = document.getElementById(\"altair-viz-56ca9290df024e8e9ce131d4c2cc02b1\");\n",
       "    }\n",
       "    const paths = {\n",
       "      \"vega\": \"https://cdn.jsdelivr.net/npm//vega@5?noext\",\n",
       "      \"vega-lib\": \"https://cdn.jsdelivr.net/npm//vega-lib?noext\",\n",
       "      \"vega-lite\": \"https://cdn.jsdelivr.net/npm//vega-lite@4.8.1?noext\",\n",
       "      \"vega-embed\": \"https://cdn.jsdelivr.net/npm//vega-embed@6?noext\",\n",
       "    };\n",
       "\n",
       "    function loadScript(lib) {\n",
       "      return new Promise(function(resolve, reject) {\n",
       "        var s = document.createElement('script');\n",
       "        s.src = paths[lib];\n",
       "        s.async = true;\n",
       "        s.onload = () => resolve(paths[lib]);\n",
       "        s.onerror = () => reject(`Error loading script: ${paths[lib]}`);\n",
       "        document.getElementsByTagName(\"head\")[0].appendChild(s);\n",
       "      });\n",
       "    }\n",
       "\n",
       "    function showError(err) {\n",
       "      outputDiv.innerHTML = `<div class=\"error\" style=\"color:red;\">${err}</div>`;\n",
       "      throw err;\n",
       "    }\n",
       "\n",
       "    function displayChart(vegaEmbed) {\n",
       "      vegaEmbed(outputDiv, spec, embedOpt)\n",
       "        .catch(err => showError(`Javascript Error: ${err.message}<br>This usually means there's a typo in your chart specification. See the javascript console for the full traceback.`));\n",
       "    }\n",
       "\n",
       "    if(typeof define === \"function\" && define.amd) {\n",
       "      requirejs.config({paths});\n",
       "      require([\"vega-embed\"], displayChart, err => showError(`Error loading script: ${err.message}`));\n",
       "    } else if (typeof vegaEmbed === \"function\") {\n",
       "      displayChart(vegaEmbed);\n",
       "    } else {\n",
       "      loadScript(\"vega\")\n",
       "        .then(() => loadScript(\"vega-lite\"))\n",
       "        .then(() => loadScript(\"vega-embed\"))\n",
       "        .catch(showError)\n",
       "        .then(() => displayChart(vegaEmbed));\n",
       "    }\n",
       "  })({\"config\": {\"view\": {\"continuousWidth\": 400, \"continuousHeight\": 300}}, \"data\": {\"name\": \"data-50d74e74818518740db878695b20815f\"}, \"mark\": {\"type\": \"line\", \"point\": true}, \"encoding\": {\"color\": {\"type\": \"nominal\", \"field\": \"method\"}, \"x\": {\"type\": \"temporal\", \"field\": \"time\", \"timeUnit\": \"hoursminutes\", \"title\": \"Time\"}, \"y\": {\"type\": \"quantitative\", \"field\": \"score\", \"title\": \"Score\"}}, \"width\": 800, \"$schema\": \"https://vega.github.io/schema/vega-lite/v4.8.1.json\", \"datasets\": {\"data-50d74e74818518740db878695b20815f\": [{\"dataset\": \"LL1_GS_process_classification_tabular_MIN_METADATA\", \"method\": \"Manual\", \"score\": 0.9018569150148097, \"time\": \"2021-10-05T00:22:36.272962\"}, {\"dataset\": \"LL1_GS_process_classification_tabular_MIN_METADATA\", \"method\": \"Manual\", \"score\": 0.9017999544315334, \"time\": \"2021-10-05T00:22:11.917924\"}, {\"dataset\": \"LL1_GS_process_classification_tabular_MIN_METADATA\", \"method\": \"Manual\", \"score\": 0.8980405559352928, \"time\": \"2021-10-05T00:23:00.395780\"}, {\"dataset\": \"LL1_GS_process_classification_tabular_MIN_METADATA\", \"method\": \"Manual\", \"score\": 0.8867053998632946, \"time\": \"2021-10-05T00:04:28.174732\"}, {\"dataset\": \"LL1_GS_process_classification_tabular_MIN_METADATA\", \"method\": \"Manual\", \"score\": 0.8867053998632946, \"time\": \"2021-10-05T00:05:16.161161\"}, {\"dataset\": \"LL1_GS_process_classification_tabular_MIN_METADATA\", \"method\": \"Manual\", \"score\": 0.8867053998632946, \"time\": \"2021-10-05T00:06:53.886716\"}, {\"dataset\": \"LL1_GS_process_classification_tabular_MIN_METADATA\", \"method\": \"Manual\", \"score\": 0.8829744816586922, \"time\": \"2021-10-05T00:18:18.562980\"}, {\"dataset\": \"LL1_GS_process_classification_tabular_MIN_METADATA\", \"method\": \"Manual\", \"score\": 0.882946001367054, \"time\": \"2021-10-05T00:13:36.390701\"}, {\"dataset\": \"LL1_GS_process_classification_tabular_MIN_METADATA\", \"method\": \"Manual\", \"score\": 0.882946001367054, \"time\": \"2021-10-05T00:18:39.122854\"}, {\"dataset\": \"LL1_GS_process_classification_tabular_MIN_METADATA\", \"method\": \"Manual\", \"score\": 0.8716108452950558, \"time\": \"2021-10-05T00:12:09.290963\"}, {\"dataset\": \"LL1_GS_process_classification_tabular_MIN_METADATA\", \"method\": \"Manual\", \"score\": 0.8566302118933697, \"time\": \"2021-10-05T00:00:58.291695\"}, {\"dataset\": \"LL1_GS_process_classification_tabular_MIN_METADATA\", \"method\": \"Manual\", \"score\": 0.8566302118933697, \"time\": \"2021-10-05T00:01:45.769658\"}, {\"dataset\": \"LL1_GS_process_classification_tabular_MIN_METADATA\", \"method\": \"Manual\", \"score\": 0.8490544543176122, \"time\": \"2021-10-05T00:00:34.301853\"}, {\"dataset\": \"LL1_GS_process_classification_tabular_MIN_METADATA\", \"method\": \"Manual\", \"score\": 0.8490544543176122, \"time\": \"2021-10-05T00:01:21.900627\"}, {\"dataset\": \"LL1_GS_process_classification_tabular_MIN_METADATA\", \"method\": \"Manual\", \"score\": 0.8490544543176122, \"time\": \"2021-10-05T00:03:46.038200\"}, {\"dataset\": \"LL1_GS_process_classification_tabular_MIN_METADATA\", \"method\": \"Manual\", \"score\": 0.8490544543176122, \"time\": \"2021-10-05T00:14:36.369589\"}, {\"dataset\": \"LL1_GS_process_classification_tabular_MIN_METADATA\", \"method\": \"Manual\", \"score\": 0.8490544543176122, \"time\": \"2021-10-05T00:15:00.389388\"}, {\"dataset\": \"LL1_GS_process_classification_tabular_MIN_METADATA\", \"method\": \"Manual\", \"score\": 0.8490544543176122, \"time\": \"2021-10-05T00:23:23.961417\"}, {\"dataset\": \"LL1_GS_process_classification_tabular_MIN_METADATA\", \"method\": \"Manual\", \"score\": 0.8490544543176122, \"time\": \"2021-10-05T00:23:48.279425\"}, {\"dataset\": \"LL1_GS_process_classification_tabular_MIN_METADATA\", \"method\": \"Manual\", \"score\": 0.8490544543176122, \"time\": \"2021-10-05T00:29:25.078869\"}, {\"dataset\": \"LL1_GS_process_classification_tabular_MIN_METADATA\", \"method\": \"Manual\", \"score\": 0.849025974025974, \"time\": \"2021-10-05T00:05:40.568798\"}, {\"dataset\": \"LL1_GS_process_classification_tabular_MIN_METADATA\", \"method\": \"Manual\", \"score\": 0.849025974025974, \"time\": \"2021-10-05T00:06:04.873455\"}, {\"dataset\": \"LL1_GS_process_classification_tabular_MIN_METADATA\", \"method\": \"Manual\", \"score\": 0.849025974025974, \"time\": \"2021-10-05T00:06:29.456927\"}, {\"dataset\": \"LL1_GS_process_classification_tabular_MIN_METADATA\", \"method\": \"Manual\", \"score\": 0.8489690134426977, \"time\": \"2021-10-05T00:11:45.060641\"}, {\"dataset\": \"LL1_GS_process_classification_tabular_MIN_METADATA\", \"method\": \"Manual\", \"score\": 0.8452665755297335, \"time\": \"2021-10-05T00:04:49.329679\"}, {\"dataset\": \"LL1_GS_process_classification_tabular_MIN_METADATA\", \"method\": \"Manual\", \"score\": 0.8415071770334928, \"time\": \"2021-10-05T00:13:12.464281\"}, {\"dataset\": \"LL1_GS_process_classification_tabular_MIN_METADATA\", \"method\": \"Manual\", \"score\": 0.8225393028024607, \"time\": \"2021-10-05T00:28:39.916925\"}, {\"dataset\": \"LL1_GS_process_classification_tabular_MIN_METADATA\", \"method\": \"Manual\", \"score\": 0.5781784005468216, \"time\": \"2021-10-05T00:12:33.533415\"}]}}, {\"mode\": \"vega-lite\"});\n",
       "</script>"
      ],
      "text/plain": [
       "alt.Chart(...)"
      ]
     },
     "execution_count": 37,
     "metadata": {},
     "output_type": "execute_result"
    }
   ],
   "source": [
    "file_path = 'resource/grammar_manual.json'\n",
    "manual_performances = load_search_performances(file_path, 'Manual')\n",
    "plot_search_performances(manual_performances, dataset)"
   ]
  },
  {
   "cell_type": "code",
   "execution_count": 38,
   "metadata": {},
   "outputs": [
    {
     "data": {
      "text/html": [
       "\n",
       "<div id=\"altair-viz-6b9b0ae0854d40d08632477c818fa1ee\"></div>\n",
       "<script type=\"text/javascript\">\n",
       "  (function(spec, embedOpt){\n",
       "    let outputDiv = document.currentScript.previousElementSibling;\n",
       "    if (outputDiv.id !== \"altair-viz-6b9b0ae0854d40d08632477c818fa1ee\") {\n",
       "      outputDiv = document.getElementById(\"altair-viz-6b9b0ae0854d40d08632477c818fa1ee\");\n",
       "    }\n",
       "    const paths = {\n",
       "      \"vega\": \"https://cdn.jsdelivr.net/npm//vega@5?noext\",\n",
       "      \"vega-lib\": \"https://cdn.jsdelivr.net/npm//vega-lib?noext\",\n",
       "      \"vega-lite\": \"https://cdn.jsdelivr.net/npm//vega-lite@4.8.1?noext\",\n",
       "      \"vega-embed\": \"https://cdn.jsdelivr.net/npm//vega-embed@6?noext\",\n",
       "    };\n",
       "\n",
       "    function loadScript(lib) {\n",
       "      return new Promise(function(resolve, reject) {\n",
       "        var s = document.createElement('script');\n",
       "        s.src = paths[lib];\n",
       "        s.async = true;\n",
       "        s.onload = () => resolve(paths[lib]);\n",
       "        s.onerror = () => reject(`Error loading script: ${paths[lib]}`);\n",
       "        document.getElementsByTagName(\"head\")[0].appendChild(s);\n",
       "      });\n",
       "    }\n",
       "\n",
       "    function showError(err) {\n",
       "      outputDiv.innerHTML = `<div class=\"error\" style=\"color:red;\">${err}</div>`;\n",
       "      throw err;\n",
       "    }\n",
       "\n",
       "    function displayChart(vegaEmbed) {\n",
       "      vegaEmbed(outputDiv, spec, embedOpt)\n",
       "        .catch(err => showError(`Javascript Error: ${err.message}<br>This usually means there's a typo in your chart specification. See the javascript console for the full traceback.`));\n",
       "    }\n",
       "\n",
       "    if(typeof define === \"function\" && define.amd) {\n",
       "      requirejs.config({paths});\n",
       "      require([\"vega-embed\"], displayChart, err => showError(`Error loading script: ${err.message}`));\n",
       "    } else if (typeof vegaEmbed === \"function\") {\n",
       "      displayChart(vegaEmbed);\n",
       "    } else {\n",
       "      loadScript(\"vega\")\n",
       "        .then(() => loadScript(\"vega-lite\"))\n",
       "        .then(() => loadScript(\"vega-embed\"))\n",
       "        .catch(showError)\n",
       "        .then(() => displayChart(vegaEmbed));\n",
       "    }\n",
       "  })({\"config\": {\"view\": {\"continuousWidth\": 400, \"continuousHeight\": 300}}, \"data\": {\"name\": \"data-fca1461efb56e6dc5b7646e6c4d20c6d\"}, \"mark\": {\"type\": \"line\", \"point\": true}, \"encoding\": {\"color\": {\"type\": \"nominal\", \"field\": \"method\"}, \"x\": {\"type\": \"temporal\", \"field\": \"time\", \"timeUnit\": \"hoursminutes\", \"title\": \"Time\"}, \"y\": {\"type\": \"quantitative\", \"field\": \"score\", \"title\": \"Score\"}}, \"width\": 800, \"$schema\": \"https://vega.github.io/schema/vega-lite/v4.8.1.json\", \"datasets\": {\"data-fca1461efb56e6dc5b7646e6c4d20c6d\": [{\"dataset\": \"LL1_GS_process_classification_tabular_MIN_METADATA\", \"method\": \"Automatic\", \"score\": 0.894252677147414, \"time\": \"2021-10-05T00:22:47.131000\"}, {\"dataset\": \"LL1_GS_process_classification_tabular_MIN_METADATA\", \"method\": \"Automatic\", \"score\": 0.894252677147414, \"time\": \"2021-10-05T00:23:26.250753\"}, {\"dataset\": \"LL1_GS_process_classification_tabular_MIN_METADATA\", \"method\": \"Automatic\", \"score\": 0.882946001367054, \"time\": \"2021-10-05T00:28:18.961295\"}, {\"dataset\": \"LL1_GS_process_classification_tabular_MIN_METADATA\", \"method\": \"Automatic\", \"score\": 0.8641774891774892, \"time\": \"2021-10-05T00:26:11.972368\"}, {\"dataset\": \"LL1_GS_process_classification_tabular_MIN_METADATA\", \"method\": \"Automatic\", \"score\": 0.8641205285942128, \"time\": \"2021-10-05T00:16:09.821089\"}, {\"dataset\": \"LL1_GS_process_classification_tabular_MIN_METADATA\", \"method\": \"Automatic\", \"score\": 0.8603896103896104, \"time\": \"2021-10-05T00:30:15.654395\"}, {\"dataset\": \"LL1_GS_process_classification_tabular_MIN_METADATA\", \"method\": \"Automatic\", \"score\": 0.8528138528138528, \"time\": \"2021-10-05T00:12:56.798902\"}, {\"dataset\": \"LL1_GS_process_classification_tabular_MIN_METADATA\", \"method\": \"Automatic\", \"score\": 0.8491114149008886, \"time\": \"2021-10-05T00:16:58.670925\"}, {\"dataset\": \"LL1_GS_process_classification_tabular_MIN_METADATA\", \"method\": \"Automatic\", \"score\": 0.8490544543176122, \"time\": \"2021-10-05T00:13:48.402771\"}, {\"dataset\": \"LL1_GS_process_classification_tabular_MIN_METADATA\", \"method\": \"Automatic\", \"score\": 0.8490544543176122, \"time\": \"2021-10-05T00:14:12.397254\"}, {\"dataset\": \"LL1_GS_process_classification_tabular_MIN_METADATA\", \"method\": \"Automatic\", \"score\": 0.8490544543176122, \"time\": \"2021-10-05T00:24:50.399878\"}, {\"dataset\": \"LL1_GS_process_classification_tabular_MIN_METADATA\", \"method\": \"Automatic\", \"score\": 0.8490544543176122, \"time\": \"2021-10-05T00:27:27.683750\"}, {\"dataset\": \"LL1_GS_process_classification_tabular_MIN_METADATA\", \"method\": \"Automatic\", \"score\": 0.8490544543176122, \"time\": \"2021-10-05T00:27:48.670585\"}, {\"dataset\": \"LL1_GS_process_classification_tabular_MIN_METADATA\", \"method\": \"Automatic\", \"score\": 0.8490544543176122, \"time\": \"2021-10-05T00:28:55.120365\"}, {\"dataset\": \"LL1_GS_process_classification_tabular_MIN_METADATA\", \"method\": \"Automatic\", \"score\": 0.849025974025974, \"time\": \"2021-10-05T00:17:22.705250\"}, {\"dataset\": \"LL1_GS_process_classification_tabular_MIN_METADATA\", \"method\": \"Automatic\", \"score\": 0.849025974025974, \"time\": \"2021-10-05T00:18:12.844674\"}, {\"dataset\": \"LL1_GS_process_classification_tabular_MIN_METADATA\", \"method\": \"Automatic\", \"score\": 0.845352016404648, \"time\": \"2021-10-05T00:27:06.448662\"}, {\"dataset\": \"LL1_GS_process_classification_tabular_MIN_METADATA\", \"method\": \"Automatic\", \"score\": 0.8452950558213717, \"time\": \"2021-10-05T00:17:46.202072\"}, {\"dataset\": \"LL1_GS_process_classification_tabular_MIN_METADATA\", \"method\": \"Automatic\", \"score\": 0.8452096149464571, \"time\": \"2021-10-05T00:13:24.430109\"}, {\"dataset\": \"LL1_GS_process_classification_tabular_MIN_METADATA\", \"method\": \"Automatic\", \"score\": 0.8415071770334928, \"time\": \"2021-10-05T00:02:32.930798\"}, {\"dataset\": \"LL1_GS_process_classification_tabular_MIN_METADATA\", \"method\": \"Automatic\", \"score\": 0.8414217361585783, \"time\": \"2021-10-05T00:16:34.269008\"}, {\"dataset\": \"LL1_GS_process_classification_tabular_MIN_METADATA\", \"method\": \"Automatic\", \"score\": 0.8187514240145819, \"time\": \"2021-10-05T00:26:45.231878\"}, {\"dataset\": \"LL1_GS_process_classification_tabular_MIN_METADATA\", \"method\": \"Automatic\", \"score\": 0.8187514240145819, \"time\": \"2021-10-05T00:29:39.709602\"}]}}, {\"mode\": \"vega-lite\"});\n",
       "</script>"
      ],
      "text/plain": [
       "alt.Chart(...)"
      ]
     },
     "execution_count": 38,
     "metadata": {},
     "output_type": "execute_result"
    }
   ],
   "source": [
    "file_path = 'resource/grammar_automatic.json'\n",
    "automatic_performances = load_search_performances(file_path, 'Automatic')\n",
    "plot_search_performances(automatic_performances, dataset)"
   ]
  },
  {
   "cell_type": "code",
   "execution_count": 39,
   "metadata": {},
   "outputs": [
    {
     "data": {
      "text/html": [
       "\n",
       "<div id=\"altair-viz-1a87e15b9b8b44129654203976c3eb97\"></div>\n",
       "<script type=\"text/javascript\">\n",
       "  (function(spec, embedOpt){\n",
       "    let outputDiv = document.currentScript.previousElementSibling;\n",
       "    if (outputDiv.id !== \"altair-viz-1a87e15b9b8b44129654203976c3eb97\") {\n",
       "      outputDiv = document.getElementById(\"altair-viz-1a87e15b9b8b44129654203976c3eb97\");\n",
       "    }\n",
       "    const paths = {\n",
       "      \"vega\": \"https://cdn.jsdelivr.net/npm//vega@5?noext\",\n",
       "      \"vega-lib\": \"https://cdn.jsdelivr.net/npm//vega-lib?noext\",\n",
       "      \"vega-lite\": \"https://cdn.jsdelivr.net/npm//vega-lite@4.8.1?noext\",\n",
       "      \"vega-embed\": \"https://cdn.jsdelivr.net/npm//vega-embed@6?noext\",\n",
       "    };\n",
       "\n",
       "    function loadScript(lib) {\n",
       "      return new Promise(function(resolve, reject) {\n",
       "        var s = document.createElement('script');\n",
       "        s.src = paths[lib];\n",
       "        s.async = true;\n",
       "        s.onload = () => resolve(paths[lib]);\n",
       "        s.onerror = () => reject(`Error loading script: ${paths[lib]}`);\n",
       "        document.getElementsByTagName(\"head\")[0].appendChild(s);\n",
       "      });\n",
       "    }\n",
       "\n",
       "    function showError(err) {\n",
       "      outputDiv.innerHTML = `<div class=\"error\" style=\"color:red;\">${err}</div>`;\n",
       "      throw err;\n",
       "    }\n",
       "\n",
       "    function displayChart(vegaEmbed) {\n",
       "      vegaEmbed(outputDiv, spec, embedOpt)\n",
       "        .catch(err => showError(`Javascript Error: ${err.message}<br>This usually means there's a typo in your chart specification. See the javascript console for the full traceback.`));\n",
       "    }\n",
       "\n",
       "    if(typeof define === \"function\" && define.amd) {\n",
       "      requirejs.config({paths});\n",
       "      require([\"vega-embed\"], displayChart, err => showError(`Error loading script: ${err.message}`));\n",
       "    } else if (typeof vegaEmbed === \"function\") {\n",
       "      displayChart(vegaEmbed);\n",
       "    } else {\n",
       "      loadScript(\"vega\")\n",
       "        .then(() => loadScript(\"vega-lite\"))\n",
       "        .then(() => loadScript(\"vega-embed\"))\n",
       "        .catch(showError)\n",
       "        .then(() => displayChart(vegaEmbed));\n",
       "    }\n",
       "  })({\"config\": {\"view\": {\"continuousWidth\": 400, \"continuousHeight\": 300}}, \"data\": {\"name\": \"data-1be1fac29e1597172d9ccc7be3594f58\"}, \"mark\": {\"type\": \"line\", \"point\": true}, \"encoding\": {\"color\": {\"type\": \"nominal\", \"field\": \"method\"}, \"x\": {\"type\": \"temporal\", \"field\": \"time\", \"timeUnit\": \"hoursminutes\", \"title\": \"Time\"}, \"y\": {\"type\": \"quantitative\", \"field\": \"score\", \"title\": \"Score\"}}, \"width\": 800, \"$schema\": \"https://vega.github.io/schema/vega-lite/v4.8.1.json\", \"datasets\": {\"data-1be1fac29e1597172d9ccc7be3594f58\": [{\"dataset\": \"LL1_GS_process_classification_tabular_MIN_METADATA\", \"method\": \"Manual\", \"score\": 0.9018569150148097, \"time\": \"2021-10-05T00:22:36.272962\"}, {\"dataset\": \"LL1_GS_process_classification_tabular_MIN_METADATA\", \"method\": \"Manual\", \"score\": 0.9017999544315334, \"time\": \"2021-10-05T00:22:11.917924\"}, {\"dataset\": \"LL1_GS_process_classification_tabular_MIN_METADATA\", \"method\": \"Manual\", \"score\": 0.8980405559352928, \"time\": \"2021-10-05T00:23:00.395780\"}, {\"dataset\": \"LL1_GS_process_classification_tabular_MIN_METADATA\", \"method\": \"Manual\", \"score\": 0.8867053998632946, \"time\": \"2021-10-05T00:04:28.174732\"}, {\"dataset\": \"LL1_GS_process_classification_tabular_MIN_METADATA\", \"method\": \"Manual\", \"score\": 0.8867053998632946, \"time\": \"2021-10-05T00:05:16.161161\"}, {\"dataset\": \"LL1_GS_process_classification_tabular_MIN_METADATA\", \"method\": \"Manual\", \"score\": 0.8867053998632946, \"time\": \"2021-10-05T00:06:53.886716\"}, {\"dataset\": \"LL1_GS_process_classification_tabular_MIN_METADATA\", \"method\": \"Manual\", \"score\": 0.8829744816586922, \"time\": \"2021-10-05T00:18:18.562980\"}, {\"dataset\": \"LL1_GS_process_classification_tabular_MIN_METADATA\", \"method\": \"Manual\", \"score\": 0.882946001367054, \"time\": \"2021-10-05T00:13:36.390701\"}, {\"dataset\": \"LL1_GS_process_classification_tabular_MIN_METADATA\", \"method\": \"Manual\", \"score\": 0.882946001367054, \"time\": \"2021-10-05T00:18:39.122854\"}, {\"dataset\": \"LL1_GS_process_classification_tabular_MIN_METADATA\", \"method\": \"Manual\", \"score\": 0.8716108452950558, \"time\": \"2021-10-05T00:12:09.290963\"}, {\"dataset\": \"LL1_GS_process_classification_tabular_MIN_METADATA\", \"method\": \"Manual\", \"score\": 0.8566302118933697, \"time\": \"2021-10-05T00:00:58.291695\"}, {\"dataset\": \"LL1_GS_process_classification_tabular_MIN_METADATA\", \"method\": \"Manual\", \"score\": 0.8566302118933697, \"time\": \"2021-10-05T00:01:45.769658\"}, {\"dataset\": \"LL1_GS_process_classification_tabular_MIN_METADATA\", \"method\": \"Manual\", \"score\": 0.8490544543176122, \"time\": \"2021-10-05T00:00:34.301853\"}, {\"dataset\": \"LL1_GS_process_classification_tabular_MIN_METADATA\", \"method\": \"Manual\", \"score\": 0.8490544543176122, \"time\": \"2021-10-05T00:01:21.900627\"}, {\"dataset\": \"LL1_GS_process_classification_tabular_MIN_METADATA\", \"method\": \"Manual\", \"score\": 0.8490544543176122, \"time\": \"2021-10-05T00:03:46.038200\"}, {\"dataset\": \"LL1_GS_process_classification_tabular_MIN_METADATA\", \"method\": \"Manual\", \"score\": 0.8490544543176122, \"time\": \"2021-10-05T00:14:36.369589\"}, {\"dataset\": \"LL1_GS_process_classification_tabular_MIN_METADATA\", \"method\": \"Manual\", \"score\": 0.8490544543176122, \"time\": \"2021-10-05T00:15:00.389388\"}, {\"dataset\": \"LL1_GS_process_classification_tabular_MIN_METADATA\", \"method\": \"Manual\", \"score\": 0.8490544543176122, \"time\": \"2021-10-05T00:23:23.961417\"}, {\"dataset\": \"LL1_GS_process_classification_tabular_MIN_METADATA\", \"method\": \"Manual\", \"score\": 0.8490544543176122, \"time\": \"2021-10-05T00:23:48.279425\"}, {\"dataset\": \"LL1_GS_process_classification_tabular_MIN_METADATA\", \"method\": \"Manual\", \"score\": 0.8490544543176122, \"time\": \"2021-10-05T00:29:25.078869\"}, {\"dataset\": \"LL1_GS_process_classification_tabular_MIN_METADATA\", \"method\": \"Manual\", \"score\": 0.849025974025974, \"time\": \"2021-10-05T00:05:40.568798\"}, {\"dataset\": \"LL1_GS_process_classification_tabular_MIN_METADATA\", \"method\": \"Manual\", \"score\": 0.849025974025974, \"time\": \"2021-10-05T00:06:04.873455\"}, {\"dataset\": \"LL1_GS_process_classification_tabular_MIN_METADATA\", \"method\": \"Manual\", \"score\": 0.849025974025974, \"time\": \"2021-10-05T00:06:29.456927\"}, {\"dataset\": \"LL1_GS_process_classification_tabular_MIN_METADATA\", \"method\": \"Manual\", \"score\": 0.8489690134426977, \"time\": \"2021-10-05T00:11:45.060641\"}, {\"dataset\": \"LL1_GS_process_classification_tabular_MIN_METADATA\", \"method\": \"Manual\", \"score\": 0.8452665755297335, \"time\": \"2021-10-05T00:04:49.329679\"}, {\"dataset\": \"LL1_GS_process_classification_tabular_MIN_METADATA\", \"method\": \"Manual\", \"score\": 0.8415071770334928, \"time\": \"2021-10-05T00:13:12.464281\"}, {\"dataset\": \"LL1_GS_process_classification_tabular_MIN_METADATA\", \"method\": \"Manual\", \"score\": 0.8225393028024607, \"time\": \"2021-10-05T00:28:39.916925\"}, {\"dataset\": \"LL1_GS_process_classification_tabular_MIN_METADATA\", \"method\": \"Manual\", \"score\": 0.5781784005468216, \"time\": \"2021-10-05T00:12:33.533415\"}, {\"dataset\": \"LL1_GS_process_classification_tabular_MIN_METADATA\", \"method\": \"Automatic\", \"score\": 0.894252677147414, \"time\": \"2021-10-05T00:22:47.131000\"}, {\"dataset\": \"LL1_GS_process_classification_tabular_MIN_METADATA\", \"method\": \"Automatic\", \"score\": 0.894252677147414, \"time\": \"2021-10-05T00:23:26.250753\"}, {\"dataset\": \"LL1_GS_process_classification_tabular_MIN_METADATA\", \"method\": \"Automatic\", \"score\": 0.882946001367054, \"time\": \"2021-10-05T00:28:18.961295\"}, {\"dataset\": \"LL1_GS_process_classification_tabular_MIN_METADATA\", \"method\": \"Automatic\", \"score\": 0.8641774891774892, \"time\": \"2021-10-05T00:26:11.972368\"}, {\"dataset\": \"LL1_GS_process_classification_tabular_MIN_METADATA\", \"method\": \"Automatic\", \"score\": 0.8641205285942128, \"time\": \"2021-10-05T00:16:09.821089\"}, {\"dataset\": \"LL1_GS_process_classification_tabular_MIN_METADATA\", \"method\": \"Automatic\", \"score\": 0.8603896103896104, \"time\": \"2021-10-05T00:30:15.654395\"}, {\"dataset\": \"LL1_GS_process_classification_tabular_MIN_METADATA\", \"method\": \"Automatic\", \"score\": 0.8528138528138528, \"time\": \"2021-10-05T00:12:56.798902\"}, {\"dataset\": \"LL1_GS_process_classification_tabular_MIN_METADATA\", \"method\": \"Automatic\", \"score\": 0.8491114149008886, \"time\": \"2021-10-05T00:16:58.670925\"}, {\"dataset\": \"LL1_GS_process_classification_tabular_MIN_METADATA\", \"method\": \"Automatic\", \"score\": 0.8490544543176122, \"time\": \"2021-10-05T00:13:48.402771\"}, {\"dataset\": \"LL1_GS_process_classification_tabular_MIN_METADATA\", \"method\": \"Automatic\", \"score\": 0.8490544543176122, \"time\": \"2021-10-05T00:14:12.397254\"}, {\"dataset\": \"LL1_GS_process_classification_tabular_MIN_METADATA\", \"method\": \"Automatic\", \"score\": 0.8490544543176122, \"time\": \"2021-10-05T00:24:50.399878\"}, {\"dataset\": \"LL1_GS_process_classification_tabular_MIN_METADATA\", \"method\": \"Automatic\", \"score\": 0.8490544543176122, \"time\": \"2021-10-05T00:27:27.683750\"}, {\"dataset\": \"LL1_GS_process_classification_tabular_MIN_METADATA\", \"method\": \"Automatic\", \"score\": 0.8490544543176122, \"time\": \"2021-10-05T00:27:48.670585\"}, {\"dataset\": \"LL1_GS_process_classification_tabular_MIN_METADATA\", \"method\": \"Automatic\", \"score\": 0.8490544543176122, \"time\": \"2021-10-05T00:28:55.120365\"}, {\"dataset\": \"LL1_GS_process_classification_tabular_MIN_METADATA\", \"method\": \"Automatic\", \"score\": 0.849025974025974, \"time\": \"2021-10-05T00:17:22.705250\"}, {\"dataset\": \"LL1_GS_process_classification_tabular_MIN_METADATA\", \"method\": \"Automatic\", \"score\": 0.849025974025974, \"time\": \"2021-10-05T00:18:12.844674\"}, {\"dataset\": \"LL1_GS_process_classification_tabular_MIN_METADATA\", \"method\": \"Automatic\", \"score\": 0.845352016404648, \"time\": \"2021-10-05T00:27:06.448662\"}, {\"dataset\": \"LL1_GS_process_classification_tabular_MIN_METADATA\", \"method\": \"Automatic\", \"score\": 0.8452950558213717, \"time\": \"2021-10-05T00:17:46.202072\"}, {\"dataset\": \"LL1_GS_process_classification_tabular_MIN_METADATA\", \"method\": \"Automatic\", \"score\": 0.8452096149464571, \"time\": \"2021-10-05T00:13:24.430109\"}, {\"dataset\": \"LL1_GS_process_classification_tabular_MIN_METADATA\", \"method\": \"Automatic\", \"score\": 0.8415071770334928, \"time\": \"2021-10-05T00:02:32.930798\"}, {\"dataset\": \"LL1_GS_process_classification_tabular_MIN_METADATA\", \"method\": \"Automatic\", \"score\": 0.8414217361585783, \"time\": \"2021-10-05T00:16:34.269008\"}, {\"dataset\": \"LL1_GS_process_classification_tabular_MIN_METADATA\", \"method\": \"Automatic\", \"score\": 0.8187514240145819, \"time\": \"2021-10-05T00:26:45.231878\"}, {\"dataset\": \"LL1_GS_process_classification_tabular_MIN_METADATA\", \"method\": \"Automatic\", \"score\": 0.8187514240145819, \"time\": \"2021-10-05T00:29:39.709602\"}]}}, {\"mode\": \"vega-lite\"});\n",
       "</script>"
      ],
      "text/plain": [
       "alt.Chart(...)"
      ]
     },
     "execution_count": 39,
     "metadata": {},
     "output_type": "execute_result"
    }
   ],
   "source": [
    "all_performances = pd.concat([manual_performances, automatic_performances], ignore_index=True)\n",
    "plot_search_performances(all_performances, dataset)"
   ]
  },
  {
   "cell_type": "code",
   "execution_count": 63,
   "metadata": {},
   "outputs": [
    {
     "data": {
      "text/html": [
       "\n",
       "<div id=\"altair-viz-50db969155734dd38de9a545d6007107\"></div>\n",
       "<script type=\"text/javascript\">\n",
       "  (function(spec, embedOpt){\n",
       "    let outputDiv = document.currentScript.previousElementSibling;\n",
       "    if (outputDiv.id !== \"altair-viz-50db969155734dd38de9a545d6007107\") {\n",
       "      outputDiv = document.getElementById(\"altair-viz-50db969155734dd38de9a545d6007107\");\n",
       "    }\n",
       "    const paths = {\n",
       "      \"vega\": \"https://cdn.jsdelivr.net/npm//vega@5?noext\",\n",
       "      \"vega-lib\": \"https://cdn.jsdelivr.net/npm//vega-lib?noext\",\n",
       "      \"vega-lite\": \"https://cdn.jsdelivr.net/npm//vega-lite@4.8.1?noext\",\n",
       "      \"vega-embed\": \"https://cdn.jsdelivr.net/npm//vega-embed@6?noext\",\n",
       "    };\n",
       "\n",
       "    function loadScript(lib) {\n",
       "      return new Promise(function(resolve, reject) {\n",
       "        var s = document.createElement('script');\n",
       "        s.src = paths[lib];\n",
       "        s.async = true;\n",
       "        s.onload = () => resolve(paths[lib]);\n",
       "        s.onerror = () => reject(`Error loading script: ${paths[lib]}`);\n",
       "        document.getElementsByTagName(\"head\")[0].appendChild(s);\n",
       "      });\n",
       "    }\n",
       "\n",
       "    function showError(err) {\n",
       "      outputDiv.innerHTML = `<div class=\"error\" style=\"color:red;\">${err}</div>`;\n",
       "      throw err;\n",
       "    }\n",
       "\n",
       "    function displayChart(vegaEmbed) {\n",
       "      vegaEmbed(outputDiv, spec, embedOpt)\n",
       "        .catch(err => showError(`Javascript Error: ${err.message}<br>This usually means there's a typo in your chart specification. See the javascript console for the full traceback.`));\n",
       "    }\n",
       "\n",
       "    if(typeof define === \"function\" && define.amd) {\n",
       "      requirejs.config({paths});\n",
       "      require([\"vega-embed\"], displayChart, err => showError(`Error loading script: ${err.message}`));\n",
       "    } else if (typeof vegaEmbed === \"function\") {\n",
       "      displayChart(vegaEmbed);\n",
       "    } else {\n",
       "      loadScript(\"vega\")\n",
       "        .then(() => loadScript(\"vega-lite\"))\n",
       "        .then(() => loadScript(\"vega-embed\"))\n",
       "        .catch(showError)\n",
       "        .then(() => displayChart(vegaEmbed));\n",
       "    }\n",
       "  })({\"config\": {\"view\": {\"continuousWidth\": 10, \"continuousHeight\": 300, \"strokeWidth\": 0.0}, \"title\": {\"anchor\": \"middle\", \"color\": \"black\", \"fontSize\": 11, \"orient\": \"bottom\"}}, \"data\": {\"name\": \"data-d2094f63191272a8cab5bcfc40100fe9\"}, \"facet\": {\"column\": {\"type\": \"nominal\", \"field\": \"dataset\", \"header\": {\"labelOrient\": \"bottom\", \"title\": null}}}, \"spec\": {\"layer\": [{\"mark\": {\"type\": \"point\", \"filled\": true, \"size\": 40}, \"encoding\": {\"color\": {\"type\": \"nominal\", \"field\": \"method\", \"legend\": {\"title\": \"Grammar\"}, \"scale\": {\"range\": [\"#1976b6\", \"#e41a1d\"]}}, \"x\": {\"type\": \"nominal\", \"axis\": {\"grid\": false, \"labels\": false, \"ticks\": false, \"title\": null}, \"field\": \"method\", \"scale\": {\"zero\": true}}, \"y\": {\"type\": \"quantitative\", \"aggregate\": \"mean\", \"axis\": {\"grid\": false}, \"field\": \"score\"}}}, {\"mark\": {\"type\": \"errorbar\", \"extent\": \"stdev\"}, \"encoding\": {\"color\": {\"type\": \"nominal\", \"field\": \"method\", \"scale\": {\"range\": [\"#1976b6\", \"#e41a1d\"]}}, \"x\": {\"type\": \"nominal\", \"field\": \"method\"}, \"y\": {\"type\": \"quantitative\", \"field\": \"score\", \"scale\": {\"zero\": false}, \"title\": \"Scores\"}}}]}, \"title\": \"Datasets\", \"$schema\": \"https://vega.github.io/schema/vega-lite/v4.8.1.json\", \"datasets\": {\"data-d2094f63191272a8cab5bcfc40100fe9\": [{\"dataset\": \"dataset_1\", \"method\": \"Manual\", \"score\": 0.6575574414425489, \"time\": \"2021-10-05T00:29:50.494115\"}, {\"dataset\": \"dataset_1\", \"method\": \"Manual\", \"score\": 0.6372023161058514, \"time\": \"2021-10-05T00:03:49.245516\"}, {\"dataset\": \"dataset_1\", \"method\": \"Manual\", \"score\": 0.6360858052628097, \"time\": \"2021-10-05T00:01:02.402217\"}, {\"dataset\": \"dataset_1\", \"method\": \"Manual\", \"score\": 0.6360858052628097, \"time\": \"2021-10-05T00:02:02.101720\"}, {\"dataset\": \"dataset_1\", \"method\": \"Manual\", \"score\": 0.6198318763803567, \"time\": \"2021-10-05T00:02:22.669587\"}, {\"dataset\": \"dataset_1\", \"method\": \"Manual\", \"score\": 0.6124572706503573, \"time\": \"2021-10-05T00:22:23.576005\"}, {\"dataset\": \"dataset_1\", \"method\": \"Manual\", \"score\": 0.6124572706503573, \"time\": \"2021-10-05T00:22:40.713338\"}, {\"dataset\": \"dataset_1\", \"method\": \"Manual\", \"score\": 0.6053881880179274, \"time\": \"2021-10-05T00:05:49.191407\"}, {\"dataset\": \"dataset_1\", \"method\": \"Manual\", \"score\": 0.5728973320173743, \"time\": \"2021-10-05T00:29:30.006493\"}, {\"dataset\": \"dataset_1\", \"method\": \"Manual\", \"score\": 0.547605264333986, \"time\": \"2021-10-05T00:10:23.086578\"}, {\"dataset\": \"dataset_1\", \"method\": \"Manual\", \"score\": 0.5456652784058164, \"time\": \"2021-10-05T00:11:22.884905\"}, {\"dataset\": \"dataset_1\", \"method\": \"Manual\", \"score\": 0.5456652784058164, \"time\": \"2021-10-05T00:12:36.492585\"}, {\"dataset\": \"dataset_1\", \"method\": \"Manual\", \"score\": 0.534874592234171, \"time\": \"2021-10-05T00:14:36.350906\"}, {\"dataset\": \"dataset_1\", \"method\": \"Manual\", \"score\": 0.534874592234171, \"time\": \"2021-10-05T00:19:46.677608\"}, {\"dataset\": \"dataset_1\", \"method\": \"Manual\", \"score\": 0.5324338081437909, \"time\": \"2021-10-05T00:17:53.498020\"}, {\"dataset\": \"dataset_1\", \"method\": \"Manual\", \"score\": 0.5296390669990277, \"time\": \"2021-10-05T00:11:40.245927\"}, {\"dataset\": \"dataset_1\", \"method\": \"Manual\", \"score\": 0.5180894914405356, \"time\": \"2021-10-05T00:30:10.858987\"}, {\"dataset\": \"dataset_1\", \"method\": \"Manual\", \"score\": 0.5099553485152465, \"time\": \"2021-10-05T00:20:07.080257\"}, {\"dataset\": \"dataset_1\", \"method\": \"Manual\", \"score\": 0.5099553485152465, \"time\": \"2021-10-05T00:21:03.271448\"}, {\"dataset\": \"dataset_1\", \"method\": \"Manual\", \"score\": 0.5099553485152465, \"time\": \"2021-10-05T00:22:58.280854\"}, {\"dataset\": \"dataset_1\", \"method\": \"Manual\", \"score\": 0.5099553485152465, \"time\": \"2021-10-05T00:23:54.955781\"}, {\"dataset\": \"dataset_1\", \"method\": \"Manual\", \"score\": 0.5099553485152465, \"time\": \"2021-10-05T00:27:24.084067\"}, {\"dataset\": \"dataset_1\", \"method\": \"Manual\", \"score\": 0.5066946925225481, \"time\": \"2021-10-05T00:21:23.831716\"}, {\"dataset\": \"dataset_1\", \"method\": \"Manual\", \"score\": 0.5066946925225481, \"time\": \"2021-10-05T00:24:54.393106\"}, {\"dataset\": \"dataset_1\", \"method\": \"Manual\", \"score\": 0.4908353733937537, \"time\": \"2021-10-05T00:16:39.015701\"}, {\"dataset\": \"dataset_1\", \"method\": \"Manual\", \"score\": 0.4908353733937537, \"time\": \"2021-10-05T00:16:56.803320\"}, {\"dataset\": \"dataset_1\", \"method\": \"Manual\", \"score\": 0.4840626514285561, \"time\": \"2021-10-05T00:18:53.546760\"}, {\"dataset\": \"dataset_1\", \"method\": \"Manual\", \"score\": 0.3170413659898891, \"time\": \"2021-10-05T00:06:09.759082\"}, {\"dataset\": \"dataset_1\", \"method\": \"Manual\", \"score\": 0.3170413659898891, \"time\": \"2021-10-05T00:07:03.003813\"}, {\"dataset\": \"dataset_1\", \"method\": \"Manual\", \"score\": 0.3170413659898891, \"time\": \"2021-10-05T00:09:05.758503\"}, {\"dataset\": \"dataset_1\", \"method\": \"Manual\", \"score\": 0.3170413659898891, \"time\": \"2021-10-05T00:09:23.212506\"}, {\"dataset\": \"dataset_2\", \"method\": \"Manual\", \"score\": 0.24457772539910272, \"time\": \"2021-10-05T00:23:14.536310\"}, {\"dataset\": \"dataset_2\", \"method\": \"Manual\", \"score\": 0.24457772539910272, \"time\": \"2021-10-05T00:25:33.322605\"}, {\"dataset\": \"dataset_2\", \"method\": \"Manual\", \"score\": 0.24457772539910272, \"time\": \"2021-10-05T00:25:54.121817\"}, {\"dataset\": \"dataset_2\", \"method\": \"Manual\", \"score\": 0.24457772539910272, \"time\": \"2021-10-05T00:26:14.692759\"}, {\"dataset\": \"dataset_2\", \"method\": \"Manual\", \"score\": 0.24457772539910272, \"time\": \"2021-10-05T00:27:17.853349\"}, {\"dataset\": \"dataset_2\", \"method\": \"Manual\", \"score\": 0.2382714834387697, \"time\": \"2021-10-05T00:24:51.079648\"}, {\"dataset\": \"dataset_2\", \"method\": \"Manual\", \"score\": 0.23412136198346623, \"time\": \"2021-10-05T00:18:19.629826\"}, {\"dataset\": \"dataset_2\", \"method\": \"Manual\", \"score\": 0.23061670724594155, \"time\": \"2021-10-05T00:27:38.722863\"}, {\"dataset\": \"dataset_2\", \"method\": \"Manual\", \"score\": 0.2266130633568356, \"time\": \"2021-10-05T00:25:12.049619\"}, {\"dataset\": \"dataset_2\", \"method\": \"Manual\", \"score\": 0.22342490821169267, \"time\": \"2021-10-05T00:10:31.470504\"}, {\"dataset\": \"dataset_2\", \"method\": \"Manual\", \"score\": 0.22342490821169267, \"time\": \"2021-10-05T00:14:12.935767\"}, {\"dataset\": \"dataset_2\", \"method\": \"Manual\", \"score\": 0.22342490821169267, \"time\": \"2021-10-05T00:15:54.347001\"}, {\"dataset\": \"dataset_2\", \"method\": \"Manual\", \"score\": 0.22324673459127242, \"time\": \"2021-10-05T00:06:23.876794\"}, {\"dataset\": \"dataset_2\", \"method\": \"Manual\", \"score\": 0.22324673459127242, \"time\": \"2021-10-05T00:28:20.811753\"}, {\"dataset\": \"dataset_2\", \"method\": \"Manual\", \"score\": 0.2116773442904607, \"time\": \"2021-10-05T00:04:22.859980\"}, {\"dataset\": \"dataset_2\", \"method\": \"Manual\", \"score\": 0.2116773442904607, \"time\": \"2021-10-05T00:05:23.923249\"}, {\"dataset\": \"dataset_2\", \"method\": \"Manual\", \"score\": 0.20969085532212509, \"time\": \"2021-10-05T00:27:59.883722\"}, {\"dataset\": \"dataset_2\", \"method\": \"Manual\", \"score\": 0.19428646153877313, \"time\": \"2021-10-05T00:02:33.982026\"}, {\"dataset\": \"dataset_2\", \"method\": \"Manual\", \"score\": 0.19428646153877313, \"time\": \"2021-10-05T00:03:40.512736\"}, {\"dataset\": \"dataset_2\", \"method\": \"Manual\", \"score\": 0.18962445687676846, \"time\": \"2021-10-05T00:21:29.005295\"}, {\"dataset\": \"dataset_2\", \"method\": \"Manual\", \"score\": 0.18962445687676846, \"time\": \"2021-10-05T00:24:29.925926\"}, {\"dataset\": \"dataset_2\", \"method\": \"Manual\", \"score\": 0.18962445687676846, \"time\": \"2021-10-05T00:26:56.714179\"}, {\"dataset\": \"dataset_2\", \"method\": \"Manual\", \"score\": 0.18662051637282798, \"time\": \"2021-10-05T00:06:03.165947\"}, {\"dataset\": \"dataset_2\", \"method\": \"Manual\", \"score\": 0.18662051637282798, \"time\": \"2021-10-05T00:07:05.370264\"}, {\"dataset\": \"dataset_2\", \"method\": \"Manual\", \"score\": 0.17981134240127045, \"time\": \"2021-10-05T00:02:55.162345\"}, {\"dataset\": \"dataset_2\", \"method\": \"Manual\", \"score\": 0.1658423721945015, \"time\": \"2021-10-05T00:16:36.551887\"}, {\"dataset\": \"dataset_2\", \"method\": \"Manual\", \"score\": 0.16336542702789625, \"time\": \"2021-10-05T00:09:11.070703\"}, {\"dataset\": \"dataset_2\", \"method\": \"Manual\", \"score\": 0.1550894020060555, \"time\": \"2021-10-05T00:05:03.040700\"}, {\"dataset\": \"dataset_2\", \"method\": \"Manual\", \"score\": 0.15385621249874748, \"time\": \"2021-10-05T00:12:49.104181\"}, {\"dataset\": \"dataset_2\", \"method\": \"Manual\", \"score\": 0.15290730368670852, \"time\": \"2021-10-05T00:12:27.995966\"}, {\"dataset\": \"dataset_2\", \"method\": \"Manual\", \"score\": 0.1520403910313758, \"time\": \"2021-10-05T00:08:08.182250\"}, {\"dataset\": \"dataset_2\", \"method\": \"Manual\", \"score\": 0.1520403910313758, \"time\": \"2021-10-05T00:13:31.147532\"}, {\"dataset\": \"dataset_2\", \"method\": \"Manual\", \"score\": 0.1520403910313758, \"time\": \"2021-10-05T00:16:15.442434\"}, {\"dataset\": \"dataset_2\", \"method\": \"Manual\", \"score\": 0.1520403910313758, \"time\": \"2021-10-05T00:17:58.925899\"}, {\"dataset\": \"dataset_2\", \"method\": \"Manual\", \"score\": 0.1520403910313758, \"time\": \"2021-10-05T00:19:23.320497\"}, {\"dataset\": \"dataset_2\", \"method\": \"Manual\", \"score\": 0.1520403910313758, \"time\": \"2021-10-05T00:20:43.809512\"}, {\"dataset\": \"dataset_2\", \"method\": \"Manual\", \"score\": 0.1520403910313758, \"time\": \"2021-10-05T00:21:04.815081\"}, {\"dataset\": \"dataset_2\", \"method\": \"Manual\", \"score\": 0.1520403910313758, \"time\": \"2021-10-05T00:21:50.180481\"}, {\"dataset\": \"dataset_2\", \"method\": \"Manual\", \"score\": 0.1520403910313758, \"time\": \"2021-10-05T00:22:53.374715\"}, {\"dataset\": \"dataset_2\", \"method\": \"Manual\", \"score\": 0.1520403910313758, \"time\": \"2021-10-05T00:23:56.905396\"}, {\"dataset\": \"dataset_2\", \"method\": \"Manual\", \"score\": 0.15163807954650677, \"time\": \"2021-10-05T00:03:19.127988\"}, {\"dataset\": \"dataset_2\", \"method\": \"Manual\", \"score\": 0.15097108856650843, \"time\": \"2021-10-05T00:06:44.865060\"}, {\"dataset\": \"dataset_2\", \"method\": \"Manual\", \"score\": 0.14780240766859956, \"time\": \"2021-10-05T00:10:48.496058\"}, {\"dataset\": \"dataset_2\", \"method\": \"Manual\", \"score\": 0.14420355364919885, \"time\": \"2021-10-05T00:22:11.191263\"}, {\"dataset\": \"dataset_2\", \"method\": \"Manual\", \"score\": 0.14420355364919885, \"time\": \"2021-10-05T00:28:41.983658\"}, {\"dataset\": \"dataset_2\", \"method\": \"Manual\", \"score\": 0.1425386766418287, \"time\": \"2021-10-05T00:08:29.128902\"}, {\"dataset\": \"dataset_2\", \"method\": \"Manual\", \"score\": 0.1408711630482901, \"time\": \"2021-10-05T00:18:40.420020\"}, {\"dataset\": \"dataset_2\", \"method\": \"Manual\", \"score\": 0.1408711630482901, \"time\": \"2021-10-05T00:23:35.778858\"}, {\"dataset\": \"dataset_2\", \"method\": \"Manual\", \"score\": 0.14013705088237657, \"time\": \"2021-10-05T00:22:32.207962\"}, {\"dataset\": \"dataset_2\", \"method\": \"Manual\", \"score\": 0.13967142148543749, \"time\": \"2021-10-05T00:30:02.891954\"}, {\"dataset\": \"dataset_2\", \"method\": \"Manual\", \"score\": 0.1370319101332274, \"time\": \"2021-10-05T00:09:32.079642\"}, {\"dataset\": \"dataset_2\", \"method\": \"Manual\", \"score\": 0.13494308378360928, \"time\": \"2021-10-05T00:04:01.726385\"}, {\"dataset\": \"dataset_2\", \"method\": \"Manual\", \"score\": 0.13494308378360928, \"time\": \"2021-10-05T00:07:26.216875\"}, {\"dataset\": \"dataset_2\", \"method\": \"Manual\", \"score\": 0.13494308378360928, \"time\": \"2021-10-05T00:07:47.260787\"}, {\"dataset\": \"dataset_2\", \"method\": \"Manual\", \"score\": 0.13494308378360928, \"time\": \"2021-10-05T00:11:10.023649\"}, {\"dataset\": \"dataset_2\", \"method\": \"Manual\", \"score\": 0.13494308378360928, \"time\": \"2021-10-05T00:29:21.279932\"}, {\"dataset\": \"dataset_2\", \"method\": \"Manual\", \"score\": 0.13462165688193084, \"time\": \"2021-10-05T00:10:10.507287\"}, {\"dataset\": \"dataset_2\", \"method\": \"Manual\", \"score\": 0.13406693827000188, \"time\": \"2021-10-05T00:15:33.231954\"}, {\"dataset\": \"dataset_2\", \"method\": \"Manual\", \"score\": 0.13406693827000188, \"time\": \"2021-10-05T00:17:18.476071\"}, {\"dataset\": \"dataset_2\", \"method\": \"Manual\", \"score\": 0.12714788573628544, \"time\": \"2021-10-05T00:15:12.261802\"}, {\"dataset\": \"dataset_2\", \"method\": \"Manual\", \"score\": 0.12398059322695096, \"time\": \"2021-10-05T00:14:33.815613\"}, {\"dataset\": \"dataset_2\", \"method\": \"Manual\", \"score\": 0.11188770990444155, \"time\": \"2021-10-05T00:13:10.240718\"}, {\"dataset\": \"dataset_2\", \"method\": \"Manual\", \"score\": 0.10837437829811852, \"time\": \"2021-10-05T00:13:51.994672\"}, {\"dataset\": \"dataset_2\", \"method\": \"Manual\", \"score\": 0.10366335998631718, \"time\": \"2021-10-05T00:16:57.622266\"}, {\"dataset\": \"dataset_2\", \"method\": \"Manual\", \"score\": 0.10366335998631718, \"time\": \"2021-10-05T00:17:38.694619\"}, {\"dataset\": \"dataset_2\", \"method\": \"Manual\", \"score\": 0.08745384140200345, \"time\": \"2021-10-05T00:19:01.639459\"}, {\"dataset\": \"dataset_2\", \"method\": \"Manual\", \"score\": 0.06891601814347913, \"time\": \"2021-10-05T00:29:42.371500\"}, {\"dataset\": \"dataset_2\", \"method\": \"Manual\", \"score\": 0.06332941797995773, \"time\": \"2021-10-05T00:08:50.073441\"}, {\"dataset\": \"dataset_2\", \"method\": \"Manual\", \"score\": 0.06332941797995773, \"time\": \"2021-10-05T00:11:31.028452\"}, {\"dataset\": \"dataset_2\", \"method\": \"Manual\", \"score\": 0.06332941797995773, \"time\": \"2021-10-05T00:12:06.967595\"}, {\"dataset\": \"dataset_2\", \"method\": \"Manual\", \"score\": 0.06332941797995773, \"time\": \"2021-10-05T00:26:35.551421\"}, {\"dataset\": \"dataset_2\", \"method\": \"Manual\", \"score\": 0.060314183109030944, \"time\": \"2021-10-05T00:19:44.079257\"}, {\"dataset\": \"dataset_2\", \"method\": \"Manual\", \"score\": 0.060314183109030944, \"time\": \"2021-10-05T00:20:23.081195\"}, {\"dataset\": \"dataset_2\", \"method\": \"Manual\", \"score\": 0.052977554634263485, \"time\": \"2021-10-05T00:14:54.813571\"}, {\"dataset\": \"dataset_3\", \"method\": \"Manual\", \"score\": 0.6805555555555556, \"time\": \"2021-10-05T00:12:22.817978\"}, {\"dataset\": \"dataset_3\", \"method\": \"Manual\", \"score\": 0.6493055555555556, \"time\": \"2021-10-05T00:06:30.569778\"}, {\"dataset\": \"dataset_3\", \"method\": \"Manual\", \"score\": 0.6458333333333334, \"time\": \"2021-10-05T00:04:18.989750\"}, {\"dataset\": \"dataset_3\", \"method\": \"Manual\", \"score\": 0.6458333333333334, \"time\": \"2021-10-05T00:05:06.555958\"}, {\"dataset\": \"dataset_3\", \"method\": \"Manual\", \"score\": 0.6458333333333334, \"time\": \"2021-10-05T00:05:27.652999\"}, {\"dataset\": \"dataset_3\", \"method\": \"Manual\", \"score\": 0.6215277777777778, \"time\": \"2021-10-05T00:10:19.393029\"}, {\"dataset\": \"dataset_3\", \"method\": \"Manual\", \"score\": 0.6215277777777778, \"time\": \"2021-10-05T00:11:58.841949\"}, {\"dataset\": \"dataset_3\", \"method\": \"Manual\", \"score\": 0.6145833333333334, \"time\": \"2021-10-05T00:27:23.617904\"}, {\"dataset\": \"dataset_3\", \"method\": \"Manual\", \"score\": 0.6076388888888888, \"time\": \"2021-10-05T00:07:12.353394\"}, {\"dataset\": \"dataset_3\", \"method\": \"Manual\", \"score\": 0.6041666666666667, \"time\": \"2021-10-05T00:07:53.811291\"}, {\"dataset\": \"dataset_3\", \"method\": \"Manual\", \"score\": 0.6041666666666667, \"time\": \"2021-10-05T00:13:28.396263\"}, {\"dataset\": \"dataset_3\", \"method\": \"Manual\", \"score\": 0.5833333333333333, \"time\": \"2021-10-05T00:25:39.240095\"}, {\"dataset\": \"dataset_3\", \"method\": \"Manual\", \"score\": 0.5798611111111112, \"time\": \"2021-10-05T00:07:36.542941\"}, {\"dataset\": \"dataset_3\", \"method\": \"Manual\", \"score\": 0.5555555555555556, \"time\": \"2021-10-05T00:16:47.994883\"}, {\"dataset\": \"dataset_3\", \"method\": \"Manual\", \"score\": 0.5555555555555556, \"time\": \"2021-10-05T00:22:55.259362\"}, {\"dataset\": \"dataset_3\", \"method\": \"Manual\", \"score\": 0.5555555555555556, \"time\": \"2021-10-05T00:23:54.297602\"}, {\"dataset\": \"dataset_3\", \"method\": \"Manual\", \"score\": 0.5520833333333333, \"time\": \"2021-10-05T00:08:54.840560\"}, {\"dataset\": \"dataset_3\", \"method\": \"Manual\", \"score\": 0.5520833333333333, \"time\": \"2021-10-05T00:10:40.516166\"}, {\"dataset\": \"dataset_3\", \"method\": \"Manual\", \"score\": 0.5520833333333333, \"time\": \"2021-10-05T00:10:58.403076\"}, {\"dataset\": \"dataset_3\", \"method\": \"Manual\", \"score\": 0.5520833333333333, \"time\": \"2021-10-05T00:12:47.032104\"}, {\"dataset\": \"dataset_3\", \"method\": \"Manual\", \"score\": 0.5520833333333333, \"time\": \"2021-10-05T00:13:07.479265\"}, {\"dataset\": \"dataset_3\", \"method\": \"Manual\", \"score\": 0.5520833333333333, \"time\": \"2021-10-05T00:14:25.202998\"}, {\"dataset\": \"dataset_3\", \"method\": \"Manual\", \"score\": 0.5520833333333333, \"time\": \"2021-10-05T00:15:27.784000\"}, {\"dataset\": \"dataset_3\", \"method\": \"Manual\", \"score\": 0.5520833333333333, \"time\": \"2021-10-05T00:15:45.733070\"}, {\"dataset\": \"dataset_3\", \"method\": \"Manual\", \"score\": 0.5520833333333333, \"time\": \"2021-10-05T00:17:28.982201\"}, {\"dataset\": \"dataset_3\", \"method\": \"Manual\", \"score\": 0.5520833333333333, \"time\": \"2021-10-05T00:22:10.080298\"}, {\"dataset\": \"dataset_3\", \"method\": \"Manual\", \"score\": 0.5520833333333333, \"time\": \"2021-10-05T00:22:34.076895\"}, {\"dataset\": \"dataset_3\", \"method\": \"Manual\", \"score\": 0.5520833333333333, \"time\": \"2021-10-05T00:24:33.116312\"}, {\"dataset\": \"dataset_3\", \"method\": \"Manual\", \"score\": 0.5520833333333333, \"time\": \"2021-10-05T00:25:18.609075\"}, {\"dataset\": \"dataset_3\", \"method\": \"Manual\", \"score\": 0.5520833333333333, \"time\": \"2021-10-05T00:27:41.005799\"}, {\"dataset\": \"dataset_3\", \"method\": \"Manual\", \"score\": 0.5451388888888888, \"time\": \"2021-10-05T00:09:16.027683\"}, {\"dataset\": \"dataset_3\", \"method\": \"Manual\", \"score\": 0.5451388888888888, \"time\": \"2021-10-05T00:11:15.812003\"}, {\"dataset\": \"dataset_3\", \"method\": \"Manual\", \"score\": 0.5173611111111112, \"time\": \"2021-10-05T00:19:34.925456\"}, {\"dataset\": \"dataset_3\", \"method\": \"Manual\", \"score\": 0.513888888888889, \"time\": \"2021-10-05T00:14:45.962163\"}, {\"dataset\": \"dataset_3\", \"method\": \"Manual\", \"score\": 0.513888888888889, \"time\": \"2021-10-05T00:16:03.564331\"}, {\"dataset\": \"dataset_3\", \"method\": \"Manual\", \"score\": 0.5104166666666667, \"time\": \"2021-10-05T00:18:07.346763\"}, {\"dataset\": \"dataset_3\", \"method\": \"Manual\", \"score\": 0.5104166666666667, \"time\": \"2021-10-05T00:18:32.189883\"}, {\"dataset\": \"dataset_3\", \"method\": \"Manual\", \"score\": 0.5069444444444444, \"time\": \"2021-10-05T00:19:51.953198\"}, {\"dataset\": \"dataset_3\", \"method\": \"Manual\", \"score\": 0.5, \"time\": \"2021-10-05T00:28:43.888676\"}, {\"dataset\": \"dataset_3\", \"method\": \"Manual\", \"score\": 0.48958333333333337, \"time\": \"2021-10-05T00:19:14.017639\"}, {\"dataset\": \"dataset_3\", \"method\": \"Manual\", \"score\": 0.4861111111111111, \"time\": \"2021-10-05T00:20:50.253951\"}, {\"dataset\": \"dataset_3\", \"method\": \"Manual\", \"score\": 0.48611111111111105, \"time\": \"2021-10-05T00:26:20.970978\"}, {\"dataset\": \"dataset_3\", \"method\": \"Manual\", \"score\": 0.4791666666666667, \"time\": \"2021-10-05T00:11:37.687368\"}, {\"dataset\": \"dataset_3\", \"method\": \"Manual\", \"score\": 0.4791666666666667, \"time\": \"2021-10-05T00:20:29.306026\"}, {\"dataset\": \"dataset_3\", \"method\": \"Manual\", \"score\": 0.4791666666666667, \"time\": \"2021-10-05T00:24:57.513504\"}, {\"dataset\": \"dataset_3\", \"method\": \"Manual\", \"score\": 0.4756944444444444, \"time\": \"2021-10-05T00:17:46.924631\"}, {\"dataset\": \"dataset_3\", \"method\": \"Manual\", \"score\": 0.45833333333333337, \"time\": \"2021-10-05T00:20:08.921572\"}, {\"dataset\": \"dataset_3\", \"method\": \"Manual\", \"score\": 0.4513888888888889, \"time\": \"2021-10-05T00:03:08.422816\"}, {\"dataset\": \"dataset_3\", \"method\": \"Manual\", \"score\": 0.4444444444444444, \"time\": \"2021-10-05T00:08:37.155902\"}, {\"dataset\": \"dataset_3\", \"method\": \"Manual\", \"score\": 0.4375, \"time\": \"2021-10-05T00:29:04.687169\"}, {\"dataset\": \"dataset_3\", \"method\": \"Manual\", \"score\": 0.42708333333333337, \"time\": \"2021-10-05T00:29:40.482990\"}, {\"dataset\": \"dataset_3\", \"method\": \"Manual\", \"score\": 0.4131944444444445, \"time\": \"2021-10-05T00:21:10.833177\"}, {\"dataset\": \"dataset_3\", \"method\": \"Manual\", \"score\": 0.3993055555555556, \"time\": \"2021-10-05T00:03:53.528786\"}, {\"dataset\": \"dataset_3\", \"method\": \"Manual\", \"score\": 0.3993055555555556, \"time\": \"2021-10-05T00:05:48.597092\"}, {\"dataset\": \"dataset_3\", \"method\": \"Manual\", \"score\": 0.39236111111111116, \"time\": \"2021-10-05T00:06:51.569174\"}, {\"dataset\": \"dataset_3\", \"method\": \"Manual\", \"score\": 0.3472222222222222, \"time\": \"2021-10-05T00:03:29.541100\"}, {\"dataset\": \"dataset_3\", \"method\": \"Manual\", \"score\": 0.3263888888888889, \"time\": \"2021-10-05T00:09:58.277226\"}, {\"dataset\": \"dataset_3\", \"method\": \"Manual\", \"score\": 0.3194444444444444, \"time\": \"2021-10-05T00:18:52.973936\"}, {\"dataset\": \"dataset_3\", \"method\": \"Manual\", \"score\": 0.2847222222222222, \"time\": \"2021-10-05T00:08:14.778671\"}, {\"dataset\": \"dataset_3\", \"method\": \"Manual\", \"score\": 0.2847222222222222, \"time\": \"2021-10-05T00:15:06.889383\"}, {\"dataset\": \"dataset_3\", \"method\": \"Manual\", \"score\": 0.2847222222222222, \"time\": \"2021-10-05T00:17:08.451871\"}, {\"dataset\": \"dataset_3\", \"method\": \"Manual\", \"score\": 0.2847222222222222, \"time\": \"2021-10-05T00:21:46.641406\"}, {\"dataset\": \"dataset_3\", \"method\": \"Manual\", \"score\": 0.2847222222222222, \"time\": \"2021-10-05T00:26:41.808449\"}, {\"dataset\": \"dataset_3\", \"method\": \"Manual\", \"score\": 0.2847222222222222, \"time\": \"2021-10-05T00:30:01.586442\"}, {\"dataset\": \"dataset_3\", \"method\": \"Manual\", \"score\": 0.28125, \"time\": \"2021-10-05T00:13:46.276775\"}, {\"dataset\": \"dataset_3\", \"method\": \"Manual\", \"score\": 0.2777777777777778, \"time\": \"2021-10-05T00:16:23.955135\"}, {\"dataset\": \"dataset_3\", \"method\": \"Manual\", \"score\": 0.2326388888888889, \"time\": \"2021-10-05T00:23:15.942421\"}, {\"dataset\": \"dataset_3\", \"method\": \"Manual\", \"score\": 0.22569444444444442, \"time\": \"2021-10-05T00:09:37.131285\"}, {\"dataset\": \"dataset_3\", \"method\": \"Manual\", \"score\": 0.22569444444444442, \"time\": \"2021-10-05T00:14:07.378025\"}, {\"dataset\": \"dataset_3\", \"method\": \"Manual\", \"score\": 0.22569444444444442, \"time\": \"2021-10-05T00:26:00.081546\"}, {\"dataset\": \"dataset_3\", \"method\": \"Manual\", \"score\": 0.22569444444444442, \"time\": \"2021-10-05T00:28:22.996744\"}, {\"dataset\": \"dataset_3\", \"method\": \"Manual\", \"score\": 0.2222222222222222, \"time\": \"2021-10-05T00:27:02.781485\"}, {\"dataset\": \"dataset_3\", \"method\": \"Manual\", \"score\": 0.21875, \"time\": \"2021-10-05T00:21:28.613107\"}, {\"dataset\": \"dataset_3\", \"method\": \"Manual\", \"score\": 0.19791666666666666, \"time\": \"2021-10-05T00:06:09.727564\"}, {\"dataset\": \"dataset_3\", \"method\": \"Manual\", \"score\": 0.18055555555555558, \"time\": \"2021-10-05T00:23:36.422246\"}, {\"dataset\": \"dataset_3\", \"method\": \"Manual\", \"score\": 0.16319444444444445, \"time\": \"2021-10-05T00:04:42.665337\"}, {\"dataset\": \"dataset_3\", \"method\": \"Manual\", \"score\": 0.1423611111111111, \"time\": \"2021-10-05T00:24:12.169628\"}, {\"dataset\": \"dataset_3\", \"method\": \"Manual\", \"score\": 0.1388888888888889, \"time\": \"2021-10-05T00:02:47.262307\"}, {\"dataset\": \"dataset_3\", \"method\": \"Manual\", \"score\": 0.125, \"time\": \"2021-10-05T00:28:02.076796\"}, {\"dataset\": \"dataset_3\", \"method\": \"Manual\", \"score\": 0.125, \"time\": \"2021-10-05T00:29:22.447957\"}, {\"dataset\": \"dataset_4\", \"method\": \"Manual\", \"score\": 0.16774927136081813, \"time\": \"2021-10-05T00:26:07.677251\"}, {\"dataset\": \"dataset_4\", \"method\": \"Manual\", \"score\": 0.1582177089157482, \"time\": \"2021-10-05T00:04:48.972592\"}, {\"dataset\": \"dataset_4\", \"method\": \"Manual\", \"score\": 0.1582177089157482, \"time\": \"2021-10-05T00:05:45.507727\"}, {\"dataset\": \"dataset_4\", \"method\": \"Manual\", \"score\": 0.14517643929331447, \"time\": \"2021-10-05T00:06:48.697699\"}, {\"dataset\": \"dataset_4\", \"method\": \"Manual\", \"score\": 0.14503295793688192, \"time\": \"2021-10-05T00:07:30.736227\"}, {\"dataset\": \"dataset_4\", \"method\": \"Manual\", \"score\": 0.14276835422499917, \"time\": \"2021-10-05T00:13:37.670155\"}, {\"dataset\": \"dataset_4\", \"method\": \"Manual\", \"score\": 0.14152008433119168, \"time\": \"2021-10-05T00:12:35.441947\"}, {\"dataset\": \"dataset_4\", \"method\": \"Manual\", \"score\": 0.13610914174524308, \"time\": \"2021-10-05T00:11:34.048294\"}, {\"dataset\": \"dataset_4\", \"method\": \"Manual\", \"score\": 0.13508487888471887, \"time\": \"2021-10-05T00:11:54.416263\"}, {\"dataset\": \"dataset_4\", \"method\": \"Manual\", \"score\": 0.13475889081556774, \"time\": \"2021-10-05T00:25:31.736176\"}, {\"dataset\": \"dataset_4\", \"method\": \"Manual\", \"score\": 0.1343114681592625, \"time\": \"2021-10-05T00:13:17.037666\"}, {\"dataset\": \"dataset_4\", \"method\": \"Manual\", \"score\": 0.13399402700734098, \"time\": \"2021-10-05T00:22:49.266698\"}, {\"dataset\": \"dataset_4\", \"method\": \"Manual\", \"score\": 0.13399402700734098, \"time\": \"2021-10-05T00:23:52.455594\"}, {\"dataset\": \"dataset_4\", \"method\": \"Manual\", \"score\": 0.13397689295810639, \"time\": \"2021-10-05T00:09:15.567205\"}, {\"dataset\": \"dataset_4\", \"method\": \"Manual\", \"score\": 0.13397689295810639, \"time\": \"2021-10-05T00:11:00.877969\"}, {\"dataset\": \"dataset_4\", \"method\": \"Manual\", \"score\": 0.13397689295810639, \"time\": \"2021-10-05T00:12:56.101799\"}, {\"dataset\": \"dataset_4\", \"method\": \"Manual\", \"score\": 0.13397689295810639, \"time\": \"2021-10-05T00:15:37.033413\"}, {\"dataset\": \"dataset_4\", \"method\": \"Manual\", \"score\": 0.13397689295810639, \"time\": \"2021-10-05T00:22:31.318765\"}, {\"dataset\": \"dataset_4\", \"method\": \"Manual\", \"score\": 0.13397689295810639, \"time\": \"2021-10-05T00:24:34.643764\"}, {\"dataset\": \"dataset_4\", \"method\": \"Manual\", \"score\": 0.13397689295810639, \"time\": \"2021-10-05T00:25:13.617914\"}, {\"dataset\": \"dataset_4\", \"method\": \"Manual\", \"score\": 0.13397689295810639, \"time\": \"2021-10-05T00:27:31.331007\"}, {\"dataset\": \"dataset_4\", \"method\": \"Manual\", \"score\": 0.13397689295810639, \"time\": \"2021-10-05T00:30:41.398484\"}, {\"dataset\": \"dataset_4\", \"method\": \"Manual\", \"score\": 0.13392968281042877, \"time\": \"2021-10-05T00:27:10.866229\"}, {\"dataset\": \"dataset_4\", \"method\": \"Manual\", \"score\": 0.13360551557750605, \"time\": \"2021-10-05T00:15:16.056715\"}, {\"dataset\": \"dataset_4\", \"method\": \"Manual\", \"score\": 0.13091525209012744, \"time\": \"2021-10-05T00:07:55.030615\"}, {\"dataset\": \"dataset_4\", \"method\": \"Manual\", \"score\": 0.1297177473638264, \"time\": \"2021-10-05T00:04:28.442585\"}, {\"dataset\": \"dataset_4\", \"method\": \"Manual\", \"score\": 0.1297177473638264, \"time\": \"2021-10-05T00:05:06.873170\"}, {\"dataset\": \"dataset_4\", \"method\": \"Manual\", \"score\": 0.1297177473638264, \"time\": \"2021-10-05T00:06:06.723775\"}, {\"dataset\": \"dataset_4\", \"method\": \"Manual\", \"score\": 0.1297177473638264, \"time\": \"2021-10-05T00:06:27.901278\"}, {\"dataset\": \"dataset_4\", \"method\": \"Manual\", \"score\": 0.1297177473638264, \"time\": \"2021-10-05T00:07:09.829041\"}, {\"dataset\": \"dataset_4\", \"method\": \"Manual\", \"score\": 0.12907413594841147, \"time\": \"2021-10-05T00:10:39.918979\"}, {\"dataset\": \"dataset_4\", \"method\": \"Manual\", \"score\": 0.12907413594841147, \"time\": \"2021-10-05T00:12:11.871319\"}, {\"dataset\": \"dataset_4\", \"method\": \"Manual\", \"score\": 0.12862956508700785, \"time\": \"2021-10-05T00:03:46.599028\"}, {\"dataset\": \"dataset_4\", \"method\": \"Manual\", \"score\": 0.12743888037634254, \"time\": \"2021-10-05T00:20:31.936966\"}, {\"dataset\": \"dataset_4\", \"method\": \"Manual\", \"score\": 0.1264545557064609, \"time\": \"2021-10-05T00:08:13.425806\"}, {\"dataset\": \"dataset_4\", \"method\": \"Manual\", \"score\": 0.12525799719413722, \"time\": \"2021-10-05T00:09:33.712465\"}, {\"dataset\": \"dataset_4\", \"method\": \"Manual\", \"score\": 0.12209463317888139, \"time\": \"2021-10-05T00:21:13.546623\"}, {\"dataset\": \"dataset_4\", \"method\": \"Manual\", \"score\": 0.12108305559494963, \"time\": \"2021-10-05T00:28:35.036303\"}, {\"dataset\": \"dataset_4\", \"method\": \"Manual\", \"score\": 0.11897290273403233, \"time\": \"2021-10-05T00:19:10.428739\"}, {\"dataset\": \"dataset_4\", \"method\": \"Manual\", \"score\": 0.11717640943053637, \"time\": \"2021-10-05T00:17:45.974609\"}, {\"dataset\": \"dataset_4\", \"method\": \"Manual\", \"score\": 0.11558286327067924, \"time\": \"2021-10-05T00:31:02.129499\"}, {\"dataset\": \"dataset_4\", \"method\": \"Manual\", \"score\": 0.11547194693680003, \"time\": \"2021-10-05T00:26:49.593191\"}, {\"dataset\": \"dataset_4\", \"method\": \"Manual\", \"score\": 0.11547194693680003, \"time\": \"2021-10-05T00:27:52.598955\"}, {\"dataset\": \"dataset_4\", \"method\": \"Manual\", \"score\": 0.11547194693680003, \"time\": \"2021-10-05T00:29:17.271305\"}, {\"dataset\": \"dataset_4\", \"method\": \"Manual\", \"score\": 0.11312356042738558, \"time\": \"2021-10-05T00:03:25.183801\"}, {\"dataset\": \"dataset_4\", \"method\": \"Manual\", \"score\": 0.11312356042738558, \"time\": \"2021-10-05T00:04:07.541078\"}, {\"dataset\": \"dataset_4\", \"method\": \"Manual\", \"score\": 0.11290537806546647, \"time\": \"2021-10-05T00:14:55.100642\"}, {\"dataset\": \"dataset_4\", \"method\": \"Manual\", \"score\": 0.11290537806546647, \"time\": \"2021-10-05T00:16:13.176334\"}, {\"dataset\": \"dataset_4\", \"method\": \"Manual\", \"score\": 0.10882371952835071, \"time\": \"2021-10-05T00:21:34.694486\"}, {\"dataset\": \"dataset_4\", \"method\": \"Manual\", \"score\": 0.10882371952835071, \"time\": \"2021-10-05T00:24:13.704038\"}, {\"dataset\": \"dataset_4\", \"method\": \"Manual\", \"score\": 0.10641791847204785, \"time\": \"2021-10-05T00:20:52.671416\"}, {\"dataset\": \"dataset_4\", \"method\": \"Manual\", \"score\": 0.10402054051356938, \"time\": \"2021-10-05T00:08:33.764682\"}, {\"dataset\": \"dataset_4\", \"method\": \"Manual\", \"score\": 0.10402054051356938, \"time\": \"2021-10-05T00:09:54.656735\"}, {\"dataset\": \"dataset_4\", \"method\": \"Manual\", \"score\": 0.10402054051356938, \"time\": \"2021-10-05T00:14:16.185115\"}, {\"dataset\": \"dataset_4\", \"method\": \"Manual\", \"score\": 0.10402054051356938, \"time\": \"2021-10-05T00:17:06.800657\"}, {\"dataset\": \"dataset_4\", \"method\": \"Manual\", \"score\": 0.10402054051356938, \"time\": \"2021-10-05T00:21:52.353712\"}, {\"dataset\": \"dataset_4\", \"method\": \"Manual\", \"score\": 0.10402054051356938, \"time\": \"2021-10-05T00:23:09.707783\"}, {\"dataset\": \"dataset_4\", \"method\": \"Manual\", \"score\": 0.10402054051356938, \"time\": \"2021-10-05T00:23:31.965174\"}, {\"dataset\": \"dataset_4\", \"method\": \"Manual\", \"score\": 0.10402054051356938, \"time\": \"2021-10-05T00:25:49.507359\"}, {\"dataset\": \"dataset_4\", \"method\": \"Manual\", \"score\": 0.10402054051356938, \"time\": \"2021-10-05T00:26:28.701946\"}, {\"dataset\": \"dataset_4\", \"method\": \"Manual\", \"score\": 0.10402054051356938, \"time\": \"2021-10-05T00:28:13.752005\"}, {\"dataset\": \"dataset_4\", \"method\": \"Manual\", \"score\": 0.10402054051356938, \"time\": \"2021-10-05T00:29:59.611493\"}, {\"dataset\": \"dataset_4\", \"method\": \"Manual\", \"score\": 0.10125246297992802, \"time\": \"2021-10-05T00:16:31.024723\"}, {\"dataset\": \"dataset_4\", \"method\": \"Manual\", \"score\": 0.09859546906936713, \"time\": \"2021-10-05T00:10:15.728865\"}, {\"dataset\": \"dataset_4\", \"method\": \"Manual\", \"score\": 0.09761089450892488, \"time\": \"2021-10-05T00:30:20.793148\"}, {\"dataset\": \"dataset_4\", \"method\": \"Manual\", \"score\": 0.09574089441705669, \"time\": \"2021-10-05T00:13:58.692709\"}, {\"dataset\": \"dataset_4\", \"method\": \"Manual\", \"score\": 0.09064747861240596, \"time\": \"2021-10-05T00:18:07.206161\"}, {\"dataset\": \"dataset_4\", \"method\": \"Manual\", \"score\": 0.09064747861240596, \"time\": \"2021-10-05T00:18:28.372506\"}, {\"dataset\": \"dataset_4\", \"method\": \"Manual\", \"score\": 0.07999182438061828, \"time\": \"2021-10-05T00:19:31.515965\"}, {\"dataset\": \"dataset_4\", \"method\": \"Manual\", \"score\": 0.0757045412495016, \"time\": \"2021-10-05T00:20:13.944674\"}, {\"dataset\": \"dataset_4\", \"method\": \"Manual\", \"score\": 0.0757045412495016, \"time\": \"2021-10-05T00:28:55.984505\"}, {\"dataset\": \"dataset_4\", \"method\": \"Manual\", \"score\": 0.0752404997901168, \"time\": \"2021-10-05T00:19:52.822489\"}, {\"dataset\": \"dataset_4\", \"method\": \"Manual\", \"score\": 0.06838361649575248, \"time\": \"2021-10-05T00:08:54.224764\"}, {\"dataset\": \"dataset_4\", \"method\": \"Manual\", \"score\": 0.059774413392499864, \"time\": \"2021-10-05T00:29:38.449110\"}, {\"dataset\": \"dataset_4\", \"method\": \"Manual\", \"score\": 0.020531199173025375, \"time\": \"2021-10-05T00:18:49.532151\"}, {\"dataset\": \"dataset_5\", \"method\": \"Manual\", \"score\": 0.9018569150148097, \"time\": \"2021-10-05T00:22:36.272962\"}, {\"dataset\": \"dataset_5\", \"method\": \"Manual\", \"score\": 0.9017999544315334, \"time\": \"2021-10-05T00:22:11.917924\"}, {\"dataset\": \"dataset_5\", \"method\": \"Manual\", \"score\": 0.8980405559352928, \"time\": \"2021-10-05T00:23:00.395780\"}, {\"dataset\": \"dataset_5\", \"method\": \"Manual\", \"score\": 0.8867053998632946, \"time\": \"2021-10-05T00:04:28.174732\"}, {\"dataset\": \"dataset_5\", \"method\": \"Manual\", \"score\": 0.8867053998632946, \"time\": \"2021-10-05T00:05:16.161161\"}, {\"dataset\": \"dataset_5\", \"method\": \"Manual\", \"score\": 0.8867053998632946, \"time\": \"2021-10-05T00:06:53.886716\"}, {\"dataset\": \"dataset_5\", \"method\": \"Manual\", \"score\": 0.8829744816586922, \"time\": \"2021-10-05T00:18:18.562980\"}, {\"dataset\": \"dataset_5\", \"method\": \"Manual\", \"score\": 0.882946001367054, \"time\": \"2021-10-05T00:13:36.390701\"}, {\"dataset\": \"dataset_5\", \"method\": \"Manual\", \"score\": 0.882946001367054, \"time\": \"2021-10-05T00:18:39.122854\"}, {\"dataset\": \"dataset_5\", \"method\": \"Manual\", \"score\": 0.8716108452950558, \"time\": \"2021-10-05T00:12:09.290963\"}, {\"dataset\": \"dataset_5\", \"method\": \"Manual\", \"score\": 0.8566302118933697, \"time\": \"2021-10-05T00:00:58.291695\"}, {\"dataset\": \"dataset_5\", \"method\": \"Manual\", \"score\": 0.8566302118933697, \"time\": \"2021-10-05T00:01:45.769658\"}, {\"dataset\": \"dataset_5\", \"method\": \"Manual\", \"score\": 0.8490544543176122, \"time\": \"2021-10-05T00:00:34.301853\"}, {\"dataset\": \"dataset_5\", \"method\": \"Manual\", \"score\": 0.8490544543176122, \"time\": \"2021-10-05T00:01:21.900627\"}, {\"dataset\": \"dataset_5\", \"method\": \"Manual\", \"score\": 0.8490544543176122, \"time\": \"2021-10-05T00:03:46.038200\"}, {\"dataset\": \"dataset_5\", \"method\": \"Manual\", \"score\": 0.8490544543176122, \"time\": \"2021-10-05T00:14:36.369589\"}, {\"dataset\": \"dataset_5\", \"method\": \"Manual\", \"score\": 0.8490544543176122, \"time\": \"2021-10-05T00:15:00.389388\"}, {\"dataset\": \"dataset_5\", \"method\": \"Manual\", \"score\": 0.8490544543176122, \"time\": \"2021-10-05T00:23:23.961417\"}, {\"dataset\": \"dataset_5\", \"method\": \"Manual\", \"score\": 0.8490544543176122, \"time\": \"2021-10-05T00:23:48.279425\"}, {\"dataset\": \"dataset_5\", \"method\": \"Manual\", \"score\": 0.8490544543176122, \"time\": \"2021-10-05T00:29:25.078869\"}, {\"dataset\": \"dataset_5\", \"method\": \"Manual\", \"score\": 0.849025974025974, \"time\": \"2021-10-05T00:05:40.568798\"}, {\"dataset\": \"dataset_5\", \"method\": \"Manual\", \"score\": 0.849025974025974, \"time\": \"2021-10-05T00:06:04.873455\"}, {\"dataset\": \"dataset_5\", \"method\": \"Manual\", \"score\": 0.849025974025974, \"time\": \"2021-10-05T00:06:29.456927\"}, {\"dataset\": \"dataset_5\", \"method\": \"Manual\", \"score\": 0.8489690134426977, \"time\": \"2021-10-05T00:11:45.060641\"}, {\"dataset\": \"dataset_5\", \"method\": \"Manual\", \"score\": 0.8452665755297335, \"time\": \"2021-10-05T00:04:49.329679\"}, {\"dataset\": \"dataset_5\", \"method\": \"Manual\", \"score\": 0.8415071770334928, \"time\": \"2021-10-05T00:13:12.464281\"}, {\"dataset\": \"dataset_5\", \"method\": \"Manual\", \"score\": 0.8225393028024607, \"time\": \"2021-10-05T00:28:39.916925\"}, {\"dataset\": \"dataset_5\", \"method\": \"Manual\", \"score\": 0.5781784005468216, \"time\": \"2021-10-05T00:12:33.533415\"}, {\"dataset\": \"dataset_1\", \"method\": \"Automatic\", \"score\": 0.7015666490183132, \"time\": \"2021-10-05T00:05:17.357589\"}, {\"dataset\": \"dataset_1\", \"method\": \"Automatic\", \"score\": 0.7003332096715588, \"time\": \"2021-10-05T00:18:45.058548\"}, {\"dataset\": \"dataset_1\", \"method\": \"Automatic\", \"score\": 0.6788857623297975, \"time\": \"2021-10-05T00:05:38.049831\"}, {\"dataset\": \"dataset_1\", \"method\": \"Automatic\", \"score\": 0.6756805863513182, \"time\": \"2021-10-05T00:28:27.402134\"}, {\"dataset\": \"dataset_1\", \"method\": \"Automatic\", \"score\": 0.669446894259868, \"time\": \"2021-10-05T00:23:01.467998\"}, {\"dataset\": \"dataset_1\", \"method\": \"Automatic\", \"score\": 0.6643220310936322, \"time\": \"2021-10-05T00:25:42.155365\"}, {\"dataset\": \"dataset_1\", \"method\": \"Automatic\", \"score\": 0.6639161978981736, \"time\": \"2021-10-05T00:09:56.417543\"}, {\"dataset\": \"dataset_1\", \"method\": \"Automatic\", \"score\": 0.6627315012610487, \"time\": \"2021-10-05T00:12:16.684136\"}, {\"dataset\": \"dataset_1\", \"method\": \"Automatic\", \"score\": 0.6627315012610487, \"time\": \"2021-10-05T00:16:08.333348\"}, {\"dataset\": \"dataset_1\", \"method\": \"Automatic\", \"score\": 0.6627315012610487, \"time\": \"2021-10-05T00:25:09.515468\"}, {\"dataset\": \"dataset_1\", \"method\": \"Automatic\", \"score\": 0.6592413656228014, \"time\": \"2021-10-05T00:13:40.173627\"}, {\"dataset\": \"dataset_1\", \"method\": \"Automatic\", \"score\": 0.657384455481418, \"time\": \"2021-10-05T00:17:58.101355\"}, {\"dataset\": \"dataset_1\", \"method\": \"Automatic\", \"score\": 0.6547584638717379, \"time\": \"2021-10-05T00:08:22.361349\"}, {\"dataset\": \"dataset_1\", \"method\": \"Automatic\", \"score\": 0.6531442737691677, \"time\": \"2021-10-05T00:02:27.494148\"}, {\"dataset\": \"dataset_1\", \"method\": \"Automatic\", \"score\": 0.6500783992148784, \"time\": \"2021-10-05T00:15:02.931325\"}, {\"dataset\": \"dataset_1\", \"method\": \"Automatic\", \"score\": 0.6499170138424939, \"time\": \"2021-10-05T00:17:31.886768\"}, {\"dataset\": \"dataset_1\", \"method\": \"Automatic\", \"score\": 0.6488241558731318, \"time\": \"2021-10-05T00:19:08.991161\"}, {\"dataset\": \"dataset_1\", \"method\": \"Automatic\", \"score\": 0.6467087439739962, \"time\": \"2021-10-05T00:14:45.339077\"}, {\"dataset\": \"dataset_1\", \"method\": \"Automatic\", \"score\": 0.6390556707375108, \"time\": \"2021-10-05T00:20:49.632084\"}, {\"dataset\": \"dataset_1\", \"method\": \"Automatic\", \"score\": 0.6381542964401561, \"time\": \"2021-10-05T00:12:58.595435\"}, {\"dataset\": \"dataset_1\", \"method\": \"Automatic\", \"score\": 0.6377718367283202, \"time\": \"2021-10-05T00:19:53.162475\"}, {\"dataset\": \"dataset_1\", \"method\": \"Automatic\", \"score\": 0.6363746086268256, \"time\": \"2021-10-05T00:08:46.063555\"}, {\"dataset\": \"dataset_1\", \"method\": \"Automatic\", \"score\": 0.6275239571626159, \"time\": \"2021-10-05T00:19:29.635657\"}, {\"dataset\": \"dataset_1\", \"method\": \"Automatic\", \"score\": 0.6262515906223611, \"time\": \"2021-10-05T00:23:22.247153\"}, {\"dataset\": \"dataset_1\", \"method\": \"Automatic\", \"score\": 0.6257109558278933, \"time\": \"2021-10-05T00:24:46.160937\"}, {\"dataset\": \"dataset_1\", \"method\": \"Automatic\", \"score\": 0.6244328009545637, \"time\": \"2021-10-05T00:03:50.818056\"}, {\"dataset\": \"dataset_1\", \"method\": \"Automatic\", \"score\": 0.6216937403885857, \"time\": \"2021-10-05T00:09:09.617354\"}, {\"dataset\": \"dataset_1\", \"method\": \"Automatic\", \"score\": 0.6208633177782097, \"time\": \"2021-10-05T00:07:52.580622\"}, {\"dataset\": \"dataset_1\", \"method\": \"Automatic\", \"score\": 0.6203241040929965, \"time\": \"2021-10-05T00:14:21.490921\"}, {\"dataset\": \"dataset_1\", \"method\": \"Automatic\", \"score\": 0.6196562114805626, \"time\": \"2021-10-05T00:21:19.361771\"}, {\"dataset\": \"dataset_1\", \"method\": \"Automatic\", \"score\": 0.6133541597124628, \"time\": \"2021-10-05T00:13:57.647007\"}, {\"dataset\": \"dataset_1\", \"method\": \"Automatic\", \"score\": 0.609838985157613, \"time\": \"2021-10-05T00:03:06.424743\"}, {\"dataset\": \"dataset_1\", \"method\": \"Automatic\", \"score\": 0.6035650314595276, \"time\": \"2021-10-05T00:18:21.820080\"}, {\"dataset\": \"dataset_1\", \"method\": \"Automatic\", \"score\": 0.6033617906509611, \"time\": \"2021-10-05T00:09:33.546209\"}, {\"dataset\": \"dataset_1\", \"method\": \"Automatic\", \"score\": 0.6003073063045996, \"time\": \"2021-10-05T00:26:40.881369\"}, {\"dataset\": \"dataset_1\", \"method\": \"Automatic\", \"score\": 0.5991998389188076, \"time\": \"2021-10-05T00:07:34.992265\"}, {\"dataset\": \"dataset_1\", \"method\": \"Automatic\", \"score\": 0.596902404730296, \"time\": \"2021-10-05T00:11:56.140592\"}, {\"dataset\": \"dataset_1\", \"method\": \"Automatic\", \"score\": 0.5967072471528753, \"time\": \"2021-10-05T00:20:16.743915\"}, {\"dataset\": \"dataset_1\", \"method\": \"Automatic\", \"score\": 0.5852302838916662, \"time\": \"2021-10-05T00:28:06.632364\"}, {\"dataset\": \"dataset_1\", \"method\": \"Automatic\", \"score\": 0.5829844165083644, \"time\": \"2021-10-05T00:03:30.542462\"}, {\"dataset\": \"dataset_1\", \"method\": \"Automatic\", \"score\": 0.5768217340313273, \"time\": \"2021-10-05T00:16:47.255044\"}, {\"dataset\": \"dataset_1\", \"method\": \"Automatic\", \"score\": 0.5723057329106277, \"time\": \"2021-10-05T00:27:45.941889\"}, {\"dataset\": \"dataset_1\", \"method\": \"Automatic\", \"score\": 0.571781824822645, \"time\": \"2021-10-05T00:17:11.202217\"}, {\"dataset\": \"dataset_1\", \"method\": \"Automatic\", \"score\": 0.5360691853977363, \"time\": \"2021-10-05T00:13:19.291695\"}, {\"dataset\": \"dataset_1\", \"method\": \"Automatic\", \"score\": 0.5296390669990277, \"time\": \"2021-10-05T00:04:14.625997\"}, {\"dataset\": \"dataset_1\", \"method\": \"Automatic\", \"score\": 0.5258249665709904, \"time\": \"2021-10-05T00:10:35.293488\"}, {\"dataset\": \"dataset_1\", \"method\": \"Automatic\", \"score\": 0.5258249665709904, \"time\": \"2021-10-05T00:15:44.620075\"}, {\"dataset\": \"dataset_1\", \"method\": \"Automatic\", \"score\": 0.5258249665709904, \"time\": \"2021-10-05T00:23:43.227331\"}, {\"dataset\": \"dataset_1\", \"method\": \"Automatic\", \"score\": 0.5258249665709904, \"time\": \"2021-10-05T00:25:59.905699\"}, {\"dataset\": \"dataset_1\", \"method\": \"Automatic\", \"score\": 0.5253307559788944, \"time\": \"2021-10-05T00:26:23.189199\"}, {\"dataset\": \"dataset_1\", \"method\": \"Automatic\", \"score\": 0.5123775680916769, \"time\": \"2021-10-05T00:27:04.844215\"}, {\"dataset\": \"dataset_1\", \"method\": \"Automatic\", \"score\": 0.4741540979720965, \"time\": \"2021-10-05T00:27:25.474228\"}, {\"dataset\": \"dataset_2\", \"method\": \"Automatic\", \"score\": 0.26367628316533426, \"time\": \"2021-10-05T00:15:20.532632\"}, {\"dataset\": \"dataset_2\", \"method\": \"Automatic\", \"score\": 0.26367628316533426, \"time\": \"2021-10-05T00:25:00.203026\"}, {\"dataset\": \"dataset_2\", \"method\": \"Automatic\", \"score\": 0.2580040259954238, \"time\": \"2021-10-05T00:20:11.030030\"}, {\"dataset\": \"dataset_2\", \"method\": \"Automatic\", \"score\": 0.2575880564570526, \"time\": \"2021-10-05T00:13:44.525049\"}, {\"dataset\": \"dataset_2\", \"method\": \"Automatic\", \"score\": 0.2575880564570526, \"time\": \"2021-10-05T00:14:59.730582\"}, {\"dataset\": \"dataset_2\", \"method\": \"Automatic\", \"score\": 0.25346297805684087, \"time\": \"2021-10-05T00:16:02.688826\"}, {\"dataset\": \"dataset_2\", \"method\": \"Automatic\", \"score\": 0.2505796295915562, \"time\": \"2021-10-05T00:04:42.515180\"}, {\"dataset\": \"dataset_2\", \"method\": \"Automatic\", \"score\": 0.24902983490775565, \"time\": \"2021-10-05T00:26:15.489691\"}, {\"dataset\": \"dataset_2\", \"method\": \"Automatic\", \"score\": 0.24714067379664229, \"time\": \"2021-10-05T00:12:26.858155\"}, {\"dataset\": \"dataset_2\", \"method\": \"Automatic\", \"score\": 0.24606976972335415, \"time\": \"2021-10-05T00:28:00.499696\"}, {\"dataset\": \"dataset_2\", \"method\": \"Automatic\", \"score\": 0.2451682661651535, \"time\": \"2021-10-05T00:12:05.844601\"}, {\"dataset\": \"dataset_2\", \"method\": \"Automatic\", \"score\": 0.2451682661651535, \"time\": \"2021-10-05T00:12:44.890661\"}, {\"dataset\": \"dataset_2\", \"method\": \"Automatic\", \"score\": 0.2451682661651535, \"time\": \"2021-10-05T00:13:05.346549\"}, {\"dataset\": \"dataset_2\", \"method\": \"Automatic\", \"score\": 0.2451682661651535, \"time\": \"2021-10-05T00:14:41.599131\"}, {\"dataset\": \"dataset_2\", \"method\": \"Automatic\", \"score\": 0.2451682661651535, \"time\": \"2021-10-05T00:18:03.238471\"}, {\"dataset\": \"dataset_2\", \"method\": \"Automatic\", \"score\": 0.24473767276776, \"time\": \"2021-10-05T00:03:42.670583\"}, {\"dataset\": \"dataset_2\", \"method\": \"Automatic\", \"score\": 0.24457772539910272, \"time\": \"2021-10-05T00:05:03.277656\"}, {\"dataset\": \"dataset_2\", \"method\": \"Automatic\", \"score\": 0.24457772539910272, \"time\": \"2021-10-05T00:06:24.423599\"}, {\"dataset\": \"dataset_2\", \"method\": \"Automatic\", \"score\": 0.24457772539910272, \"time\": \"2021-10-05T00:06:45.591363\"}, {\"dataset\": \"dataset_2\", \"method\": \"Automatic\", \"score\": 0.24457772539910272, \"time\": \"2021-10-05T00:07:06.713711\"}, {\"dataset\": \"dataset_2\", \"method\": \"Automatic\", \"score\": 0.24457772539910272, \"time\": \"2021-10-05T00:08:03.800468\"}, {\"dataset\": \"dataset_2\", \"method\": \"Automatic\", \"score\": 0.24457772539910272, \"time\": \"2021-10-05T00:08:28.071307\"}, {\"dataset\": \"dataset_2\", \"method\": \"Automatic\", \"score\": 0.24457772539910272, \"time\": \"2021-10-05T00:08:49.166488\"}, {\"dataset\": \"dataset_2\", \"method\": \"Automatic\", \"score\": 0.24457772539910272, \"time\": \"2021-10-05T00:09:31.080564\"}, {\"dataset\": \"dataset_2\", \"method\": \"Automatic\", \"score\": 0.24457772539910272, \"time\": \"2021-10-05T00:09:55.915526\"}, {\"dataset\": \"dataset_2\", \"method\": \"Automatic\", \"score\": 0.24457772539910272, \"time\": \"2021-10-05T00:10:59.514067\"}, {\"dataset\": \"dataset_2\", \"method\": \"Automatic\", \"score\": 0.24457772539910272, \"time\": \"2021-10-05T00:11:44.960632\"}, {\"dataset\": \"dataset_2\", \"method\": \"Automatic\", \"score\": 0.24377956840792897, \"time\": \"2021-10-05T00:09:10.031907\"}, {\"dataset\": \"dataset_2\", \"method\": \"Automatic\", \"score\": 0.24377956840792897, \"time\": \"2021-10-05T00:18:26.073431\"}, {\"dataset\": \"dataset_2\", \"method\": \"Automatic\", \"score\": 0.2426443735931402, \"time\": \"2021-10-05T00:05:24.282636\"}, {\"dataset\": \"dataset_2\", \"method\": \"Automatic\", \"score\": 0.2426443735931402, \"time\": \"2021-10-05T00:10:17.199627\"}, {\"dataset\": \"dataset_2\", \"method\": \"Automatic\", \"score\": 0.2426443735931402, \"time\": \"2021-10-05T00:11:20.552928\"}, {\"dataset\": \"dataset_2\", \"method\": \"Automatic\", \"score\": 0.2426443735931402, \"time\": \"2021-10-05T00:14:23.658584\"}, {\"dataset\": \"dataset_2\", \"method\": \"Automatic\", \"score\": 0.2326208549658391, \"time\": \"2021-10-05T00:06:03.327154\"}, {\"dataset\": \"dataset_2\", \"method\": \"Automatic\", \"score\": 0.2316526400162911, \"time\": \"2021-10-05T00:04:21.501772\"}, {\"dataset\": \"dataset_2\", \"method\": \"Automatic\", \"score\": 0.2266130633568356, \"time\": \"2021-10-05T00:01:54.721349\"}, {\"dataset\": \"dataset_2\", \"method\": \"Automatic\", \"score\": 0.22174305080047935, \"time\": \"2021-10-05T00:02:45.266973\"}, {\"dataset\": \"dataset_2\", \"method\": \"Automatic\", \"score\": 0.2116773442904607, \"time\": \"2021-10-05T00:01:33.240074\"}, {\"dataset\": \"dataset_2\", \"method\": \"Automatic\", \"score\": 0.2116773442904607, \"time\": \"2021-10-05T00:02:09.277098\"}, {\"dataset\": \"dataset_2\", \"method\": \"Automatic\", \"score\": 0.2116773442904607, \"time\": \"2021-10-05T00:02:27.344700\"}, {\"dataset\": \"dataset_2\", \"method\": \"Automatic\", \"score\": 0.2116773442904607, \"time\": \"2021-10-05T00:03:03.326510\"}, {\"dataset\": \"dataset_2\", \"method\": \"Automatic\", \"score\": 0.21093513756198046, \"time\": \"2021-10-05T00:03:21.499504\"}, {\"dataset\": \"dataset_2\", \"method\": \"Automatic\", \"score\": 0.17668398699840457, \"time\": \"2021-10-05T00:21:10.149905\"}, {\"dataset\": \"dataset_2\", \"method\": \"Automatic\", \"score\": 0.17268318744635974, \"time\": \"2021-10-05T00:23:07.074563\"}, {\"dataset\": \"dataset_2\", \"method\": \"Automatic\", \"score\": 0.16124051206424178, \"time\": \"2021-10-05T00:24:00.555132\"}, {\"dataset\": \"dataset_2\", \"method\": \"Automatic\", \"score\": 0.16124051206424178, \"time\": \"2021-10-05T00:24:21.036295\"}, {\"dataset\": \"dataset_2\", \"method\": \"Automatic\", \"score\": 0.14364323627469894, \"time\": \"2021-10-05T00:26:36.710777\"}, {\"dataset\": \"dataset_2\", \"method\": \"Automatic\", \"score\": 0.1430128855029791, \"time\": \"2021-10-05T00:27:18.824514\"}, {\"dataset\": \"dataset_2\", \"method\": \"Automatic\", \"score\": 0.1406969541413829, \"time\": \"2021-10-05T00:22:46.022081\"}, {\"dataset\": \"dataset_2\", \"method\": \"Automatic\", \"score\": 0.1399810177101322, \"time\": \"2021-10-05T00:26:57.866479\"}, {\"dataset\": \"dataset_2\", \"method\": \"Automatic\", \"score\": 0.1399810177101322, \"time\": \"2021-10-05T00:30:00.821673\"}, {\"dataset\": \"dataset_2\", \"method\": \"Automatic\", \"score\": 0.13494308378360928, \"time\": \"2021-10-05T00:16:23.802485\"}, {\"dataset\": \"dataset_2\", \"method\": \"Automatic\", \"score\": 0.13494308378360928, \"time\": \"2021-10-05T00:17:02.334751\"}, {\"dataset\": \"dataset_2\", \"method\": \"Automatic\", \"score\": 0.13494308378360928, \"time\": \"2021-10-05T00:17:24.255263\"}, {\"dataset\": \"dataset_2\", \"method\": \"Automatic\", \"score\": 0.13494308378360928, \"time\": \"2021-10-05T00:18:47.600306\"}, {\"dataset\": \"dataset_2\", \"method\": \"Automatic\", \"score\": 0.13494308378360928, \"time\": \"2021-10-05T00:19:08.332311\"}, {\"dataset\": \"dataset_2\", \"method\": \"Automatic\", \"score\": 0.13494308378360928, \"time\": \"2021-10-05T00:19:29.269846\"}, {\"dataset\": \"dataset_2\", \"method\": \"Automatic\", \"score\": 0.13494308378360928, \"time\": \"2021-10-05T00:19:50.447829\"}, {\"dataset\": \"dataset_2\", \"method\": \"Automatic\", \"score\": 0.13494308378360928, \"time\": \"2021-10-05T00:20:31.533854\"}, {\"dataset\": \"dataset_2\", \"method\": \"Automatic\", \"score\": 0.13494308378360928, \"time\": \"2021-10-05T00:20:49.003606\"}, {\"dataset\": \"dataset_2\", \"method\": \"Automatic\", \"score\": 0.13494308378360928, \"time\": \"2021-10-05T00:21:49.087642\"}, {\"dataset\": \"dataset_2\", \"method\": \"Automatic\", \"score\": 0.13494308378360928, \"time\": \"2021-10-05T00:22:25.228173\"}, {\"dataset\": \"dataset_2\", \"method\": \"Automatic\", \"score\": 0.13494308378360928, \"time\": \"2021-10-05T00:25:18.226733\"}, {\"dataset\": \"dataset_2\", \"method\": \"Automatic\", \"score\": 0.13494308378360928, \"time\": \"2021-10-05T00:27:39.552305\"}, {\"dataset\": \"dataset_2\", \"method\": \"Automatic\", \"score\": 0.13494308378360928, \"time\": \"2021-10-05T00:28:42.530438\"}, {\"dataset\": \"dataset_2\", \"method\": \"Automatic\", \"score\": 0.13494308378360928, \"time\": \"2021-10-05T00:29:03.730905\"}, {\"dataset\": \"dataset_2\", \"method\": \"Automatic\", \"score\": 0.13494308378360928, \"time\": \"2021-10-05T00:29:24.585779\"}, {\"dataset\": \"dataset_2\", \"method\": \"Automatic\", \"score\": 0.13466568147965707, \"time\": \"2021-10-05T00:28:21.512952\"}, {\"dataset\": \"dataset_2\", \"method\": \"Automatic\", \"score\": 0.054112161711989966, \"time\": \"2021-10-05T00:04:00.748435\"}, {\"dataset\": \"dataset_3\", \"method\": \"Automatic\", \"score\": 0.7118055555555556, \"time\": \"2021-10-05T00:08:10.601611\"}, {\"dataset\": \"dataset_3\", \"method\": \"Automatic\", \"score\": 0.6875, \"time\": \"2021-10-05T00:06:03.951027\"}, {\"dataset\": \"dataset_3\", \"method\": \"Automatic\", \"score\": 0.6875, \"time\": \"2021-10-05T00:06:57.959011\"}, {\"dataset\": \"dataset_3\", \"method\": \"Automatic\", \"score\": 0.6805555555555556, \"time\": \"2021-10-05T00:05:12.885057\"}, {\"dataset\": \"dataset_3\", \"method\": \"Automatic\", \"score\": 0.6597222222222222, \"time\": \"2021-10-05T00:02:22.414594\"}, {\"dataset\": \"dataset_3\", \"method\": \"Automatic\", \"score\": 0.6597222222222222, \"time\": \"2021-10-05T00:24:13.581426\"}, {\"dataset\": \"dataset_3\", \"method\": \"Automatic\", \"score\": 0.65625, \"time\": \"2021-10-05T00:14:12.390964\"}, {\"dataset\": \"dataset_3\", \"method\": \"Automatic\", \"score\": 0.65625, \"time\": \"2021-10-05T00:14:36.821556\"}, {\"dataset\": \"dataset_3\", \"method\": \"Automatic\", \"score\": 0.6527777777777778, \"time\": \"2021-10-05T00:04:52.063916\"}, {\"dataset\": \"dataset_3\", \"method\": \"Automatic\", \"score\": 0.6493055555555556, \"time\": \"2021-10-05T00:01:22.126716\"}, {\"dataset\": \"dataset_3\", \"method\": \"Automatic\", \"score\": 0.6458333333333334, \"time\": \"2021-10-05T00:05:33.941262\"}, {\"dataset\": \"dataset_3\", \"method\": \"Automatic\", \"score\": 0.6458333333333333, \"time\": \"2021-10-05T00:20:27.658633\"}, {\"dataset\": \"dataset_3\", \"method\": \"Automatic\", \"score\": 0.6423611111111112, \"time\": \"2021-10-05T00:26:57.627707\"}, {\"dataset\": \"dataset_3\", \"method\": \"Automatic\", \"score\": 0.6388888888888888, \"time\": \"2021-10-05T00:04:34.182298\"}, {\"dataset\": \"dataset_3\", \"method\": \"Automatic\", \"score\": 0.6388888888888888, \"time\": \"2021-10-05T00:08:28.851731\"}, {\"dataset\": \"dataset_3\", \"method\": \"Automatic\", \"score\": 0.6284722222222222, \"time\": \"2021-10-05T00:09:58.299175\"}, {\"dataset\": \"dataset_3\", \"method\": \"Automatic\", \"score\": 0.625, \"time\": \"2021-10-05T00:03:40.380999\"}, {\"dataset\": \"dataset_3\", \"method\": \"Automatic\", \"score\": 0.625, \"time\": \"2021-10-05T00:07:45.998292\"}, {\"dataset\": \"dataset_3\", \"method\": \"Automatic\", \"score\": 0.625, \"time\": \"2021-10-05T00:15:35.288408\"}, {\"dataset\": \"dataset_3\", \"method\": \"Automatic\", \"score\": 0.625, \"time\": \"2021-10-05T00:20:04.168982\"}, {\"dataset\": \"dataset_3\", \"method\": \"Automatic\", \"score\": 0.6215277777777778, \"time\": \"2021-10-05T00:07:18.995905\"}, {\"dataset\": \"dataset_3\", \"method\": \"Automatic\", \"score\": 0.6145833333333333, \"time\": \"2021-10-05T00:13:21.600449\"}, {\"dataset\": \"dataset_3\", \"method\": \"Automatic\", \"score\": 0.6076388888888888, \"time\": \"2021-10-05T00:03:16.619292\"}, {\"dataset\": \"dataset_3\", \"method\": \"Automatic\", \"score\": 0.6076388888888888, \"time\": \"2021-10-05T00:06:30.877342\"}, {\"dataset\": \"dataset_3\", \"method\": \"Automatic\", \"score\": 0.6041666666666667, \"time\": \"2021-10-05T00:08:58.174781\"}, {\"dataset\": \"dataset_3\", \"method\": \"Automatic\", \"score\": 0.6006944444444444, \"time\": \"2021-10-05T00:29:03.628401\"}, {\"dataset\": \"dataset_3\", \"method\": \"Automatic\", \"score\": 0.5972222222222222, \"time\": \"2021-10-05T00:23:17.558120\"}, {\"dataset\": \"dataset_3\", \"method\": \"Automatic\", \"score\": 0.5902777777777778, \"time\": \"2021-10-05T00:24:40.241595\"}, {\"dataset\": \"dataset_3\", \"method\": \"Automatic\", \"score\": 0.5798611111111112, \"time\": \"2021-10-05T00:26:37.204983\"}, {\"dataset\": \"dataset_3\", \"method\": \"Automatic\", \"score\": 0.5555555555555556, \"time\": \"2021-10-05T00:02:49.483253\"}, {\"dataset\": \"dataset_3\", \"method\": \"Automatic\", \"score\": 0.5520833333333334, \"time\": \"2021-10-05T00:20:51.080317\"}, {\"dataset\": \"dataset_3\", \"method\": \"Automatic\", \"score\": 0.5520833333333333, \"time\": \"2021-10-05T00:12:51.760772\"}, {\"dataset\": \"dataset_3\", \"method\": \"Automatic\", \"score\": 0.5486111111111112, \"time\": \"2021-10-05T00:04:07.184467\"}, {\"dataset\": \"dataset_3\", \"method\": \"Automatic\", \"score\": 0.5486111111111112, \"time\": \"2021-10-05T00:11:22.211854\"}, {\"dataset\": \"dataset_3\", \"method\": \"Automatic\", \"score\": 0.5451388888888888, \"time\": \"2021-10-05T00:12:24.885483\"}, {\"dataset\": \"dataset_3\", \"method\": \"Automatic\", \"score\": 0.5451388888888888, \"time\": \"2021-10-05T00:28:39.610124\"}, {\"dataset\": \"dataset_3\", \"method\": \"Automatic\", \"score\": 0.5416666666666667, \"time\": \"2021-10-05T00:27:57.781004\"}, {\"dataset\": \"dataset_3\", \"method\": \"Automatic\", \"score\": 0.5347222222222223, \"time\": \"2021-10-05T00:27:27.440108\"}, {\"dataset\": \"dataset_3\", \"method\": \"Automatic\", \"score\": 0.5347222222222222, \"time\": \"2021-10-05T00:21:17.885960\"}, {\"dataset\": \"dataset_3\", \"method\": \"Automatic\", \"score\": 0.5347222222222222, \"time\": \"2021-10-05T00:23:47.340632\"}, {\"dataset\": \"dataset_3\", \"method\": \"Automatic\", \"score\": 0.5277777777777778, \"time\": \"2021-10-05T00:16:36.389401\"}, {\"dataset\": \"dataset_3\", \"method\": \"Automatic\", \"score\": 0.5277777777777778, \"time\": \"2021-10-05T00:28:15.669556\"}, {\"dataset\": \"dataset_3\", \"method\": \"Automatic\", \"score\": 0.5277777777777777, \"time\": \"2021-10-05T00:09:31.118731\"}, {\"dataset\": \"dataset_3\", \"method\": \"Automatic\", \"score\": 0.5208333333333334, \"time\": \"2021-10-05T00:10:25.164692\"}, {\"dataset\": \"dataset_3\", \"method\": \"Automatic\", \"score\": 0.5208333333333334, \"time\": \"2021-10-05T00:26:13.311901\"}, {\"dataset\": \"dataset_3\", \"method\": \"Automatic\", \"score\": 0.5138888888888888, \"time\": \"2021-10-05T00:17:33.171356\"}, {\"dataset\": \"dataset_3\", \"method\": \"Automatic\", \"score\": 0.5104166666666667, \"time\": \"2021-10-05T00:22:14.861245\"}, {\"dataset\": \"dataset_3\", \"method\": \"Automatic\", \"score\": 0.5034722222222222, \"time\": \"2021-10-05T00:25:49.242894\"}, {\"dataset\": \"dataset_3\", \"method\": \"Automatic\", \"score\": 0.5, \"time\": \"2021-10-05T00:21:44.756307\"}, {\"dataset\": \"dataset_3\", \"method\": \"Automatic\", \"score\": 0.4965277777777778, \"time\": \"2021-10-05T00:22:47.954588\"}, {\"dataset\": \"dataset_3\", \"method\": \"Automatic\", \"score\": 0.48611111111111116, \"time\": \"2021-10-05T00:30:00.290774\"}, {\"dataset\": \"dataset_3\", \"method\": \"Automatic\", \"score\": 0.48611111111111105, \"time\": \"2021-10-05T00:17:59.907043\"}, {\"dataset\": \"dataset_3\", \"method\": \"Automatic\", \"score\": 0.48611111111111105, \"time\": \"2021-10-05T00:19:36.003139\"}, {\"dataset\": \"dataset_3\", \"method\": \"Automatic\", \"score\": 0.46875, \"time\": \"2021-10-05T00:16:09.303787\"}, {\"dataset\": \"dataset_3\", \"method\": \"Automatic\", \"score\": 0.46875, \"time\": \"2021-10-05T00:17:03.295627\"}, {\"dataset\": \"dataset_3\", \"method\": \"Automatic\", \"score\": 0.4652777777777778, \"time\": \"2021-10-05T00:18:33.010004\"}, {\"dataset\": \"dataset_3\", \"method\": \"Automatic\", \"score\": 0.4618055555555556, \"time\": \"2021-10-05T00:25:04.319889\"}, {\"dataset\": \"dataset_3\", \"method\": \"Automatic\", \"score\": 0.4618055555555556, \"time\": \"2021-10-05T00:29:30.442728\"}, {\"dataset\": \"dataset_3\", \"method\": \"Automatic\", \"score\": 0.4409722222222222, \"time\": \"2021-10-05T00:19:03.009451\"}, {\"dataset\": \"dataset_3\", \"method\": \"Automatic\", \"score\": 0.4375, \"time\": \"2021-10-05T00:01:52.568420\"}, {\"dataset\": \"dataset_3\", \"method\": \"Automatic\", \"score\": 0.3715277777777778, \"time\": \"2021-10-05T00:15:11.240469\"}, {\"dataset\": \"dataset_3\", \"method\": \"Automatic\", \"score\": 0.30208333333333337, \"time\": \"2021-10-05T00:11:55.256420\"}, {\"dataset\": \"dataset_3\", \"method\": \"Automatic\", \"score\": 0.27083333333333337, \"time\": \"2021-10-05T00:10:48.833408\"}, {\"dataset\": \"dataset_4\", \"method\": \"Automatic\", \"score\": 0.16265627997667437, \"time\": \"2021-10-05T00:25:55.843399\"}, {\"dataset\": \"dataset_4\", \"method\": \"Automatic\", \"score\": 0.16265627997667437, \"time\": \"2021-10-05T00:27:13.626542\"}, {\"dataset\": \"dataset_4\", \"method\": \"Automatic\", \"score\": 0.15782945249704966, \"time\": \"2021-10-05T00:17:08.186555\"}, {\"dataset\": \"dataset_4\", \"method\": \"Automatic\", \"score\": 0.15354133947499743, \"time\": \"2021-10-05T00:08:34.864078\"}, {\"dataset\": \"dataset_4\", \"method\": \"Automatic\", \"score\": 0.1522369214543572, \"time\": \"2021-10-05T00:19:28.744080\"}, {\"dataset\": \"dataset_4\", \"method\": \"Automatic\", \"score\": 0.1515555510828623, \"time\": \"2021-10-05T00:03:58.215875\"}, {\"dataset\": \"dataset_4\", \"method\": \"Automatic\", \"score\": 0.1515555510828623, \"time\": \"2021-10-05T00:04:45.358571\"}, {\"dataset\": \"dataset_4\", \"method\": \"Automatic\", \"score\": 0.1515555510828623, \"time\": \"2021-10-05T00:05:27.587274\"}, {\"dataset\": \"dataset_4\", \"method\": \"Automatic\", \"score\": 0.1515555510828623, \"time\": \"2021-10-05T00:29:43.910451\"}, {\"dataset\": \"dataset_4\", \"method\": \"Automatic\", \"score\": 0.15004132864724853, \"time\": \"2021-10-05T00:07:34.927135\"}, {\"dataset\": \"dataset_4\", \"method\": \"Automatic\", \"score\": 0.15004132864724853, \"time\": \"2021-10-05T00:08:13.982561\"}, {\"dataset\": \"dataset_4\", \"method\": \"Automatic\", \"score\": 0.14987328773723269, \"time\": \"2021-10-05T00:16:20.260333\"}, {\"dataset\": \"dataset_4\", \"method\": \"Automatic\", \"score\": 0.14943295418740093, \"time\": \"2021-10-05T00:04:24.179757\"}, {\"dataset\": \"dataset_4\", \"method\": \"Automatic\", \"score\": 0.14873792898197652, \"time\": \"2021-10-05T00:30:14.090550\"}, {\"dataset\": \"dataset_4\", \"method\": \"Automatic\", \"score\": 0.14808061409900242, \"time\": \"2021-10-05T00:19:07.844839\"}, {\"dataset\": \"dataset_4\", \"method\": \"Automatic\", \"score\": 0.14766065453383265, \"time\": \"2021-10-05T00:11:38.734278\"}, {\"dataset\": \"dataset_4\", \"method\": \"Automatic\", \"score\": 0.14665291498079994, \"time\": \"2021-10-05T00:06:33.762071\"}, {\"dataset\": \"dataset_4\", \"method\": \"Automatic\", \"score\": 0.14602518566103195, \"time\": \"2021-10-05T00:16:41.188696\"}, {\"dataset\": \"dataset_4\", \"method\": \"Automatic\", \"score\": 0.14538029350924014, \"time\": \"2021-10-05T00:14:18.903552\"}, {\"dataset\": \"dataset_4\", \"method\": \"Automatic\", \"score\": 0.1452108901540326, \"time\": \"2021-10-05T00:10:59.583176\"}, {\"dataset\": \"dataset_4\", \"method\": \"Automatic\", \"score\": 0.14494575068329504, \"time\": \"2021-10-05T00:14:39.672395\"}, {\"dataset\": \"dataset_4\", \"method\": \"Automatic\", \"score\": 0.1448468118473553, \"time\": \"2021-10-05T00:19:49.529531\"}, {\"dataset\": \"dataset_4\", \"method\": \"Automatic\", \"score\": 0.14472433232287013, \"time\": \"2021-10-05T00:11:59.927354\"}, {\"dataset\": \"dataset_4\", \"method\": \"Automatic\", \"score\": 0.14433302430800649, \"time\": \"2021-10-05T00:06:54.727654\"}, {\"dataset\": \"dataset_4\", \"method\": \"Automatic\", \"score\": 0.14432420813400818, \"time\": \"2021-10-05T00:15:40.795379\"}, {\"dataset\": \"dataset_4\", \"method\": \"Automatic\", \"score\": 0.14425532455682077, \"time\": \"2021-10-05T00:13:57.559760\"}, {\"dataset\": \"dataset_4\", \"method\": \"Automatic\", \"score\": 0.14344260145387178, \"time\": \"2021-10-05T00:10:38.025492\"}, {\"dataset\": \"dataset_4\", \"method\": \"Automatic\", \"score\": 0.14246631928921932, \"time\": \"2021-10-05T00:18:07.890100\"}, {\"dataset\": \"dataset_4\", \"method\": \"Automatic\", \"score\": 0.13877833315460442, \"time\": \"2021-10-05T00:08:55.642405\"}, {\"dataset\": \"dataset_4\", \"method\": \"Automatic\", \"score\": 0.13877833315460442, \"time\": \"2021-10-05T00:09:16.553511\"}, {\"dataset\": \"dataset_4\", \"method\": \"Automatic\", \"score\": 0.13877833315460442, \"time\": \"2021-10-05T00:09:37.910506\"}, {\"dataset\": \"dataset_4\", \"method\": \"Automatic\", \"score\": 0.13825427392594056, \"time\": \"2021-10-05T00:13:36.548949\"}, {\"dataset\": \"dataset_4\", \"method\": \"Automatic\", \"score\": 0.1381304677062869, \"time\": \"2021-10-05T00:17:46.735417\"}, {\"dataset\": \"dataset_4\", \"method\": \"Automatic\", \"score\": 0.13812539075826688, \"time\": \"2021-10-05T00:21:10.153077\"}, {\"dataset\": \"dataset_4\", \"method\": \"Automatic\", \"score\": 0.13526904556731675, \"time\": \"2021-10-05T00:05:06.477039\"}, {\"dataset\": \"dataset_4\", \"method\": \"Automatic\", \"score\": 0.13487619537881762, \"time\": \"2021-10-05T00:07:55.998292\"}, {\"dataset\": \"dataset_4\", \"method\": \"Automatic\", \"score\": 0.13227198333954526, \"time\": \"2021-10-05T00:20:10.368913\"}, {\"dataset\": \"dataset_4\", \"method\": \"Automatic\", \"score\": 0.1292797328808386, \"time\": \"2021-10-05T00:17:28.931739\"}, {\"dataset\": \"dataset_4\", \"method\": \"Automatic\", \"score\": 0.12862956508700785, \"time\": \"2021-10-05T00:18:46.945925\"}, {\"dataset\": \"dataset_4\", \"method\": \"Automatic\", \"score\": 0.12862956508700785, \"time\": \"2021-10-05T00:26:28.758495\"}, {\"dataset\": \"dataset_4\", \"method\": \"Automatic\", \"score\": 0.1282892341874935, \"time\": \"2021-10-05T00:20:28.341322\"}, {\"dataset\": \"dataset_4\", \"method\": \"Automatic\", \"score\": 0.12817591181752036, \"time\": \"2021-10-05T00:20:49.692072\"}, {\"dataset\": \"dataset_4\", \"method\": \"Automatic\", \"score\": 0.12817591181752036, \"time\": \"2021-10-05T00:28:22.702653\"}, {\"dataset\": \"dataset_4\", \"method\": \"Automatic\", \"score\": 0.08218023381404427, \"time\": \"2021-10-05T00:13:15.283837\"}, {\"dataset\": \"dataset_5\", \"method\": \"Automatic\", \"score\": 0.894252677147414, \"time\": \"2021-10-05T00:22:47.131000\"}, {\"dataset\": \"dataset_5\", \"method\": \"Automatic\", \"score\": 0.894252677147414, \"time\": \"2021-10-05T00:23:26.250753\"}, {\"dataset\": \"dataset_5\", \"method\": \"Automatic\", \"score\": 0.882946001367054, \"time\": \"2021-10-05T00:28:18.961295\"}, {\"dataset\": \"dataset_5\", \"method\": \"Automatic\", \"score\": 0.8641774891774892, \"time\": \"2021-10-05T00:26:11.972368\"}, {\"dataset\": \"dataset_5\", \"method\": \"Automatic\", \"score\": 0.8641205285942128, \"time\": \"2021-10-05T00:16:09.821089\"}, {\"dataset\": \"dataset_5\", \"method\": \"Automatic\", \"score\": 0.8603896103896104, \"time\": \"2021-10-05T00:30:15.654395\"}, {\"dataset\": \"dataset_5\", \"method\": \"Automatic\", \"score\": 0.8528138528138528, \"time\": \"2021-10-05T00:12:56.798902\"}, {\"dataset\": \"dataset_5\", \"method\": \"Automatic\", \"score\": 0.8491114149008886, \"time\": \"2021-10-05T00:16:58.670925\"}, {\"dataset\": \"dataset_5\", \"method\": \"Automatic\", \"score\": 0.8490544543176122, \"time\": \"2021-10-05T00:13:48.402771\"}, {\"dataset\": \"dataset_5\", \"method\": \"Automatic\", \"score\": 0.8490544543176122, \"time\": \"2021-10-05T00:14:12.397254\"}, {\"dataset\": \"dataset_5\", \"method\": \"Automatic\", \"score\": 0.8490544543176122, \"time\": \"2021-10-05T00:24:50.399878\"}, {\"dataset\": \"dataset_5\", \"method\": \"Automatic\", \"score\": 0.8490544543176122, \"time\": \"2021-10-05T00:27:27.683750\"}, {\"dataset\": \"dataset_5\", \"method\": \"Automatic\", \"score\": 0.8490544543176122, \"time\": \"2021-10-05T00:27:48.670585\"}, {\"dataset\": \"dataset_5\", \"method\": \"Automatic\", \"score\": 0.8490544543176122, \"time\": \"2021-10-05T00:28:55.120365\"}, {\"dataset\": \"dataset_5\", \"method\": \"Automatic\", \"score\": 0.849025974025974, \"time\": \"2021-10-05T00:17:22.705250\"}, {\"dataset\": \"dataset_5\", \"method\": \"Automatic\", \"score\": 0.849025974025974, \"time\": \"2021-10-05T00:18:12.844674\"}, {\"dataset\": \"dataset_5\", \"method\": \"Automatic\", \"score\": 0.845352016404648, \"time\": \"2021-10-05T00:27:06.448662\"}, {\"dataset\": \"dataset_5\", \"method\": \"Automatic\", \"score\": 0.8452950558213717, \"time\": \"2021-10-05T00:17:46.202072\"}, {\"dataset\": \"dataset_5\", \"method\": \"Automatic\", \"score\": 0.8452096149464571, \"time\": \"2021-10-05T00:13:24.430109\"}, {\"dataset\": \"dataset_5\", \"method\": \"Automatic\", \"score\": 0.8415071770334928, \"time\": \"2021-10-05T00:02:32.930798\"}, {\"dataset\": \"dataset_5\", \"method\": \"Automatic\", \"score\": 0.8414217361585783, \"time\": \"2021-10-05T00:16:34.269008\"}, {\"dataset\": \"dataset_5\", \"method\": \"Automatic\", \"score\": 0.8187514240145819, \"time\": \"2021-10-05T00:26:45.231878\"}, {\"dataset\": \"dataset_5\", \"method\": \"Automatic\", \"score\": 0.8187514240145819, \"time\": \"2021-10-05T00:29:39.709602\"}]}}, {\"mode\": \"vega-lite\"});\n",
       "</script>"
      ],
      "text/plain": [
       "alt.FacetChart(...)"
      ]
     },
     "execution_count": 63,
     "metadata": {},
     "output_type": "execute_result"
    }
   ],
   "source": [
    "df = all_performances\n",
    "df = df.replace('185_baseball_MIN_METADATA', 'dataset_1')\n",
    "df = df.replace('LL0_186_braziltourism_MIN_METADATA', 'dataset_2')\n",
    "df = df.replace('299_libras_move', 'dataset_3')\n",
    "df = df.replace('1567_poker_hand_MIN_METADATA', 'dataset_4')\n",
    "df = df.replace('LL1_GS_process_classification_tabular_MIN_METADATA', 'dataset_5')\n",
    "\n",
    "bars = alt.Chart().mark_point(filled=True, size=40).encode(\n",
    "   x=alt.X('method', scale=alt.Scale(zero=True), axis=alt.Axis(grid=False, title=None, labels=False, ticks=False)),\n",
    "   y=alt.Y('score', axis=alt.Axis(grid=False), aggregate='mean'),\n",
    "   color=alt.Color('method', scale=alt.Scale(range=['#1976b6', '#e41a1d']),\n",
    "                   legend=alt.Legend(title='Grammar')),\n",
    ")\n",
    "\n",
    "limits = alt.Chart().mark_errorbar(extent='stdev').encode(\n",
    "  x=alt.X('method:N'),\n",
    "  y=alt.Y('score:Q', scale=alt.Scale(zero=False), title='Scores'),\n",
    "  color=alt.Color('method', scale=alt.Scale(range=['#1976b6', '#e41a1d']))\n",
    ")\n",
    "\n",
    "alt.layer(\n",
    "    bars,\n",
    "    limits,\n",
    "    data=df\n",
    ").facet(\n",
    "    column=alt.Column('dataset:N', header=alt.Header(title=None, labelOrient='bottom')),\n",
    ").configure_view(\n",
    "    strokeWidth=0.0,\n",
    "    continuousWidth=10,\n",
    ").configure_title(\n",
    "    fontSize=11,\n",
    "    anchor='middle',\n",
    "    color='black',\n",
    "    orient='bottom'\n",
    ").properties(\n",
    "    title='Datasets'\n",
    ")"
   ]
  },
  {
   "cell_type": "code",
   "execution_count": 64,
   "metadata": {},
   "outputs": [
    {
     "data": {
      "text/html": [
       "\n",
       "<div id=\"altair-viz-6a1132a738854ddeb293d4b9a7b43aac\"></div>\n",
       "<script type=\"text/javascript\">\n",
       "  (function(spec, embedOpt){\n",
       "    let outputDiv = document.currentScript.previousElementSibling;\n",
       "    if (outputDiv.id !== \"altair-viz-6a1132a738854ddeb293d4b9a7b43aac\") {\n",
       "      outputDiv = document.getElementById(\"altair-viz-6a1132a738854ddeb293d4b9a7b43aac\");\n",
       "    }\n",
       "    const paths = {\n",
       "      \"vega\": \"https://cdn.jsdelivr.net/npm//vega@5?noext\",\n",
       "      \"vega-lib\": \"https://cdn.jsdelivr.net/npm//vega-lib?noext\",\n",
       "      \"vega-lite\": \"https://cdn.jsdelivr.net/npm//vega-lite@4.8.1?noext\",\n",
       "      \"vega-embed\": \"https://cdn.jsdelivr.net/npm//vega-embed@6?noext\",\n",
       "    };\n",
       "\n",
       "    function loadScript(lib) {\n",
       "      return new Promise(function(resolve, reject) {\n",
       "        var s = document.createElement('script');\n",
       "        s.src = paths[lib];\n",
       "        s.async = true;\n",
       "        s.onload = () => resolve(paths[lib]);\n",
       "        s.onerror = () => reject(`Error loading script: ${paths[lib]}`);\n",
       "        document.getElementsByTagName(\"head\")[0].appendChild(s);\n",
       "      });\n",
       "    }\n",
       "\n",
       "    function showError(err) {\n",
       "      outputDiv.innerHTML = `<div class=\"error\" style=\"color:red;\">${err}</div>`;\n",
       "      throw err;\n",
       "    }\n",
       "\n",
       "    function displayChart(vegaEmbed) {\n",
       "      vegaEmbed(outputDiv, spec, embedOpt)\n",
       "        .catch(err => showError(`Javascript Error: ${err.message}<br>This usually means there's a typo in your chart specification. See the javascript console for the full traceback.`));\n",
       "    }\n",
       "\n",
       "    if(typeof define === \"function\" && define.amd) {\n",
       "      requirejs.config({paths});\n",
       "      require([\"vega-embed\"], displayChart, err => showError(`Error loading script: ${err.message}`));\n",
       "    } else if (typeof vegaEmbed === \"function\") {\n",
       "      displayChart(vegaEmbed);\n",
       "    } else {\n",
       "      loadScript(\"vega\")\n",
       "        .then(() => loadScript(\"vega-lite\"))\n",
       "        .then(() => loadScript(\"vega-embed\"))\n",
       "        .catch(showError)\n",
       "        .then(() => displayChart(vegaEmbed));\n",
       "    }\n",
       "  })({\"config\": {\"view\": {\"continuousWidth\": 400, \"continuousHeight\": 300}}, \"data\": {\"name\": \"data-1be1fac29e1597172d9ccc7be3594f58\"}, \"mark\": \"boxplot\", \"encoding\": {\"x\": {\"type\": \"nominal\", \"field\": \"method\"}, \"y\": {\"type\": \"quantitative\", \"field\": \"score\", \"scale\": {\"zero\": false}}}, \"height\": 300, \"title\": \"Media +/- Standard Deviation\", \"width\": 300, \"$schema\": \"https://vega.github.io/schema/vega-lite/v4.8.1.json\", \"datasets\": {\"data-1be1fac29e1597172d9ccc7be3594f58\": [{\"dataset\": \"LL1_GS_process_classification_tabular_MIN_METADATA\", \"method\": \"Manual\", \"score\": 0.9018569150148097, \"time\": \"2021-10-05T00:22:36.272962\"}, {\"dataset\": \"LL1_GS_process_classification_tabular_MIN_METADATA\", \"method\": \"Manual\", \"score\": 0.9017999544315334, \"time\": \"2021-10-05T00:22:11.917924\"}, {\"dataset\": \"LL1_GS_process_classification_tabular_MIN_METADATA\", \"method\": \"Manual\", \"score\": 0.8980405559352928, \"time\": \"2021-10-05T00:23:00.395780\"}, {\"dataset\": \"LL1_GS_process_classification_tabular_MIN_METADATA\", \"method\": \"Manual\", \"score\": 0.8867053998632946, \"time\": \"2021-10-05T00:04:28.174732\"}, {\"dataset\": \"LL1_GS_process_classification_tabular_MIN_METADATA\", \"method\": \"Manual\", \"score\": 0.8867053998632946, \"time\": \"2021-10-05T00:05:16.161161\"}, {\"dataset\": \"LL1_GS_process_classification_tabular_MIN_METADATA\", \"method\": \"Manual\", \"score\": 0.8867053998632946, \"time\": \"2021-10-05T00:06:53.886716\"}, {\"dataset\": \"LL1_GS_process_classification_tabular_MIN_METADATA\", \"method\": \"Manual\", \"score\": 0.8829744816586922, \"time\": \"2021-10-05T00:18:18.562980\"}, {\"dataset\": \"LL1_GS_process_classification_tabular_MIN_METADATA\", \"method\": \"Manual\", \"score\": 0.882946001367054, \"time\": \"2021-10-05T00:13:36.390701\"}, {\"dataset\": \"LL1_GS_process_classification_tabular_MIN_METADATA\", \"method\": \"Manual\", \"score\": 0.882946001367054, \"time\": \"2021-10-05T00:18:39.122854\"}, {\"dataset\": \"LL1_GS_process_classification_tabular_MIN_METADATA\", \"method\": \"Manual\", \"score\": 0.8716108452950558, \"time\": \"2021-10-05T00:12:09.290963\"}, {\"dataset\": \"LL1_GS_process_classification_tabular_MIN_METADATA\", \"method\": \"Manual\", \"score\": 0.8566302118933697, \"time\": \"2021-10-05T00:00:58.291695\"}, {\"dataset\": \"LL1_GS_process_classification_tabular_MIN_METADATA\", \"method\": \"Manual\", \"score\": 0.8566302118933697, \"time\": \"2021-10-05T00:01:45.769658\"}, {\"dataset\": \"LL1_GS_process_classification_tabular_MIN_METADATA\", \"method\": \"Manual\", \"score\": 0.8490544543176122, \"time\": \"2021-10-05T00:00:34.301853\"}, {\"dataset\": \"LL1_GS_process_classification_tabular_MIN_METADATA\", \"method\": \"Manual\", \"score\": 0.8490544543176122, \"time\": \"2021-10-05T00:01:21.900627\"}, {\"dataset\": \"LL1_GS_process_classification_tabular_MIN_METADATA\", \"method\": \"Manual\", \"score\": 0.8490544543176122, \"time\": \"2021-10-05T00:03:46.038200\"}, {\"dataset\": \"LL1_GS_process_classification_tabular_MIN_METADATA\", \"method\": \"Manual\", \"score\": 0.8490544543176122, \"time\": \"2021-10-05T00:14:36.369589\"}, {\"dataset\": \"LL1_GS_process_classification_tabular_MIN_METADATA\", \"method\": \"Manual\", \"score\": 0.8490544543176122, \"time\": \"2021-10-05T00:15:00.389388\"}, {\"dataset\": \"LL1_GS_process_classification_tabular_MIN_METADATA\", \"method\": \"Manual\", \"score\": 0.8490544543176122, \"time\": \"2021-10-05T00:23:23.961417\"}, {\"dataset\": \"LL1_GS_process_classification_tabular_MIN_METADATA\", \"method\": \"Manual\", \"score\": 0.8490544543176122, \"time\": \"2021-10-05T00:23:48.279425\"}, {\"dataset\": \"LL1_GS_process_classification_tabular_MIN_METADATA\", \"method\": \"Manual\", \"score\": 0.8490544543176122, \"time\": \"2021-10-05T00:29:25.078869\"}, {\"dataset\": \"LL1_GS_process_classification_tabular_MIN_METADATA\", \"method\": \"Manual\", \"score\": 0.849025974025974, \"time\": \"2021-10-05T00:05:40.568798\"}, {\"dataset\": \"LL1_GS_process_classification_tabular_MIN_METADATA\", \"method\": \"Manual\", \"score\": 0.849025974025974, \"time\": \"2021-10-05T00:06:04.873455\"}, {\"dataset\": \"LL1_GS_process_classification_tabular_MIN_METADATA\", \"method\": \"Manual\", \"score\": 0.849025974025974, \"time\": \"2021-10-05T00:06:29.456927\"}, {\"dataset\": \"LL1_GS_process_classification_tabular_MIN_METADATA\", \"method\": \"Manual\", \"score\": 0.8489690134426977, \"time\": \"2021-10-05T00:11:45.060641\"}, {\"dataset\": \"LL1_GS_process_classification_tabular_MIN_METADATA\", \"method\": \"Manual\", \"score\": 0.8452665755297335, \"time\": \"2021-10-05T00:04:49.329679\"}, {\"dataset\": \"LL1_GS_process_classification_tabular_MIN_METADATA\", \"method\": \"Manual\", \"score\": 0.8415071770334928, \"time\": \"2021-10-05T00:13:12.464281\"}, {\"dataset\": \"LL1_GS_process_classification_tabular_MIN_METADATA\", \"method\": \"Manual\", \"score\": 0.8225393028024607, \"time\": \"2021-10-05T00:28:39.916925\"}, {\"dataset\": \"LL1_GS_process_classification_tabular_MIN_METADATA\", \"method\": \"Manual\", \"score\": 0.5781784005468216, \"time\": \"2021-10-05T00:12:33.533415\"}, {\"dataset\": \"LL1_GS_process_classification_tabular_MIN_METADATA\", \"method\": \"Automatic\", \"score\": 0.894252677147414, \"time\": \"2021-10-05T00:22:47.131000\"}, {\"dataset\": \"LL1_GS_process_classification_tabular_MIN_METADATA\", \"method\": \"Automatic\", \"score\": 0.894252677147414, \"time\": \"2021-10-05T00:23:26.250753\"}, {\"dataset\": \"LL1_GS_process_classification_tabular_MIN_METADATA\", \"method\": \"Automatic\", \"score\": 0.882946001367054, \"time\": \"2021-10-05T00:28:18.961295\"}, {\"dataset\": \"LL1_GS_process_classification_tabular_MIN_METADATA\", \"method\": \"Automatic\", \"score\": 0.8641774891774892, \"time\": \"2021-10-05T00:26:11.972368\"}, {\"dataset\": \"LL1_GS_process_classification_tabular_MIN_METADATA\", \"method\": \"Automatic\", \"score\": 0.8641205285942128, \"time\": \"2021-10-05T00:16:09.821089\"}, {\"dataset\": \"LL1_GS_process_classification_tabular_MIN_METADATA\", \"method\": \"Automatic\", \"score\": 0.8603896103896104, \"time\": \"2021-10-05T00:30:15.654395\"}, {\"dataset\": \"LL1_GS_process_classification_tabular_MIN_METADATA\", \"method\": \"Automatic\", \"score\": 0.8528138528138528, \"time\": \"2021-10-05T00:12:56.798902\"}, {\"dataset\": \"LL1_GS_process_classification_tabular_MIN_METADATA\", \"method\": \"Automatic\", \"score\": 0.8491114149008886, \"time\": \"2021-10-05T00:16:58.670925\"}, {\"dataset\": \"LL1_GS_process_classification_tabular_MIN_METADATA\", \"method\": \"Automatic\", \"score\": 0.8490544543176122, \"time\": \"2021-10-05T00:13:48.402771\"}, {\"dataset\": \"LL1_GS_process_classification_tabular_MIN_METADATA\", \"method\": \"Automatic\", \"score\": 0.8490544543176122, \"time\": \"2021-10-05T00:14:12.397254\"}, {\"dataset\": \"LL1_GS_process_classification_tabular_MIN_METADATA\", \"method\": \"Automatic\", \"score\": 0.8490544543176122, \"time\": \"2021-10-05T00:24:50.399878\"}, {\"dataset\": \"LL1_GS_process_classification_tabular_MIN_METADATA\", \"method\": \"Automatic\", \"score\": 0.8490544543176122, \"time\": \"2021-10-05T00:27:27.683750\"}, {\"dataset\": \"LL1_GS_process_classification_tabular_MIN_METADATA\", \"method\": \"Automatic\", \"score\": 0.8490544543176122, \"time\": \"2021-10-05T00:27:48.670585\"}, {\"dataset\": \"LL1_GS_process_classification_tabular_MIN_METADATA\", \"method\": \"Automatic\", \"score\": 0.8490544543176122, \"time\": \"2021-10-05T00:28:55.120365\"}, {\"dataset\": \"LL1_GS_process_classification_tabular_MIN_METADATA\", \"method\": \"Automatic\", \"score\": 0.849025974025974, \"time\": \"2021-10-05T00:17:22.705250\"}, {\"dataset\": \"LL1_GS_process_classification_tabular_MIN_METADATA\", \"method\": \"Automatic\", \"score\": 0.849025974025974, \"time\": \"2021-10-05T00:18:12.844674\"}, {\"dataset\": \"LL1_GS_process_classification_tabular_MIN_METADATA\", \"method\": \"Automatic\", \"score\": 0.845352016404648, \"time\": \"2021-10-05T00:27:06.448662\"}, {\"dataset\": \"LL1_GS_process_classification_tabular_MIN_METADATA\", \"method\": \"Automatic\", \"score\": 0.8452950558213717, \"time\": \"2021-10-05T00:17:46.202072\"}, {\"dataset\": \"LL1_GS_process_classification_tabular_MIN_METADATA\", \"method\": \"Automatic\", \"score\": 0.8452096149464571, \"time\": \"2021-10-05T00:13:24.430109\"}, {\"dataset\": \"LL1_GS_process_classification_tabular_MIN_METADATA\", \"method\": \"Automatic\", \"score\": 0.8415071770334928, \"time\": \"2021-10-05T00:02:32.930798\"}, {\"dataset\": \"LL1_GS_process_classification_tabular_MIN_METADATA\", \"method\": \"Automatic\", \"score\": 0.8414217361585783, \"time\": \"2021-10-05T00:16:34.269008\"}, {\"dataset\": \"LL1_GS_process_classification_tabular_MIN_METADATA\", \"method\": \"Automatic\", \"score\": 0.8187514240145819, \"time\": \"2021-10-05T00:26:45.231878\"}, {\"dataset\": \"LL1_GS_process_classification_tabular_MIN_METADATA\", \"method\": \"Automatic\", \"score\": 0.8187514240145819, \"time\": \"2021-10-05T00:29:39.709602\"}]}}, {\"mode\": \"vega-lite\"});\n",
       "</script>"
      ],
      "text/plain": [
       "alt.Chart(...)"
      ]
     },
     "execution_count": 64,
     "metadata": {},
     "output_type": "execute_result"
    }
   ],
   "source": [
    "alt.Chart(all_performances[all_performances['dataset'] == dataset]).mark_boxplot().encode(\n",
    "    x=alt.X('method:N'),\n",
    "    y=alt.Y('score:Q', scale=alt.Scale(zero=False))\n",
    ").properties(width=300, height=300, title='Media +/- Standard Deviation')"
   ]
  },
  {
   "cell_type": "code",
   "execution_count": 41,
   "metadata": {},
   "outputs": [
    {
     "data": {
      "text/html": [
       "\n",
       "<div id=\"altair-viz-22f7209df1574adea6b863c81b97f94a\"></div>\n",
       "<script type=\"text/javascript\">\n",
       "  (function(spec, embedOpt){\n",
       "    let outputDiv = document.currentScript.previousElementSibling;\n",
       "    if (outputDiv.id !== \"altair-viz-22f7209df1574adea6b863c81b97f94a\") {\n",
       "      outputDiv = document.getElementById(\"altair-viz-22f7209df1574adea6b863c81b97f94a\");\n",
       "    }\n",
       "    const paths = {\n",
       "      \"vega\": \"https://cdn.jsdelivr.net/npm//vega@5?noext\",\n",
       "      \"vega-lib\": \"https://cdn.jsdelivr.net/npm//vega-lib?noext\",\n",
       "      \"vega-lite\": \"https://cdn.jsdelivr.net/npm//vega-lite@4.8.1?noext\",\n",
       "      \"vega-embed\": \"https://cdn.jsdelivr.net/npm//vega-embed@6?noext\",\n",
       "    };\n",
       "\n",
       "    function loadScript(lib) {\n",
       "      return new Promise(function(resolve, reject) {\n",
       "        var s = document.createElement('script');\n",
       "        s.src = paths[lib];\n",
       "        s.async = true;\n",
       "        s.onload = () => resolve(paths[lib]);\n",
       "        s.onerror = () => reject(`Error loading script: ${paths[lib]}`);\n",
       "        document.getElementsByTagName(\"head\")[0].appendChild(s);\n",
       "      });\n",
       "    }\n",
       "\n",
       "    function showError(err) {\n",
       "      outputDiv.innerHTML = `<div class=\"error\" style=\"color:red;\">${err}</div>`;\n",
       "      throw err;\n",
       "    }\n",
       "\n",
       "    function displayChart(vegaEmbed) {\n",
       "      vegaEmbed(outputDiv, spec, embedOpt)\n",
       "        .catch(err => showError(`Javascript Error: ${err.message}<br>This usually means there's a typo in your chart specification. See the javascript console for the full traceback.`));\n",
       "    }\n",
       "\n",
       "    if(typeof define === \"function\" && define.amd) {\n",
       "      requirejs.config({paths});\n",
       "      require([\"vega-embed\"], displayChart, err => showError(`Error loading script: ${err.message}`));\n",
       "    } else if (typeof vegaEmbed === \"function\") {\n",
       "      displayChart(vegaEmbed);\n",
       "    } else {\n",
       "      loadScript(\"vega\")\n",
       "        .then(() => loadScript(\"vega-lite\"))\n",
       "        .then(() => loadScript(\"vega-embed\"))\n",
       "        .catch(showError)\n",
       "        .then(() => displayChart(vegaEmbed));\n",
       "    }\n",
       "  })({\"config\": {\"view\": {\"continuousWidth\": 400, \"continuousHeight\": 300}}, \"layer\": [{\"data\": {\"name\": \"data-1be1fac29e1597172d9ccc7be3594f58\"}, \"mark\": {\"type\": \"errorbar\", \"extent\": \"stdev\"}, \"encoding\": {\"x\": {\"type\": \"nominal\", \"field\": \"method\"}, \"y\": {\"type\": \"quantitative\", \"field\": \"score\", \"scale\": {\"zero\": false}}}}, {\"data\": {\"name\": \"data-1be1fac29e1597172d9ccc7be3594f58\"}, \"mark\": {\"type\": \"point\", \"filled\": true}, \"encoding\": {\"x\": {\"type\": \"nominal\", \"field\": \"method\"}, \"y\": {\"type\": \"quantitative\", \"aggregate\": \"mean\", \"field\": \"score\"}}}], \"$schema\": \"https://vega.github.io/schema/vega-lite/v4.8.1.json\", \"datasets\": {\"data-1be1fac29e1597172d9ccc7be3594f58\": [{\"dataset\": \"LL1_GS_process_classification_tabular_MIN_METADATA\", \"method\": \"Manual\", \"score\": 0.9018569150148097, \"time\": \"2021-10-05T00:22:36.272962\"}, {\"dataset\": \"LL1_GS_process_classification_tabular_MIN_METADATA\", \"method\": \"Manual\", \"score\": 0.9017999544315334, \"time\": \"2021-10-05T00:22:11.917924\"}, {\"dataset\": \"LL1_GS_process_classification_tabular_MIN_METADATA\", \"method\": \"Manual\", \"score\": 0.8980405559352928, \"time\": \"2021-10-05T00:23:00.395780\"}, {\"dataset\": \"LL1_GS_process_classification_tabular_MIN_METADATA\", \"method\": \"Manual\", \"score\": 0.8867053998632946, \"time\": \"2021-10-05T00:04:28.174732\"}, {\"dataset\": \"LL1_GS_process_classification_tabular_MIN_METADATA\", \"method\": \"Manual\", \"score\": 0.8867053998632946, \"time\": \"2021-10-05T00:05:16.161161\"}, {\"dataset\": \"LL1_GS_process_classification_tabular_MIN_METADATA\", \"method\": \"Manual\", \"score\": 0.8867053998632946, \"time\": \"2021-10-05T00:06:53.886716\"}, {\"dataset\": \"LL1_GS_process_classification_tabular_MIN_METADATA\", \"method\": \"Manual\", \"score\": 0.8829744816586922, \"time\": \"2021-10-05T00:18:18.562980\"}, {\"dataset\": \"LL1_GS_process_classification_tabular_MIN_METADATA\", \"method\": \"Manual\", \"score\": 0.882946001367054, \"time\": \"2021-10-05T00:13:36.390701\"}, {\"dataset\": \"LL1_GS_process_classification_tabular_MIN_METADATA\", \"method\": \"Manual\", \"score\": 0.882946001367054, \"time\": \"2021-10-05T00:18:39.122854\"}, {\"dataset\": \"LL1_GS_process_classification_tabular_MIN_METADATA\", \"method\": \"Manual\", \"score\": 0.8716108452950558, \"time\": \"2021-10-05T00:12:09.290963\"}, {\"dataset\": \"LL1_GS_process_classification_tabular_MIN_METADATA\", \"method\": \"Manual\", \"score\": 0.8566302118933697, \"time\": \"2021-10-05T00:00:58.291695\"}, {\"dataset\": \"LL1_GS_process_classification_tabular_MIN_METADATA\", \"method\": \"Manual\", \"score\": 0.8566302118933697, \"time\": \"2021-10-05T00:01:45.769658\"}, {\"dataset\": \"LL1_GS_process_classification_tabular_MIN_METADATA\", \"method\": \"Manual\", \"score\": 0.8490544543176122, \"time\": \"2021-10-05T00:00:34.301853\"}, {\"dataset\": \"LL1_GS_process_classification_tabular_MIN_METADATA\", \"method\": \"Manual\", \"score\": 0.8490544543176122, \"time\": \"2021-10-05T00:01:21.900627\"}, {\"dataset\": \"LL1_GS_process_classification_tabular_MIN_METADATA\", \"method\": \"Manual\", \"score\": 0.8490544543176122, \"time\": \"2021-10-05T00:03:46.038200\"}, {\"dataset\": \"LL1_GS_process_classification_tabular_MIN_METADATA\", \"method\": \"Manual\", \"score\": 0.8490544543176122, \"time\": \"2021-10-05T00:14:36.369589\"}, {\"dataset\": \"LL1_GS_process_classification_tabular_MIN_METADATA\", \"method\": \"Manual\", \"score\": 0.8490544543176122, \"time\": \"2021-10-05T00:15:00.389388\"}, {\"dataset\": \"LL1_GS_process_classification_tabular_MIN_METADATA\", \"method\": \"Manual\", \"score\": 0.8490544543176122, \"time\": \"2021-10-05T00:23:23.961417\"}, {\"dataset\": \"LL1_GS_process_classification_tabular_MIN_METADATA\", \"method\": \"Manual\", \"score\": 0.8490544543176122, \"time\": \"2021-10-05T00:23:48.279425\"}, {\"dataset\": \"LL1_GS_process_classification_tabular_MIN_METADATA\", \"method\": \"Manual\", \"score\": 0.8490544543176122, \"time\": \"2021-10-05T00:29:25.078869\"}, {\"dataset\": \"LL1_GS_process_classification_tabular_MIN_METADATA\", \"method\": \"Manual\", \"score\": 0.849025974025974, \"time\": \"2021-10-05T00:05:40.568798\"}, {\"dataset\": \"LL1_GS_process_classification_tabular_MIN_METADATA\", \"method\": \"Manual\", \"score\": 0.849025974025974, \"time\": \"2021-10-05T00:06:04.873455\"}, {\"dataset\": \"LL1_GS_process_classification_tabular_MIN_METADATA\", \"method\": \"Manual\", \"score\": 0.849025974025974, \"time\": \"2021-10-05T00:06:29.456927\"}, {\"dataset\": \"LL1_GS_process_classification_tabular_MIN_METADATA\", \"method\": \"Manual\", \"score\": 0.8489690134426977, \"time\": \"2021-10-05T00:11:45.060641\"}, {\"dataset\": \"LL1_GS_process_classification_tabular_MIN_METADATA\", \"method\": \"Manual\", \"score\": 0.8452665755297335, \"time\": \"2021-10-05T00:04:49.329679\"}, {\"dataset\": \"LL1_GS_process_classification_tabular_MIN_METADATA\", \"method\": \"Manual\", \"score\": 0.8415071770334928, \"time\": \"2021-10-05T00:13:12.464281\"}, {\"dataset\": \"LL1_GS_process_classification_tabular_MIN_METADATA\", \"method\": \"Manual\", \"score\": 0.8225393028024607, \"time\": \"2021-10-05T00:28:39.916925\"}, {\"dataset\": \"LL1_GS_process_classification_tabular_MIN_METADATA\", \"method\": \"Manual\", \"score\": 0.5781784005468216, \"time\": \"2021-10-05T00:12:33.533415\"}, {\"dataset\": \"LL1_GS_process_classification_tabular_MIN_METADATA\", \"method\": \"Automatic\", \"score\": 0.894252677147414, \"time\": \"2021-10-05T00:22:47.131000\"}, {\"dataset\": \"LL1_GS_process_classification_tabular_MIN_METADATA\", \"method\": \"Automatic\", \"score\": 0.894252677147414, \"time\": \"2021-10-05T00:23:26.250753\"}, {\"dataset\": \"LL1_GS_process_classification_tabular_MIN_METADATA\", \"method\": \"Automatic\", \"score\": 0.882946001367054, \"time\": \"2021-10-05T00:28:18.961295\"}, {\"dataset\": \"LL1_GS_process_classification_tabular_MIN_METADATA\", \"method\": \"Automatic\", \"score\": 0.8641774891774892, \"time\": \"2021-10-05T00:26:11.972368\"}, {\"dataset\": \"LL1_GS_process_classification_tabular_MIN_METADATA\", \"method\": \"Automatic\", \"score\": 0.8641205285942128, \"time\": \"2021-10-05T00:16:09.821089\"}, {\"dataset\": \"LL1_GS_process_classification_tabular_MIN_METADATA\", \"method\": \"Automatic\", \"score\": 0.8603896103896104, \"time\": \"2021-10-05T00:30:15.654395\"}, {\"dataset\": \"LL1_GS_process_classification_tabular_MIN_METADATA\", \"method\": \"Automatic\", \"score\": 0.8528138528138528, \"time\": \"2021-10-05T00:12:56.798902\"}, {\"dataset\": \"LL1_GS_process_classification_tabular_MIN_METADATA\", \"method\": \"Automatic\", \"score\": 0.8491114149008886, \"time\": \"2021-10-05T00:16:58.670925\"}, {\"dataset\": \"LL1_GS_process_classification_tabular_MIN_METADATA\", \"method\": \"Automatic\", \"score\": 0.8490544543176122, \"time\": \"2021-10-05T00:13:48.402771\"}, {\"dataset\": \"LL1_GS_process_classification_tabular_MIN_METADATA\", \"method\": \"Automatic\", \"score\": 0.8490544543176122, \"time\": \"2021-10-05T00:14:12.397254\"}, {\"dataset\": \"LL1_GS_process_classification_tabular_MIN_METADATA\", \"method\": \"Automatic\", \"score\": 0.8490544543176122, \"time\": \"2021-10-05T00:24:50.399878\"}, {\"dataset\": \"LL1_GS_process_classification_tabular_MIN_METADATA\", \"method\": \"Automatic\", \"score\": 0.8490544543176122, \"time\": \"2021-10-05T00:27:27.683750\"}, {\"dataset\": \"LL1_GS_process_classification_tabular_MIN_METADATA\", \"method\": \"Automatic\", \"score\": 0.8490544543176122, \"time\": \"2021-10-05T00:27:48.670585\"}, {\"dataset\": \"LL1_GS_process_classification_tabular_MIN_METADATA\", \"method\": \"Automatic\", \"score\": 0.8490544543176122, \"time\": \"2021-10-05T00:28:55.120365\"}, {\"dataset\": \"LL1_GS_process_classification_tabular_MIN_METADATA\", \"method\": \"Automatic\", \"score\": 0.849025974025974, \"time\": \"2021-10-05T00:17:22.705250\"}, {\"dataset\": \"LL1_GS_process_classification_tabular_MIN_METADATA\", \"method\": \"Automatic\", \"score\": 0.849025974025974, \"time\": \"2021-10-05T00:18:12.844674\"}, {\"dataset\": \"LL1_GS_process_classification_tabular_MIN_METADATA\", \"method\": \"Automatic\", \"score\": 0.845352016404648, \"time\": \"2021-10-05T00:27:06.448662\"}, {\"dataset\": \"LL1_GS_process_classification_tabular_MIN_METADATA\", \"method\": \"Automatic\", \"score\": 0.8452950558213717, \"time\": \"2021-10-05T00:17:46.202072\"}, {\"dataset\": \"LL1_GS_process_classification_tabular_MIN_METADATA\", \"method\": \"Automatic\", \"score\": 0.8452096149464571, \"time\": \"2021-10-05T00:13:24.430109\"}, {\"dataset\": \"LL1_GS_process_classification_tabular_MIN_METADATA\", \"method\": \"Automatic\", \"score\": 0.8415071770334928, \"time\": \"2021-10-05T00:02:32.930798\"}, {\"dataset\": \"LL1_GS_process_classification_tabular_MIN_METADATA\", \"method\": \"Automatic\", \"score\": 0.8414217361585783, \"time\": \"2021-10-05T00:16:34.269008\"}, {\"dataset\": \"LL1_GS_process_classification_tabular_MIN_METADATA\", \"method\": \"Automatic\", \"score\": 0.8187514240145819, \"time\": \"2021-10-05T00:26:45.231878\"}, {\"dataset\": \"LL1_GS_process_classification_tabular_MIN_METADATA\", \"method\": \"Automatic\", \"score\": 0.8187514240145819, \"time\": \"2021-10-05T00:29:39.709602\"}]}}, {\"mode\": \"vega-lite\"});\n",
       "</script>"
      ],
      "text/plain": [
       "alt.LayerChart(...)"
      ]
     },
     "execution_count": 41,
     "metadata": {},
     "output_type": "execute_result"
    }
   ],
   "source": [
    "error_bars = alt.Chart(all_performances[all_performances['dataset'] == dataset]).mark_errorbar(extent='stdev').encode(\n",
    "  x=alt.X('method:N'),\n",
    "  y=alt.Y('score:Q', scale=alt.Scale(zero=False))\n",
    ")\n",
    "\n",
    "points = alt.Chart(all_performances[all_performances['dataset'] == dataset]).mark_point(filled=True).encode(\n",
    "  x=alt.X('method:N'),\n",
    "  y=alt.Y('score:Q', aggregate='mean'),\n",
    ")\n",
    "\n",
    "error_bars + points"
   ]
  },
  {
   "cell_type": "code",
   "execution_count": 29,
   "metadata": {},
   "outputs": [],
   "source": [
    "pipelines_counter = all_performances.groupby(['dataset', 'method']).size().reset_index(name='pipelines')"
   ]
  },
  {
   "cell_type": "code",
   "execution_count": 21,
   "metadata": {},
   "outputs": [
    {
     "data": {
      "text/html": [
       "<div>\n",
       "<style scoped>\n",
       "    .dataframe tbody tr th:only-of-type {\n",
       "        vertical-align: middle;\n",
       "    }\n",
       "\n",
       "    .dataframe tbody tr th {\n",
       "        vertical-align: top;\n",
       "    }\n",
       "\n",
       "    .dataframe thead th {\n",
       "        text-align: right;\n",
       "    }\n",
       "</style>\n",
       "<table border=\"1\" class=\"dataframe\">\n",
       "  <thead>\n",
       "    <tr style=\"text-align: right;\">\n",
       "      <th></th>\n",
       "      <th>dataset</th>\n",
       "      <th>method</th>\n",
       "      <th>pipelines</th>\n",
       "    </tr>\n",
       "  </thead>\n",
       "  <tbody>\n",
       "    <tr>\n",
       "      <th>0</th>\n",
       "      <td>185_baseball_MIN_METADATA</td>\n",
       "      <td>Automatic</td>\n",
       "      <td>52</td>\n",
       "    </tr>\n",
       "    <tr>\n",
       "      <th>1</th>\n",
       "      <td>185_baseball_MIN_METADATA</td>\n",
       "      <td>Manual</td>\n",
       "      <td>31</td>\n",
       "    </tr>\n",
       "    <tr>\n",
       "      <th>2</th>\n",
       "      <td>LL0_186_braziltourism_MIN_METADATA</td>\n",
       "      <td>Automatic</td>\n",
       "      <td>69</td>\n",
       "    </tr>\n",
       "    <tr>\n",
       "      <th>3</th>\n",
       "      <td>LL0_186_braziltourism_MIN_METADATA</td>\n",
       "      <td>Manual</td>\n",
       "      <td>74</td>\n",
       "    </tr>\n",
       "  </tbody>\n",
       "</table>\n",
       "</div>"
      ],
      "text/plain": [
       "                              dataset     method  pipelines\n",
       "0           185_baseball_MIN_METADATA  Automatic         52\n",
       "1           185_baseball_MIN_METADATA     Manual         31\n",
       "2  LL0_186_braziltourism_MIN_METADATA  Automatic         69\n",
       "3  LL0_186_braziltourism_MIN_METADATA     Manual         74"
      ]
     },
     "execution_count": 21,
     "metadata": {},
     "output_type": "execute_result"
    }
   ],
   "source": [
    "pipelines_counter"
   ]
  },
  {
   "cell_type": "code",
   "execution_count": 22,
   "metadata": {},
   "outputs": [
    {
     "data": {
      "text/html": [
       "\n",
       "<div id=\"altair-viz-4d0cdc75f0de427e92d9011f955d7e42\"></div>\n",
       "<script type=\"text/javascript\">\n",
       "  (function(spec, embedOpt){\n",
       "    let outputDiv = document.currentScript.previousElementSibling;\n",
       "    if (outputDiv.id !== \"altair-viz-4d0cdc75f0de427e92d9011f955d7e42\") {\n",
       "      outputDiv = document.getElementById(\"altair-viz-4d0cdc75f0de427e92d9011f955d7e42\");\n",
       "    }\n",
       "    const paths = {\n",
       "      \"vega\": \"https://cdn.jsdelivr.net/npm//vega@5?noext\",\n",
       "      \"vega-lib\": \"https://cdn.jsdelivr.net/npm//vega-lib?noext\",\n",
       "      \"vega-lite\": \"https://cdn.jsdelivr.net/npm//vega-lite@4.8.1?noext\",\n",
       "      \"vega-embed\": \"https://cdn.jsdelivr.net/npm//vega-embed@6?noext\",\n",
       "    };\n",
       "\n",
       "    function loadScript(lib) {\n",
       "      return new Promise(function(resolve, reject) {\n",
       "        var s = document.createElement('script');\n",
       "        s.src = paths[lib];\n",
       "        s.async = true;\n",
       "        s.onload = () => resolve(paths[lib]);\n",
       "        s.onerror = () => reject(`Error loading script: ${paths[lib]}`);\n",
       "        document.getElementsByTagName(\"head\")[0].appendChild(s);\n",
       "      });\n",
       "    }\n",
       "\n",
       "    function showError(err) {\n",
       "      outputDiv.innerHTML = `<div class=\"error\" style=\"color:red;\">${err}</div>`;\n",
       "      throw err;\n",
       "    }\n",
       "\n",
       "    function displayChart(vegaEmbed) {\n",
       "      vegaEmbed(outputDiv, spec, embedOpt)\n",
       "        .catch(err => showError(`Javascript Error: ${err.message}<br>This usually means there's a typo in your chart specification. See the javascript console for the full traceback.`));\n",
       "    }\n",
       "\n",
       "    if(typeof define === \"function\" && define.amd) {\n",
       "      requirejs.config({paths});\n",
       "      require([\"vega-embed\"], displayChart, err => showError(`Error loading script: ${err.message}`));\n",
       "    } else if (typeof vegaEmbed === \"function\") {\n",
       "      displayChart(vegaEmbed);\n",
       "    } else {\n",
       "      loadScript(\"vega\")\n",
       "        .then(() => loadScript(\"vega-lite\"))\n",
       "        .then(() => loadScript(\"vega-embed\"))\n",
       "        .catch(showError)\n",
       "        .then(() => displayChart(vegaEmbed));\n",
       "    }\n",
       "  })({\"config\": {\"view\": {\"continuousWidth\": 400, \"continuousHeight\": 300}}, \"layer\": [{\"mark\": \"bar\", \"encoding\": {\"x\": {\"type\": \"nominal\", \"field\": \"method\"}, \"y\": {\"type\": \"quantitative\", \"field\": \"pipelines\"}}}, {\"mark\": {\"type\": \"text\", \"align\": \"center\", \"baseline\": \"middle\"}, \"encoding\": {\"text\": {\"type\": \"quantitative\", \"field\": \"pipelines\"}, \"x\": {\"type\": \"nominal\", \"field\": \"method\"}, \"y\": {\"type\": \"quantitative\", \"field\": \"pipelines\"}}}], \"data\": {\"name\": \"data-056774b145818148064e195fc01a90a7\"}, \"height\": 200, \"title\": \"Number of Pipelines\", \"$schema\": \"https://vega.github.io/schema/vega-lite/v4.8.1.json\", \"datasets\": {\"data-056774b145818148064e195fc01a90a7\": [{\"dataset\": \"LL0_186_braziltourism_MIN_METADATA\", \"method\": \"Automatic\", \"pipelines\": 69}, {\"dataset\": \"LL0_186_braziltourism_MIN_METADATA\", \"method\": \"Manual\", \"pipelines\": 74}]}}, {\"mode\": \"vega-lite\"});\n",
       "</script>"
      ],
      "text/plain": [
       "alt.LayerChart(...)"
      ]
     },
     "execution_count": 22,
     "metadata": {},
     "output_type": "execute_result"
    }
   ],
   "source": [
    "bars = alt.Chart(pipelines_counter[pipelines_counter['dataset'] == dataset]).mark_bar().encode(x='method:N', y='pipelines:Q')\n",
    "text = bars.mark_text(align='center', baseline='middle').encode(text='pipelines:Q')\n",
    "(bars + text).properties(height=200, title='Number of Pipelines')"
   ]
  },
  {
   "cell_type": "code",
   "execution_count": 121,
   "metadata": {},
   "outputs": [],
   "source": [
    "def load_automatic_patterns(dataset_path, target_column, task_keywords):\n",
    "    pipelines = load_related_pipelines(dataset_path, target_column, task_keywords)\n",
    "    patterns, _ = extract_patterns(pipelines)\n",
    "    \n",
    "    return patterns\n",
    "\n",
    "def load_manual_patterns(task_name, encoders, use_imputer):\n",
    "    grammar_path = '/Users/rlopez/D3M/alphad3m/resource/base_grammar.bnf'\n",
    "    task_pattern = ''\n",
    "    with open(grammar_path) as fin:\n",
    "        for pattern in fin.readlines():\n",
    "            if pattern.startswith(task_name + ' -> '):\n",
    "                task_pattern = pattern.replace(task_name + ' -> ', '').rstrip()\n",
    "                if not use_imputer:\n",
    "                    task_pattern = task_pattern.replace('IMPUTATION ', '')\n",
    "                if len(encoders) == 0:\n",
    "                    task_pattern = task_pattern.replace('ENCODERS ', '')\n",
    "                else:\n",
    "                    task_pattern = task_pattern.replace('ENCODERS', ' '.join(encoders))\n",
    "                    \n",
    "    task_pattern = task_pattern.split(' ')\n",
    "    patterns = [task_pattern]\n",
    "    empty_elements = ['FEATURE_SCALING', 'FEATURE_SELECTION']\n",
    "    for empty_element in empty_elements:\n",
    "        if empty_element in task_pattern:\n",
    "            new_pattern = [i for i in task_pattern if i != empty_element]\n",
    "            patterns.append(new_pattern)\n",
    "    if all(i in task_pattern for i in empty_elements):\n",
    "        new_pattern = [i for i in task_pattern if i not in empty_elements]\n",
    "        patterns.append(new_pattern)\n",
    "        \n",
    "    return patterns\n",
    "\n",
    "def calculate_coverage(target_patterns, base_patterns, ordered=False):\n",
    "    if ordered:\n",
    "        target_patterns_c, base_patterns_c = target_patterns, base_patterns\n",
    "    else:\n",
    "        target_patterns_c, base_patterns_c = [sorted(i) for i in target_patterns], [sorted(i) for i in base_patterns]\n",
    "    count = 0\n",
    "    for index, target_pattern in enumerate(target_patterns_c):\n",
    "        if target_pattern in base_patterns_c:\n",
    "            count +=1\n",
    "        else:\n",
    "            print('Not found:', target_patterns[index])\n",
    "    total = float(len(target_patterns_c))\n",
    "    \n",
    "    print('Coverage: %2.f%%' % (count * 100 / total))"
   ]
  },
  {
   "cell_type": "code",
   "execution_count": null,
   "metadata": {},
   "outputs": [],
   "source": []
  }
 ],
 "metadata": {
  "kernelspec": {
   "display_name": "Python 3",
   "language": "python",
   "name": "python3"
  },
  "language_info": {
   "codemirror_mode": {
    "name": "ipython",
    "version": 3
   },
   "file_extension": ".py",
   "mimetype": "text/x-python",
   "name": "python",
   "nbconvert_exporter": "python",
   "pygments_lexer": "ipython3",
   "version": "3.6.5"
  }
 },
 "nbformat": 4,
 "nbformat_minor": 2
}
