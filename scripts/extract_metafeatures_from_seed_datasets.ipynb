{
 "cells": [
  {
   "cell_type": "markdown",
   "metadata": {},
   "source": [
    "# Basic Script\n",
    "\n",
    "The following cell contains utility functions that use the metalearn package from BYU to extract meatafeatures from datasets. Please install the requirements in the root folder of this repository or at least the metalearn pakcage via \n",
    "\n",
    "```\n",
    "   pip install git+https://github.com/byu-dml/metalearn.git#egg=metalearn\n",
    "\n",
    "```\n"
   ]
  },
  {
   "cell_type": "code",
   "execution_count": 1,
   "metadata": {},
   "outputs": [],
   "source": [
    "import os\n",
    "import pprint\n",
    "from json import loads, dumps\n",
    "import pandas as pd\n",
    "import numpy as np\n",
    "from metalearn.metafeatures.simple_metafeatures import SimpleMetafeatures\n",
    "from metalearn.metafeatures.statistical_metafeatures import StatisticalMetafeatures\n",
    "from metalearn.metafeatures.information_theoretic_metafeatures import InformationTheoreticMetafeatures\n",
    "\n",
    "def load_dataframe(training_set, data_format=\"dict\"):\n",
    "    df = pd.DataFrame.from_csv(training_set)\n",
    "    df.fillna('', inplace=True)\n",
    "    X = df.as_matrix()[:,:-1]\n",
    "    Y = df[df.keys()[-1]].astype('str').as_matrix()\n",
    "    attributes = []\n",
    "    for i in range(0,len(X[0])):\n",
    "        attributes.append((df.keys()[i],str(type(X[0][i]))))\n",
    "    attributes.append(('class', list(set(Y))))\n",
    "    return X, Y, attributes\n",
    "\n",
    "def extract_metafeatures(X,Y,attributes):\n",
    "    metafeatures = {}\n",
    "    features, time = SimpleMetafeatures().timed_compute(X,Y,attributes)\n",
    "    print(\"simple metafeatures compute time: {}\".format(time))\n",
    "    total_time = time\n",
    "    for key, value in features.items():\n",
    "        metafeatures[key] = value\n",
    "\n",
    "    features, time = StatisticalMetafeatures().timed_compute(X,Y,attributes)\n",
    "    print(\"statistical metafeatures compute time: {}\".format(time))\n",
    "    total_time = total_time + time\n",
    "    for key, value in features.items():\n",
    "        metafeatures[key] = value\n",
    "\n",
    "    features, time = InformationTheoreticMetafeatures().timed_compute(X,Y,attributes)\n",
    "    print(\"information theoretic metafeatures compute time: {}\".format(time))\n",
    "    total_time = total_time + time\n",
    "    for key, value in features.items():\n",
    "        metafeatures[key] = value\n",
    "\n",
    "    return metafeatures\n",
    "\n",
    "def compute_metafeatures(dataset_path):\n",
    "    X, Y, attributes = load_dataframe(dataset_path, \"dict\")\n",
    "    metadata = extract_metafeatures(X, Y, attributes)\n",
    "    return metadata\n"
   ]
  },
  {
   "cell_type": "markdown",
   "metadata": {},
   "source": [
    "# Downloading Seed Datasets"
   ]
  },
  {
   "cell_type": "code",
   "execution_count": 7,
   "metadata": {},
   "outputs": [
    {
     "data": {
      "text/plain": [
       "0"
      ]
     },
     "execution_count": 7,
     "metadata": {},
     "output_type": "execute_result"
    }
   ],
   "source": [
    "import subprocess\n",
    "# Please change this path.\n",
    "path = '/Users/raonilourenco/D3M/'\n",
    "cd_command = 'cd '+path'; '\n",
    "#Please provide a valid token, this follwoing token is for rlourenco\n",
    "token = 'IcrgDrcQpmOdHxO0BSaW8tzHP9HZvhyMiA8TAqssrdxrVWze2NlPvlccgu3XVQ2t'\n",
    "datasets_url = 'https://datadrivendiscovery.org/data/training_datasets/LL0/'\n",
    "wget_command = \"wget -r -np -R \\\"index.html*\\\" -nH --header \\'Authorization:%s\\' %s\"%(token,datasets_url)\n",
    "\n",
    "subprocess.call(cd_command+wget_command, shell=True)"
   ]
  },
  {
   "cell_type": "markdown",
   "metadata": {},
   "source": [
    "# Collecting training sets files"
   ]
  },
  {
   "cell_type": "code",
   "execution_count": 19,
   "metadata": {},
   "outputs": [
    {
     "data": {
      "text/plain": [
       "'/Users/raonilourenco/D3M/data/training_datasets/LL0/LL0_1530_volcanoes_a4/LL0_1530_volcanoes_a4_dataset/tables/learningData.csv'"
      ]
     },
     "execution_count": 19,
     "metadata": {},
     "output_type": "execute_result"
    }
   ],
   "source": [
    "name = 'learningData.csv'\n",
    "# Please change this path.\n",
    "path = '/Users/raonilourenco/D3M/data/training_datasets/LL0'\n",
    "training_sets = []\n",
    "for root, dirs, files in os.walk(path):    \n",
    "    if name in files:\n",
    "        training_sets.append(os.path.join(root, name))\n",
    "#example\n",
    "training_sets[0]"
   ]
  },
  {
   "cell_type": "code",
   "execution_count": null,
   "metadata": {},
   "outputs": [
    {
     "name": "stderr",
     "output_type": "stream",
     "text": [
      "/Users/raonilourenco/miniconda2/envs/py36/lib/python3.6/site-packages/ipykernel_launcher.py:11: FutureWarning: from_csv is deprecated. Please use read_csv(...) instead. Note that some of the default arguments are different, so please refer to the documentation for from_csv when changing your function calls\n",
      "  # This is added back by InteractiveShellApp.init_path()\n"
     ]
    },
    {
     "name": "stdout",
     "output_type": "stream",
     "text": [
      "simple metafeatures compute time: 0.021451950073242188\n",
      "statistical metafeatures compute time: 0.06834101676940918\n",
      "information theoretic metafeatures compute time: 0.11081504821777344\n",
      "simple metafeatures compute time: 0.05450105667114258\n"
     ]
    },
    {
     "name": "stderr",
     "output_type": "stream",
     "text": [
      "/Users/raonilourenco/miniconda2/envs/py36/lib/python3.6/site-packages/numpy/lib/function_base.py:3159: RuntimeWarning: Degrees of freedom <= 0 for slice\n",
      "  c = cov(x, y, rowvar)\n"
     ]
    },
    {
     "name": "stdout",
     "output_type": "stream",
     "text": [
      "statistical metafeatures compute time: 4.788779973983765\n",
      "information theoretic metafeatures compute time: 0.05870485305786133\n",
      "simple metafeatures compute time: 157.3386549949646\n",
      "statistical metafeatures compute time: 613.0797030925751\n",
      "information theoretic metafeatures compute time: 1.2013719081878662\n",
      "simple metafeatures compute time: 0.04349803924560547\n",
      "statistical metafeatures compute time: 1.2210321426391602\n",
      "information theoretic metafeatures compute time: 2.831623077392578\n",
      "simple metafeatures compute time: 0.0029609203338623047\n",
      "statistical metafeatures compute time: 0.0657663345336914\n",
      "information theoretic metafeatures compute time: 0.08357405662536621\n",
      "simple metafeatures compute time: 0.023691892623901367\n",
      "statistical metafeatures compute time: 9.599669933319092\n",
      "information theoretic metafeatures compute time: 0.9215030670166016\n",
      "simple metafeatures compute time: 0.7691850662231445\n",
      "statistical metafeatures compute time: 332.9446620941162\n",
      "information theoretic metafeatures compute time: 0.5559051036834717\n",
      "simple metafeatures compute time: 0.002780914306640625\n",
      "statistical metafeatures compute time: 4.551310062408447\n",
      "information theoretic metafeatures compute time: 0.770456075668335\n",
      "simple metafeatures compute time: 0.10737776756286621\n",
      "statistical metafeatures compute time: 3.516571044921875\n",
      "information theoretic metafeatures compute time: 5.776058912277222\n",
      "simple metafeatures compute time: 0.036765098571777344\n",
      "statistical metafeatures compute time: 1.144394874572754\n",
      "information theoretic metafeatures compute time: 1.56561279296875\n",
      "simple metafeatures compute time: 0.17256498336791992\n"
     ]
    }
   ],
   "source": [
    "training_sets_metafeatures = {}\n",
    "for training_set in training_sets:\n",
    "    training_sets_metafeatures[training_set] = compute_metafeatures(training_set)"
   ]
  },
  {
   "cell_type": "code",
   "execution_count": 18,
   "metadata": {},
   "outputs": [
    {
     "data": {
      "text/plain": [
       "294"
      ]
     },
     "execution_count": 18,
     "metadata": {},
     "output_type": "execute_result"
    }
   ],
   "source": [
    "len(training_sets)\n"
   ]
  },
  {
   "cell_type": "code",
   "execution_count": null,
   "metadata": {
    "collapsed": true
   },
   "outputs": [],
   "source": []
  }
 ],
 "metadata": {
  "kernelspec": {
   "display_name": "Python 3",
   "language": "python",
   "name": "python3"
  },
  "language_info": {
   "codemirror_mode": {
    "name": "ipython",
    "version": 3
   },
   "file_extension": ".py",
   "mimetype": "text/x-python",
   "name": "python",
   "nbconvert_exporter": "python",
   "pygments_lexer": "ipython3",
   "version": "3.6.1"
  }
 },
 "nbformat": 4,
 "nbformat_minor": 1
}
