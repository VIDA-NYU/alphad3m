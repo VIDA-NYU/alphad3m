{
 "cells": [
  {
   "cell_type": "code",
   "execution_count": 1,
   "metadata": {},
   "outputs": [],
   "source": [
    "import d3m\n",
    "from d3m.container import Dataset\n",
    "import d3m.index\n",
    "import d3m.runtime\n",
    "from d3m.metadata.base import Context, ArgumentType\n",
    "from d3m.metadata.pipeline import Pipeline, PrimitiveStep\n",
    "from d3m.metadata.problem import PerformanceMetric, parse_problem_description\n",
    "import os\n",
    "import time\n",
    "import yaml"
   ]
  },
  {
   "cell_type": "code",
   "execution_count": 2,
   "metadata": {},
   "outputs": [
    {
     "name": "stdout",
     "output_type": "stream",
     "text": [
      "d3m_ta2_nyu/pipelines/kfold_tabular_split.yaml\r\n",
      "d3m_ta2_nyu/pipelines/scoring.yaml\r\n"
     ]
    }
   ],
   "source": [
    "!ls -1 d3m_ta2_nyu/pipelines/*.yaml"
   ]
  },
  {
   "cell_type": "code",
   "execution_count": 3,
   "metadata": {
    "scrolled": true
   },
   "outputs": [
    {
     "name": "stderr",
     "output_type": "stream",
     "text": [
      "Digest for pipeline 'f596cd77-25f8-4d4c-a350-bb30ab1e58f6' does not match a computed one. Provided digest: 45f2dfeae00b8168eb29a3bb54e9cfb86d7277832ff6f1c0a5113cbecce9084a. Computed digest: 786116cf587189b6af7787be5d633a171b38ca5ebd5dba617564c353fa0e5e5d.\n",
      "Digest for pipeline 'c8ed65df-aa68-4ee0-bbb5-c5f76a40bcf8' does not match a computed one. Provided digest: 72bf7c1d757a87cd2b6ec2609ac042cf09861015bbd3fef730c2156e1e647d67. Computed digest: df21a5626b602d90a6699939e889702f427f3a0c85a48655b18d9d6e37fff605.\n"
     ]
    }
   ],
   "source": [
    "with open('d3m_ta2_nyu/pipelines/scoring.yaml') as fp:\n",
    "    scoring_pipeline = Pipeline.from_json_structure(yaml.safe_load(fp))\n",
    "with open('d3m_ta2_nyu/pipelines/kfold_tabular_split.yaml') as fp:\n",
    "    data_preparation_pipeline = Pipeline.from_json_structure(yaml.safe_load(fp))"
   ]
  },
  {
   "cell_type": "code",
   "execution_count": 4,
   "metadata": {},
   "outputs": [],
   "source": [
    "dataset = Dataset.load('file:///d3m/data/seed_datasets_current/185_baseball/185_baseball_dataset/datasetDoc.json')"
   ]
  },
  {
   "cell_type": "code",
   "execution_count": 5,
   "metadata": {},
   "outputs": [
    {
     "data": {
      "text/plain": [
       "{'id': '185_baseball_problem',\n",
       " 'version': '2.0',\n",
       " 'name': 'baseball_problem',\n",
       " 'schema': 'https://metadata.datadrivendiscovery.org/schemas/v0/problem.json',\n",
       " 'problem': {'task_type': <TaskType.CLASSIFICATION: 1>,\n",
       "  'task_subtype': <TaskSubtype.MULTICLASS: 3>,\n",
       "  'performance_metrics': [{'metric': <PerformanceMetric.F1_MACRO: 6>,\n",
       "    'params': {}}]},\n",
       " 'outputs': {'predictions_file': 'predictions.csv'},\n",
       " 'description': \"**Author**: Jeffrey S. Simonoff  \\n**Source**: [AnalCatData](http://www.stern.nyu.edu/~jsimonof/AnalCatData) - 2003  \\n**Please cite**: Jeffrey S. Simonoff, Analyzing Categorical Data, Springer-Verlag, New York, 2003  \\n \\nDatabase of baseball players and play statistics, including 'Games_played', 'At_bats', 'Runs', 'Hits', 'Doubles', 'Triples', 'Home_runs', 'RBIs', 'Walks', 'Strikeouts', 'Batting_average', 'On_base_pct', 'Slugging_pct' and 'Fielding_ave' \\n\\nNotes:  \\n* Quotes, Single-Quotes and Backslashes were removed, Blanks replaced with Underscores\\n* Player is an identifier that should be ignored when modelling the data\",\n",
       " 'inputs': [{'dataset_id': '185_baseball_dataset',\n",
       "   'targets': [{'target_index': 0,\n",
       "     'resource_id': 'learningData',\n",
       "     'column_index': 18,\n",
       "     'column_name': 'Hall_of_Fame'}]}],\n",
       " 'digest': '869d560e3be422b00dd642c21458bc6df77e466f70de18e1a03390246faf94c9'}"
      ]
     },
     "execution_count": 5,
     "metadata": {},
     "output_type": "execute_result"
    }
   ],
   "source": [
    "problem = parse_problem_description('/d3m/data/seed_datasets_current/185_baseball/185_baseball_problem/problemDoc.json')\n",
    "problem"
   ]
  },
  {
   "cell_type": "code",
   "execution_count": 6,
   "metadata": {},
   "outputs": [
    {
     "data": {
      "text/plain": [
       "'outputs.0'"
      ]
     },
     "execution_count": 6,
     "metadata": {},
     "output_type": "execute_result"
    }
   ],
   "source": [
    "pipeline_description = Pipeline(context=Context.TESTING)\n",
    "pipeline_description.add_input(name='inputs')\n",
    "\n",
    "# 0 denormalize\n",
    "step0 = PrimitiveStep(primitive=d3m.index.get_primitive('d3m.primitives.data_transformation.denormalize.Common'))\n",
    "step0.add_argument(name='inputs', argument_type=ArgumentType.CONTAINER, data_reference='inputs.0')\n",
    "step0.add_output('produce')\n",
    "pipeline_description.add_step(step0)\n",
    "\n",
    "# 1 dataset_to_dataframe\n",
    "step1 = PrimitiveStep(primitive=d3m.index.get_primitive('d3m.primitives.data_transformation.dataset_to_dataframe.Common'))\n",
    "step1.add_argument(name='inputs', argument_type=ArgumentType.CONTAINER, data_reference='steps.0.produce')\n",
    "step1.add_output('produce')\n",
    "pipeline_description.add_step(step1)\n",
    "\n",
    "# 2 column_parser\n",
    "step2 = PrimitiveStep(primitive=d3m.index.get_primitive('d3m.primitives.data_transformation.column_parser.DataFrameCommon'))\n",
    "step2.add_argument(name='inputs', argument_type=ArgumentType.CONTAINER, data_reference='steps.1.produce')\n",
    "step2.add_output('produce')\n",
    "pipeline_description.add_step(step2)\n",
    "\n",
    "# 3 extract_columns_by_semantic_types Attribute\n",
    "step3 = PrimitiveStep(primitive=d3m.index.get_primitive('d3m.primitives.data_transformation.extract_columns_by_semantic_types.DataFrameCommon'))\n",
    "step3.add_argument(name='inputs', argument_type=ArgumentType.CONTAINER, data_reference='steps.2.produce')\n",
    "step3.add_output('produce')\n",
    "step3.add_hyperparameter(name='semantic_types', argument_type=ArgumentType.VALUE,\n",
    "                         data=['https://metadata.datadrivendiscovery.org/types/Attribute'])\n",
    "pipeline_description.add_step(step3)\n",
    "\n",
    "# 4 cast_to_type\n",
    "step4 = PrimitiveStep(primitive=d3m.index.get_primitive('d3m.primitives.data_transformation.cast_to_type.Common'))\n",
    "step4.add_argument(name='inputs', argument_type=ArgumentType.CONTAINER, data_reference='steps.3.produce')\n",
    "step4.add_output('produce')\n",
    "pipeline_description.add_step(step4)\n",
    "\n",
    "# 5 imputer\n",
    "step5 = PrimitiveStep(primitive=d3m.index.get_primitive('d3m.primitives.data_cleaning.imputer.SKlearn'))\n",
    "step5.add_argument(name='inputs', argument_type=ArgumentType.CONTAINER, data_reference='steps.4.produce')\n",
    "step5.add_output('produce')\n",
    "pipeline_description.add_step(step5)\n",
    "\n",
    "# 6 extract_columns_by_semantic_types Target\n",
    "step6 = PrimitiveStep(primitive=d3m.index.get_primitive('d3m.primitives.data_transformation.extract_columns_by_semantic_types.DataFrameCommon'))\n",
    "step6.add_argument(name='inputs', argument_type=ArgumentType.CONTAINER, data_reference='steps.2.produce')\n",
    "step6.add_output('produce')\n",
    "step6.add_hyperparameter(name='semantic_types', argument_type=ArgumentType.VALUE,\n",
    "                         data=['https://metadata.datadrivendiscovery.org/types/Target'])\n",
    "pipeline_description.add_step(step6)\n",
    "\n",
    "# 7 cast_to_type\n",
    "step7 = PrimitiveStep(primitive=d3m.index.get_primitive('d3m.primitives.data_transformation.cast_to_type.Common'))\n",
    "step7.add_argument(name='inputs', argument_type=ArgumentType.CONTAINER, data_reference='steps.6.produce')\n",
    "step7.add_output('produce')\n",
    "pipeline_description.add_step(step7)\n",
    "\n",
    "# 8 random_forest.SKlearn\n",
    "step8 = PrimitiveStep(primitive=d3m.index.get_primitive('d3m.primitives.classification.random_forest.SKlearn'))\n",
    "step8.add_argument(name='inputs', argument_type=ArgumentType.CONTAINER, data_reference='steps.5.produce')\n",
    "step8.add_argument(name='outputs', argument_type=ArgumentType.CONTAINER, data_reference='steps.7.produce')\n",
    "step8.add_output('produce')\n",
    "pipeline_description.add_step(step8)\n",
    "\n",
    "# 9 extract_columns_by_semantic_types Target, PrimaryKey\n",
    "step9 = PrimitiveStep(primitive=d3m.index.get_primitive('d3m.primitives.data_transformation.extract_columns_by_semantic_types.DataFrameCommon'))\n",
    "step9.add_argument(name='inputs', argument_type=ArgumentType.CONTAINER, data_reference='steps.2.produce')\n",
    "step9.add_output('produce')\n",
    "step9.add_hyperparameter(name='semantic_types', argument_type=ArgumentType.VALUE,\n",
    "                         data=['https://metadata.datadrivendiscovery.org/types/Target',\n",
    "                               'https://metadata.datadrivendiscovery.org/types/PrimaryKey'])\n",
    "pipeline_description.add_step(step9)\n",
    "\n",
    "# 10 construct_predictions\n",
    "step10 = PrimitiveStep(primitive=d3m.index.get_primitive('d3m.primitives.data_transformation.construct_predictions.DataFrameCommon'))\n",
    "step10.add_argument(name='inputs', argument_type=ArgumentType.CONTAINER, data_reference='steps.8.produce')\n",
    "step10.add_argument(name='reference', argument_type=ArgumentType.CONTAINER, data_reference='steps.9.produce')\n",
    "step10.add_output('produce')\n",
    "pipeline_description.add_step(step10)\n",
    "\n",
    "pipeline_description.add_output(name='output predictions', data_reference='steps.10.produce')"
   ]
  },
  {
   "cell_type": "code",
   "execution_count": 7,
   "metadata": {
    "scrolled": true
   },
   "outputs": [
    {
     "name": "stderr",
     "output_type": "stream",
     "text": [
      "Docker image environment variable not set: D3M_BASE_IMAGE_NAME\n",
      "Docker image environment variable not set: D3M_BASE_IMAGE_DIGEST\n",
      "Docker image environment variable not set: D3M_IMAGE_NAME\n",
      "Docker image environment variable not set: D3M_IMAGE_DIGEST\n",
      "Docker image environment variable not set: D3M_BASE_IMAGE_NAME\n",
      "Docker image environment variable not set: D3M_BASE_IMAGE_DIGEST\n",
      "Docker image environment variable not set: D3M_IMAGE_NAME\n",
      "Docker image environment variable not set: D3M_IMAGE_DIGEST\n",
      "Docker image environment variable not set: D3M_BASE_IMAGE_NAME\n",
      "Docker image environment variable not set: D3M_BASE_IMAGE_DIGEST\n",
      "Docker image environment variable not set: D3M_IMAGE_NAME\n",
      "Docker image environment variable not set: D3M_IMAGE_DIGEST\n",
      "Docker image environment variable not set: D3M_BASE_IMAGE_NAME\n",
      "Docker image environment variable not set: D3M_BASE_IMAGE_DIGEST\n",
      "Docker image environment variable not set: D3M_IMAGE_NAME\n",
      "Docker image environment variable not set: D3M_IMAGE_DIGEST\n",
      "Docker image environment variable not set: D3M_BASE_IMAGE_NAME\n",
      "Docker image environment variable not set: D3M_BASE_IMAGE_DIGEST\n",
      "Docker image environment variable not set: D3M_IMAGE_NAME\n",
      "Docker image environment variable not set: D3M_IMAGE_DIGEST\n",
      "Docker image environment variable not set: D3M_BASE_IMAGE_NAME\n",
      "Docker image environment variable not set: D3M_BASE_IMAGE_DIGEST\n",
      "Docker image environment variable not set: D3M_IMAGE_NAME\n",
      "Docker image environment variable not set: D3M_IMAGE_DIGEST\n",
      "Docker image environment variable not set: D3M_BASE_IMAGE_NAME\n",
      "Docker image environment variable not set: D3M_BASE_IMAGE_DIGEST\n",
      "Docker image environment variable not set: D3M_IMAGE_NAME\n",
      "Docker image environment variable not set: D3M_IMAGE_DIGEST\n",
      "Docker image environment variable not set: D3M_BASE_IMAGE_NAME\n",
      "Docker image environment variable not set: D3M_BASE_IMAGE_DIGEST\n",
      "Docker image environment variable not set: D3M_IMAGE_NAME\n",
      "Docker image environment variable not set: D3M_IMAGE_DIGEST\n",
      "Docker image environment variable not set: D3M_BASE_IMAGE_NAME\n",
      "Docker image environment variable not set: D3M_BASE_IMAGE_DIGEST\n",
      "Docker image environment variable not set: D3M_IMAGE_NAME\n",
      "Docker image environment variable not set: D3M_IMAGE_DIGEST\n"
     ]
    },
    {
     "data": {
      "text/plain": [
       "[(     metric       targets     value\n",
       "  0  F1_MACRO  Hall_of_Fame  0.564307,\n",
       "  <d3m.metadata.pipeline_run.pipeline_run.PipelineRun at 0x7fd1846d0eb8>,\n",
       "  <d3m.metadata.pipeline_run.pipeline_run.PipelineRun at 0x7fd184697eb8>),\n",
       " (     metric       targets     value\n",
       "  0  F1_MACRO  Hall_of_Fame  0.650228,\n",
       "  <d3m.metadata.pipeline_run.pipeline_run.PipelineRun at 0x7fd18447fe80>,\n",
       "  <d3m.metadata.pipeline_run.pipeline_run.PipelineRun at 0x7fd1846e0c88>),\n",
       " (     metric       targets     value\n",
       "  0  F1_MACRO  Hall_of_Fame  0.726984,\n",
       "  <d3m.metadata.pipeline_run.pipeline_run.PipelineRun at 0x7fd184370e48>,\n",
       "  <d3m.metadata.pipeline_run.pipeline_run.PipelineRun at 0x7fd1844319e8>),\n",
       " (     metric       targets     value\n",
       "  0  F1_MACRO  Hall_of_Fame  0.688293,\n",
       "  <d3m.metadata.pipeline_run.pipeline_run.PipelineRun at 0x7fd1845648d0>,\n",
       "  <d3m.metadata.pipeline_run.pipeline_run.PipelineRun at 0x7fd184564978>)]"
      ]
     },
     "execution_count": 7,
     "metadata": {},
     "output_type": "execute_result"
    }
   ],
   "source": [
    "result = d3m.runtime.evaluate(\n",
    "    pipeline=pipeline_description,\n",
    "    data_pipeline=data_preparation_pipeline,\n",
    "    scoring_pipeline=scoring_pipeline,\n",
    "    problem_description=problem,\n",
    "    inputs=[dataset],\n",
    "    data_params={'number_of_folds': '4'},\n",
    "    metrics=[{'metric': PerformanceMetric.F1_MACRO}],\n",
    "    volumes_dir=os.environ.get('D3M_PRIMITIVE_STATIC', None),\n",
    "    context=Context.TESTING,\n",
    "    random_seed=0,\n",
    ")\n",
    "result"
   ]
  },
  {
   "cell_type": "code",
   "execution_count": 8,
   "metadata": {},
   "outputs": [
    {
     "data": {
      "text/html": [
       "<div>\n",
       "<style scoped>\n",
       "    .dataframe tbody tr th:only-of-type {\n",
       "        vertical-align: middle;\n",
       "    }\n",
       "\n",
       "    .dataframe tbody tr th {\n",
       "        vertical-align: top;\n",
       "    }\n",
       "\n",
       "    .dataframe thead th {\n",
       "        text-align: right;\n",
       "    }\n",
       "</style>\n",
       "<table border=\"1\" class=\"dataframe\">\n",
       "  <thead>\n",
       "    <tr style=\"text-align: right;\">\n",
       "      <th></th>\n",
       "      <th>metric</th>\n",
       "      <th>targets</th>\n",
       "      <th>value</th>\n",
       "    </tr>\n",
       "  </thead>\n",
       "  <tbody>\n",
       "    <tr>\n",
       "      <th>0</th>\n",
       "      <td>F1_MACRO</td>\n",
       "      <td>Hall_of_Fame</td>\n",
       "      <td>0.564307</td>\n",
       "    </tr>\n",
       "  </tbody>\n",
       "</table>\n",
       "</div>"
      ],
      "text/plain": [
       "     metric       targets     value\n",
       "0  F1_MACRO  Hall_of_Fame  0.564307"
      ]
     },
     "execution_count": 8,
     "metadata": {},
     "output_type": "execute_result"
    }
   ],
   "source": [
    "result[0][0]"
   ]
  },
  {
   "cell_type": "code",
   "execution_count": 9,
   "metadata": {},
   "outputs": [
    {
     "data": {
      "text/html": [
       "<div>\n",
       "<style scoped>\n",
       "    .dataframe tbody tr th:only-of-type {\n",
       "        vertical-align: middle;\n",
       "    }\n",
       "\n",
       "    .dataframe tbody tr th {\n",
       "        vertical-align: top;\n",
       "    }\n",
       "\n",
       "    .dataframe thead th {\n",
       "        text-align: right;\n",
       "    }\n",
       "</style>\n",
       "<table border=\"1\" class=\"dataframe\">\n",
       "  <thead>\n",
       "    <tr style=\"text-align: right;\">\n",
       "      <th></th>\n",
       "      <th>metric</th>\n",
       "      <th>targets</th>\n",
       "      <th>value</th>\n",
       "      <th>fold</th>\n",
       "    </tr>\n",
       "  </thead>\n",
       "  <tbody>\n",
       "    <tr>\n",
       "      <th>0</th>\n",
       "      <td>F1_MACRO</td>\n",
       "      <td>Hall_of_Fame</td>\n",
       "      <td>0.564307</td>\n",
       "      <td>0</td>\n",
       "    </tr>\n",
       "    <tr>\n",
       "      <th>1</th>\n",
       "      <td>F1_MACRO</td>\n",
       "      <td>Hall_of_Fame</td>\n",
       "      <td>0.650228</td>\n",
       "      <td>1</td>\n",
       "    </tr>\n",
       "    <tr>\n",
       "      <th>2</th>\n",
       "      <td>F1_MACRO</td>\n",
       "      <td>Hall_of_Fame</td>\n",
       "      <td>0.726984</td>\n",
       "      <td>2</td>\n",
       "    </tr>\n",
       "    <tr>\n",
       "      <th>3</th>\n",
       "      <td>F1_MACRO</td>\n",
       "      <td>Hall_of_Fame</td>\n",
       "      <td>0.688293</td>\n",
       "      <td>3</td>\n",
       "    </tr>\n",
       "  </tbody>\n",
       "</table>\n",
       "</div>"
      ],
      "text/plain": [
       "     metric       targets     value  fold\n",
       "0  F1_MACRO  Hall_of_Fame  0.564307     0\n",
       "1  F1_MACRO  Hall_of_Fame  0.650228     1\n",
       "2  F1_MACRO  Hall_of_Fame  0.726984     2\n",
       "3  F1_MACRO  Hall_of_Fame  0.688293     3"
      ]
     },
     "execution_count": 9,
     "metadata": {},
     "output_type": "execute_result"
    }
   ],
   "source": [
    "d3m.runtime.combine_folds([r[0] for r in result])"
   ]
  },
  {
   "cell_type": "code",
   "execution_count": 10,
   "metadata": {},
   "outputs": [],
   "source": [
    "class CustomRuntime(d3m.runtime.Runtime):\n",
    "    def __init__(self, targets, **kwargs):\n",
    "        super(CustomRuntime, self).__init__(**kwargs)\n",
    "\n",
    "        self.__targets = targets\n",
    "\n",
    "    def _mark_columns(self, dataset):\n",
    "        dataset = dataset.copy()\n",
    "        \n",
    "        for res_id, col_idx in self.__targets:\n",
    "            dataset.metadata = dataset.metadata.add_semantic_type(\n",
    "                [res_id, d3m.metadata.base.ALL_ELEMENTS, col_idx],\n",
    "                'https://metadata.datadrivendiscovery.org/types/Target',\n",
    "            )\n",
    "            dataset.metadata = dataset.metadata.add_semantic_type(\n",
    "                [res_id, d3m.metadata.base.ALL_ELEMENTS, col_idx],\n",
    "                'https://metadata.datadrivendiscovery.org/types/TrueTarget',\n",
    "            )\n",
    "            dataset.metadata = dataset.metadata.remove_semantic_type(\n",
    "                [res_id, d3m.metadata.base.ALL_ELEMENTS, col_idx],\n",
    "                'https://metadata.datadrivendiscovery.org/types/Attribute',\n",
    "            )\n",
    "        # TODO: Set previous target as attribute?\n",
    "        \n",
    "        return dataset"
   ]
  },
  {
   "cell_type": "code",
   "execution_count": 11,
   "metadata": {},
   "outputs": [
    {
     "name": "stderr",
     "output_type": "stream",
     "text": [
      "Docker image environment variable not set: D3M_BASE_IMAGE_NAME\n",
      "Docker image environment variable not set: D3M_BASE_IMAGE_DIGEST\n",
      "Docker image environment variable not set: D3M_IMAGE_NAME\n",
      "Docker image environment variable not set: D3M_IMAGE_DIGEST\n"
     ]
    }
   ],
   "source": [
    "runtime = CustomRuntime(\n",
    "    targets=[('learningData', 18)],\n",
    "    pipeline=pipeline_description,\n",
    "    is_standard_pipeline=True,\n",
    "    volumes_dir=os.environ.get('D3M_PRIMITIVE_STATIC', None),\n",
    "    context=Context.TESTING,\n",
    ")"
   ]
  },
  {
   "cell_type": "code",
   "execution_count": 12,
   "metadata": {},
   "outputs": [
    {
     "data": {
      "text/plain": [
       "<d3m.runtime.Result at 0x7fd185fb5a20>"
      ]
     },
     "execution_count": 12,
     "metadata": {},
     "output_type": "execute_result"
    }
   ],
   "source": [
    "runtime.fit(\n",
    "    inputs=[dataset],\n",
    "    return_values=['outputs.0'],\n",
    ")"
   ]
  },
  {
   "cell_type": "code",
   "execution_count": null,
   "metadata": {},
   "outputs": [],
   "source": []
  }
 ],
 "metadata": {
  "kernelspec": {
   "display_name": "_d3m_docker",
   "language": "python",
   "name": "_d3m_docker"
  },
  "language_info": {
   "codemirror_mode": {
    "name": "ipython",
    "version": 3
   },
   "file_extension": ".py",
   "mimetype": "text/x-python",
   "name": "python",
   "nbconvert_exporter": "python",
   "pygments_lexer": "ipython3",
   "version": "3.6.3"
  }
 },
 "nbformat": 4,
 "nbformat_minor": 2
}
