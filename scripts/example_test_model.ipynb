{
 "cells": [
  {
   "cell_type": "code",
   "execution_count": 1,
   "metadata": {},
   "outputs": [],
   "source": [
    "from interface_d3m import test_model\n",
    "\n",
    "model_path = '/Users/rlopez/D3M/model.pkl'\n",
    "new_dataset_path = '/Users/rlopez/D3M/datasets/seed_datasets_current/185_baseball/TEST/dataset_TEST/'\n",
    "result_path = '/Users/rlopez/D3M/tmp/'\n",
    "\n",
    "dataframe = test_model(model_path, new_dataset_path, result_path)"
   ]
  },
  {
   "cell_type": "code",
   "execution_count": 2,
   "metadata": {},
   "outputs": [
    {
     "name": "stdout",
     "output_type": "stream",
     "text": [
      "     d3mIndex  Hall_of_Fame\n",
      "0           2             0\n",
      "1           9             0\n",
      "2          14             0\n",
      "3          15             0\n",
      "4          21             0\n",
      "5          24             2\n",
      "6          25             0\n",
      "7          27             0\n",
      "8          40             0\n",
      "9          44             0\n",
      "10         49             0\n",
      "11         62             0\n",
      "12         75             0\n",
      "13         99             0\n",
      "14        103             0\n",
      "15        107             0\n",
      "16        112             0\n",
      "17        117             0\n",
      "18        126             0\n",
      "19        127             0\n",
      "20        128             0\n",
      "21        131             2\n",
      "22        136             0\n",
      "23        138             0\n",
      "24        139             0\n",
      "25        148             0\n",
      "26        152             0\n",
      "27        162             0\n",
      "28        165             0\n",
      "29        171             0\n",
      "..        ...           ...\n",
      "237      1217             0\n",
      "238      1222             0\n",
      "239      1223             0\n",
      "240      1226             0\n",
      "241      1234             0\n",
      "242      1237             0\n",
      "243      1240             0\n",
      "244      1243             0\n",
      "245      1244             0\n",
      "246      1253             0\n",
      "247      1259             0\n",
      "248      1260             0\n",
      "249      1261             0\n",
      "250      1262             1\n",
      "251      1264             0\n",
      "252      1267             0\n",
      "253      1272             0\n",
      "254      1273             0\n",
      "255      1279             0\n",
      "256      1296             1\n",
      "257      1301             1\n",
      "258      1306             0\n",
      "259      1307             0\n",
      "260      1319             0\n",
      "261      1321             0\n",
      "262      1327             0\n",
      "263      1328             0\n",
      "264      1329             0\n",
      "265      1335             0\n",
      "266      1338             0\n",
      "\n",
      "[267 rows x 2 columns]\n"
     ]
    }
   ],
   "source": [
    "print(dataframe)"
   ]
  },
  {
   "cell_type": "code",
   "execution_count": null,
   "metadata": {},
   "outputs": [],
   "source": []
  }
 ],
 "metadata": {
  "kernelspec": {
   "display_name": "Python 3",
   "language": "python",
   "name": "python3"
  },
  "language_info": {
   "codemirror_mode": {
    "name": "ipython",
    "version": 3
   },
   "file_extension": ".py",
   "mimetype": "text/x-python",
   "name": "python",
   "nbconvert_exporter": "python",
   "pygments_lexer": "ipython3",
   "version": "3.7.2"
  }
 },
 "nbformat": 4,
 "nbformat_minor": 2
}
