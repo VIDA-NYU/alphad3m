{
 "cells": [
  {
   "cell_type": "markdown",
   "metadata": {},
   "source": [
    "# Collecting Performances"
   ]
  },
  {
   "cell_type": "code",
   "execution_count": 1,
   "metadata": {},
   "outputs": [],
   "source": [
    "import os\n",
    "import pandas as pd\n",
    "from os.path import join, exists"
   ]
  },
  {
   "cell_type": "code",
   "execution_count": 2,
   "metadata": {},
   "outputs": [],
   "source": [
    "FOLDER_RUNS = '../../evaluations/ablation_studies'\n",
    "\n",
    "def collect_all_performances():\n",
    "    all_results = {'dataset': [], 'method': [], 'score': []}\n",
    "    modes = ['ablation_full', 'ablation_no_autogrammar', 'ablation_no_prioritization', 'ablation_no_tuning']\n",
    "    mapping_modes ={'ablation_full': 'Full', 'ablation_no_autogrammar': 'No Automatic Grammar', 'ablation_no_prioritization': 'No Prioritization', 'ablation_no_tuning': 'No Tuning'}\n",
    "    for mode in modes:\n",
    "        folder_path = join(FOLDER_RUNS, mode)\n",
    "        datasets = sorted([x for x in os.listdir(folder_path) if os.path.isdir(join(folder_path, x))])\n",
    "        for dataset in datasets:\n",
    "            search_results_path = join(folder_path, dataset, 'output/temp/statistics_datasets.csv')\n",
    "            try:\n",
    "                with open(search_results_path) as fout:\n",
    "                    text = fout.read().rstrip()\n",
    "            except:\n",
    "                continue\n",
    "            score = text.split('\\t')[4]\n",
    "            score = 0.0 if score == 'None' else float(score)\n",
    "            all_results['dataset'].append(dataset)\n",
    "            all_results['method'].append(mapping_modes[mode])\n",
    "            all_results['score'].append(score)\n",
    "    \n",
    "    all_results = pd.DataFrame(all_results)\n",
    "    \n",
    "    return all_results"
   ]
  },
  {
   "cell_type": "code",
   "execution_count": 3,
   "metadata": {},
   "outputs": [
    {
     "data": {
      "text/html": [
       "<div>\n",
       "<style scoped>\n",
       "    .dataframe tbody tr th:only-of-type {\n",
       "        vertical-align: middle;\n",
       "    }\n",
       "\n",
       "    .dataframe tbody tr th {\n",
       "        vertical-align: top;\n",
       "    }\n",
       "\n",
       "    .dataframe thead th {\n",
       "        text-align: right;\n",
       "    }\n",
       "</style>\n",
       "<table border=\"1\" class=\"dataframe\">\n",
       "  <thead>\n",
       "    <tr style=\"text-align: right;\">\n",
       "      <th></th>\n",
       "      <th>dataset</th>\n",
       "      <th>method</th>\n",
       "      <th>score</th>\n",
       "    </tr>\n",
       "  </thead>\n",
       "  <tbody>\n",
       "    <tr>\n",
       "      <th>0</th>\n",
       "      <td>1491_one_hundred_plants_margin_MIN_METADATA</td>\n",
       "      <td>Full</td>\n",
       "      <td>8.206900e-01</td>\n",
       "    </tr>\n",
       "    <tr>\n",
       "      <th>1</th>\n",
       "      <td>1567_poker_hand_MIN_METADATA</td>\n",
       "      <td>Full</td>\n",
       "      <td>2.732270e-01</td>\n",
       "    </tr>\n",
       "    <tr>\n",
       "      <th>2</th>\n",
       "      <td>185_baseball_MIN_METADATA</td>\n",
       "      <td>Full</td>\n",
       "      <td>6.372570e-01</td>\n",
       "    </tr>\n",
       "    <tr>\n",
       "      <th>3</th>\n",
       "      <td>196_autoMpg_MIN_METADATA</td>\n",
       "      <td>Full</td>\n",
       "      <td>6.529278e+00</td>\n",
       "    </tr>\n",
       "    <tr>\n",
       "      <th>4</th>\n",
       "      <td>26_radon_seed_MIN_METADATA</td>\n",
       "      <td>Full</td>\n",
       "      <td>2.197600e-02</td>\n",
       "    </tr>\n",
       "    <tr>\n",
       "      <th>...</th>\n",
       "      <td>...</td>\n",
       "      <td>...</td>\n",
       "      <td>...</td>\n",
       "    </tr>\n",
       "    <tr>\n",
       "      <th>107</th>\n",
       "      <td>kaggle_music_hackathon_MIN_METADATA</td>\n",
       "      <td>No Tuning</td>\n",
       "      <td>2.187707e+01</td>\n",
       "    </tr>\n",
       "    <tr>\n",
       "      <th>108</th>\n",
       "      <td>loan_status_MIN_METADATA</td>\n",
       "      <td>No Tuning</td>\n",
       "      <td>4.619220e-01</td>\n",
       "    </tr>\n",
       "    <tr>\n",
       "      <th>109</th>\n",
       "      <td>uu2_gp_hyperparameter_estimation_MIN_METADATA</td>\n",
       "      <td>No Tuning</td>\n",
       "      <td>8.885750e-01</td>\n",
       "    </tr>\n",
       "    <tr>\n",
       "      <th>110</th>\n",
       "      <td>uu3_world_development_indicators_MIN_METADATA</td>\n",
       "      <td>No Tuning</td>\n",
       "      <td>7.302015e+11</td>\n",
       "    </tr>\n",
       "    <tr>\n",
       "      <th>111</th>\n",
       "      <td>uu3_world_development_indicators_raw</td>\n",
       "      <td>No Tuning</td>\n",
       "      <td>9.362092e+11</td>\n",
       "    </tr>\n",
       "  </tbody>\n",
       "</table>\n",
       "<p>112 rows × 3 columns</p>\n",
       "</div>"
      ],
      "text/plain": [
       "                                           dataset     method         score\n",
       "0      1491_one_hundred_plants_margin_MIN_METADATA       Full  8.206900e-01\n",
       "1                     1567_poker_hand_MIN_METADATA       Full  2.732270e-01\n",
       "2                        185_baseball_MIN_METADATA       Full  6.372570e-01\n",
       "3                         196_autoMpg_MIN_METADATA       Full  6.529278e+00\n",
       "4                       26_radon_seed_MIN_METADATA       Full  2.197600e-02\n",
       "..                                             ...        ...           ...\n",
       "107            kaggle_music_hackathon_MIN_METADATA  No Tuning  2.187707e+01\n",
       "108                       loan_status_MIN_METADATA  No Tuning  4.619220e-01\n",
       "109  uu2_gp_hyperparameter_estimation_MIN_METADATA  No Tuning  8.885750e-01\n",
       "110  uu3_world_development_indicators_MIN_METADATA  No Tuning  7.302015e+11\n",
       "111           uu3_world_development_indicators_raw  No Tuning  9.362092e+11\n",
       "\n",
       "[112 rows x 3 columns]"
      ]
     },
     "execution_count": 3,
     "metadata": {},
     "output_type": "execute_result"
    }
   ],
   "source": [
    "all_performances = collect_all_performances()\n",
    "all_performances"
   ]
  },
  {
   "cell_type": "code",
   "execution_count": 4,
   "metadata": {},
   "outputs": [],
   "source": [
    "all_performances.to_csv('./paper_automlconference/resource/ablationstudy_results.csv', index=False)"
   ]
  }
 ],
 "metadata": {
  "kernelspec": {
   "display_name": "Python 3 (ipykernel)",
   "language": "python",
   "name": "python3"
  },
  "language_info": {
   "codemirror_mode": {
    "name": "ipython",
    "version": 3
   },
   "file_extension": ".py",
   "mimetype": "text/x-python",
   "name": "python",
   "nbconvert_exporter": "python",
   "pygments_lexer": "ipython3",
   "version": "3.8.12"
  }
 },
 "nbformat": 4,
 "nbformat_minor": 2
}
