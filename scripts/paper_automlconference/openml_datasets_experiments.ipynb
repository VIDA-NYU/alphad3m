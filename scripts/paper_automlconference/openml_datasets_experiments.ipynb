{
 "cells": [
  {
   "cell_type": "markdown",
   "metadata": {},
   "source": [
    "## Analysis of OpenML Experiments"
   ]
  },
  {
   "cell_type": "code",
   "execution_count": 1,
   "metadata": {},
   "outputs": [],
   "source": [
    "import pandas as pd\n",
    "import altair as alt"
   ]
  },
  {
   "cell_type": "code",
   "execution_count": 2,
   "metadata": {
    "scrolled": true
   },
   "outputs": [
    {
     "data": {
      "text/html": [
       "<div>\n",
       "<style scoped>\n",
       "    .dataframe tbody tr th:only-of-type {\n",
       "        vertical-align: middle;\n",
       "    }\n",
       "\n",
       "    .dataframe tbody tr th {\n",
       "        vertical-align: top;\n",
       "    }\n",
       "\n",
       "    .dataframe thead th {\n",
       "        text-align: right;\n",
       "    }\n",
       "</style>\n",
       "<table border=\"1\" class=\"dataframe\">\n",
       "  <thead>\n",
       "    <tr style=\"text-align: right;\">\n",
       "      <th></th>\n",
       "      <th>Dataset</th>\n",
       "      <th>Type</th>\n",
       "      <th>Auto-Sklearn</th>\n",
       "      <th>AutoGluon</th>\n",
       "      <th>AutoWEKA</th>\n",
       "      <th>H2O</th>\n",
       "      <th>TPOT</th>\n",
       "      <th>AlphaD3M</th>\n",
       "    </tr>\n",
       "  </thead>\n",
       "  <tbody>\n",
       "    <tr>\n",
       "      <th>0</th>\n",
       "      <td>task_10101</td>\n",
       "      <td>binary</td>\n",
       "      <td>0.761</td>\n",
       "      <td>0.782</td>\n",
       "      <td>0.755</td>\n",
       "      <td>0.747</td>\n",
       "      <td>0.779</td>\n",
       "      <td>0.790</td>\n",
       "    </tr>\n",
       "    <tr>\n",
       "      <th>1</th>\n",
       "      <td>task_12</td>\n",
       "      <td>multiclass</td>\n",
       "      <td>0.976</td>\n",
       "      <td>0.981</td>\n",
       "      <td>0.977</td>\n",
       "      <td>0.980</td>\n",
       "      <td>0.970</td>\n",
       "      <td>0.976</td>\n",
       "    </tr>\n",
       "    <tr>\n",
       "      <th>2</th>\n",
       "      <td>task_146195</td>\n",
       "      <td>multiclass</td>\n",
       "      <td>0.838</td>\n",
       "      <td>0.869</td>\n",
       "      <td>0.704</td>\n",
       "      <td>0.865</td>\n",
       "      <td>0.860</td>\n",
       "      <td>0.777</td>\n",
       "    </tr>\n",
       "    <tr>\n",
       "      <th>3</th>\n",
       "      <td>task_146212</td>\n",
       "      <td>multiclass</td>\n",
       "      <td>1.000</td>\n",
       "      <td>1.000</td>\n",
       "      <td>0.999</td>\n",
       "      <td>1.000</td>\n",
       "      <td>1.000</td>\n",
       "      <td>1.000</td>\n",
       "    </tr>\n",
       "    <tr>\n",
       "      <th>4</th>\n",
       "      <td>task_146606</td>\n",
       "      <td>binary</td>\n",
       "      <td>0.728</td>\n",
       "      <td>0.733</td>\n",
       "      <td>0.607</td>\n",
       "      <td>0.721</td>\n",
       "      <td>0.723</td>\n",
       "      <td>0.717</td>\n",
       "    </tr>\n",
       "  </tbody>\n",
       "</table>\n",
       "</div>"
      ],
      "text/plain": [
       "       Dataset        Type  Auto-Sklearn  AutoGluon  AutoWEKA    H2O   TPOT  \\\n",
       "0   task_10101      binary         0.761      0.782     0.755  0.747  0.779   \n",
       "1      task_12  multiclass         0.976      0.981     0.977  0.980  0.970   \n",
       "2  task_146195  multiclass         0.838      0.869     0.704  0.865  0.860   \n",
       "3  task_146212  multiclass         1.000      1.000     0.999  1.000  1.000   \n",
       "4  task_146606      binary         0.728      0.733     0.607  0.721  0.723   \n",
       "\n",
       "   AlphaD3M  \n",
       "0     0.790  \n",
       "1     0.976  \n",
       "2     0.777  \n",
       "3     1.000  \n",
       "4     0.717  "
      ]
     },
     "execution_count": 2,
     "metadata": {},
     "output_type": "execute_result"
    }
   ],
   "source": [
    "performances = pd.read_csv('resource/openml_results.csv')\n",
    "performances.head()"
   ]
  },
  {
   "cell_type": "code",
   "execution_count": 3,
   "metadata": {},
   "outputs": [
    {
     "data": {
      "text/html": [
       "<div>\n",
       "<style scoped>\n",
       "    .dataframe tbody tr th:only-of-type {\n",
       "        vertical-align: middle;\n",
       "    }\n",
       "\n",
       "    .dataframe tbody tr th {\n",
       "        vertical-align: top;\n",
       "    }\n",
       "\n",
       "    .dataframe thead th {\n",
       "        text-align: right;\n",
       "    }\n",
       "</style>\n",
       "<table border=\"1\" class=\"dataframe\">\n",
       "  <thead>\n",
       "    <tr style=\"text-align: right;\">\n",
       "      <th></th>\n",
       "      <th>Dataset</th>\n",
       "      <th>Type</th>\n",
       "      <th>AutoML</th>\n",
       "      <th>Performance</th>\n",
       "    </tr>\n",
       "  </thead>\n",
       "  <tbody>\n",
       "    <tr>\n",
       "      <th>0</th>\n",
       "      <td>task_10101</td>\n",
       "      <td>binary</td>\n",
       "      <td>Auto-Sklearn</td>\n",
       "      <td>0.761</td>\n",
       "    </tr>\n",
       "    <tr>\n",
       "      <th>1</th>\n",
       "      <td>task_12</td>\n",
       "      <td>multiclass</td>\n",
       "      <td>Auto-Sklearn</td>\n",
       "      <td>0.976</td>\n",
       "    </tr>\n",
       "    <tr>\n",
       "      <th>2</th>\n",
       "      <td>task_146195</td>\n",
       "      <td>multiclass</td>\n",
       "      <td>Auto-Sklearn</td>\n",
       "      <td>0.838</td>\n",
       "    </tr>\n",
       "    <tr>\n",
       "      <th>3</th>\n",
       "      <td>task_146212</td>\n",
       "      <td>multiclass</td>\n",
       "      <td>Auto-Sklearn</td>\n",
       "      <td>1.000</td>\n",
       "    </tr>\n",
       "    <tr>\n",
       "      <th>4</th>\n",
       "      <td>task_146606</td>\n",
       "      <td>binary</td>\n",
       "      <td>Auto-Sklearn</td>\n",
       "      <td>0.728</td>\n",
       "    </tr>\n",
       "  </tbody>\n",
       "</table>\n",
       "</div>"
      ],
      "text/plain": [
       "       Dataset        Type        AutoML  Performance\n",
       "0   task_10101      binary  Auto-Sklearn        0.761\n",
       "1      task_12  multiclass  Auto-Sklearn        0.976\n",
       "2  task_146195  multiclass  Auto-Sklearn        0.838\n",
       "3  task_146212  multiclass  Auto-Sklearn        1.000\n",
       "4  task_146606      binary  Auto-Sklearn        0.728"
      ]
     },
     "execution_count": 3,
     "metadata": {},
     "output_type": "execute_result"
    }
   ],
   "source": [
    "# Change the dataframe to the format of altair lib\n",
    "performances = pd.melt(performances, id_vars=['Dataset', 'Type'], var_name='AutoML', value_name='Performance')\n",
    "performances.head()"
   ]
  },
  {
   "cell_type": "code",
   "execution_count": 4,
   "metadata": {},
   "outputs": [],
   "source": [
    "def plot_performances(source):\n",
    "    domain = ['AutoGluon', 'AutoWEKA', 'Auto-Sklearn', 'H2O', 'TPOT', 'AlphaD3M']\n",
    "    color_range = ['#f7b97c', '#f58517', '#e7ba52', '#e45857', '#d67196', \"#396cb0\"]\n",
    "    #color_range = ['#e7cb94', '#e7ba52', '#bd9e3a', '#8c6d31', '#feff99', \"#396cb0\"]\n",
    "    #color_range = ['#f58517', '#e7ba52', '#d67196', '#e45857', '#feff99', \"#396cb0\"]\n",
    "    \n",
    "    return alt.Chart(source, title=\"\").mark_point(filled=True, size=32).encode(\n",
    "        alt.X(\n",
    "            'Performance:Q',\n",
    "            title=\"Accuracy\",\n",
    "            scale=alt.Scale(zero=False),\n",
    "            axis=alt.Axis(grid=False)\n",
    "        ),\n",
    "        alt.Y(\n",
    "            'Dataset:N',\n",
    "            title=\"\",\n",
    "            sort='-x',\n",
    "            axis=alt.Axis(grid=True)\n",
    "        ),\n",
    "        #color=alt.Color('AutoML:N', legend=alt.Legend(title=\"AutoML\")),\n",
    "        color=alt.Color('AutoML:N', scale=alt.Scale(domain=domain, range=color_range), legend=alt.Legend(title=\"AutoML\")),\n",
    "        row=alt.Row(\n",
    "            'Type:N',\n",
    "            title=\"\",\n",
    "            sort=alt.EncodingSortField(field='yield', op='sum', order='descending'),\n",
    "        )\n",
    "    ).properties(\n",
    "        height=alt.Step(12),\n",
    "        width=250\n",
    "    )\n",
    "# .configure_view(stroke=\"transparent\")"
   ]
  },
  {
   "cell_type": "code",
   "execution_count": 5,
   "metadata": {
    "scrolled": false
   },
   "outputs": [],
   "source": [
    "df_binary = performances[(performances['Type']=='binary')]\n",
    "chart1 = plot_performances(df_binary)"
   ]
  },
  {
   "cell_type": "code",
   "execution_count": 6,
   "metadata": {},
   "outputs": [],
   "source": [
    "df_multiclass = performances[(performances['Type']=='multiclass')]\n",
    "chart2 = plot_performances(df_multiclass)"
   ]
  },
  {
   "cell_type": "code",
   "execution_count": 7,
   "metadata": {},
   "outputs": [
    {
     "data": {
      "text/html": [
       "\n",
       "<div id=\"altair-viz-540987eedb8f43c296c6a62d27d29cc1\"></div>\n",
       "<script type=\"text/javascript\">\n",
       "  (function(spec, embedOpt){\n",
       "    let outputDiv = document.currentScript.previousElementSibling;\n",
       "    if (outputDiv.id !== \"altair-viz-540987eedb8f43c296c6a62d27d29cc1\") {\n",
       "      outputDiv = document.getElementById(\"altair-viz-540987eedb8f43c296c6a62d27d29cc1\");\n",
       "    }\n",
       "    const paths = {\n",
       "      \"vega\": \"https://cdn.jsdelivr.net/npm//vega@5?noext\",\n",
       "      \"vega-lib\": \"https://cdn.jsdelivr.net/npm//vega-lib?noext\",\n",
       "      \"vega-lite\": \"https://cdn.jsdelivr.net/npm//vega-lite@4.8.1?noext\",\n",
       "      \"vega-embed\": \"https://cdn.jsdelivr.net/npm//vega-embed@6?noext\",\n",
       "    };\n",
       "\n",
       "    function loadScript(lib) {\n",
       "      return new Promise(function(resolve, reject) {\n",
       "        var s = document.createElement('script');\n",
       "        s.src = paths[lib];\n",
       "        s.async = true;\n",
       "        s.onload = () => resolve(paths[lib]);\n",
       "        s.onerror = () => reject(`Error loading script: ${paths[lib]}`);\n",
       "        document.getElementsByTagName(\"head\")[0].appendChild(s);\n",
       "      });\n",
       "    }\n",
       "\n",
       "    function showError(err) {\n",
       "      outputDiv.innerHTML = `<div class=\"error\" style=\"color:red;\">${err}</div>`;\n",
       "      throw err;\n",
       "    }\n",
       "\n",
       "    function displayChart(vegaEmbed) {\n",
       "      vegaEmbed(outputDiv, spec, embedOpt)\n",
       "        .catch(err => showError(`Javascript Error: ${err.message}<br>This usually means there's a typo in your chart specification. See the javascript console for the full traceback.`));\n",
       "    }\n",
       "\n",
       "    if(typeof define === \"function\" && define.amd) {\n",
       "      requirejs.config({paths});\n",
       "      require([\"vega-embed\"], displayChart, err => showError(`Error loading script: ${err.message}`));\n",
       "    } else if (typeof vegaEmbed === \"function\") {\n",
       "      displayChart(vegaEmbed);\n",
       "    } else {\n",
       "      loadScript(\"vega\")\n",
       "        .then(() => loadScript(\"vega-lite\"))\n",
       "        .then(() => loadScript(\"vega-embed\"))\n",
       "        .catch(showError)\n",
       "        .then(() => displayChart(vegaEmbed));\n",
       "    }\n",
       "  })({\"config\": {\"view\": {\"continuousWidth\": 400, \"continuousHeight\": 300, \"stroke\": \"transparent\"}}, \"hconcat\": [{\"data\": {\"name\": \"data-2e22d993023e56cf83fee8fdafca5a7e\"}, \"mark\": {\"type\": \"point\", \"filled\": true, \"size\": 32}, \"encoding\": {\"color\": {\"type\": \"nominal\", \"field\": \"AutoML\", \"legend\": {\"title\": \"AutoML\"}, \"scale\": {\"domain\": [\"AutoGluon\", \"AutoWEKA\", \"Auto-Sklearn\", \"H2O\", \"TPOT\", \"AlphaD3M\"], \"range\": [\"#f7b97c\", \"#f58517\", \"#e7ba52\", \"#e45857\", \"#d67196\", \"#396cb0\"]}}, \"row\": {\"type\": \"nominal\", \"field\": \"Type\", \"sort\": {\"field\": \"yield\", \"op\": \"sum\", \"order\": \"descending\"}, \"title\": \"\"}, \"x\": {\"type\": \"quantitative\", \"axis\": {\"grid\": false}, \"field\": \"Performance\", \"scale\": {\"zero\": false}, \"title\": \"Accuracy\"}, \"y\": {\"type\": \"nominal\", \"axis\": {\"grid\": true}, \"field\": \"Dataset\", \"sort\": \"-x\", \"title\": \"\"}}, \"height\": {\"step\": 12}, \"title\": \"\", \"width\": 250}, {\"data\": {\"name\": \"data-30d799e3c160c92db5f5e8cb12d09205\"}, \"mark\": {\"type\": \"point\", \"filled\": true, \"size\": 32}, \"encoding\": {\"color\": {\"type\": \"nominal\", \"field\": \"AutoML\", \"legend\": {\"title\": \"AutoML\"}, \"scale\": {\"domain\": [\"AutoGluon\", \"AutoWEKA\", \"Auto-Sklearn\", \"H2O\", \"TPOT\", \"AlphaD3M\"], \"range\": [\"#f7b97c\", \"#f58517\", \"#e7ba52\", \"#e45857\", \"#d67196\", \"#396cb0\"]}}, \"row\": {\"type\": \"nominal\", \"field\": \"Type\", \"sort\": {\"field\": \"yield\", \"op\": \"sum\", \"order\": \"descending\"}, \"title\": \"\"}, \"x\": {\"type\": \"quantitative\", \"axis\": {\"grid\": false}, \"field\": \"Performance\", \"scale\": {\"zero\": false}, \"title\": \"Accuracy\"}, \"y\": {\"type\": \"nominal\", \"axis\": {\"grid\": true}, \"field\": \"Dataset\", \"sort\": \"-x\", \"title\": \"\"}}, \"height\": {\"step\": 12}, \"title\": \"\", \"width\": 250}], \"$schema\": \"https://vega.github.io/schema/vega-lite/v4.8.1.json\", \"datasets\": {\"data-2e22d993023e56cf83fee8fdafca5a7e\": [{\"Dataset\": \"task_10101\", \"Type\": \"binary\", \"AutoML\": \"Auto-Sklearn\", \"Performance\": 0.7609999999999999}, {\"Dataset\": \"task_146606\", \"Type\": \"binary\", \"AutoML\": \"Auto-Sklearn\", \"Performance\": 0.728}, {\"Dataset\": \"task_146818\", \"Type\": \"binary\", \"AutoML\": \"Auto-Sklearn\", \"Performance\": 0.0}, {\"Dataset\": \"task_14965\", \"Type\": \"binary\", \"AutoML\": \"Auto-Sklearn\", \"Performance\": 0.905}, {\"Dataset\": \"task_167120\", \"Type\": \"binary\", \"AutoML\": \"Auto-Sklearn\", \"Performance\": 0.519}, {\"Dataset\": \"task_168335\", \"Type\": \"binary\", \"AutoML\": \"Auto-Sklearn\", \"Performance\": 0.943}, {\"Dataset\": \"task_168337\", \"Type\": \"binary\", \"AutoML\": \"Auto-Sklearn\", \"Performance\": 0.816}, {\"Dataset\": \"task_168338\", \"Type\": \"binary\", \"AutoML\": \"Auto-Sklearn\", \"Performance\": 0.0}, {\"Dataset\": \"task_168868\", \"Type\": \"binary\", \"AutoML\": \"Auto-Sklearn\", \"Performance\": 0.9940000000000001}, {\"Dataset\": \"task_168908\", \"Type\": \"binary\", \"AutoML\": \"Auto-Sklearn\", \"Performance\": 0.75}, {\"Dataset\": \"task_168911\", \"Type\": \"binary\", \"AutoML\": \"Auto-Sklearn\", \"Performance\": 0.8240000000000001}, {\"Dataset\": \"task_168912\", \"Type\": \"binary\", \"AutoML\": \"Auto-Sklearn\", \"Performance\": 0.95}, {\"Dataset\": \"task_189354\", \"Type\": \"binary\", \"AutoML\": \"Auto-Sklearn\", \"Performance\": 0.664}, {\"Dataset\": \"task_189356\", \"Type\": \"binary\", \"AutoML\": \"Auto-Sklearn\", \"Performance\": 0.684}, {\"Dataset\": \"task_3\", \"Type\": \"binary\", \"AutoML\": \"Auto-Sklearn\", \"Performance\": 0.996}, {\"Dataset\": \"task_31\", \"Type\": \"binary\", \"AutoML\": \"Auto-Sklearn\", \"Performance\": 0.0}, {\"Dataset\": \"task_34539\", \"Type\": \"binary\", \"AutoML\": \"Auto-Sklearn\", \"Performance\": 0.95}, {\"Dataset\": \"task_3917\", \"Type\": \"binary\", \"AutoML\": \"Auto-Sklearn\", \"Performance\": 0.845}, {\"Dataset\": \"task_3945\", \"Type\": \"binary\", \"AutoML\": \"Auto-Sklearn\", \"Performance\": 0.982}, {\"Dataset\": \"task_7592\", \"Type\": \"binary\", \"AutoML\": \"Auto-Sklearn\", \"Performance\": 0.86}, {\"Dataset\": \"task_9952\", \"Type\": \"binary\", \"AutoML\": \"Auto-Sklearn\", \"Performance\": 0.904}, {\"Dataset\": \"task_9977\", \"Type\": \"binary\", \"AutoML\": \"Auto-Sklearn\", \"Performance\": 0.987}, {\"Dataset\": \"task_10101\", \"Type\": \"binary\", \"AutoML\": \"AutoGluon\", \"Performance\": 0.782}, {\"Dataset\": \"task_146606\", \"Type\": \"binary\", \"AutoML\": \"AutoGluon\", \"Performance\": 0.733}, {\"Dataset\": \"task_146818\", \"Type\": \"binary\", \"AutoML\": \"AutoGluon\", \"Performance\": 0.867}, {\"Dataset\": \"task_14965\", \"Type\": \"binary\", \"AutoML\": \"AutoGluon\", \"Performance\": 0.9109999999999999}, {\"Dataset\": \"task_167120\", \"Type\": \"binary\", \"AutoML\": \"AutoGluon\", \"Performance\": 0.511}, {\"Dataset\": \"task_168335\", \"Type\": \"binary\", \"AutoML\": \"AutoGluon\", \"Performance\": 0.9490000000000001}, {\"Dataset\": \"task_168337\", \"Type\": \"binary\", \"AutoML\": \"AutoGluon\", \"Performance\": 0.852}, {\"Dataset\": \"task_168338\", \"Type\": \"binary\", \"AutoML\": \"AutoGluon\", \"Performance\": 0.998}, {\"Dataset\": \"task_168868\", \"Type\": \"binary\", \"AutoML\": \"AutoGluon\", \"Performance\": 0.995}, {\"Dataset\": \"task_168908\", \"Type\": \"binary\", \"AutoML\": \"AutoGluon\", \"Performance\": 0.745}, {\"Dataset\": \"task_168911\", \"Type\": \"binary\", \"AutoML\": \"AutoGluon\", \"Performance\": 0.8270000000000001}, {\"Dataset\": \"task_168912\", \"Type\": \"binary\", \"AutoML\": \"AutoGluon\", \"Performance\": 0.958}, {\"Dataset\": \"task_189354\", \"Type\": \"binary\", \"AutoML\": \"AutoGluon\", \"Performance\": 0.6579999999999999}, {\"Dataset\": \"task_189356\", \"Type\": \"binary\", \"AutoML\": \"AutoGluon\", \"Performance\": 0.69}, {\"Dataset\": \"task_3\", \"Type\": \"binary\", \"AutoML\": \"AutoGluon\", \"Performance\": 0.997}, {\"Dataset\": \"task_31\", \"Type\": \"binary\", \"AutoML\": \"AutoGluon\", \"Performance\": 0.762}, {\"Dataset\": \"task_34539\", \"Type\": \"binary\", \"AutoML\": \"AutoGluon\", \"Performance\": 0.953}, {\"Dataset\": \"task_3917\", \"Type\": \"binary\", \"AutoML\": \"AutoGluon\", \"Performance\": 0.868}, {\"Dataset\": \"task_3945\", \"Type\": \"binary\", \"AutoML\": \"AutoGluon\", \"Performance\": 0.982}, {\"Dataset\": \"task_7592\", \"Type\": \"binary\", \"AutoML\": \"AutoGluon\", \"Performance\": 0.875}, {\"Dataset\": \"task_9952\", \"Type\": \"binary\", \"AutoML\": \"AutoGluon\", \"Performance\": 0.92}, {\"Dataset\": \"task_9977\", \"Type\": \"binary\", \"AutoML\": \"AutoGluon\", \"Performance\": 0.981}, {\"Dataset\": \"task_10101\", \"Type\": \"binary\", \"AutoML\": \"AutoWEKA\", \"Performance\": 0.755}, {\"Dataset\": \"task_146606\", \"Type\": \"binary\", \"AutoML\": \"AutoWEKA\", \"Performance\": 0.607}, {\"Dataset\": \"task_146818\", \"Type\": \"binary\", \"AutoML\": \"AutoWEKA\", \"Performance\": 0.865}, {\"Dataset\": \"task_14965\", \"Type\": \"binary\", \"AutoML\": \"AutoWEKA\", \"Performance\": 0.898}, {\"Dataset\": \"task_167120\", \"Type\": \"binary\", \"AutoML\": \"AutoWEKA\", \"Performance\": 0.52}, {\"Dataset\": \"task_168335\", \"Type\": \"binary\", \"AutoML\": \"AutoWEKA\", \"Performance\": 0.91}, {\"Dataset\": \"task_168337\", \"Type\": \"binary\", \"AutoML\": \"AutoWEKA\", \"Performance\": 0.0}, {\"Dataset\": \"task_168338\", \"Type\": \"binary\", \"AutoML\": \"AutoWEKA\", \"Performance\": 0.0}, {\"Dataset\": \"task_168868\", \"Type\": \"binary\", \"AutoML\": \"AutoWEKA\", \"Performance\": 0.99}, {\"Dataset\": \"task_168908\", \"Type\": \"binary\", \"AutoML\": \"AutoWEKA\", \"Performance\": 0.71}, {\"Dataset\": \"task_168911\", \"Type\": \"binary\", \"AutoML\": \"AutoWEKA\", \"Performance\": 0.8109999999999999}, {\"Dataset\": \"task_168912\", \"Type\": \"binary\", \"AutoML\": \"AutoWEKA\", \"Performance\": 0.9390000000000001}, {\"Dataset\": \"task_189354\", \"Type\": \"binary\", \"AutoML\": \"AutoWEKA\", \"Performance\": 0.0}, {\"Dataset\": \"task_189356\", \"Type\": \"binary\", \"AutoML\": \"AutoWEKA\", \"Performance\": 0.626}, {\"Dataset\": \"task_3\", \"Type\": \"binary\", \"AutoML\": \"AutoWEKA\", \"Performance\": 0.961}, {\"Dataset\": \"task_31\", \"Type\": \"binary\", \"AutoML\": \"AutoWEKA\", \"Performance\": 0.7240000000000001}, {\"Dataset\": \"task_34539\", \"Type\": \"binary\", \"AutoML\": \"AutoWEKA\", \"Performance\": 0.9470000000000001}, {\"Dataset\": \"task_3917\", \"Type\": \"binary\", \"AutoML\": \"AutoWEKA\", \"Performance\": 0.8590000000000001}, {\"Dataset\": \"task_3945\", \"Type\": \"binary\", \"AutoML\": \"AutoWEKA\", \"Performance\": 0.98}, {\"Dataset\": \"task_7592\", \"Type\": \"binary\", \"AutoML\": \"AutoWEKA\", \"Performance\": 0.862}, {\"Dataset\": \"task_9952\", \"Type\": \"binary\", \"AutoML\": \"AutoWEKA\", \"Performance\": 0.905}, {\"Dataset\": \"task_9977\", \"Type\": \"binary\", \"AutoML\": \"AutoWEKA\", \"Performance\": 0.981}, {\"Dataset\": \"task_10101\", \"Type\": \"binary\", \"AutoML\": \"H2O\", \"Performance\": 0.747}, {\"Dataset\": \"task_146606\", \"Type\": \"binary\", \"AutoML\": \"H2O\", \"Performance\": 0.721}, {\"Dataset\": \"task_146818\", \"Type\": \"binary\", \"AutoML\": \"H2O\", \"Performance\": 0.8740000000000001}, {\"Dataset\": \"task_14965\", \"Type\": \"binary\", \"AutoML\": \"H2O\", \"Performance\": 0.9079999999999999}, {\"Dataset\": \"task_167120\", \"Type\": \"binary\", \"AutoML\": \"H2O\", \"Performance\": 0.505}, {\"Dataset\": \"task_168335\", \"Type\": \"binary\", \"AutoML\": \"H2O\", \"Performance\": 0.948}, {\"Dataset\": \"task_168337\", \"Type\": \"binary\", \"AutoML\": \"H2O\", \"Performance\": 0.838}, {\"Dataset\": \"task_168338\", \"Type\": \"binary\", \"AutoML\": \"H2O\", \"Performance\": 0.998}, {\"Dataset\": \"task_168868\", \"Type\": \"binary\", \"AutoML\": \"H2O\", \"Performance\": 0.9940000000000001}, {\"Dataset\": \"task_168908\", \"Type\": \"binary\", \"AutoML\": \"H2O\", \"Performance\": 0.736}, {\"Dataset\": \"task_168911\", \"Type\": \"binary\", \"AutoML\": \"H2O\", \"Performance\": 0.8220000000000001}, {\"Dataset\": \"task_168912\", \"Type\": \"binary\", \"AutoML\": \"H2O\", \"Performance\": 0.93}, {\"Dataset\": \"task_189354\", \"Type\": \"binary\", \"AutoML\": \"H2O\", \"Performance\": 0.616}, {\"Dataset\": \"task_189356\", \"Type\": \"binary\", \"AutoML\": \"H2O\", \"Performance\": 0.665}, {\"Dataset\": \"task_3\", \"Type\": \"binary\", \"AutoML\": \"H2O\", \"Performance\": 0.996}, {\"Dataset\": \"task_31\", \"Type\": \"binary\", \"AutoML\": \"H2O\", \"Performance\": 0.7659999999999999}, {\"Dataset\": \"task_34539\", \"Type\": \"binary\", \"AutoML\": \"H2O\", \"Performance\": 0.9520000000000001}, {\"Dataset\": \"task_3917\", \"Type\": \"binary\", \"AutoML\": \"H2O\", \"Performance\": 0.816}, {\"Dataset\": \"task_3945\", \"Type\": \"binary\", \"AutoML\": \"H2O\", \"Performance\": 0.973}, {\"Dataset\": \"task_7592\", \"Type\": \"binary\", \"AutoML\": \"H2O\", \"Performance\": 0.865}, {\"Dataset\": \"task_9952\", \"Type\": \"binary\", \"AutoML\": \"H2O\", \"Performance\": 0.909}, {\"Dataset\": \"task_9977\", \"Type\": \"binary\", \"AutoML\": \"H2O\", \"Performance\": 0.973}, {\"Dataset\": \"task_10101\", \"Type\": \"binary\", \"AutoML\": \"TPOT\", \"Performance\": 0.779}, {\"Dataset\": \"task_146606\", \"Type\": \"binary\", \"AutoML\": \"TPOT\", \"Performance\": 0.723}, {\"Dataset\": \"task_146818\", \"Type\": \"binary\", \"AutoML\": \"TPOT\", \"Performance\": 0.862}, {\"Dataset\": \"task_14965\", \"Type\": \"binary\", \"AutoML\": \"TPOT\", \"Performance\": 0.9059999999999999}, {\"Dataset\": \"task_167120\", \"Type\": \"binary\", \"AutoML\": \"TPOT\", \"Performance\": 0.052000000000000005}, {\"Dataset\": \"task_168335\", \"Type\": \"binary\", \"AutoML\": \"TPOT\", \"Performance\": 0.937}, {\"Dataset\": \"task_168337\", \"Type\": \"binary\", \"AutoML\": \"TPOT\", \"Performance\": 0.679}, {\"Dataset\": \"task_168338\", \"Type\": \"binary\", \"AutoML\": \"TPOT\", \"Performance\": 0.0}, {\"Dataset\": \"task_168868\", \"Type\": \"binary\", \"AutoML\": \"TPOT\", \"Performance\": 0.991}, {\"Dataset\": \"task_168908\", \"Type\": \"binary\", \"AutoML\": \"TPOT\", \"Performance\": 0.732}, {\"Dataset\": \"task_168911\", \"Type\": \"binary\", \"AutoML\": \"TPOT\", \"Performance\": 0.828}, {\"Dataset\": \"task_168912\", \"Type\": \"binary\", \"AutoML\": \"TPOT\", \"Performance\": 0.958}, {\"Dataset\": \"task_189354\", \"Type\": \"binary\", \"AutoML\": \"TPOT\", \"Performance\": 0.643}, {\"Dataset\": \"task_189356\", \"Type\": \"binary\", \"AutoML\": \"TPOT\", \"Performance\": 0.654}, {\"Dataset\": \"task_3\", \"Type\": \"binary\", \"AutoML\": \"TPOT\", \"Performance\": 0.7959999999999999}, {\"Dataset\": \"task_31\", \"Type\": \"binary\", \"AutoML\": \"TPOT\", \"Performance\": 0.755}, {\"Dataset\": \"task_34539\", \"Type\": \"binary\", \"AutoML\": \"TPOT\", \"Performance\": 0.95}, {\"Dataset\": \"task_3917\", \"Type\": \"binary\", \"AutoML\": \"TPOT\", \"Performance\": 0.858}, {\"Dataset\": \"task_3945\", \"Type\": \"binary\", \"AutoML\": \"TPOT\", \"Performance\": 0.982}, {\"Dataset\": \"task_7592\", \"Type\": \"binary\", \"AutoML\": \"TPOT\", \"Performance\": 0.871}, {\"Dataset\": \"task_9952\", \"Type\": \"binary\", \"AutoML\": \"TPOT\", \"Performance\": 0.915}, {\"Dataset\": \"task_9977\", \"Type\": \"binary\", \"AutoML\": \"TPOT\", \"Performance\": 0.985}, {\"Dataset\": \"task_10101\", \"Type\": \"binary\", \"AutoML\": \"AlphaD3M\", \"Performance\": 0.79}, {\"Dataset\": \"task_146606\", \"Type\": \"binary\", \"AutoML\": \"AlphaD3M\", \"Performance\": 0.7170000000000001}, {\"Dataset\": \"task_146818\", \"Type\": \"binary\", \"AutoML\": \"AlphaD3M\", \"Performance\": 0.861}, {\"Dataset\": \"task_14965\", \"Type\": \"binary\", \"AutoML\": \"AlphaD3M\", \"Performance\": 0.9059999999999999}, {\"Dataset\": \"task_167120\", \"Type\": \"binary\", \"AutoML\": \"AlphaD3M\", \"Performance\": 0.52}, {\"Dataset\": \"task_168335\", \"Type\": \"binary\", \"AutoML\": \"AlphaD3M\", \"Performance\": 0.946}, {\"Dataset\": \"task_168337\", \"Type\": \"binary\", \"AutoML\": \"AlphaD3M\", \"Performance\": 0.818}, {\"Dataset\": \"task_168338\", \"Type\": \"binary\", \"AutoML\": \"AlphaD3M\", \"Performance\": 0.981}, {\"Dataset\": \"task_168868\", \"Type\": \"binary\", \"AutoML\": \"AlphaD3M\", \"Performance\": 0.993}, {\"Dataset\": \"task_168908\", \"Type\": \"binary\", \"AutoML\": \"AlphaD3M\", \"Performance\": 0.74}, {\"Dataset\": \"task_168911\", \"Type\": \"binary\", \"AutoML\": \"AlphaD3M\", \"Performance\": 0.807}, {\"Dataset\": \"task_168912\", \"Type\": \"binary\", \"AutoML\": \"AlphaD3M\", \"Performance\": 0.9570000000000001}, {\"Dataset\": \"task_189354\", \"Type\": \"binary\", \"AutoML\": \"AlphaD3M\", \"Performance\": 0.649}, {\"Dataset\": \"task_189356\", \"Type\": \"binary\", \"AutoML\": \"AlphaD3M\", \"Performance\": 0.65}, {\"Dataset\": \"task_3\", \"Type\": \"binary\", \"AutoML\": \"AlphaD3M\", \"Performance\": 0.9620000000000001}, {\"Dataset\": \"task_31\", \"Type\": \"binary\", \"AutoML\": \"AlphaD3M\", \"Performance\": 0.755}, {\"Dataset\": \"task_34539\", \"Type\": \"binary\", \"AutoML\": \"AlphaD3M\", \"Performance\": 0.9470000000000001}, {\"Dataset\": \"task_3917\", \"Type\": \"binary\", \"AutoML\": \"AlphaD3M\", \"Performance\": 0.86}, {\"Dataset\": \"task_3945\", \"Type\": \"binary\", \"AutoML\": \"AlphaD3M\", \"Performance\": 0.982}, {\"Dataset\": \"task_7592\", \"Type\": \"binary\", \"AutoML\": \"AlphaD3M\", \"Performance\": 0.867}, {\"Dataset\": \"task_9952\", \"Type\": \"binary\", \"AutoML\": \"AlphaD3M\", \"Performance\": 0.904}, {\"Dataset\": \"task_9977\", \"Type\": \"binary\", \"AutoML\": \"AlphaD3M\", \"Performance\": 0.965}], \"data-30d799e3c160c92db5f5e8cb12d09205\": [{\"Dataset\": \"task_12\", \"Type\": \"multiclass\", \"AutoML\": \"Auto-Sklearn\", \"Performance\": 0.976}, {\"Dataset\": \"task_146195\", \"Type\": \"multiclass\", \"AutoML\": \"Auto-Sklearn\", \"Performance\": 0.838}, {\"Dataset\": \"task_146212\", \"Type\": \"multiclass\", \"AutoML\": \"Auto-Sklearn\", \"Performance\": 1.0}, {\"Dataset\": \"task_146821\", \"Type\": \"multiclass\", \"AutoML\": \"Auto-Sklearn\", \"Performance\": 0.992}, {\"Dataset\": \"task_146822\", \"Type\": \"multiclass\", \"AutoML\": \"Auto-Sklearn\", \"Performance\": 0.982}, {\"Dataset\": \"task_146825\", \"Type\": \"multiclass\", \"AutoML\": \"Auto-Sklearn\", \"Performance\": 0.88}, {\"Dataset\": \"task_167119\", \"Type\": \"multiclass\", \"AutoML\": \"Auto-Sklearn\", \"Performance\": 0.907}, {\"Dataset\": \"task_168329\", \"Type\": \"multiclass\", \"AutoML\": \"Auto-Sklearn\", \"Performance\": 0.21600000000000003}, {\"Dataset\": \"task_168330\", \"Type\": \"multiclass\", \"AutoML\": \"Auto-Sklearn\", \"Performance\": 0.0}, {\"Dataset\": \"task_168331\", \"Type\": \"multiclass\", \"AutoML\": \"Auto-Sklearn\", \"Performance\": 0.68}, {\"Dataset\": \"task_168332\", \"Type\": \"multiclass\", \"AutoML\": \"Auto-Sklearn\", \"Performance\": 0.457}, {\"Dataset\": \"task_168909\", \"Type\": \"multiclass\", \"AutoML\": \"Auto-Sklearn\", \"Performance\": 0.986}, {\"Dataset\": \"task_168910\", \"Type\": \"multiclass\", \"AutoML\": \"Auto-Sklearn\", \"Performance\": 0.71}, {\"Dataset\": \"task_189355\", \"Type\": \"multiclass\", \"AutoML\": \"Auto-Sklearn\", \"Performance\": 0.0}, {\"Dataset\": \"task_53\", \"Type\": \"multiclass\", \"AutoML\": \"Auto-Sklearn\", \"Performance\": 0.826}, {\"Dataset\": \"task_7593\", \"Type\": \"multiclass\", \"AutoML\": \"Auto-Sklearn\", \"Performance\": 0.966}, {\"Dataset\": \"task_9981\", \"Type\": \"multiclass\", \"AutoML\": \"Auto-Sklearn\", \"Performance\": 0.951}, {\"Dataset\": \"task_12\", \"Type\": \"multiclass\", \"AutoML\": \"AutoGluon\", \"Performance\": 0.981}, {\"Dataset\": \"task_146195\", \"Type\": \"multiclass\", \"AutoML\": \"AutoGluon\", \"Performance\": 0.8690000000000001}, {\"Dataset\": \"task_146212\", \"Type\": \"multiclass\", \"AutoML\": \"AutoGluon\", \"Performance\": 1.0}, {\"Dataset\": \"task_146821\", \"Type\": \"multiclass\", \"AutoML\": \"AutoGluon\", \"Performance\": 0.9990000000000001}, {\"Dataset\": \"task_146822\", \"Type\": \"multiclass\", \"AutoML\": \"AutoGluon\", \"Performance\": 0.987}, {\"Dataset\": \"task_146825\", \"Type\": \"multiclass\", \"AutoML\": \"AutoGluon\", \"Performance\": 0.9009999999999999}, {\"Dataset\": \"task_167119\", \"Type\": \"multiclass\", \"AutoML\": \"AutoGluon\", \"Performance\": 0.988}, {\"Dataset\": \"task_168329\", \"Type\": \"multiclass\", \"AutoML\": \"AutoGluon\", \"Performance\": 0.37}, {\"Dataset\": \"task_168330\", \"Type\": \"multiclass\", \"AutoML\": \"AutoGluon\", \"Performance\": 0.731}, {\"Dataset\": \"task_168331\", \"Type\": \"multiclass\", \"AutoML\": \"AutoGluon\", \"Performance\": 0.748}, {\"Dataset\": \"task_168332\", \"Type\": \"multiclass\", \"AutoML\": \"AutoGluon\", \"Performance\": 0.491}, {\"Dataset\": \"task_168909\", \"Type\": \"multiclass\", \"AutoML\": \"AutoGluon\", \"Performance\": 0.993}, {\"Dataset\": \"task_168910\", \"Type\": \"multiclass\", \"AutoML\": \"AutoGluon\", \"Performance\": 0.7440000000000001}, {\"Dataset\": \"task_189355\", \"Type\": \"multiclass\", \"AutoML\": \"AutoGluon\", \"Performance\": 0.8340000000000001}, {\"Dataset\": \"task_53\", \"Type\": \"multiclass\", \"AutoML\": \"AutoGluon\", \"Performance\": 0.872}, {\"Dataset\": \"task_7593\", \"Type\": \"multiclass\", \"AutoML\": \"AutoGluon\", \"Performance\": 0.977}, {\"Dataset\": \"task_9981\", \"Type\": \"multiclass\", \"AutoML\": \"AutoGluon\", \"Performance\": 0.946}, {\"Dataset\": \"task_12\", \"Type\": \"multiclass\", \"AutoML\": \"AutoWEKA\", \"Performance\": 0.977}, {\"Dataset\": \"task_146195\", \"Type\": \"multiclass\", \"AutoML\": \"AutoWEKA\", \"Performance\": 0.7040000000000001}, {\"Dataset\": \"task_146212\", \"Type\": \"multiclass\", \"AutoML\": \"AutoWEKA\", \"Performance\": 0.9990000000000001}, {\"Dataset\": \"task_146821\", \"Type\": \"multiclass\", \"AutoML\": \"AutoWEKA\", \"Performance\": 0.855}, {\"Dataset\": \"task_146822\", \"Type\": \"multiclass\", \"AutoML\": \"AutoWEKA\", \"Performance\": 0.983}, {\"Dataset\": \"task_146825\", \"Type\": \"multiclass\", \"AutoML\": \"AutoWEKA\", \"Performance\": 0.848}, {\"Dataset\": \"task_167119\", \"Type\": \"multiclass\", \"AutoML\": \"AutoWEKA\", \"Performance\": 0.754}, {\"Dataset\": \"task_168329\", \"Type\": \"multiclass\", \"AutoML\": \"AutoWEKA\", \"Performance\": 0.275}, {\"Dataset\": \"task_168330\", \"Type\": \"multiclass\", \"AutoML\": \"AutoWEKA\", \"Performance\": 0.644}, {\"Dataset\": \"task_168331\", \"Type\": \"multiclass\", \"AutoML\": \"AutoWEKA\", \"Performance\": 0.622}, {\"Dataset\": \"task_168332\", \"Type\": \"multiclass\", \"AutoML\": \"AutoWEKA\", \"Performance\": 0.0}, {\"Dataset\": \"task_168909\", \"Type\": \"multiclass\", \"AutoML\": \"AutoWEKA\", \"Performance\": 0.9790000000000001}, {\"Dataset\": \"task_168910\", \"Type\": \"multiclass\", \"AutoML\": \"AutoWEKA\", \"Performance\": 0.5870000000000001}, {\"Dataset\": \"task_189355\", \"Type\": \"multiclass\", \"AutoML\": \"AutoWEKA\", \"Performance\": 0.182}, {\"Dataset\": \"task_53\", \"Type\": \"multiclass\", \"AutoML\": \"AutoWEKA\", \"Performance\": 0.794}, {\"Dataset\": \"task_7593\", \"Type\": \"multiclass\", \"AutoML\": \"AutoWEKA\", \"Performance\": 0.643}, {\"Dataset\": \"task_9981\", \"Type\": \"multiclass\", \"AutoML\": \"AutoWEKA\", \"Performance\": 0.815}, {\"Dataset\": \"task_12\", \"Type\": \"multiclass\", \"AutoML\": \"H2O\", \"Performance\": 0.98}, {\"Dataset\": \"task_146195\", \"Type\": \"multiclass\", \"AutoML\": \"H2O\", \"Performance\": 0.865}, {\"Dataset\": \"task_146212\", \"Type\": \"multiclass\", \"AutoML\": \"H2O\", \"Performance\": 1.0}, {\"Dataset\": \"task_146821\", \"Type\": \"multiclass\", \"AutoML\": \"H2O\", \"Performance\": 0.998}, {\"Dataset\": \"task_146822\", \"Type\": \"multiclass\", \"AutoML\": \"H2O\", \"Performance\": 0.987}, {\"Dataset\": \"task_146825\", \"Type\": \"multiclass\", \"AutoML\": \"H2O\", \"Performance\": 0.897}, {\"Dataset\": \"task_167119\", \"Type\": \"multiclass\", \"AutoML\": \"H2O\", \"Performance\": 0.909}, {\"Dataset\": \"task_168329\", \"Type\": \"multiclass\", \"AutoML\": \"H2O\", \"Performance\": 0.184}, {\"Dataset\": \"task_168330\", \"Type\": \"multiclass\", \"AutoML\": \"H2O\", \"Performance\": 0.725}, {\"Dataset\": \"task_168331\", \"Type\": \"multiclass\", \"AutoML\": \"H2O\", \"Performance\": 0.71}, {\"Dataset\": \"task_168332\", \"Type\": \"multiclass\", \"AutoML\": \"H2O\", \"Performance\": 0.49}, {\"Dataset\": \"task_168909\", \"Type\": \"multiclass\", \"AutoML\": \"H2O\", \"Performance\": 0.985}, {\"Dataset\": \"task_168910\", \"Type\": \"multiclass\", \"AutoML\": \"H2O\", \"Performance\": 0.733}, {\"Dataset\": \"task_189355\", \"Type\": \"multiclass\", \"AutoML\": \"H2O\", \"Performance\": 0.0}, {\"Dataset\": \"task_53\", \"Type\": \"multiclass\", \"AutoML\": \"H2O\", \"Performance\": 0.838}, {\"Dataset\": \"task_7593\", \"Type\": \"multiclass\", \"AutoML\": \"H2O\", \"Performance\": 0.885}, {\"Dataset\": \"task_9981\", \"Type\": \"multiclass\", \"AutoML\": \"H2O\", \"Performance\": 0.956}, {\"Dataset\": \"task_12\", \"Type\": \"multiclass\", \"AutoML\": \"TPOT\", \"Performance\": 0.97}, {\"Dataset\": \"task_146195\", \"Type\": \"multiclass\", \"AutoML\": \"TPOT\", \"Performance\": 0.86}, {\"Dataset\": \"task_146212\", \"Type\": \"multiclass\", \"AutoML\": \"TPOT\", \"Performance\": 1.0}, {\"Dataset\": \"task_146821\", \"Type\": \"multiclass\", \"AutoML\": \"TPOT\", \"Performance\": 0.998}, {\"Dataset\": \"task_146822\", \"Type\": \"multiclass\", \"AutoML\": \"TPOT\", \"Performance\": 0.981}, {\"Dataset\": \"task_146825\", \"Type\": \"multiclass\", \"AutoML\": \"TPOT\", \"Performance\": 0.769}, {\"Dataset\": \"task_167119\", \"Type\": \"multiclass\", \"AutoML\": \"TPOT\", \"Performance\": 0.927}, {\"Dataset\": \"task_168329\", \"Type\": \"multiclass\", \"AutoML\": \"TPOT\", \"Performance\": 0.324}, {\"Dataset\": \"task_168330\", \"Type\": \"multiclass\", \"AutoML\": \"TPOT\", \"Performance\": 0.7090000000000001}, {\"Dataset\": \"task_168331\", \"Type\": \"multiclass\", \"AutoML\": \"TPOT\", \"Performance\": 0.659}, {\"Dataset\": \"task_168332\", \"Type\": \"multiclass\", \"AutoML\": \"TPOT\", \"Performance\": 0.0}, {\"Dataset\": \"task_168909\", \"Type\": \"multiclass\", \"AutoML\": \"TPOT\", \"Performance\": 0.941}, {\"Dataset\": \"task_168910\", \"Type\": \"multiclass\", \"AutoML\": \"TPOT\", \"Performance\": 0.677}, {\"Dataset\": \"task_189355\", \"Type\": \"multiclass\", \"AutoML\": \"TPOT\", \"Performance\": 0.217}, {\"Dataset\": \"task_53\", \"Type\": \"multiclass\", \"AutoML\": \"TPOT\", \"Performance\": 0.855}, {\"Dataset\": \"task_7593\", \"Type\": \"multiclass\", \"AutoML\": \"TPOT\", \"Performance\": 0.7559999999999999}, {\"Dataset\": \"task_9981\", \"Type\": \"multiclass\", \"AutoML\": \"TPOT\", \"Performance\": 0.951}, {\"Dataset\": \"task_12\", \"Type\": \"multiclass\", \"AutoML\": \"AlphaD3M\", \"Performance\": 0.976}, {\"Dataset\": \"task_146195\", \"Type\": \"multiclass\", \"AutoML\": \"AlphaD3M\", \"Performance\": 0.777}, {\"Dataset\": \"task_146212\", \"Type\": \"multiclass\", \"AutoML\": \"AlphaD3M\", \"Performance\": 1.0}, {\"Dataset\": \"task_146821\", \"Type\": \"multiclass\", \"AutoML\": \"AlphaD3M\", \"Performance\": 0.9540000000000001}, {\"Dataset\": \"task_146822\", \"Type\": \"multiclass\", \"AutoML\": \"AlphaD3M\", \"Performance\": 0.9790000000000001}, {\"Dataset\": \"task_146825\", \"Type\": \"multiclass\", \"AutoML\": \"AlphaD3M\", \"Performance\": 0.861}, {\"Dataset\": \"task_167119\", \"Type\": \"multiclass\", \"AutoML\": \"AlphaD3M\", \"Performance\": 0.86}, {\"Dataset\": \"task_168329\", \"Type\": \"multiclass\", \"AutoML\": \"AlphaD3M\", \"Performance\": 0.374}, {\"Dataset\": \"task_168330\", \"Type\": \"multiclass\", \"AutoML\": \"AlphaD3M\", \"Performance\": 0.705}, {\"Dataset\": \"task_168331\", \"Type\": \"multiclass\", \"AutoML\": \"AlphaD3M\", \"Performance\": 0.659}, {\"Dataset\": \"task_168332\", \"Type\": \"multiclass\", \"AutoML\": \"AlphaD3M\", \"Performance\": 0.474}, {\"Dataset\": \"task_168909\", \"Type\": \"multiclass\", \"AutoML\": \"AlphaD3M\", \"Performance\": 0.945}, {\"Dataset\": \"task_168910\", \"Type\": \"multiclass\", \"AutoML\": \"AlphaD3M\", \"Performance\": 0.696}, {\"Dataset\": \"task_189355\", \"Type\": \"multiclass\", \"AutoML\": \"AlphaD3M\", \"Performance\": 0.882}, {\"Dataset\": \"task_53\", \"Type\": \"multiclass\", \"AutoML\": \"AlphaD3M\", \"Performance\": 0.8390000000000001}, {\"Dataset\": \"task_7593\", \"Type\": \"multiclass\", \"AutoML\": \"AlphaD3M\", \"Performance\": 0.9470000000000001}, {\"Dataset\": \"task_9981\", \"Type\": \"multiclass\", \"AutoML\": \"AlphaD3M\", \"Performance\": 0.946}]}}, {\"mode\": \"vega-lite\"});\n",
       "</script>"
      ],
      "text/plain": [
       "alt.HConcatChart(...)"
      ]
     },
     "execution_count": 7,
     "metadata": {},
     "output_type": "execute_result"
    }
   ],
   "source": [
    "alt.hconcat(chart1, chart2).configure_view(stroke='transparent')"
   ]
  }
 ],
 "metadata": {
  "kernelspec": {
   "display_name": "Python 3 (ipykernel)",
   "language": "python",
   "name": "python3"
  },
  "language_info": {
   "codemirror_mode": {
    "name": "ipython",
    "version": 3
   },
   "file_extension": ".py",
   "mimetype": "text/x-python",
   "name": "python",
   "nbconvert_exporter": "python",
   "pygments_lexer": "ipython3",
   "version": "3.8.12"
  }
 },
 "nbformat": 4,
 "nbformat_minor": 2
}
